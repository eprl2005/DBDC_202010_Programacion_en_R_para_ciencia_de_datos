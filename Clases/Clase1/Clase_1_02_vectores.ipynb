{
  "nbformat": 4,
  "nbformat_minor": 0,
  "metadata": {
    "colab": {
      "name": "Clase_1_02_vectores.ipynb",
      "provenance": [],
      "collapsed_sections": [],
      "include_colab_link": true
    },
    "kernelspec": {
      "name": "ir",
      "display_name": "R"
    }
  },
  "cells": [
    {
      "cell_type": "markdown",
      "metadata": {
        "id": "view-in-github",
        "colab_type": "text"
      },
      "source": [
        "<a href=\"https://colab.research.google.com/github/majorquev/DBDC_202010_Programacion_en_R_para_ciencia_de_datos/blob/main/Clases/Clase1/Clase_1_02_vectores.ipynb\" target=\"_parent\"><img src=\"https://colab.research.google.com/assets/colab-badge.svg\" alt=\"Open In Colab\"/></a>"
      ]
    },
    {
      "cell_type": "markdown",
      "metadata": {
        "collapsed": true,
        "id": "Yb2RXjL2Igun"
      },
      "source": [
        "# Parte 1: Introducción a R (continuación)\n",
        "\n",
        "**Autor:** Miguel Jorquera Viguera<br>\n",
        "**E-mail:** majorquev@gmail.com<br>\n",
        "**Ayudante:** Jorge Arévalo Labarca <br>\n",
        "**E-mail ayudante:** jorge.arevalol@usach.cl\n",
        "\n"
      ]
    },
    {
      "cell_type": "markdown",
      "metadata": {
        "id": "d_bHZs66Iguo"
      },
      "source": [
        "## 3. Vectores y matrices\n",
        "\n",
        "### 3.1 Vectores\n",
        "\n",
        "En R, así como en la mayoría de los lenguajes de programación, uno de los objetos más usuales para almacenar información son los vectores, los que corresponden a arreglos unidimensionales que almacenan un mismo tipo de dato en cada una de sus entradas.\n",
        "\n",
        "Todo vector en R se puede declarar con la letra \"c\" seguido de los elementos que lo componen entre paréntesis y separados por comas."
      ]
    },
    {
      "cell_type": "code",
      "metadata": {
        "id": "ljQ0JcsTIgup",
        "outputId": "634c962f-8cf9-452e-bd42-f20d5850dba7",
        "colab": {
          "base_uri": "https://localhost:8080/",
          "height": 50
        }
      },
      "source": [
        "# Declaración de dos vectores\n",
        "v1 <- c(1,1,2,3,5,8)\n",
        "v1\n",
        "class(v1)"
      ],
      "execution_count": null,
      "outputs": [
        {
          "output_type": "display_data",
          "data": {
            "text/plain": [
              "[1] 1 1 2 3 5 8"
            ],
            "text/latex": "\\begin{enumerate*}\n\\item 1\n\\item 1\n\\item 2\n\\item 3\n\\item 5\n\\item 8\n\\end{enumerate*}\n",
            "text/markdown": "1. 1\n2. 1\n3. 2\n4. 3\n5. 5\n6. 8\n\n\n",
            "text/html": [
              "<style>\n",
              ".list-inline {list-style: none; margin:0; padding: 0}\n",
              ".list-inline>li {display: inline-block}\n",
              ".list-inline>li:not(:last-child)::after {content: \"\\00b7\"; padding: 0 .5ex}\n",
              "</style>\n",
              "<ol class=list-inline><li>1</li><li>1</li><li>2</li><li>3</li><li>5</li><li>8</li></ol>\n"
            ]
          },
          "metadata": {
            "tags": []
          }
        },
        {
          "output_type": "display_data",
          "data": {
            "text/plain": [
              "[1] \"numeric\""
            ],
            "text/latex": "'numeric'",
            "text/markdown": "'numeric'",
            "text/html": [
              "'numeric'"
            ]
          },
          "metadata": {
            "tags": []
          }
        }
      ]
    },
    {
      "cell_type": "code",
      "metadata": {
        "id": "K-QGgpX4kxUB",
        "outputId": "968ea55f-3eac-4244-a8d5-9227bc2cbc9c",
        "colab": {
          "base_uri": "https://localhost:8080/",
          "height": 50
        }
      },
      "source": [
        "v2 <- c(\"a\",\"b\",\"c\")\n",
        "v2 \n",
        "class(v2)"
      ],
      "execution_count": null,
      "outputs": [
        {
          "output_type": "display_data",
          "data": {
            "text/plain": [
              "[1] \"a\" \"b\" \"c\""
            ],
            "text/latex": "\\begin{enumerate*}\n\\item 'a'\n\\item 'b'\n\\item 'c'\n\\end{enumerate*}\n",
            "text/markdown": "1. 'a'\n2. 'b'\n3. 'c'\n\n\n",
            "text/html": [
              "<style>\n",
              ".list-inline {list-style: none; margin:0; padding: 0}\n",
              ".list-inline>li {display: inline-block}\n",
              ".list-inline>li:not(:last-child)::after {content: \"\\00b7\"; padding: 0 .5ex}\n",
              "</style>\n",
              "<ol class=list-inline><li>'a'</li><li>'b'</li><li>'c'</li></ol>\n"
            ]
          },
          "metadata": {
            "tags": []
          }
        },
        {
          "output_type": "display_data",
          "data": {
            "text/plain": [
              "[1] \"character\""
            ],
            "text/latex": "'character'",
            "text/markdown": "'character'",
            "text/html": [
              "'character'"
            ]
          },
          "metadata": {
            "tags": []
          }
        }
      ]
    },
    {
      "cell_type": "code",
      "metadata": {
        "id": "fb1Sbt8dk8Et",
        "outputId": "d32638ff-806d-44ea-a67b-cde82d4dfac6",
        "colab": {
          "base_uri": "https://localhost:8080/",
          "height": 50
        }
      },
      "source": [
        "v3 <- c(T,F,T,T)\n",
        "v3\n",
        "class(v3)"
      ],
      "execution_count": null,
      "outputs": [
        {
          "output_type": "display_data",
          "data": {
            "text/plain": [
              "[1]  TRUE FALSE  TRUE  TRUE"
            ],
            "text/latex": "\\begin{enumerate*}\n\\item TRUE\n\\item FALSE\n\\item TRUE\n\\item TRUE\n\\end{enumerate*}\n",
            "text/markdown": "1. TRUE\n2. FALSE\n3. TRUE\n4. TRUE\n\n\n",
            "text/html": [
              "<style>\n",
              ".list-inline {list-style: none; margin:0; padding: 0}\n",
              ".list-inline>li {display: inline-block}\n",
              ".list-inline>li:not(:last-child)::after {content: \"\\00b7\"; padding: 0 .5ex}\n",
              "</style>\n",
              "<ol class=list-inline><li>TRUE</li><li>FALSE</li><li>TRUE</li><li>TRUE</li></ol>\n"
            ]
          },
          "metadata": {
            "tags": []
          }
        },
        {
          "output_type": "display_data",
          "data": {
            "text/plain": [
              "[1] \"logical\""
            ],
            "text/latex": "'logical'",
            "text/markdown": "'logical'",
            "text/html": [
              "'logical'"
            ]
          },
          "metadata": {
            "tags": []
          }
        }
      ]
    },
    {
      "cell_type": "code",
      "metadata": {
        "id": "3fAzaZVUlCda",
        "outputId": "188b486b-7299-4e99-f8c8-bf7451b3f02d",
        "colab": {
          "base_uri": "https://localhost:8080/",
          "height": 50
        }
      },
      "source": [
        "v4 <- c(2,5,\"y\",6)\n",
        "v4\n",
        "class(v4)"
      ],
      "execution_count": null,
      "outputs": [
        {
          "output_type": "display_data",
          "data": {
            "text/plain": [
              "[1] \"2\" \"5\" \"y\" \"6\""
            ],
            "text/latex": "\\begin{enumerate*}\n\\item '2'\n\\item '5'\n\\item 'y'\n\\item '6'\n\\end{enumerate*}\n",
            "text/markdown": "1. '2'\n2. '5'\n3. 'y'\n4. '6'\n\n\n",
            "text/html": [
              "<style>\n",
              ".list-inline {list-style: none; margin:0; padding: 0}\n",
              ".list-inline>li {display: inline-block}\n",
              ".list-inline>li:not(:last-child)::after {content: \"\\00b7\"; padding: 0 .5ex}\n",
              "</style>\n",
              "<ol class=list-inline><li>'2'</li><li>'5'</li><li>'y'</li><li>'6'</li></ol>\n"
            ]
          },
          "metadata": {
            "tags": []
          }
        },
        {
          "output_type": "display_data",
          "data": {
            "text/plain": [
              "[1] \"character\""
            ],
            "text/latex": "'character'",
            "text/markdown": "'character'",
            "text/html": [
              "'character'"
            ]
          },
          "metadata": {
            "tags": []
          }
        }
      ]
    },
    {
      "cell_type": "code",
      "metadata": {
        "id": "6j3Gild3laVw",
        "outputId": "01097d44-dcbb-4465-eef5-92d983203bb8",
        "colab": {
          "base_uri": "https://localhost:8080/",
          "height": 50
        }
      },
      "source": [
        "v5 <- c(1,0,T,F)\n",
        "v5\n",
        "class(v5)"
      ],
      "execution_count": null,
      "outputs": [
        {
          "output_type": "display_data",
          "data": {
            "text/plain": [
              "[1] 1 0 1 0"
            ],
            "text/latex": "\\begin{enumerate*}\n\\item 1\n\\item 0\n\\item 1\n\\item 0\n\\end{enumerate*}\n",
            "text/markdown": "1. 1\n2. 0\n3. 1\n4. 0\n\n\n",
            "text/html": [
              "<style>\n",
              ".list-inline {list-style: none; margin:0; padding: 0}\n",
              ".list-inline>li {display: inline-block}\n",
              ".list-inline>li:not(:last-child)::after {content: \"\\00b7\"; padding: 0 .5ex}\n",
              "</style>\n",
              "<ol class=list-inline><li>1</li><li>0</li><li>1</li><li>0</li></ol>\n"
            ]
          },
          "metadata": {
            "tags": []
          }
        },
        {
          "output_type": "display_data",
          "data": {
            "text/plain": [
              "[1] \"numeric\""
            ],
            "text/latex": "'numeric'",
            "text/markdown": "'numeric'",
            "text/html": [
              "'numeric'"
            ]
          },
          "metadata": {
            "tags": []
          }
        }
      ]
    },
    {
      "cell_type": "code",
      "metadata": {
        "id": "pKB_gnt2ljpm",
        "outputId": "2767be53-97b9-4d9f-94d7-b79d36194267",
        "colab": {
          "base_uri": "https://localhost:8080/",
          "height": 50
        }
      },
      "source": [
        "F + T\n",
        "T + T"
      ],
      "execution_count": null,
      "outputs": [
        {
          "output_type": "display_data",
          "data": {
            "text/plain": [
              "[1] 1"
            ],
            "text/latex": "1",
            "text/markdown": "1",
            "text/html": [
              "1"
            ]
          },
          "metadata": {
            "tags": []
          }
        },
        {
          "output_type": "display_data",
          "data": {
            "text/plain": [
              "[1] 2"
            ],
            "text/latex": "2",
            "text/markdown": "2",
            "text/html": [
              "2"
            ]
          },
          "metadata": {
            "tags": []
          }
        }
      ]
    },
    {
      "cell_type": "code",
      "metadata": {
        "id": "GxHhDdS4Iguy"
      },
      "source": [
        "# clase y tipo de dato\n"
      ],
      "execution_count": null,
      "outputs": []
    },
    {
      "cell_type": "code",
      "metadata": {
        "id": "FUBvbIN9Igu4"
      },
      "source": [
        "# vectores lógicos\n"
      ],
      "execution_count": null,
      "outputs": []
    },
    {
      "cell_type": "code",
      "metadata": {
        "id": "R88mjniaIgu_",
        "outputId": "9d4bdda6-6a8b-4ea6-8855-53222eb11308",
        "colab": {
          "base_uri": "https://localhost:8080/",
          "height": 67
        }
      },
      "source": [
        "# Nombres de las entradas de un vector\n",
        "names(v4)\n",
        "v5 <- c(n1 = 3, n2 = 4, d3 = 9.5)\n",
        "v5\n",
        "names(v5) # vector de nombres"
      ],
      "execution_count": null,
      "outputs": [
        {
          "output_type": "display_data",
          "data": {
            "text/plain": [
              "NULL"
            ]
          },
          "metadata": {
            "tags": []
          }
        },
        {
          "output_type": "display_data",
          "data": {
            "text/plain": [
              " n1  n2  d3 \n",
              "3.0 4.0 9.5 "
            ],
            "text/latex": "\\begin{description*}\n\\item[n1] 3\n\\item[n2] 4\n\\item[d3] 9.5\n\\end{description*}\n",
            "text/markdown": "n1\n:   3n2\n:   4d3\n:   9.5\n\n",
            "text/html": [
              "<style>\n",
              ".dl-inline {width: auto; margin:0; padding: 0}\n",
              ".dl-inline>dt, .dl-inline>dd {float: none; width: auto; display: inline-block}\n",
              ".dl-inline>dt::after {content: \":\\0020\"; padding-right: .5ex}\n",
              ".dl-inline>dt:not(:first-of-type) {padding-left: .5ex}\n",
              "</style><dl class=dl-inline><dt>n1</dt><dd>3</dd><dt>n2</dt><dd>4</dd><dt>d3</dt><dd>9.5</dd></dl>\n"
            ]
          },
          "metadata": {
            "tags": []
          }
        },
        {
          "output_type": "display_data",
          "data": {
            "text/plain": [
              "[1] \"n1\" \"n2\" \"d3\""
            ],
            "text/latex": "\\begin{enumerate*}\n\\item 'n1'\n\\item 'n2'\n\\item 'd3'\n\\end{enumerate*}\n",
            "text/markdown": "1. 'n1'\n2. 'n2'\n3. 'd3'\n\n\n",
            "text/html": [
              "<style>\n",
              ".list-inline {list-style: none; margin:0; padding: 0}\n",
              ".list-inline>li {display: inline-block}\n",
              ".list-inline>li:not(:last-child)::after {content: \"\\00b7\"; padding: 0 .5ex}\n",
              "</style>\n",
              "<ol class=list-inline><li>'n1'</li><li>'n2'</li><li>'d3'</li></ol>\n"
            ]
          },
          "metadata": {
            "tags": []
          }
        }
      ]
    },
    {
      "cell_type": "code",
      "metadata": {
        "id": "OAhPpN3vIgvB",
        "outputId": "512fd831-33c0-47b6-f36c-fd598d39511d",
        "colab": {
          "base_uri": "https://localhost:8080/",
          "height": 50
        }
      },
      "source": [
        "# podemos asignar los nombres a vector 1\n",
        "v4\n",
        "\n",
        "names(v4) <- c(\"e1\",\"e2\",\"rabia\",\"e4\")\n",
        "v4"
      ],
      "execution_count": null,
      "outputs": [
        {
          "output_type": "display_data",
          "data": {
            "text/plain": [
              "[1] \"2\" \"5\" \"y\" \"6\""
            ],
            "text/latex": "\\begin{enumerate*}\n\\item '2'\n\\item '5'\n\\item 'y'\n\\item '6'\n\\end{enumerate*}\n",
            "text/markdown": "1. '2'\n2. '5'\n3. 'y'\n4. '6'\n\n\n",
            "text/html": [
              "<style>\n",
              ".list-inline {list-style: none; margin:0; padding: 0}\n",
              ".list-inline>li {display: inline-block}\n",
              ".list-inline>li:not(:last-child)::after {content: \"\\00b7\"; padding: 0 .5ex}\n",
              "</style>\n",
              "<ol class=list-inline><li>'2'</li><li>'5'</li><li>'y'</li><li>'6'</li></ol>\n"
            ]
          },
          "metadata": {
            "tags": []
          }
        },
        {
          "output_type": "display_data",
          "data": {
            "text/plain": [
              "   e1    e2 rabia    e4 \n",
              "  \"2\"   \"5\"   \"y\"   \"6\" "
            ],
            "text/latex": "\\begin{description*}\n\\item[e1] '2'\n\\item[e2] '5'\n\\item[rabia] 'y'\n\\item[e4] '6'\n\\end{description*}\n",
            "text/markdown": "e1\n:   '2'e2\n:   '5'rabia\n:   'y'e4\n:   '6'\n\n",
            "text/html": [
              "<style>\n",
              ".dl-inline {width: auto; margin:0; padding: 0}\n",
              ".dl-inline>dt, .dl-inline>dd {float: none; width: auto; display: inline-block}\n",
              ".dl-inline>dt::after {content: \":\\0020\"; padding-right: .5ex}\n",
              ".dl-inline>dt:not(:first-of-type) {padding-left: .5ex}\n",
              "</style><dl class=dl-inline><dt>e1</dt><dd>'2'</dd><dt>e2</dt><dd>'5'</dd><dt>rabia</dt><dd>'y'</dd><dt>e4</dt><dd>'6'</dd></dl>\n"
            ]
          },
          "metadata": {
            "tags": []
          }
        }
      ]
    },
    {
      "cell_type": "code",
      "metadata": {
        "id": "E6dxkyP5IgvF"
      },
      "source": [
        "# nombres de las entradas con la función, names()\n"
      ],
      "execution_count": null,
      "outputs": []
    },
    {
      "cell_type": "code",
      "metadata": {
        "id": "7Ayre5BlIgvH",
        "outputId": "5deb8884-3276-4313-f992-9f391e052646",
        "colab": {
          "base_uri": "https://localhost:8080/",
          "height": 67
        }
      },
      "source": [
        "#combinar vectores\n",
        "v2\n",
        "v4\n",
        "\n",
        "v7 <- c(v2,v4)\n",
        "v7"
      ],
      "execution_count": null,
      "outputs": [
        {
          "output_type": "display_data",
          "data": {
            "text/plain": [
              "[1] \"a\" \"b\" \"c\""
            ],
            "text/latex": "\\begin{enumerate*}\n\\item 'a'\n\\item 'b'\n\\item 'c'\n\\end{enumerate*}\n",
            "text/markdown": "1. 'a'\n2. 'b'\n3. 'c'\n\n\n",
            "text/html": [
              "<style>\n",
              ".list-inline {list-style: none; margin:0; padding: 0}\n",
              ".list-inline>li {display: inline-block}\n",
              ".list-inline>li:not(:last-child)::after {content: \"\\00b7\"; padding: 0 .5ex}\n",
              "</style>\n",
              "<ol class=list-inline><li>'a'</li><li>'b'</li><li>'c'</li></ol>\n"
            ]
          },
          "metadata": {
            "tags": []
          }
        },
        {
          "output_type": "display_data",
          "data": {
            "text/plain": [
              "   e1    e2 rabia    e4 \n",
              "  \"2\"   \"5\"   \"y\"   \"6\" "
            ],
            "text/latex": "\\begin{description*}\n\\item[e1] '2'\n\\item[e2] '5'\n\\item[rabia] 'y'\n\\item[e4] '6'\n\\end{description*}\n",
            "text/markdown": "e1\n:   '2'e2\n:   '5'rabia\n:   'y'e4\n:   '6'\n\n",
            "text/html": [
              "<style>\n",
              ".dl-inline {width: auto; margin:0; padding: 0}\n",
              ".dl-inline>dt, .dl-inline>dd {float: none; width: auto; display: inline-block}\n",
              ".dl-inline>dt::after {content: \":\\0020\"; padding-right: .5ex}\n",
              ".dl-inline>dt:not(:first-of-type) {padding-left: .5ex}\n",
              "</style><dl class=dl-inline><dt>e1</dt><dd>'2'</dd><dt>e2</dt><dd>'5'</dd><dt>rabia</dt><dd>'y'</dd><dt>e4</dt><dd>'6'</dd></dl>\n"
            ]
          },
          "metadata": {
            "tags": []
          }
        },
        {
          "output_type": "display_data",
          "data": {
            "text/plain": [
              "                     e1    e2 rabia    e4 \n",
              "  \"a\"   \"b\"   \"c\"   \"2\"   \"5\"   \"y\"   \"6\" "
            ],
            "text/latex": "\\begin{description*}\n\\item[1] 'a'\n\\item[2] 'b'\n\\item[3] 'c'\n\\item[e1] '2'\n\\item[e2] '5'\n\\item[rabia] 'y'\n\\item[e4] '6'\n\\end{description*}\n",
            "text/markdown": "1\n:   'a'2\n:   'b'3\n:   'c'e1\n:   '2'e2\n:   '5'rabia\n:   'y'e4\n:   '6'\n\n",
            "text/html": [
              "<style>\n",
              ".dl-inline {width: auto; margin:0; padding: 0}\n",
              ".dl-inline>dt, .dl-inline>dd {float: none; width: auto; display: inline-block}\n",
              ".dl-inline>dt::after {content: \":\\0020\"; padding-right: .5ex}\n",
              ".dl-inline>dt:not(:first-of-type) {padding-left: .5ex}\n",
              "</style><dl class=dl-inline><dt>1</dt><dd>'a'</dd><dt>2</dt><dd>'b'</dd><dt>3</dt><dd>'c'</dd><dt>e1</dt><dd>'2'</dd><dt>e2</dt><dd>'5'</dd><dt>rabia</dt><dd>'y'</dd><dt>e4</dt><dd>'6'</dd></dl>\n"
            ]
          },
          "metadata": {
            "tags": []
          }
        }
      ]
    },
    {
      "cell_type": "code",
      "metadata": {
        "id": "QETBghXxIgvI"
      },
      "source": [
        "# c : es una abreviación de \"combine\"\n"
      ],
      "execution_count": null,
      "outputs": []
    },
    {
      "cell_type": "markdown",
      "metadata": {
        "id": "MX35j24_IgvN"
      },
      "source": [
        "#### 3.1.1 Acceso a los elementos de un vector\n",
        "\n",
        "El acceso a los elementos de un vector se puede llevar acabo indicando la posición del elemento (los naturales parten en 1!), el nombre de la casilla que lo contiene, o bien mediante sentencias lógicas que retornen \"TRUE\" en la posición deseada.\n",
        "\n"
      ]
    },
    {
      "cell_type": "code",
      "metadata": {
        "id": "zW2_TzKxIgvN",
        "outputId": "31722b05-8b55-4f2c-ec3c-bc7d151b6f7f",
        "colab": {
          "base_uri": "https://localhost:8080/",
          "height": 50
        }
      },
      "source": [
        "# Mediante posición\n",
        "v1\n",
        "v1[4] # retorna el elemento de pos 4\n"
      ],
      "execution_count": null,
      "outputs": [
        {
          "output_type": "display_data",
          "data": {
            "text/plain": [
              "[1] 1 1 2 3 5 8"
            ],
            "text/latex": "\\begin{enumerate*}\n\\item 1\n\\item 1\n\\item 2\n\\item 3\n\\item 5\n\\item 8\n\\end{enumerate*}\n",
            "text/markdown": "1. 1\n2. 1\n3. 2\n4. 3\n5. 5\n6. 8\n\n\n",
            "text/html": [
              "<style>\n",
              ".list-inline {list-style: none; margin:0; padding: 0}\n",
              ".list-inline>li {display: inline-block}\n",
              ".list-inline>li:not(:last-child)::after {content: \"\\00b7\"; padding: 0 .5ex}\n",
              "</style>\n",
              "<ol class=list-inline><li>1</li><li>1</li><li>2</li><li>3</li><li>5</li><li>8</li></ol>\n"
            ]
          },
          "metadata": {
            "tags": []
          }
        },
        {
          "output_type": "display_data",
          "data": {
            "text/plain": [
              "[1] 3"
            ],
            "text/latex": "3",
            "text/markdown": "3",
            "text/html": [
              "3"
            ]
          },
          "metadata": {
            "tags": []
          }
        }
      ]
    },
    {
      "cell_type": "code",
      "metadata": {
        "id": "XWL1ZIyMIgvR",
        "outputId": "6fb3921f-0cea-4700-a9b0-11adb11c26ad",
        "colab": {
          "base_uri": "https://localhost:8080/",
          "height": 34
        }
      },
      "source": [
        "# retorna los elementos de las casillas 1  y 4 de v1\n",
        "\n",
        "v1[c(1,4)]\n"
      ],
      "execution_count": null,
      "outputs": [
        {
          "output_type": "display_data",
          "data": {
            "text/plain": [
              "[1] 1 3"
            ],
            "text/latex": "\\begin{enumerate*}\n\\item 1\n\\item 3\n\\end{enumerate*}\n",
            "text/markdown": "1. 1\n2. 3\n\n\n",
            "text/html": [
              "<style>\n",
              ".list-inline {list-style: none; margin:0; padding: 0}\n",
              ".list-inline>li {display: inline-block}\n",
              ".list-inline>li:not(:last-child)::after {content: \"\\00b7\"; padding: 0 .5ex}\n",
              "</style>\n",
              "<ol class=list-inline><li>1</li><li>3</li></ol>\n"
            ]
          },
          "metadata": {
            "tags": []
          }
        }
      ]
    },
    {
      "cell_type": "code",
      "metadata": {
        "id": "YHHbaQBqntlG",
        "outputId": "1ba0eadf-4d8f-4076-e771-b713df0dd948",
        "colab": {
          "base_uri": "https://localhost:8080/",
          "height": 94
        }
      },
      "source": [
        "v1[1,4]# no funciona ya que entiende  que v1 debe ser una matriz (para después...)"
      ],
      "execution_count": null,
      "outputs": [
        {
          "output_type": "error",
          "ename": "ERROR",
          "evalue": "ignored",
          "traceback": [
            "Error in v1[1, 4]: incorrect number of dimensions\nTraceback:\n"
          ]
        }
      ]
    },
    {
      "cell_type": "code",
      "metadata": {
        "id": "uBqEKq1aIgvT",
        "outputId": "1efece54-c3a6-4d73-d42c-aff13091da81",
        "colab": {
          "base_uri": "https://localhost:8080/",
          "height": 50
        }
      },
      "source": [
        "#NOTA 3:5, R lo interpreta como c(3,4,5)\n",
        "1:100"
      ],
      "execution_count": null,
      "outputs": [
        {
          "output_type": "display_data",
          "data": {
            "text/plain": [
              "  [1]   1   2   3   4   5   6   7   8   9  10  11  12  13  14  15  16  17  18\n",
              " [19]  19  20  21  22  23  24  25  26  27  28  29  30  31  32  33  34  35  36\n",
              " [37]  37  38  39  40  41  42  43  44  45  46  47  48  49  50  51  52  53  54\n",
              " [55]  55  56  57  58  59  60  61  62  63  64  65  66  67  68  69  70  71  72\n",
              " [73]  73  74  75  76  77  78  79  80  81  82  83  84  85  86  87  88  89  90\n",
              " [91]  91  92  93  94  95  96  97  98  99 100"
            ],
            "text/latex": "\\begin{enumerate*}\n\\item 1\n\\item 2\n\\item 3\n\\item 4\n\\item 5\n\\item 6\n\\item 7\n\\item 8\n\\item 9\n\\item 10\n\\item 11\n\\item 12\n\\item 13\n\\item 14\n\\item 15\n\\item 16\n\\item 17\n\\item 18\n\\item 19\n\\item 20\n\\item 21\n\\item 22\n\\item 23\n\\item 24\n\\item 25\n\\item 26\n\\item 27\n\\item 28\n\\item 29\n\\item 30\n\\item 31\n\\item 32\n\\item 33\n\\item 34\n\\item 35\n\\item 36\n\\item 37\n\\item 38\n\\item 39\n\\item 40\n\\item 41\n\\item 42\n\\item 43\n\\item 44\n\\item 45\n\\item 46\n\\item 47\n\\item 48\n\\item 49\n\\item 50\n\\item 51\n\\item 52\n\\item 53\n\\item 54\n\\item 55\n\\item 56\n\\item 57\n\\item 58\n\\item 59\n\\item 60\n\\item 61\n\\item 62\n\\item 63\n\\item 64\n\\item 65\n\\item 66\n\\item 67\n\\item 68\n\\item 69\n\\item 70\n\\item 71\n\\item 72\n\\item 73\n\\item 74\n\\item 75\n\\item 76\n\\item 77\n\\item 78\n\\item 79\n\\item 80\n\\item 81\n\\item 82\n\\item 83\n\\item 84\n\\item 85\n\\item 86\n\\item 87\n\\item 88\n\\item 89\n\\item 90\n\\item 91\n\\item 92\n\\item 93\n\\item 94\n\\item 95\n\\item 96\n\\item 97\n\\item 98\n\\item 99\n\\item 100\n\\end{enumerate*}\n",
            "text/markdown": "1. 1\n2. 2\n3. 3\n4. 4\n5. 5\n6. 6\n7. 7\n8. 8\n9. 9\n10. 10\n11. 11\n12. 12\n13. 13\n14. 14\n15. 15\n16. 16\n17. 17\n18. 18\n19. 19\n20. 20\n21. 21\n22. 22\n23. 23\n24. 24\n25. 25\n26. 26\n27. 27\n28. 28\n29. 29\n30. 30\n31. 31\n32. 32\n33. 33\n34. 34\n35. 35\n36. 36\n37. 37\n38. 38\n39. 39\n40. 40\n41. 41\n42. 42\n43. 43\n44. 44\n45. 45\n46. 46\n47. 47\n48. 48\n49. 49\n50. 50\n51. 51\n52. 52\n53. 53\n54. 54\n55. 55\n56. 56\n57. 57\n58. 58\n59. 59\n60. 60\n61. 61\n62. 62\n63. 63\n64. 64\n65. 65\n66. 66\n67. 67\n68. 68\n69. 69\n70. 70\n71. 71\n72. 72\n73. 73\n74. 74\n75. 75\n76. 76\n77. 77\n78. 78\n79. 79\n80. 80\n81. 81\n82. 82\n83. 83\n84. 84\n85. 85\n86. 86\n87. 87\n88. 88\n89. 89\n90. 90\n91. 91\n92. 92\n93. 93\n94. 94\n95. 95\n96. 96\n97. 97\n98. 98\n99. 99\n100. 100\n\n\n",
            "text/html": [
              "<style>\n",
              ".list-inline {list-style: none; margin:0; padding: 0}\n",
              ".list-inline>li {display: inline-block}\n",
              ".list-inline>li:not(:last-child)::after {content: \"\\00b7\"; padding: 0 .5ex}\n",
              "</style>\n",
              "<ol class=list-inline><li>1</li><li>2</li><li>3</li><li>4</li><li>5</li><li>6</li><li>7</li><li>8</li><li>9</li><li>10</li><li>11</li><li>12</li><li>13</li><li>14</li><li>15</li><li>16</li><li>17</li><li>18</li><li>19</li><li>20</li><li>21</li><li>22</li><li>23</li><li>24</li><li>25</li><li>26</li><li>27</li><li>28</li><li>29</li><li>30</li><li>31</li><li>32</li><li>33</li><li>34</li><li>35</li><li>36</li><li>37</li><li>38</li><li>39</li><li>40</li><li>41</li><li>42</li><li>43</li><li>44</li><li>45</li><li>46</li><li>47</li><li>48</li><li>49</li><li>50</li><li>51</li><li>52</li><li>53</li><li>54</li><li>55</li><li>56</li><li>57</li><li>58</li><li>59</li><li>60</li><li>61</li><li>62</li><li>63</li><li>64</li><li>65</li><li>66</li><li>67</li><li>68</li><li>69</li><li>70</li><li>71</li><li>72</li><li>73</li><li>74</li><li>75</li><li>76</li><li>77</li><li>78</li><li>79</li><li>80</li><li>81</li><li>82</li><li>83</li><li>84</li><li>85</li><li>86</li><li>87</li><li>88</li><li>89</li><li>90</li><li>91</li><li>92</li><li>93</li><li>94</li><li>95</li><li>96</li><li>97</li><li>98</li><li>99</li><li>100</li></ol>\n"
            ]
          },
          "metadata": {
            "tags": []
          }
        }
      ]
    },
    {
      "cell_type": "code",
      "metadata": {
        "id": "B_ZKxSHJn9BZ",
        "outputId": "e1178bc1-c098-4ef1-c29a-973c380b4b1f",
        "colab": {
          "base_uri": "https://localhost:8080/",
          "height": 34
        }
      },
      "source": [
        "v1[3:5]"
      ],
      "execution_count": null,
      "outputs": [
        {
          "output_type": "display_data",
          "data": {
            "text/plain": [
              "[1] 2 3 5"
            ],
            "text/latex": "\\begin{enumerate*}\n\\item 2\n\\item 3\n\\item 5\n\\end{enumerate*}\n",
            "text/markdown": "1. 2\n2. 3\n3. 5\n\n\n",
            "text/html": [
              "<style>\n",
              ".list-inline {list-style: none; margin:0; padding: 0}\n",
              ".list-inline>li {display: inline-block}\n",
              ".list-inline>li:not(:last-child)::after {content: \"\\00b7\"; padding: 0 .5ex}\n",
              "</style>\n",
              "<ol class=list-inline><li>2</li><li>3</li><li>5</li></ol>\n"
            ]
          },
          "metadata": {
            "tags": []
          }
        }
      ]
    },
    {
      "cell_type": "code",
      "metadata": {
        "id": "XIuQSfvKIgvV",
        "outputId": "b43f2110-389a-459a-c819-3a258f2cb605",
        "colab": {
          "base_uri": "https://localhost:8080/",
          "height": 50
        }
      },
      "source": [
        "# podemos acceder a los elmentos mediante el nombre\n",
        "names(v4)\n",
        "v4"
      ],
      "execution_count": null,
      "outputs": [
        {
          "output_type": "display_data",
          "data": {
            "text/plain": [
              "[1] \"e1\"    \"e2\"    \"rabia\" \"e4\"   "
            ],
            "text/latex": "\\begin{enumerate*}\n\\item 'e1'\n\\item 'e2'\n\\item 'rabia'\n\\item 'e4'\n\\end{enumerate*}\n",
            "text/markdown": "1. 'e1'\n2. 'e2'\n3. 'rabia'\n4. 'e4'\n\n\n",
            "text/html": [
              "<style>\n",
              ".list-inline {list-style: none; margin:0; padding: 0}\n",
              ".list-inline>li {display: inline-block}\n",
              ".list-inline>li:not(:last-child)::after {content: \"\\00b7\"; padding: 0 .5ex}\n",
              "</style>\n",
              "<ol class=list-inline><li>'e1'</li><li>'e2'</li><li>'rabia'</li><li>'e4'</li></ol>\n"
            ]
          },
          "metadata": {
            "tags": []
          }
        },
        {
          "output_type": "display_data",
          "data": {
            "text/plain": [
              "   e1    e2 rabia    e4 \n",
              "  \"2\"   \"5\"   \"y\"   \"6\" "
            ],
            "text/latex": "\\begin{description*}\n\\item[e1] '2'\n\\item[e2] '5'\n\\item[rabia] 'y'\n\\item[e4] '6'\n\\end{description*}\n",
            "text/markdown": "e1\n:   '2'e2\n:   '5'rabia\n:   'y'e4\n:   '6'\n\n",
            "text/html": [
              "<style>\n",
              ".dl-inline {width: auto; margin:0; padding: 0}\n",
              ".dl-inline>dt, .dl-inline>dd {float: none; width: auto; display: inline-block}\n",
              ".dl-inline>dt::after {content: \":\\0020\"; padding-right: .5ex}\n",
              ".dl-inline>dt:not(:first-of-type) {padding-left: .5ex}\n",
              "</style><dl class=dl-inline><dt>e1</dt><dd>'2'</dd><dt>e2</dt><dd>'5'</dd><dt>rabia</dt><dd>'y'</dd><dt>e4</dt><dd>'6'</dd></dl>\n"
            ]
          },
          "metadata": {
            "tags": []
          }
        }
      ]
    },
    {
      "cell_type": "code",
      "metadata": {
        "id": "PlEzAqb_oMyM",
        "outputId": "2c51e78d-254d-48d0-b0f9-6a92ac517538",
        "colab": {
          "base_uri": "https://localhost:8080/",
          "height": 50
        }
      },
      "source": [
        "v4[\"rabia\"]\n",
        "v4[c(\"e2\",\"e4\")]"
      ],
      "execution_count": null,
      "outputs": [
        {
          "output_type": "display_data",
          "data": {
            "text/plain": [
              "rabia \n",
              "  \"y\" "
            ],
            "text/latex": "\\textbf{rabia:} 'y'",
            "text/markdown": "**rabia:** 'y'",
            "text/html": [
              "<strong>rabia:</strong> 'y'"
            ]
          },
          "metadata": {
            "tags": []
          }
        },
        {
          "output_type": "display_data",
          "data": {
            "text/plain": [
              " e2  e4 \n",
              "\"5\" \"6\" "
            ],
            "text/latex": "\\begin{description*}\n\\item[e2] '5'\n\\item[e4] '6'\n\\end{description*}\n",
            "text/markdown": "e2\n:   '5'e4\n:   '6'\n\n",
            "text/html": [
              "<style>\n",
              ".dl-inline {width: auto; margin:0; padding: 0}\n",
              ".dl-inline>dt, .dl-inline>dd {float: none; width: auto; display: inline-block}\n",
              ".dl-inline>dt::after {content: \":\\0020\"; padding-right: .5ex}\n",
              ".dl-inline>dt:not(:first-of-type) {padding-left: .5ex}\n",
              "</style><dl class=dl-inline><dt>e2</dt><dd>'5'</dd><dt>e4</dt><dd>'6'</dd></dl>\n"
            ]
          },
          "metadata": {
            "tags": []
          }
        }
      ]
    },
    {
      "cell_type": "code",
      "metadata": {
        "id": "IHjnaSSyIgvX",
        "outputId": "bd758f8e-26dc-4c64-d253-ac3ad99086ce",
        "colab": {
          "base_uri": "https://localhost:8080/",
          "height": 34
        }
      },
      "source": [
        "# cambiar una entrada de un vector o cambiar un nombre\n",
        "v1"
      ],
      "execution_count": null,
      "outputs": [
        {
          "output_type": "display_data",
          "data": {
            "text/plain": [
              "[1] 1 1 2 3 5 8"
            ],
            "text/latex": "\\begin{enumerate*}\n\\item 1\n\\item 1\n\\item 2\n\\item 3\n\\item 5\n\\item 8\n\\end{enumerate*}\n",
            "text/markdown": "1. 1\n2. 1\n3. 2\n4. 3\n5. 5\n6. 8\n\n\n",
            "text/html": [
              "<style>\n",
              ".list-inline {list-style: none; margin:0; padding: 0}\n",
              ".list-inline>li {display: inline-block}\n",
              ".list-inline>li:not(:last-child)::after {content: \"\\00b7\"; padding: 0 .5ex}\n",
              "</style>\n",
              "<ol class=list-inline><li>1</li><li>1</li><li>2</li><li>3</li><li>5</li><li>8</li></ol>\n"
            ]
          },
          "metadata": {
            "tags": []
          }
        }
      ]
    },
    {
      "cell_type": "code",
      "metadata": {
        "id": "KCKDbYtRIgvZ",
        "outputId": "d3b0ee98-91a0-474f-f0bd-5ce2f5bfaeaa",
        "colab": {
          "base_uri": "https://localhost:8080/",
          "height": 34
        }
      },
      "source": [
        "# Quiero cambiar el 3 por un 99\n",
        "\n",
        "v1[4] <- 99\n",
        "v1\n",
        "\n"
      ],
      "execution_count": null,
      "outputs": [
        {
          "output_type": "display_data",
          "data": {
            "text/plain": [
              "[1]  1  1  2 99  5  8"
            ],
            "text/latex": "\\begin{enumerate*}\n\\item 1\n\\item 1\n\\item 2\n\\item 99\n\\item 5\n\\item 8\n\\end{enumerate*}\n",
            "text/markdown": "1. 1\n2. 1\n3. 2\n4. 99\n5. 5\n6. 8\n\n\n",
            "text/html": [
              "<style>\n",
              ".list-inline {list-style: none; margin:0; padding: 0}\n",
              ".list-inline>li {display: inline-block}\n",
              ".list-inline>li:not(:last-child)::after {content: \"\\00b7\"; padding: 0 .5ex}\n",
              "</style>\n",
              "<ol class=list-inline><li>1</li><li>1</li><li>2</li><li>99</li><li>5</li><li>8</li></ol>\n"
            ]
          },
          "metadata": {
            "tags": []
          }
        }
      ]
    },
    {
      "cell_type": "code",
      "metadata": {
        "id": "cVzhj4ASIgvb",
        "outputId": "2899686b-13a3-435b-aa6d-a1d2e28d1d41",
        "colab": {
          "base_uri": "https://localhost:8080/",
          "height": 34
        }
      },
      "source": [
        "# podemos cambiar uno de los nombres (ej, queremos cambiar el séptimo nombre)\n",
        "names(v4)\n",
        "#cambiamos \"rabia\" \"e3\"\n",
        "\n",
        "names(v4)[3] <- \"e3\"\n",
        "\n"
      ],
      "execution_count": null,
      "outputs": [
        {
          "output_type": "display_data",
          "data": {
            "text/plain": [
              "[1] \"e1\"    \"e2\"    \"rabia\" \"e4\"   "
            ],
            "text/latex": "\\begin{enumerate*}\n\\item 'e1'\n\\item 'e2'\n\\item 'rabia'\n\\item 'e4'\n\\end{enumerate*}\n",
            "text/markdown": "1. 'e1'\n2. 'e2'\n3. 'rabia'\n4. 'e4'\n\n\n",
            "text/html": [
              "<style>\n",
              ".list-inline {list-style: none; margin:0; padding: 0}\n",
              ".list-inline>li {display: inline-block}\n",
              ".list-inline>li:not(:last-child)::after {content: \"\\00b7\"; padding: 0 .5ex}\n",
              "</style>\n",
              "<ol class=list-inline><li>'e1'</li><li>'e2'</li><li>'rabia'</li><li>'e4'</li></ol>\n"
            ]
          },
          "metadata": {
            "tags": []
          }
        }
      ]
    },
    {
      "cell_type": "code",
      "metadata": {
        "id": "Puqz8u9Mo6Vf",
        "outputId": "55e43e37-5564-4a3c-d143-66916c9fb146",
        "colab": {
          "base_uri": "https://localhost:8080/",
          "height": 34
        }
      },
      "source": [
        "v4"
      ],
      "execution_count": null,
      "outputs": [
        {
          "output_type": "display_data",
          "data": {
            "text/plain": [
              " e1  e2  e3  e4 \n",
              "\"2\" \"5\" \"y\" \"6\" "
            ],
            "text/latex": "\\begin{description*}\n\\item[e1] '2'\n\\item[e2] '5'\n\\item[e3] 'y'\n\\item[e4] '6'\n\\end{description*}\n",
            "text/markdown": "e1\n:   '2'e2\n:   '5'e3\n:   'y'e4\n:   '6'\n\n",
            "text/html": [
              "<style>\n",
              ".dl-inline {width: auto; margin:0; padding: 0}\n",
              ".dl-inline>dt, .dl-inline>dd {float: none; width: auto; display: inline-block}\n",
              ".dl-inline>dt::after {content: \":\\0020\"; padding-right: .5ex}\n",
              ".dl-inline>dt:not(:first-of-type) {padding-left: .5ex}\n",
              "</style><dl class=dl-inline><dt>e1</dt><dd>'2'</dd><dt>e2</dt><dd>'5'</dd><dt>e3</dt><dd>'y'</dd><dt>e4</dt><dd>'6'</dd></dl>\n"
            ]
          },
          "metadata": {
            "tags": []
          }
        }
      ]
    },
    {
      "cell_type": "code",
      "metadata": {
        "id": "b6oqx_D4Igvd",
        "outputId": "fca02939-dc0e-4a65-cbba-808a6bdaf8b8",
        "colab": {
          "base_uri": "https://localhost:8080/",
          "height": 34
        }
      },
      "source": [
        "# podemos modificar varias posiciones a la vez\n",
        "# queremos re-asignar los valores 100  y 300 en las posiciones 1 y 6 respecivamente\n",
        "v1[c(1,6)] <- c(100,300)\n",
        "v1"
      ],
      "execution_count": null,
      "outputs": [
        {
          "output_type": "display_data",
          "data": {
            "text/plain": [
              "[1] 100   1   2  99   5 300"
            ],
            "text/latex": "\\begin{enumerate*}\n\\item 100\n\\item 1\n\\item 2\n\\item 99\n\\item 5\n\\item 300\n\\end{enumerate*}\n",
            "text/markdown": "1. 100\n2. 1\n3. 2\n4. 99\n5. 5\n6. 300\n\n\n",
            "text/html": [
              "<style>\n",
              ".list-inline {list-style: none; margin:0; padding: 0}\n",
              ".list-inline>li {display: inline-block}\n",
              ".list-inline>li:not(:last-child)::after {content: \"\\00b7\"; padding: 0 .5ex}\n",
              "</style>\n",
              "<ol class=list-inline><li>100</li><li>1</li><li>2</li><li>99</li><li>5</li><li>300</li></ol>\n"
            ]
          },
          "metadata": {
            "tags": []
          }
        }
      ]
    },
    {
      "cell_type": "markdown",
      "metadata": {
        "id": "XzyIBLZxIgvg"
      },
      "source": [
        "**Algunas sentencias de utilidad**\n",
        "\n",
        "También es posible acceder a los alementos de un vector mediante sentencias lógicas que retornen \"TRUE\" en la posición deseada. Para ello algunas funciones que son de utilidad son las siguientes.\n",
        "\n",
        "   **Conectores lógicos**\n",
        "\n",
        "    &, && |                  : conector y \n",
        "    |,||                     : conector o\n",
        "    ==                       : igual\n",
        "    !                        : negación\n",
        "    !=                       : distinto\n",
        "    >, >=                    : mayor que, mayor o igual que\n",
        "    <,<=                     : menor que, menor o igual que\n",
        "    is.na()                  : es NA?\n",
        "    which()                  : en qué posición es verdadera la expresión evaluada?\n",
        "    which.min(), which.max() : en qué posición se alcanza el mínimi/máximo\n",
        "    %in%                     : los elementos están en?\n",
        "    \n",
        "    "
      ]
    },
    {
      "cell_type": "code",
      "metadata": {
        "id": "EE1oUWCOp1vG",
        "outputId": "931ff22b-c4e4-45c7-a4c6-401d5ff4eea3",
        "colab": {
          "base_uri": "https://localhost:8080/",
          "height": 50
        }
      },
      "source": [
        "v1\n",
        "v1 < 10"
      ],
      "execution_count": null,
      "outputs": [
        {
          "output_type": "display_data",
          "data": {
            "text/plain": [
              "[1] 100   1   2  99   5 300"
            ],
            "text/latex": "\\begin{enumerate*}\n\\item 100\n\\item 1\n\\item 2\n\\item 99\n\\item 5\n\\item 300\n\\end{enumerate*}\n",
            "text/markdown": "1. 100\n2. 1\n3. 2\n4. 99\n5. 5\n6. 300\n\n\n",
            "text/html": [
              "<style>\n",
              ".list-inline {list-style: none; margin:0; padding: 0}\n",
              ".list-inline>li {display: inline-block}\n",
              ".list-inline>li:not(:last-child)::after {content: \"\\00b7\"; padding: 0 .5ex}\n",
              "</style>\n",
              "<ol class=list-inline><li>100</li><li>1</li><li>2</li><li>99</li><li>5</li><li>300</li></ol>\n"
            ]
          },
          "metadata": {
            "tags": []
          }
        },
        {
          "output_type": "display_data",
          "data": {
            "text/plain": [
              "[1] FALSE  TRUE  TRUE FALSE  TRUE FALSE"
            ],
            "text/latex": "\\begin{enumerate*}\n\\item FALSE\n\\item TRUE\n\\item TRUE\n\\item FALSE\n\\item TRUE\n\\item FALSE\n\\end{enumerate*}\n",
            "text/markdown": "1. FALSE\n2. TRUE\n3. TRUE\n4. FALSE\n5. TRUE\n6. FALSE\n\n\n",
            "text/html": [
              "<style>\n",
              ".list-inline {list-style: none; margin:0; padding: 0}\n",
              ".list-inline>li {display: inline-block}\n",
              ".list-inline>li:not(:last-child)::after {content: \"\\00b7\"; padding: 0 .5ex}\n",
              "</style>\n",
              "<ol class=list-inline><li>FALSE</li><li>TRUE</li><li>TRUE</li><li>FALSE</li><li>TRUE</li><li>FALSE</li></ol>\n"
            ]
          },
          "metadata": {
            "tags": []
          }
        }
      ]
    },
    {
      "cell_type": "code",
      "metadata": {
        "id": "NhZPJo56Igvh",
        "outputId": "6b83371d-efa1-4f83-c1bc-82da9aaeba42",
        "colab": {
          "base_uri": "https://localhost:8080/",
          "height": 34
        }
      },
      "source": [
        "# para acceder a elementos de un vector tenemos:}\n",
        "# 1. por posicion\n",
        "# 2. por nombre\n",
        "# 3. por indicatrices lógicas (un vector con TRUE (T) o FALSE (F) del mismo largo del que quiero consultar)\n",
        "\n",
        "v1[c(F,F,T,F,T,F)]\n",
        "\n",
        "\n"
      ],
      "execution_count": null,
      "outputs": [
        {
          "output_type": "display_data",
          "data": {
            "text/plain": [
              "[1] 2 5"
            ],
            "text/latex": "\\begin{enumerate*}\n\\item 2\n\\item 5\n\\end{enumerate*}\n",
            "text/markdown": "1. 2\n2. 5\n\n\n",
            "text/html": [
              "<style>\n",
              ".list-inline {list-style: none; margin:0; padding: 0}\n",
              ".list-inline>li {display: inline-block}\n",
              ".list-inline>li:not(:last-child)::after {content: \"\\00b7\"; padding: 0 .5ex}\n",
              "</style>\n",
              "<ol class=list-inline><li>2</li><li>5</li></ol>\n"
            ]
          },
          "metadata": {
            "tags": []
          }
        }
      ]
    },
    {
      "cell_type": "code",
      "metadata": {
        "id": "RuCsfSzAqHxH",
        "outputId": "db4c5841-14df-45c6-e856-ec75994243d7",
        "colab": {
          "base_uri": "https://localhost:8080/",
          "height": 34
        }
      },
      "source": [
        "# podríamos guardar el vector de T o F's en una variable para luego referenciarla\n",
        "\n",
        "pos <- v1 < 10\n",
        "pos "
      ],
      "execution_count": null,
      "outputs": [
        {
          "output_type": "display_data",
          "data": {
            "text/plain": [
              "[1] FALSE  TRUE  TRUE FALSE  TRUE FALSE"
            ],
            "text/latex": "\\begin{enumerate*}\n\\item FALSE\n\\item TRUE\n\\item TRUE\n\\item FALSE\n\\item TRUE\n\\item FALSE\n\\end{enumerate*}\n",
            "text/markdown": "1. FALSE\n2. TRUE\n3. TRUE\n4. FALSE\n5. TRUE\n6. FALSE\n\n\n",
            "text/html": [
              "<style>\n",
              ".list-inline {list-style: none; margin:0; padding: 0}\n",
              ".list-inline>li {display: inline-block}\n",
              ".list-inline>li:not(:last-child)::after {content: \"\\00b7\"; padding: 0 .5ex}\n",
              "</style>\n",
              "<ol class=list-inline><li>FALSE</li><li>TRUE</li><li>TRUE</li><li>FALSE</li><li>TRUE</li><li>FALSE</li></ol>\n"
            ]
          },
          "metadata": {
            "tags": []
          }
        }
      ]
    },
    {
      "cell_type": "code",
      "metadata": {
        "id": "5C4hDsvSIgvj",
        "outputId": "b4bc5534-9f97-42f8-a0b1-b1ffa0f2b7f6",
        "colab": {
          "base_uri": "https://localhost:8080/",
          "height": 50
        }
      },
      "source": [
        "# Esto facilita la búsqueda dentro de un un vector. Ej: retornar los elementos menores aun valor dado\n",
        "\n",
        "v1[pos]\n",
        "v1[v1 < 10]\n"
      ],
      "execution_count": null,
      "outputs": [
        {
          "output_type": "display_data",
          "data": {
            "text/plain": [
              "[1] 1 2 5"
            ],
            "text/latex": "\\begin{enumerate*}\n\\item 1\n\\item 2\n\\item 5\n\\end{enumerate*}\n",
            "text/markdown": "1. 1\n2. 2\n3. 5\n\n\n",
            "text/html": [
              "<style>\n",
              ".list-inline {list-style: none; margin:0; padding: 0}\n",
              ".list-inline>li {display: inline-block}\n",
              ".list-inline>li:not(:last-child)::after {content: \"\\00b7\"; padding: 0 .5ex}\n",
              "</style>\n",
              "<ol class=list-inline><li>1</li><li>2</li><li>5</li></ol>\n"
            ]
          },
          "metadata": {
            "tags": []
          }
        },
        {
          "output_type": "display_data",
          "data": {
            "text/plain": [
              "[1] 1 2 5"
            ],
            "text/latex": "\\begin{enumerate*}\n\\item 1\n\\item 2\n\\item 5\n\\end{enumerate*}\n",
            "text/markdown": "1. 1\n2. 2\n3. 5\n\n\n",
            "text/html": [
              "<style>\n",
              ".list-inline {list-style: none; margin:0; padding: 0}\n",
              ".list-inline>li {display: inline-block}\n",
              ".list-inline>li:not(:last-child)::after {content: \"\\00b7\"; padding: 0 .5ex}\n",
              "</style>\n",
              "<ol class=list-inline><li>1</li><li>2</li><li>5</li></ol>\n"
            ]
          },
          "metadata": {
            "tags": []
          }
        }
      ]
    },
    {
      "cell_type": "code",
      "metadata": {
        "id": "FEGs5_NZqmP1",
        "outputId": "1c3ce832-514b-4e24-9064-34ea7f5c2bef",
        "colab": {
          "base_uri": "https://localhost:8080/",
          "height": 84
        }
      },
      "source": [
        "!FALSE # \"!\" niega un valor de verdad\n",
        "\n",
        "v1[!pos]\n",
        "v1[! v1 < 10]\n",
        "v1[v1 >= 10]\n",
        "\n",
        "\n",
        "\n"
      ],
      "execution_count": null,
      "outputs": [
        {
          "output_type": "display_data",
          "data": {
            "text/plain": [
              "[1] TRUE"
            ],
            "text/latex": "TRUE",
            "text/markdown": "TRUE",
            "text/html": [
              "TRUE"
            ]
          },
          "metadata": {
            "tags": []
          }
        },
        {
          "output_type": "display_data",
          "data": {
            "text/plain": [
              "[1] 100  99 300"
            ],
            "text/latex": "\\begin{enumerate*}\n\\item 100\n\\item 99\n\\item 300\n\\end{enumerate*}\n",
            "text/markdown": "1. 100\n2. 99\n3. 300\n\n\n",
            "text/html": [
              "<style>\n",
              ".list-inline {list-style: none; margin:0; padding: 0}\n",
              ".list-inline>li {display: inline-block}\n",
              ".list-inline>li:not(:last-child)::after {content: \"\\00b7\"; padding: 0 .5ex}\n",
              "</style>\n",
              "<ol class=list-inline><li>100</li><li>99</li><li>300</li></ol>\n"
            ]
          },
          "metadata": {
            "tags": []
          }
        },
        {
          "output_type": "display_data",
          "data": {
            "text/plain": [
              "[1] 100  99 300"
            ],
            "text/latex": "\\begin{enumerate*}\n\\item 100\n\\item 99\n\\item 300\n\\end{enumerate*}\n",
            "text/markdown": "1. 100\n2. 99\n3. 300\n\n\n",
            "text/html": [
              "<style>\n",
              ".list-inline {list-style: none; margin:0; padding: 0}\n",
              ".list-inline>li {display: inline-block}\n",
              ".list-inline>li:not(:last-child)::after {content: \"\\00b7\"; padding: 0 .5ex}\n",
              "</style>\n",
              "<ol class=list-inline><li>100</li><li>99</li><li>300</li></ol>\n"
            ]
          },
          "metadata": {
            "tags": []
          }
        },
        {
          "output_type": "display_data",
          "data": {
            "text/plain": [
              "[1] 100  99 300"
            ],
            "text/latex": "\\begin{enumerate*}\n\\item 100\n\\item 99\n\\item 300\n\\end{enumerate*}\n",
            "text/markdown": "1. 100\n2. 99\n3. 300\n\n\n",
            "text/html": [
              "<style>\n",
              ".list-inline {list-style: none; margin:0; padding: 0}\n",
              ".list-inline>li {display: inline-block}\n",
              ".list-inline>li:not(:last-child)::after {content: \"\\00b7\"; padding: 0 .5ex}\n",
              "</style>\n",
              "<ol class=list-inline><li>100</li><li>99</li><li>300</li></ol>\n"
            ]
          },
          "metadata": {
            "tags": []
          }
        }
      ]
    },
    {
      "cell_type": "code",
      "metadata": {
        "id": "HSIZn3adrH_s",
        "outputId": "107a3c8f-650f-43ce-aa04-f364e4475ed6",
        "colab": {
          "base_uri": "https://localhost:8080/",
          "height": 34
        }
      },
      "source": [
        "length(v1) # retorna el largo del vector"
      ],
      "execution_count": null,
      "outputs": [
        {
          "output_type": "display_data",
          "data": {
            "text/plain": [
              "[1] 6"
            ],
            "text/latex": "6",
            "text/markdown": "6",
            "text/html": [
              "6"
            ]
          },
          "metadata": {
            "tags": []
          }
        }
      ]
    },
    {
      "cell_type": "code",
      "metadata": {
        "id": "e4rPWddjrE9H",
        "outputId": "88006068-ea63-490f-dec1-ef1494ac533d",
        "colab": {
          "base_uri": "https://localhost:8080/",
          "height": 34
        }
      },
      "source": [
        "aux <- c(19,2,3,90,1,8)\n",
        "\n",
        "v1[aux < 4]\n",
        "\n",
        "\n"
      ],
      "execution_count": null,
      "outputs": [
        {
          "output_type": "display_data",
          "data": {
            "text/plain": [
              "[1] 1 2 5"
            ],
            "text/latex": "\\begin{enumerate*}\n\\item 1\n\\item 2\n\\item 5\n\\end{enumerate*}\n",
            "text/markdown": "1. 1\n2. 2\n3. 5\n\n\n",
            "text/html": [
              "<style>\n",
              ".list-inline {list-style: none; margin:0; padding: 0}\n",
              ".list-inline>li {display: inline-block}\n",
              ".list-inline>li:not(:last-child)::after {content: \"\\00b7\"; padding: 0 .5ex}\n",
              "</style>\n",
              "<ol class=list-inline><li>1</li><li>2</li><li>5</li></ol>\n"
            ]
          },
          "metadata": {
            "tags": []
          }
        }
      ]
    },
    {
      "cell_type": "code",
      "metadata": {
        "id": "ioUJy8UEIgvz",
        "outputId": "57df47a7-35dc-44fb-c53a-930733571230",
        "colab": {
          "base_uri": "https://localhost:8080/",
          "height": 101
        }
      },
      "source": [
        "#?which.max # retorna la posición donde se alcanza el máximo valor\n",
        "#podemos rescatar el valor mediante el índice guardado\n",
        "max(v1)\n",
        "v1\n",
        "#v1[donde aux sea máximo] # el valor de v1 en la posicición donde aux tiene el mayor valor\n",
        "\n",
        "v1[aux == max(aux)]\n",
        "\n",
        "which.max(aux)\n",
        "v1[which.max(aux)]\n",
        "\n"
      ],
      "execution_count": null,
      "outputs": [
        {
          "output_type": "display_data",
          "data": {
            "text/plain": [
              "[1] 300"
            ],
            "text/latex": "300",
            "text/markdown": "300",
            "text/html": [
              "300"
            ]
          },
          "metadata": {
            "tags": []
          }
        },
        {
          "output_type": "display_data",
          "data": {
            "text/plain": [
              "[1] 100   1   2  99   5 300"
            ],
            "text/latex": "\\begin{enumerate*}\n\\item 100\n\\item 1\n\\item 2\n\\item 99\n\\item 5\n\\item 300\n\\end{enumerate*}\n",
            "text/markdown": "1. 100\n2. 1\n3. 2\n4. 99\n5. 5\n6. 300\n\n\n",
            "text/html": [
              "<style>\n",
              ".list-inline {list-style: none; margin:0; padding: 0}\n",
              ".list-inline>li {display: inline-block}\n",
              ".list-inline>li:not(:last-child)::after {content: \"\\00b7\"; padding: 0 .5ex}\n",
              "</style>\n",
              "<ol class=list-inline><li>100</li><li>1</li><li>2</li><li>99</li><li>5</li><li>300</li></ol>\n"
            ]
          },
          "metadata": {
            "tags": []
          }
        },
        {
          "output_type": "display_data",
          "data": {
            "text/plain": [
              "[1] 99"
            ],
            "text/latex": "99",
            "text/markdown": "99",
            "text/html": [
              "99"
            ]
          },
          "metadata": {
            "tags": []
          }
        },
        {
          "output_type": "display_data",
          "data": {
            "text/plain": [
              "[1] 4"
            ],
            "text/latex": "4",
            "text/markdown": "4",
            "text/html": [
              "4"
            ]
          },
          "metadata": {
            "tags": []
          }
        },
        {
          "output_type": "display_data",
          "data": {
            "text/plain": [
              "[1] 99"
            ],
            "text/latex": "99",
            "text/markdown": "99",
            "text/html": [
              "99"
            ]
          },
          "metadata": {
            "tags": []
          }
        }
      ]
    },
    {
      "cell_type": "code",
      "metadata": {
        "id": "7HcFSirmsyQ7",
        "outputId": "9497f80a-7b1a-4020-a761-36c89f98c84c",
        "colab": {
          "base_uri": "https://localhost:8080/",
          "height": 67
        }
      },
      "source": [
        "# which # retorna las posiciones donde se verifica una condición\n",
        "aux > 10\n",
        "which(aux > 10)\n",
        "\n",
        "v1[which(aux > 10)]\n",
        "\n"
      ],
      "execution_count": null,
      "outputs": [
        {
          "output_type": "display_data",
          "data": {
            "text/plain": [
              "[1]  TRUE FALSE FALSE  TRUE FALSE FALSE"
            ],
            "text/latex": "\\begin{enumerate*}\n\\item TRUE\n\\item FALSE\n\\item FALSE\n\\item TRUE\n\\item FALSE\n\\item FALSE\n\\end{enumerate*}\n",
            "text/markdown": "1. TRUE\n2. FALSE\n3. FALSE\n4. TRUE\n5. FALSE\n6. FALSE\n\n\n",
            "text/html": [
              "<style>\n",
              ".list-inline {list-style: none; margin:0; padding: 0}\n",
              ".list-inline>li {display: inline-block}\n",
              ".list-inline>li:not(:last-child)::after {content: \"\\00b7\"; padding: 0 .5ex}\n",
              "</style>\n",
              "<ol class=list-inline><li>TRUE</li><li>FALSE</li><li>FALSE</li><li>TRUE</li><li>FALSE</li><li>FALSE</li></ol>\n"
            ]
          },
          "metadata": {
            "tags": []
          }
        },
        {
          "output_type": "display_data",
          "data": {
            "text/plain": [
              "[1] 1 4"
            ],
            "text/latex": "\\begin{enumerate*}\n\\item 1\n\\item 4\n\\end{enumerate*}\n",
            "text/markdown": "1. 1\n2. 4\n\n\n",
            "text/html": [
              "<style>\n",
              ".list-inline {list-style: none; margin:0; padding: 0}\n",
              ".list-inline>li {display: inline-block}\n",
              ".list-inline>li:not(:last-child)::after {content: \"\\00b7\"; padding: 0 .5ex}\n",
              "</style>\n",
              "<ol class=list-inline><li>1</li><li>4</li></ol>\n"
            ]
          },
          "metadata": {
            "tags": []
          }
        },
        {
          "output_type": "display_data",
          "data": {
            "text/plain": [
              "[1] 100  99"
            ],
            "text/latex": "\\begin{enumerate*}\n\\item 100\n\\item 99\n\\end{enumerate*}\n",
            "text/markdown": "1. 100\n2. 99\n\n\n",
            "text/html": [
              "<style>\n",
              ".list-inline {list-style: none; margin:0; padding: 0}\n",
              ".list-inline>li {display: inline-block}\n",
              ".list-inline>li:not(:last-child)::after {content: \"\\00b7\"; padding: 0 .5ex}\n",
              "</style>\n",
              "<ol class=list-inline><li>100</li><li>99</li></ol>\n"
            ]
          },
          "metadata": {
            "tags": []
          }
        }
      ]
    },
    {
      "cell_type": "code",
      "metadata": {
        "id": "_8-SMxfWIgv0",
        "outputId": "9d7cc61b-a9c1-4c08-d729-af035510e343",
        "colab": {
          "base_uri": "https://localhost:8080/",
          "height": 50
        }
      },
      "source": [
        "# Operador %in%\n",
        "# vector_a %in% vector_b (qué elementos del vector a están en el vector b)\n",
        "# retorna un  vector de TRUE's y FALSE's del largo del primer vector(a) (izquierda) \n",
        "\n",
        "c(1,3,5) %in% c(100,1,10,3,4,9) # retorna TRUE si el elemento de la izquierda está en la derecha\n",
        "\n",
        "!c(1,3,5) %in% c(100,1,10,3,4,9) # retorna TRUE si el elemento de la izquierda NO está en la derecha\n"
      ],
      "execution_count": null,
      "outputs": [
        {
          "output_type": "display_data",
          "data": {
            "text/plain": [
              "[1]  TRUE  TRUE FALSE"
            ],
            "text/latex": "\\begin{enumerate*}\n\\item TRUE\n\\item TRUE\n\\item FALSE\n\\end{enumerate*}\n",
            "text/markdown": "1. TRUE\n2. TRUE\n3. FALSE\n\n\n",
            "text/html": [
              "<style>\n",
              ".list-inline {list-style: none; margin:0; padding: 0}\n",
              ".list-inline>li {display: inline-block}\n",
              ".list-inline>li:not(:last-child)::after {content: \"\\00b7\"; padding: 0 .5ex}\n",
              "</style>\n",
              "<ol class=list-inline><li>TRUE</li><li>TRUE</li><li>FALSE</li></ol>\n"
            ]
          },
          "metadata": {
            "tags": []
          }
        },
        {
          "output_type": "display_data",
          "data": {
            "text/plain": [
              "[1] FALSE FALSE  TRUE"
            ],
            "text/latex": "\\begin{enumerate*}\n\\item FALSE\n\\item FALSE\n\\item TRUE\n\\end{enumerate*}\n",
            "text/markdown": "1. FALSE\n2. FALSE\n3. TRUE\n\n\n",
            "text/html": [
              "<style>\n",
              ".list-inline {list-style: none; margin:0; padding: 0}\n",
              ".list-inline>li {display: inline-block}\n",
              ".list-inline>li:not(:last-child)::after {content: \"\\00b7\"; padding: 0 .5ex}\n",
              "</style>\n",
              "<ol class=list-inline><li>FALSE</li><li>FALSE</li><li>TRUE</li></ol>\n"
            ]
          },
          "metadata": {
            "tags": []
          }
        }
      ]
    },
    {
      "cell_type": "code",
      "metadata": {
        "id": "s9bYOQ4GIgv2",
        "outputId": "9ed902e8-03d9-4513-e5a6-7f4eae9f4b5f",
        "colab": {
          "base_uri": "https://localhost:8080/",
          "height": 50
        }
      },
      "source": [
        "# podemos utilizar la función all() para evaluar si todos los elementos de un vector son TRUE.\n",
        "all(c(T,T,T,T))\n",
        "all(c(T,T,F,T))\n"
      ],
      "execution_count": null,
      "outputs": [
        {
          "output_type": "display_data",
          "data": {
            "text/plain": [
              "[1] TRUE"
            ],
            "text/latex": "TRUE",
            "text/markdown": "TRUE",
            "text/html": [
              "TRUE"
            ]
          },
          "metadata": {
            "tags": []
          }
        },
        {
          "output_type": "display_data",
          "data": {
            "text/plain": [
              "[1] FALSE"
            ],
            "text/latex": "FALSE",
            "text/markdown": "FALSE",
            "text/html": [
              "FALSE"
            ]
          },
          "metadata": {
            "tags": []
          }
        }
      ]
    },
    {
      "cell_type": "code",
      "metadata": {
        "id": "Wd-mSv3PIgv4"
      },
      "source": [
        "# si quisiéramos evaluar que todos los elementos de la izq. estén en la derecha,\n",
        "# podemos utilizar la función all()."
      ],
      "execution_count": null,
      "outputs": []
    },
    {
      "cell_type": "code",
      "metadata": {
        "id": "Zn85mjGmIgv5"
      },
      "source": [
        ""
      ],
      "execution_count": null,
      "outputs": []
    },
    {
      "cell_type": "code",
      "metadata": {
        "id": "1YGnzt1zIgv7",
        "outputId": "d0684699-8218-43f2-d558-288a26f89cb7",
        "colab": {
          "base_uri": "https://localhost:8080/",
          "height": 173
        }
      },
      "source": [
        "# aritmética con vectores\n",
        "# operación de vectore de igual largo\n",
        "\n",
        "c(1,2,3,4) + c(10,20,30,40)\n",
        "c(1,2,3,4) * c(10,20,30,40) # no es producto interno\n",
        "\n",
        "c(1,2,3,4) %*% c(10,20,30,40) # esto si es el producto interno\n",
        "\n",
        "\n",
        "\n"
      ],
      "execution_count": null,
      "outputs": [
        {
          "output_type": "display_data",
          "data": {
            "text/plain": [
              "[1] 11 22 33 44"
            ],
            "text/latex": "\\begin{enumerate*}\n\\item 11\n\\item 22\n\\item 33\n\\item 44\n\\end{enumerate*}\n",
            "text/markdown": "1. 11\n2. 22\n3. 33\n4. 44\n\n\n",
            "text/html": [
              "<style>\n",
              ".list-inline {list-style: none; margin:0; padding: 0}\n",
              ".list-inline>li {display: inline-block}\n",
              ".list-inline>li:not(:last-child)::after {content: \"\\00b7\"; padding: 0 .5ex}\n",
              "</style>\n",
              "<ol class=list-inline><li>11</li><li>22</li><li>33</li><li>44</li></ol>\n"
            ]
          },
          "metadata": {
            "tags": []
          }
        },
        {
          "output_type": "display_data",
          "data": {
            "text/plain": [
              "[1]  10  40  90 160"
            ],
            "text/latex": "\\begin{enumerate*}\n\\item 10\n\\item 40\n\\item 90\n\\item 160\n\\end{enumerate*}\n",
            "text/markdown": "1. 10\n2. 40\n3. 90\n4. 160\n\n\n",
            "text/html": [
              "<style>\n",
              ".list-inline {list-style: none; margin:0; padding: 0}\n",
              ".list-inline>li {display: inline-block}\n",
              ".list-inline>li:not(:last-child)::after {content: \"\\00b7\"; padding: 0 .5ex}\n",
              "</style>\n",
              "<ol class=list-inline><li>10</li><li>40</li><li>90</li><li>160</li></ol>\n"
            ]
          },
          "metadata": {
            "tags": []
          }
        },
        {
          "output_type": "display_data",
          "data": {
            "text/plain": [
              "     [,1]\n",
              "[1,] 300 "
            ],
            "text/latex": "A matrix: 1 × 1 of type dbl\n\\begin{tabular}{l}\n\t 300\\\\\n\\end{tabular}\n",
            "text/markdown": "\nA matrix: 1 × 1 of type dbl\n\n| 300 |\n\n",
            "text/html": [
              "<table>\n",
              "<caption>A matrix: 1 × 1 of type dbl</caption>\n",
              "<tbody>\n",
              "\t<tr><td>300</td></tr>\n",
              "</tbody>\n",
              "</table>\n"
            ]
          },
          "metadata": {
            "tags": []
          }
        }
      ]
    },
    {
      "cell_type": "code",
      "metadata": {
        "id": "Bw8lX76XIgv8",
        "outputId": "90edc5a3-bf61-412c-8121-0a8fff8066e0",
        "colab": {
          "base_uri": "https://localhost:8080/",
          "height": 34
        }
      },
      "source": [
        "#ponderaciones por escalares\n",
        "c(1,2,3,4) * 6"
      ],
      "execution_count": null,
      "outputs": [
        {
          "output_type": "display_data",
          "data": {
            "text/plain": [
              "[1]  6 12 18 24"
            ],
            "text/latex": "\\begin{enumerate*}\n\\item 6\n\\item 12\n\\item 18\n\\item 24\n\\end{enumerate*}\n",
            "text/markdown": "1. 6\n2. 12\n3. 18\n4. 24\n\n\n",
            "text/html": [
              "<style>\n",
              ".list-inline {list-style: none; margin:0; padding: 0}\n",
              ".list-inline>li {display: inline-block}\n",
              ".list-inline>li:not(:last-child)::after {content: \"\\00b7\"; padding: 0 .5ex}\n",
              "</style>\n",
              "<ol class=list-inline><li>6</li><li>12</li><li>18</li><li>24</li></ol>\n"
            ]
          },
          "metadata": {
            "tags": []
          }
        }
      ]
    },
    {
      "cell_type": "code",
      "metadata": {
        "id": "JoyilQu0ujF8",
        "outputId": "733ef7e5-b379-405d-cf66-d0aa17b4602c",
        "colab": {
          "base_uri": "https://localhost:8080/",
          "height": 34
        }
      },
      "source": [
        "sqrt(c(1,2,3,4))"
      ],
      "execution_count": null,
      "outputs": [
        {
          "output_type": "display_data",
          "data": {
            "text/plain": [
              "[1] 1.000000 1.414214 1.732051 2.000000"
            ],
            "text/latex": "\\begin{enumerate*}\n\\item 1\n\\item 1.4142135623731\n\\item 1.73205080756888\n\\item 2\n\\end{enumerate*}\n",
            "text/markdown": "1. 1\n2. 1.4142135623731\n3. 1.73205080756888\n4. 2\n\n\n",
            "text/html": [
              "<style>\n",
              ".list-inline {list-style: none; margin:0; padding: 0}\n",
              ".list-inline>li {display: inline-block}\n",
              ".list-inline>li:not(:last-child)::after {content: \"\\00b7\"; padding: 0 .5ex}\n",
              "</style>\n",
              "<ol class=list-inline><li>1</li><li>1.4142135623731</li><li>1.73205080756888</li><li>2</li></ol>\n"
            ]
          },
          "metadata": {
            "tags": []
          }
        }
      ]
    },
    {
      "cell_type": "code",
      "metadata": {
        "id": "syufc9_OIgv_",
        "outputId": "61303d51-b087-4cb3-96f7-7cd40ac4ce88",
        "colab": {
          "base_uri": "https://localhost:8080/",
          "height": 67
        }
      },
      "source": [
        "#CUIDADO: Si se operan vectores de dstinto largo se reciclan los valores del vector más pequeño\n",
        "c(1,2,3,4) + c(10,20,30)"
      ],
      "execution_count": null,
      "outputs": [
        {
          "output_type": "stream",
          "text": [
            "Warning message in c(1, 2, 3, 4) + c(10, 20, 30):\n",
            "“longer object length is not a multiple of shorter object length”\n"
          ],
          "name": "stderr"
        },
        {
          "output_type": "display_data",
          "data": {
            "text/plain": [
              "[1] 11 22 33 14"
            ],
            "text/latex": "\\begin{enumerate*}\n\\item 11\n\\item 22\n\\item 33\n\\item 14\n\\end{enumerate*}\n",
            "text/markdown": "1. 11\n2. 22\n3. 33\n4. 14\n\n\n",
            "text/html": [
              "<style>\n",
              ".list-inline {list-style: none; margin:0; padding: 0}\n",
              ".list-inline>li {display: inline-block}\n",
              ".list-inline>li:not(:last-child)::after {content: \"\\00b7\"; padding: 0 .5ex}\n",
              "</style>\n",
              "<ol class=list-inline><li>11</li><li>22</li><li>33</li><li>14</li></ol>\n"
            ]
          },
          "metadata": {
            "tags": []
          }
        }
      ]
    },
    {
      "cell_type": "code",
      "metadata": {
        "id": "UCcudh6ou7ei",
        "outputId": "40ebc990-328e-4c4f-8274-9b533b74300e",
        "colab": {
          "base_uri": "https://localhost:8080/",
          "height": 34
        }
      },
      "source": [
        "c(1,2,3,4) + c(10,20)"
      ],
      "execution_count": null,
      "outputs": [
        {
          "output_type": "display_data",
          "data": {
            "text/plain": [
              "[1] 11 22 13 24"
            ],
            "text/latex": "\\begin{enumerate*}\n\\item 11\n\\item 22\n\\item 13\n\\item 24\n\\end{enumerate*}\n",
            "text/markdown": "1. 11\n2. 22\n3. 13\n4. 24\n\n\n",
            "text/html": [
              "<style>\n",
              ".list-inline {list-style: none; margin:0; padding: 0}\n",
              ".list-inline>li {display: inline-block}\n",
              ".list-inline>li:not(:last-child)::after {content: \"\\00b7\"; padding: 0 .5ex}\n",
              "</style>\n",
              "<ol class=list-inline><li>11</li><li>22</li><li>13</li><li>24</li></ol>\n"
            ]
          },
          "metadata": {
            "tags": []
          }
        }
      ]
    },
    {
      "cell_type": "code",
      "metadata": {
        "id": "9kfbx6J4IgwC"
      },
      "source": [
        "# NOTA:\n",
        "# podemos determinar el largo de un vector mediante la función length()\n"
      ],
      "execution_count": null,
      "outputs": []
    },
    {
      "cell_type": "markdown",
      "metadata": {
        "id": "LIr-IFowIgwD"
      },
      "source": [
        "**Secuencias**\n",
        "\n",
        "En R es posible generar de manera rápida y sencilla algunas secuencias numéricas y almacenarlas en un vector.\n",
        "\n",
        "Ejemplo de estas funciones son :\n",
        "\n",
        "    rep()\n",
        "    seq()\n",
        "    \n",
        "Más adelante veremos como generar números aleatorios siguiendo alguna función de distribución de interés.\n",
        "\n"
      ]
    },
    {
      "cell_type": "code",
      "metadata": {
        "id": "wk0fB_gWIgwE",
        "outputId": "ddfdf508-2884-4a5a-e867-a0ea75844b2a",
        "colab": {
          "base_uri": "https://localhost:8080/",
          "height": 67
        }
      },
      "source": [
        "# a vimos que fácilmente ppodemos generar vectores de enteros consecutivos vía \":\"\n",
        "-4:90"
      ],
      "execution_count": null,
      "outputs": [
        {
          "output_type": "display_data",
          "data": {
            "text/plain": [
              " [1] -4 -3 -2 -1  0  1  2  3  4  5  6  7  8  9 10 11 12 13 14 15 16 17 18 19 20\n",
              "[26] 21 22 23 24 25 26 27 28 29 30 31 32 33 34 35 36 37 38 39 40 41 42 43 44 45\n",
              "[51] 46 47 48 49 50 51 52 53 54 55 56 57 58 59 60 61 62 63 64 65 66 67 68 69 70\n",
              "[76] 71 72 73 74 75 76 77 78 79 80 81 82 83 84 85 86 87 88 89 90"
            ],
            "text/latex": "\\begin{enumerate*}\n\\item -4\n\\item -3\n\\item -2\n\\item -1\n\\item 0\n\\item 1\n\\item 2\n\\item 3\n\\item 4\n\\item 5\n\\item 6\n\\item 7\n\\item 8\n\\item 9\n\\item 10\n\\item 11\n\\item 12\n\\item 13\n\\item 14\n\\item 15\n\\item 16\n\\item 17\n\\item 18\n\\item 19\n\\item 20\n\\item 21\n\\item 22\n\\item 23\n\\item 24\n\\item 25\n\\item 26\n\\item 27\n\\item 28\n\\item 29\n\\item 30\n\\item 31\n\\item 32\n\\item 33\n\\item 34\n\\item 35\n\\item 36\n\\item 37\n\\item 38\n\\item 39\n\\item 40\n\\item 41\n\\item 42\n\\item 43\n\\item 44\n\\item 45\n\\item 46\n\\item 47\n\\item 48\n\\item 49\n\\item 50\n\\item 51\n\\item 52\n\\item 53\n\\item 54\n\\item 55\n\\item 56\n\\item 57\n\\item 58\n\\item 59\n\\item 60\n\\item 61\n\\item 62\n\\item 63\n\\item 64\n\\item 65\n\\item 66\n\\item 67\n\\item 68\n\\item 69\n\\item 70\n\\item 71\n\\item 72\n\\item 73\n\\item 74\n\\item 75\n\\item 76\n\\item 77\n\\item 78\n\\item 79\n\\item 80\n\\item 81\n\\item 82\n\\item 83\n\\item 84\n\\item 85\n\\item 86\n\\item 87\n\\item 88\n\\item 89\n\\item 90\n\\end{enumerate*}\n",
            "text/markdown": "1. -4\n2. -3\n3. -2\n4. -1\n5. 0\n6. 1\n7. 2\n8. 3\n9. 4\n10. 5\n11. 6\n12. 7\n13. 8\n14. 9\n15. 10\n16. 11\n17. 12\n18. 13\n19. 14\n20. 15\n21. 16\n22. 17\n23. 18\n24. 19\n25. 20\n26. 21\n27. 22\n28. 23\n29. 24\n30. 25\n31. 26\n32. 27\n33. 28\n34. 29\n35. 30\n36. 31\n37. 32\n38. 33\n39. 34\n40. 35\n41. 36\n42. 37\n43. 38\n44. 39\n45. 40\n46. 41\n47. 42\n48. 43\n49. 44\n50. 45\n51. 46\n52. 47\n53. 48\n54. 49\n55. 50\n56. 51\n57. 52\n58. 53\n59. 54\n60. 55\n61. 56\n62. 57\n63. 58\n64. 59\n65. 60\n66. 61\n67. 62\n68. 63\n69. 64\n70. 65\n71. 66\n72. 67\n73. 68\n74. 69\n75. 70\n76. 71\n77. 72\n78. 73\n79. 74\n80. 75\n81. 76\n82. 77\n83. 78\n84. 79\n85. 80\n86. 81\n87. 82\n88. 83\n89. 84\n90. 85\n91. 86\n92. 87\n93. 88\n94. 89\n95. 90\n\n\n",
            "text/html": [
              "<style>\n",
              ".list-inline {list-style: none; margin:0; padding: 0}\n",
              ".list-inline>li {display: inline-block}\n",
              ".list-inline>li:not(:last-child)::after {content: \"\\00b7\"; padding: 0 .5ex}\n",
              "</style>\n",
              "<ol class=list-inline><li>-4</li><li>-3</li><li>-2</li><li>-1</li><li>0</li><li>1</li><li>2</li><li>3</li><li>4</li><li>5</li><li>6</li><li>7</li><li>8</li><li>9</li><li>10</li><li>11</li><li>12</li><li>13</li><li>14</li><li>15</li><li>16</li><li>17</li><li>18</li><li>19</li><li>20</li><li>21</li><li>22</li><li>23</li><li>24</li><li>25</li><li>26</li><li>27</li><li>28</li><li>29</li><li>30</li><li>31</li><li>32</li><li>33</li><li>34</li><li>35</li><li>36</li><li>37</li><li>38</li><li>39</li><li>40</li><li>41</li><li>42</li><li>43</li><li>44</li><li>45</li><li>46</li><li>47</li><li>48</li><li>49</li><li>50</li><li>51</li><li>52</li><li>53</li><li>54</li><li>55</li><li>56</li><li>57</li><li>58</li><li>59</li><li>60</li><li>61</li><li>62</li><li>63</li><li>64</li><li>65</li><li>66</li><li>67</li><li>68</li><li>69</li><li>70</li><li>71</li><li>72</li><li>73</li><li>74</li><li>75</li><li>76</li><li>77</li><li>78</li><li>79</li><li>80</li><li>81</li><li>82</li><li>83</li><li>84</li><li>85</li><li>86</li><li>87</li><li>88</li><li>89</li><li>90</li></ol>\n"
            ]
          },
          "metadata": {
            "tags": []
          }
        }
      ]
    },
    {
      "cell_type": "code",
      "metadata": {
        "id": "rG-Q3PmhIgwG",
        "outputId": "4d6f61cc-10c9-46d0-d4b2-23cea32114ff",
        "colab": {
          "base_uri": "https://localhost:8080/",
          "height": 34
        }
      },
      "source": [
        "# Ejemplo de secuencia con rep (utilice distintos tipos de datos)\n",
        "rep(3,6)\n"
      ],
      "execution_count": null,
      "outputs": [
        {
          "output_type": "display_data",
          "data": {
            "text/plain": [
              "[1] 3 3 3 3 3 3"
            ],
            "text/latex": "\\begin{enumerate*}\n\\item 3\n\\item 3\n\\item 3\n\\item 3\n\\item 3\n\\item 3\n\\end{enumerate*}\n",
            "text/markdown": "1. 3\n2. 3\n3. 3\n4. 3\n5. 3\n6. 3\n\n\n",
            "text/html": [
              "<style>\n",
              ".list-inline {list-style: none; margin:0; padding: 0}\n",
              ".list-inline>li {display: inline-block}\n",
              ".list-inline>li:not(:last-child)::after {content: \"\\00b7\"; padding: 0 .5ex}\n",
              "</style>\n",
              "<ol class=list-inline><li>3</li><li>3</li><li>3</li><li>3</li><li>3</li><li>3</li></ol>\n"
            ]
          },
          "metadata": {
            "tags": []
          }
        }
      ]
    },
    {
      "cell_type": "code",
      "metadata": {
        "id": "a07A5vdivfFu",
        "outputId": "e5887e1a-5802-4d5a-cad7-c90a4f5091e1",
        "colab": {
          "base_uri": "https://localhost:8080/",
          "height": 67
        }
      },
      "source": [
        "rep(x = 3, times = 6)\n",
        "rep(6,3)\n",
        "rep(times = 6, x = 3)"
      ],
      "execution_count": null,
      "outputs": [
        {
          "output_type": "display_data",
          "data": {
            "text/plain": [
              "[1] 3 3 3 3 3 3"
            ],
            "text/latex": "\\begin{enumerate*}\n\\item 3\n\\item 3\n\\item 3\n\\item 3\n\\item 3\n\\item 3\n\\end{enumerate*}\n",
            "text/markdown": "1. 3\n2. 3\n3. 3\n4. 3\n5. 3\n6. 3\n\n\n",
            "text/html": [
              "<style>\n",
              ".list-inline {list-style: none; margin:0; padding: 0}\n",
              ".list-inline>li {display: inline-block}\n",
              ".list-inline>li:not(:last-child)::after {content: \"\\00b7\"; padding: 0 .5ex}\n",
              "</style>\n",
              "<ol class=list-inline><li>3</li><li>3</li><li>3</li><li>3</li><li>3</li><li>3</li></ol>\n"
            ]
          },
          "metadata": {
            "tags": []
          }
        },
        {
          "output_type": "display_data",
          "data": {
            "text/plain": [
              "[1] 6 6 6"
            ],
            "text/latex": "\\begin{enumerate*}\n\\item 6\n\\item 6\n\\item 6\n\\end{enumerate*}\n",
            "text/markdown": "1. 6\n2. 6\n3. 6\n\n\n",
            "text/html": [
              "<style>\n",
              ".list-inline {list-style: none; margin:0; padding: 0}\n",
              ".list-inline>li {display: inline-block}\n",
              ".list-inline>li:not(:last-child)::after {content: \"\\00b7\"; padding: 0 .5ex}\n",
              "</style>\n",
              "<ol class=list-inline><li>6</li><li>6</li><li>6</li></ol>\n"
            ]
          },
          "metadata": {
            "tags": []
          }
        },
        {
          "output_type": "display_data",
          "data": {
            "text/plain": [
              "[1] 3 3 3 3 3 3"
            ],
            "text/latex": "\\begin{enumerate*}\n\\item 3\n\\item 3\n\\item 3\n\\item 3\n\\item 3\n\\item 3\n\\end{enumerate*}\n",
            "text/markdown": "1. 3\n2. 3\n3. 3\n4. 3\n5. 3\n6. 3\n\n\n",
            "text/html": [
              "<style>\n",
              ".list-inline {list-style: none; margin:0; padding: 0}\n",
              ".list-inline>li {display: inline-block}\n",
              ".list-inline>li:not(:last-child)::after {content: \"\\00b7\"; padding: 0 .5ex}\n",
              "</style>\n",
              "<ol class=list-inline><li>3</li><li>3</li><li>3</li><li>3</li><li>3</li><li>3</li></ol>\n"
            ]
          },
          "metadata": {
            "tags": []
          }
        }
      ]
    },
    {
      "cell_type": "code",
      "metadata": {
        "id": "C_JRG0TkvTnP",
        "outputId": "475c3821-3d3b-48a8-895b-a957d8de0ed2",
        "colab": {
          "base_uri": "https://localhost:8080/",
          "height": 302
        }
      },
      "source": [
        "rep(c(\"hola\", \"soy\", \"miguel\"), 100)"
      ],
      "execution_count": null,
      "outputs": [
        {
          "output_type": "display_data",
          "data": {
            "text/plain": [
              "  [1] \"hola\"   \"soy\"    \"miguel\" \"hola\"   \"soy\"    \"miguel\" \"hola\"   \"soy\"   \n",
              "  [9] \"miguel\" \"hola\"   \"soy\"    \"miguel\" \"hola\"   \"soy\"    \"miguel\" \"hola\"  \n",
              " [17] \"soy\"    \"miguel\" \"hola\"   \"soy\"    \"miguel\" \"hola\"   \"soy\"    \"miguel\"\n",
              " [25] \"hola\"   \"soy\"    \"miguel\" \"hola\"   \"soy\"    \"miguel\" \"hola\"   \"soy\"   \n",
              " [33] \"miguel\" \"hola\"   \"soy\"    \"miguel\" \"hola\"   \"soy\"    \"miguel\" \"hola\"  \n",
              " [41] \"soy\"    \"miguel\" \"hola\"   \"soy\"    \"miguel\" \"hola\"   \"soy\"    \"miguel\"\n",
              " [49] \"hola\"   \"soy\"    \"miguel\" \"hola\"   \"soy\"    \"miguel\" \"hola\"   \"soy\"   \n",
              " [57] \"miguel\" \"hola\"   \"soy\"    \"miguel\" \"hola\"   \"soy\"    \"miguel\" \"hola\"  \n",
              " [65] \"soy\"    \"miguel\" \"hola\"   \"soy\"    \"miguel\" \"hola\"   \"soy\"    \"miguel\"\n",
              " [73] \"hola\"   \"soy\"    \"miguel\" \"hola\"   \"soy\"    \"miguel\" \"hola\"   \"soy\"   \n",
              " [81] \"miguel\" \"hola\"   \"soy\"    \"miguel\" \"hola\"   \"soy\"    \"miguel\" \"hola\"  \n",
              " [89] \"soy\"    \"miguel\" \"hola\"   \"soy\"    \"miguel\" \"hola\"   \"soy\"    \"miguel\"\n",
              " [97] \"hola\"   \"soy\"    \"miguel\" \"hola\"   \"soy\"    \"miguel\" \"hola\"   \"soy\"   \n",
              "[105] \"miguel\" \"hola\"   \"soy\"    \"miguel\" \"hola\"   \"soy\"    \"miguel\" \"hola\"  \n",
              "[113] \"soy\"    \"miguel\" \"hola\"   \"soy\"    \"miguel\" \"hola\"   \"soy\"    \"miguel\"\n",
              "[121] \"hola\"   \"soy\"    \"miguel\" \"hola\"   \"soy\"    \"miguel\" \"hola\"   \"soy\"   \n",
              "[129] \"miguel\" \"hola\"   \"soy\"    \"miguel\" \"hola\"   \"soy\"    \"miguel\" \"hola\"  \n",
              "[137] \"soy\"    \"miguel\" \"hola\"   \"soy\"    \"miguel\" \"hola\"   \"soy\"    \"miguel\"\n",
              "[145] \"hola\"   \"soy\"    \"miguel\" \"hola\"   \"soy\"    \"miguel\" \"hola\"   \"soy\"   \n",
              "[153] \"miguel\" \"hola\"   \"soy\"    \"miguel\" \"hola\"   \"soy\"    \"miguel\" \"hola\"  \n",
              "[161] \"soy\"    \"miguel\" \"hola\"   \"soy\"    \"miguel\" \"hola\"   \"soy\"    \"miguel\"\n",
              "[169] \"hola\"   \"soy\"    \"miguel\" \"hola\"   \"soy\"    \"miguel\" \"hola\"   \"soy\"   \n",
              "[177] \"miguel\" \"hola\"   \"soy\"    \"miguel\" \"hola\"   \"soy\"    \"miguel\" \"hola\"  \n",
              "[185] \"soy\"    \"miguel\" \"hola\"   \"soy\"    \"miguel\" \"hola\"   \"soy\"    \"miguel\"\n",
              "[193] \"hola\"   \"soy\"    \"miguel\" \"hola\"   \"soy\"    \"miguel\" \"hola\"   \"soy\"   \n",
              "[201] \"miguel\" \"hola\"   \"soy\"    \"miguel\" \"hola\"   \"soy\"    \"miguel\" \"hola\"  \n",
              "[209] \"soy\"    \"miguel\" \"hola\"   \"soy\"    \"miguel\" \"hola\"   \"soy\"    \"miguel\"\n",
              "[217] \"hola\"   \"soy\"    \"miguel\" \"hola\"   \"soy\"    \"miguel\" \"hola\"   \"soy\"   \n",
              "[225] \"miguel\" \"hola\"   \"soy\"    \"miguel\" \"hola\"   \"soy\"    \"miguel\" \"hola\"  \n",
              "[233] \"soy\"    \"miguel\" \"hola\"   \"soy\"    \"miguel\" \"hola\"   \"soy\"    \"miguel\"\n",
              "[241] \"hola\"   \"soy\"    \"miguel\" \"hola\"   \"soy\"    \"miguel\" \"hola\"   \"soy\"   \n",
              "[249] \"miguel\" \"hola\"   \"soy\"    \"miguel\" \"hola\"   \"soy\"    \"miguel\" \"hola\"  \n",
              "[257] \"soy\"    \"miguel\" \"hola\"   \"soy\"    \"miguel\" \"hola\"   \"soy\"    \"miguel\"\n",
              "[265] \"hola\"   \"soy\"    \"miguel\" \"hola\"   \"soy\"    \"miguel\" \"hola\"   \"soy\"   \n",
              "[273] \"miguel\" \"hola\"   \"soy\"    \"miguel\" \"hola\"   \"soy\"    \"miguel\" \"hola\"  \n",
              "[281] \"soy\"    \"miguel\" \"hola\"   \"soy\"    \"miguel\" \"hola\"   \"soy\"    \"miguel\"\n",
              "[289] \"hola\"   \"soy\"    \"miguel\" \"hola\"   \"soy\"    \"miguel\" \"hola\"   \"soy\"   \n",
              "[297] \"miguel\" \"hola\"   \"soy\"    \"miguel\""
            ],
            "text/latex": "\\begin{enumerate*}\n\\item 'hola'\n\\item 'soy'\n\\item 'miguel'\n\\item 'hola'\n\\item 'soy'\n\\item 'miguel'\n\\item 'hola'\n\\item 'soy'\n\\item 'miguel'\n\\item 'hola'\n\\item 'soy'\n\\item 'miguel'\n\\item 'hola'\n\\item 'soy'\n\\item 'miguel'\n\\item 'hola'\n\\item 'soy'\n\\item 'miguel'\n\\item 'hola'\n\\item 'soy'\n\\item 'miguel'\n\\item 'hola'\n\\item 'soy'\n\\item 'miguel'\n\\item 'hola'\n\\item 'soy'\n\\item 'miguel'\n\\item 'hola'\n\\item 'soy'\n\\item 'miguel'\n\\item 'hola'\n\\item 'soy'\n\\item 'miguel'\n\\item 'hola'\n\\item 'soy'\n\\item 'miguel'\n\\item 'hola'\n\\item 'soy'\n\\item 'miguel'\n\\item 'hola'\n\\item 'soy'\n\\item 'miguel'\n\\item 'hola'\n\\item 'soy'\n\\item 'miguel'\n\\item 'hola'\n\\item 'soy'\n\\item 'miguel'\n\\item 'hola'\n\\item 'soy'\n\\item 'miguel'\n\\item 'hola'\n\\item 'soy'\n\\item 'miguel'\n\\item 'hola'\n\\item 'soy'\n\\item 'miguel'\n\\item 'hola'\n\\item 'soy'\n\\item 'miguel'\n\\item 'hola'\n\\item 'soy'\n\\item 'miguel'\n\\item 'hola'\n\\item 'soy'\n\\item 'miguel'\n\\item 'hola'\n\\item 'soy'\n\\item 'miguel'\n\\item 'hola'\n\\item 'soy'\n\\item 'miguel'\n\\item 'hola'\n\\item 'soy'\n\\item 'miguel'\n\\item 'hola'\n\\item 'soy'\n\\item 'miguel'\n\\item 'hola'\n\\item 'soy'\n\\item 'miguel'\n\\item 'hola'\n\\item 'soy'\n\\item 'miguel'\n\\item 'hola'\n\\item 'soy'\n\\item 'miguel'\n\\item 'hola'\n\\item 'soy'\n\\item 'miguel'\n\\item 'hola'\n\\item 'soy'\n\\item 'miguel'\n\\item 'hola'\n\\item 'soy'\n\\item 'miguel'\n\\item 'hola'\n\\item 'soy'\n\\item 'miguel'\n\\item 'hola'\n\\item 'soy'\n\\item 'miguel'\n\\item 'hola'\n\\item 'soy'\n\\item 'miguel'\n\\item 'hola'\n\\item 'soy'\n\\item 'miguel'\n\\item 'hola'\n\\item 'soy'\n\\item 'miguel'\n\\item 'hola'\n\\item 'soy'\n\\item 'miguel'\n\\item 'hola'\n\\item 'soy'\n\\item 'miguel'\n\\item 'hola'\n\\item 'soy'\n\\item 'miguel'\n\\item 'hola'\n\\item 'soy'\n\\item 'miguel'\n\\item 'hola'\n\\item 'soy'\n\\item 'miguel'\n\\item 'hola'\n\\item 'soy'\n\\item 'miguel'\n\\item 'hola'\n\\item 'soy'\n\\item 'miguel'\n\\item 'hola'\n\\item 'soy'\n\\item 'miguel'\n\\item 'hola'\n\\item 'soy'\n\\item 'miguel'\n\\item 'hola'\n\\item 'soy'\n\\item 'miguel'\n\\item 'hola'\n\\item 'soy'\n\\item 'miguel'\n\\item 'hola'\n\\item 'soy'\n\\item 'miguel'\n\\item 'hola'\n\\item 'soy'\n\\item 'miguel'\n\\item 'hola'\n\\item 'soy'\n\\item 'miguel'\n\\item 'hola'\n\\item 'soy'\n\\item 'miguel'\n\\item 'hola'\n\\item 'soy'\n\\item 'miguel'\n\\item 'hola'\n\\item 'soy'\n\\item 'miguel'\n\\item 'hola'\n\\item 'soy'\n\\item 'miguel'\n\\item 'hola'\n\\item 'soy'\n\\item 'miguel'\n\\item 'hola'\n\\item 'soy'\n\\item 'miguel'\n\\item 'hola'\n\\item 'soy'\n\\item 'miguel'\n\\item 'hola'\n\\item 'soy'\n\\item 'miguel'\n\\item 'hola'\n\\item 'soy'\n\\item 'miguel'\n\\item 'hola'\n\\item 'soy'\n\\item 'miguel'\n\\item 'hola'\n\\item 'soy'\n\\item 'miguel'\n\\item 'hola'\n\\item 'soy'\n\\item 'miguel'\n\\item 'hola'\n\\item 'soy'\n\\item 'miguel'\n\\item 'hola'\n\\item 'soy'\n\\item 'miguel'\n\\item 'hola'\n\\item 'soy'\n\\item 'miguel'\n\\item 'hola'\n\\item 'soy'\n\\item 'miguel'\n\\item 'hola'\n\\item 'soy'\n\\item 'miguel'\n\\item 'hola'\n\\item 'soy'\n\\item 'miguel'\n\\item 'hola'\n\\item 'soy'\n\\item 'miguel'\n\\item 'hola'\n\\item 'soy'\n\\item 'miguel'\n\\item 'hola'\n\\item 'soy'\n\\item 'miguel'\n\\item 'hola'\n\\item 'soy'\n\\item 'miguel'\n\\item 'hola'\n\\item 'soy'\n\\item 'miguel'\n\\item 'hola'\n\\item 'soy'\n\\item 'miguel'\n\\item 'hola'\n\\item 'soy'\n\\item 'miguel'\n\\item 'hola'\n\\item 'soy'\n\\item 'miguel'\n\\item 'hola'\n\\item 'soy'\n\\item 'miguel'\n\\item 'hola'\n\\item 'soy'\n\\item 'miguel'\n\\item 'hola'\n\\item 'soy'\n\\item 'miguel'\n\\item 'hola'\n\\item 'soy'\n\\item 'miguel'\n\\item 'hola'\n\\item 'soy'\n\\item 'miguel'\n\\item 'hola'\n\\item 'soy'\n\\item 'miguel'\n\\item 'hola'\n\\item 'soy'\n\\item 'miguel'\n\\item 'hola'\n\\item 'soy'\n\\item 'miguel'\n\\item 'hola'\n\\item 'soy'\n\\item 'miguel'\n\\item 'hola'\n\\item 'soy'\n\\item 'miguel'\n\\item 'hola'\n\\item 'soy'\n\\item 'miguel'\n\\item 'hola'\n\\item 'soy'\n\\item 'miguel'\n\\item 'hola'\n\\item 'soy'\n\\item 'miguel'\n\\item 'hola'\n\\item 'soy'\n\\item 'miguel'\n\\item 'hola'\n\\item 'soy'\n\\item 'miguel'\n\\item 'hola'\n\\item 'soy'\n\\item 'miguel'\n\\item 'hola'\n\\item 'soy'\n\\item 'miguel'\n\\item 'hola'\n\\item 'soy'\n\\item 'miguel'\n\\item 'hola'\n\\item 'soy'\n\\item 'miguel'\n\\item 'hola'\n\\item 'soy'\n\\item 'miguel'\n\\item 'hola'\n\\item 'soy'\n\\item 'miguel'\n\\item 'hola'\n\\item 'soy'\n\\item 'miguel'\n\\item 'hola'\n\\item 'soy'\n\\item 'miguel'\n\\end{enumerate*}\n",
            "text/markdown": "1. 'hola'\n2. 'soy'\n3. 'miguel'\n4. 'hola'\n5. 'soy'\n6. 'miguel'\n7. 'hola'\n8. 'soy'\n9. 'miguel'\n10. 'hola'\n11. 'soy'\n12. 'miguel'\n13. 'hola'\n14. 'soy'\n15. 'miguel'\n16. 'hola'\n17. 'soy'\n18. 'miguel'\n19. 'hola'\n20. 'soy'\n21. 'miguel'\n22. 'hola'\n23. 'soy'\n24. 'miguel'\n25. 'hola'\n26. 'soy'\n27. 'miguel'\n28. 'hola'\n29. 'soy'\n30. 'miguel'\n31. 'hola'\n32. 'soy'\n33. 'miguel'\n34. 'hola'\n35. 'soy'\n36. 'miguel'\n37. 'hola'\n38. 'soy'\n39. 'miguel'\n40. 'hola'\n41. 'soy'\n42. 'miguel'\n43. 'hola'\n44. 'soy'\n45. 'miguel'\n46. 'hola'\n47. 'soy'\n48. 'miguel'\n49. 'hola'\n50. 'soy'\n51. 'miguel'\n52. 'hola'\n53. 'soy'\n54. 'miguel'\n55. 'hola'\n56. 'soy'\n57. 'miguel'\n58. 'hola'\n59. 'soy'\n60. 'miguel'\n61. 'hola'\n62. 'soy'\n63. 'miguel'\n64. 'hola'\n65. 'soy'\n66. 'miguel'\n67. 'hola'\n68. 'soy'\n69. 'miguel'\n70. 'hola'\n71. 'soy'\n72. 'miguel'\n73. 'hola'\n74. 'soy'\n75. 'miguel'\n76. 'hola'\n77. 'soy'\n78. 'miguel'\n79. 'hola'\n80. 'soy'\n81. 'miguel'\n82. 'hola'\n83. 'soy'\n84. 'miguel'\n85. 'hola'\n86. 'soy'\n87. 'miguel'\n88. 'hola'\n89. 'soy'\n90. 'miguel'\n91. 'hola'\n92. 'soy'\n93. 'miguel'\n94. 'hola'\n95. 'soy'\n96. 'miguel'\n97. 'hola'\n98. 'soy'\n99. 'miguel'\n100. 'hola'\n101. 'soy'\n102. 'miguel'\n103. 'hola'\n104. 'soy'\n105. 'miguel'\n106. 'hola'\n107. 'soy'\n108. 'miguel'\n109. 'hola'\n110. 'soy'\n111. 'miguel'\n112. 'hola'\n113. 'soy'\n114. 'miguel'\n115. 'hola'\n116. 'soy'\n117. 'miguel'\n118. 'hola'\n119. 'soy'\n120. 'miguel'\n121. 'hola'\n122. 'soy'\n123. 'miguel'\n124. 'hola'\n125. 'soy'\n126. 'miguel'\n127. 'hola'\n128. 'soy'\n129. 'miguel'\n130. 'hola'\n131. 'soy'\n132. 'miguel'\n133. 'hola'\n134. 'soy'\n135. 'miguel'\n136. 'hola'\n137. 'soy'\n138. 'miguel'\n139. 'hola'\n140. 'soy'\n141. 'miguel'\n142. 'hola'\n143. 'soy'\n144. 'miguel'\n145. 'hola'\n146. 'soy'\n147. 'miguel'\n148. 'hola'\n149. 'soy'\n150. 'miguel'\n151. 'hola'\n152. 'soy'\n153. 'miguel'\n154. 'hola'\n155. 'soy'\n156. 'miguel'\n157. 'hola'\n158. 'soy'\n159. 'miguel'\n160. 'hola'\n161. 'soy'\n162. 'miguel'\n163. 'hola'\n164. 'soy'\n165. 'miguel'\n166. 'hola'\n167. 'soy'\n168. 'miguel'\n169. 'hola'\n170. 'soy'\n171. 'miguel'\n172. 'hola'\n173. 'soy'\n174. 'miguel'\n175. 'hola'\n176. 'soy'\n177. 'miguel'\n178. 'hola'\n179. 'soy'\n180. 'miguel'\n181. 'hola'\n182. 'soy'\n183. 'miguel'\n184. 'hola'\n185. 'soy'\n186. 'miguel'\n187. 'hola'\n188. 'soy'\n189. 'miguel'\n190. 'hola'\n191. 'soy'\n192. 'miguel'\n193. 'hola'\n194. 'soy'\n195. 'miguel'\n196. 'hola'\n197. 'soy'\n198. 'miguel'\n199. 'hola'\n200. 'soy'\n201. 'miguel'\n202. 'hola'\n203. 'soy'\n204. 'miguel'\n205. 'hola'\n206. 'soy'\n207. 'miguel'\n208. 'hola'\n209. 'soy'\n210. 'miguel'\n211. 'hola'\n212. 'soy'\n213. 'miguel'\n214. 'hola'\n215. 'soy'\n216. 'miguel'\n217. 'hola'\n218. 'soy'\n219. 'miguel'\n220. 'hola'\n221. 'soy'\n222. 'miguel'\n223. 'hola'\n224. 'soy'\n225. 'miguel'\n226. 'hola'\n227. 'soy'\n228. 'miguel'\n229. 'hola'\n230. 'soy'\n231. 'miguel'\n232. 'hola'\n233. 'soy'\n234. 'miguel'\n235. 'hola'\n236. 'soy'\n237. 'miguel'\n238. 'hola'\n239. 'soy'\n240. 'miguel'\n241. 'hola'\n242. 'soy'\n243. 'miguel'\n244. 'hola'\n245. 'soy'\n246. 'miguel'\n247. 'hola'\n248. 'soy'\n249. 'miguel'\n250. 'hola'\n251. 'soy'\n252. 'miguel'\n253. 'hola'\n254. 'soy'\n255. 'miguel'\n256. 'hola'\n257. 'soy'\n258. 'miguel'\n259. 'hola'\n260. 'soy'\n261. 'miguel'\n262. 'hola'\n263. 'soy'\n264. 'miguel'\n265. 'hola'\n266. 'soy'\n267. 'miguel'\n268. 'hola'\n269. 'soy'\n270. 'miguel'\n271. 'hola'\n272. 'soy'\n273. 'miguel'\n274. 'hola'\n275. 'soy'\n276. 'miguel'\n277. 'hola'\n278. 'soy'\n279. 'miguel'\n280. 'hola'\n281. 'soy'\n282. 'miguel'\n283. 'hola'\n284. 'soy'\n285. 'miguel'\n286. 'hola'\n287. 'soy'\n288. 'miguel'\n289. 'hola'\n290. 'soy'\n291. 'miguel'\n292. 'hola'\n293. 'soy'\n294. 'miguel'\n295. 'hola'\n296. 'soy'\n297. 'miguel'\n298. 'hola'\n299. 'soy'\n300. 'miguel'\n\n\n",
            "text/html": [
              "<style>\n",
              ".list-inline {list-style: none; margin:0; padding: 0}\n",
              ".list-inline>li {display: inline-block}\n",
              ".list-inline>li:not(:last-child)::after {content: \"\\00b7\"; padding: 0 .5ex}\n",
              "</style>\n",
              "<ol class=list-inline><li>'hola'</li><li>'soy'</li><li>'miguel'</li><li>'hola'</li><li>'soy'</li><li>'miguel'</li><li>'hola'</li><li>'soy'</li><li>'miguel'</li><li>'hola'</li><li>'soy'</li><li>'miguel'</li><li>'hola'</li><li>'soy'</li><li>'miguel'</li><li>'hola'</li><li>'soy'</li><li>'miguel'</li><li>'hola'</li><li>'soy'</li><li>'miguel'</li><li>'hola'</li><li>'soy'</li><li>'miguel'</li><li>'hola'</li><li>'soy'</li><li>'miguel'</li><li>'hola'</li><li>'soy'</li><li>'miguel'</li><li>'hola'</li><li>'soy'</li><li>'miguel'</li><li>'hola'</li><li>'soy'</li><li>'miguel'</li><li>'hola'</li><li>'soy'</li><li>'miguel'</li><li>'hola'</li><li>'soy'</li><li>'miguel'</li><li>'hola'</li><li>'soy'</li><li>'miguel'</li><li>'hola'</li><li>'soy'</li><li>'miguel'</li><li>'hola'</li><li>'soy'</li><li>'miguel'</li><li>'hola'</li><li>'soy'</li><li>'miguel'</li><li>'hola'</li><li>'soy'</li><li>'miguel'</li><li>'hola'</li><li>'soy'</li><li>'miguel'</li><li>'hola'</li><li>'soy'</li><li>'miguel'</li><li>'hola'</li><li>'soy'</li><li>'miguel'</li><li>'hola'</li><li>'soy'</li><li>'miguel'</li><li>'hola'</li><li>'soy'</li><li>'miguel'</li><li>'hola'</li><li>'soy'</li><li>'miguel'</li><li>'hola'</li><li>'soy'</li><li>'miguel'</li><li>'hola'</li><li>'soy'</li><li>'miguel'</li><li>'hola'</li><li>'soy'</li><li>'miguel'</li><li>'hola'</li><li>'soy'</li><li>'miguel'</li><li>'hola'</li><li>'soy'</li><li>'miguel'</li><li>'hola'</li><li>'soy'</li><li>'miguel'</li><li>'hola'</li><li>'soy'</li><li>'miguel'</li><li>'hola'</li><li>'soy'</li><li>'miguel'</li><li>'hola'</li><li>'soy'</li><li>'miguel'</li><li>'hola'</li><li>'soy'</li><li>'miguel'</li><li>'hola'</li><li>'soy'</li><li>'miguel'</li><li>'hola'</li><li>'soy'</li><li>'miguel'</li><li>'hola'</li><li>'soy'</li><li>'miguel'</li><li>'hola'</li><li>'soy'</li><li>'miguel'</li><li>'hola'</li><li>'soy'</li><li>'miguel'</li><li>'hola'</li><li>'soy'</li><li>'miguel'</li><li>'hola'</li><li>'soy'</li><li>'miguel'</li><li>'hola'</li><li>'soy'</li><li>'miguel'</li><li>'hola'</li><li>'soy'</li><li>'miguel'</li><li>'hola'</li><li>'soy'</li><li>'miguel'</li><li>'hola'</li><li>'soy'</li><li>'miguel'</li><li>'hola'</li><li>'soy'</li><li>'miguel'</li><li>'hola'</li><li>'soy'</li><li>'miguel'</li><li>'hola'</li><li>'soy'</li><li>'miguel'</li><li>'hola'</li><li>'soy'</li><li>'miguel'</li><li>'hola'</li><li>'soy'</li><li>'miguel'</li><li>'hola'</li><li>'soy'</li><li>'miguel'</li><li>'hola'</li><li>'soy'</li><li>'miguel'</li><li>'hola'</li><li>'soy'</li><li>'miguel'</li><li>'hola'</li><li>'soy'</li><li>'miguel'</li><li>'hola'</li><li>'soy'</li><li>'miguel'</li><li>'hola'</li><li>'soy'</li><li>'miguel'</li><li>'hola'</li><li>'soy'</li><li>'miguel'</li><li>'hola'</li><li>'soy'</li><li>'miguel'</li><li>'hola'</li><li>'soy'</li><li>'miguel'</li><li>'hola'</li><li>'soy'</li><li>'miguel'</li><li>'hola'</li><li>'soy'</li><li>'miguel'</li><li>'hola'</li><li>'soy'</li><li>'miguel'</li><li>'hola'</li><li>'soy'</li><li>'miguel'</li><li>'hola'</li><li>'soy'</li><li>'miguel'</li><li>'hola'</li><li>'soy'</li><li>'miguel'</li><li>'hola'</li><li>'soy'</li><li>'miguel'</li><li>'hola'</li><li>'soy'</li><li>'miguel'</li><li>'hola'</li><li>'soy'</li><li>'miguel'</li><li>'hola'</li><li>'soy'</li><li>'miguel'</li><li>'hola'</li><li>'soy'</li><li>'miguel'</li><li>'hola'</li><li>'soy'</li><li>'miguel'</li><li>'hola'</li><li>'soy'</li><li>'miguel'</li><li>'hola'</li><li>'soy'</li><li>'miguel'</li><li>'hola'</li><li>'soy'</li><li>'miguel'</li><li>'hola'</li><li>'soy'</li><li>'miguel'</li><li>'hola'</li><li>'soy'</li><li>'miguel'</li><li>'hola'</li><li>'soy'</li><li>'miguel'</li><li>'hola'</li><li>'soy'</li><li>'miguel'</li><li>'hola'</li><li>'soy'</li><li>'miguel'</li><li>'hola'</li><li>'soy'</li><li>'miguel'</li><li>'hola'</li><li>'soy'</li><li>'miguel'</li><li>'hola'</li><li>'soy'</li><li>'miguel'</li><li>'hola'</li><li>'soy'</li><li>'miguel'</li><li>'hola'</li><li>'soy'</li><li>'miguel'</li><li>'hola'</li><li>'soy'</li><li>'miguel'</li><li>'hola'</li><li>'soy'</li><li>'miguel'</li><li>'hola'</li><li>'soy'</li><li>'miguel'</li><li>'hola'</li><li>'soy'</li><li>'miguel'</li><li>'hola'</li><li>'soy'</li><li>'miguel'</li><li>'hola'</li><li>'soy'</li><li>'miguel'</li><li>'hola'</li><li>'soy'</li><li>'miguel'</li><li>'hola'</li><li>'soy'</li><li>'miguel'</li><li>'hola'</li><li>'soy'</li><li>'miguel'</li><li>'hola'</li><li>'soy'</li><li>'miguel'</li><li>'hola'</li><li>'soy'</li><li>'miguel'</li><li>'hola'</li><li>'soy'</li><li>'miguel'</li><li>'hola'</li><li>'soy'</li><li>'miguel'</li><li>'hola'</li><li>'soy'</li><li>'miguel'</li><li>'hola'</li><li>'soy'</li><li>'miguel'</li></ol>\n"
            ]
          },
          "metadata": {
            "tags": []
          }
        }
      ]
    },
    {
      "cell_type": "code",
      "metadata": {
        "id": "PpEgoWDXIgwI",
        "outputId": "f9577af2-fe6f-445c-9bfb-c4e142c4980f",
        "colab": {
          "base_uri": "https://localhost:8080/",
          "height": 67
        }
      },
      "source": [
        "# podemos controlar el largo del vector resultante con el parámetro length.out\n",
        "replica <- rep(c(1,2,3,4),length.out = 105)\n",
        "replica"
      ],
      "execution_count": null,
      "outputs": [
        {
          "output_type": "display_data",
          "data": {
            "text/plain": [
              "  [1] 1 2 3 4 1 2 3 4 1 2 3 4 1 2 3 4 1 2 3 4 1 2 3 4 1 2 3 4 1 2 3 4 1 2 3 4 1\n",
              " [38] 2 3 4 1 2 3 4 1 2 3 4 1 2 3 4 1 2 3 4 1 2 3 4 1 2 3 4 1 2 3 4 1 2 3 4 1 2\n",
              " [75] 3 4 1 2 3 4 1 2 3 4 1 2 3 4 1 2 3 4 1 2 3 4 1 2 3 4 1 2 3 4 1"
            ],
            "text/latex": "\\begin{enumerate*}\n\\item 1\n\\item 2\n\\item 3\n\\item 4\n\\item 1\n\\item 2\n\\item 3\n\\item 4\n\\item 1\n\\item 2\n\\item 3\n\\item 4\n\\item 1\n\\item 2\n\\item 3\n\\item 4\n\\item 1\n\\item 2\n\\item 3\n\\item 4\n\\item 1\n\\item 2\n\\item 3\n\\item 4\n\\item 1\n\\item 2\n\\item 3\n\\item 4\n\\item 1\n\\item 2\n\\item 3\n\\item 4\n\\item 1\n\\item 2\n\\item 3\n\\item 4\n\\item 1\n\\item 2\n\\item 3\n\\item 4\n\\item 1\n\\item 2\n\\item 3\n\\item 4\n\\item 1\n\\item 2\n\\item 3\n\\item 4\n\\item 1\n\\item 2\n\\item 3\n\\item 4\n\\item 1\n\\item 2\n\\item 3\n\\item 4\n\\item 1\n\\item 2\n\\item 3\n\\item 4\n\\item 1\n\\item 2\n\\item 3\n\\item 4\n\\item 1\n\\item 2\n\\item 3\n\\item 4\n\\item 1\n\\item 2\n\\item 3\n\\item 4\n\\item 1\n\\item 2\n\\item 3\n\\item 4\n\\item 1\n\\item 2\n\\item 3\n\\item 4\n\\item 1\n\\item 2\n\\item 3\n\\item 4\n\\item 1\n\\item 2\n\\item 3\n\\item 4\n\\item 1\n\\item 2\n\\item 3\n\\item 4\n\\item 1\n\\item 2\n\\item 3\n\\item 4\n\\item 1\n\\item 2\n\\item 3\n\\item 4\n\\item 1\n\\item 2\n\\item 3\n\\item 4\n\\item 1\n\\end{enumerate*}\n",
            "text/markdown": "1. 1\n2. 2\n3. 3\n4. 4\n5. 1\n6. 2\n7. 3\n8. 4\n9. 1\n10. 2\n11. 3\n12. 4\n13. 1\n14. 2\n15. 3\n16. 4\n17. 1\n18. 2\n19. 3\n20. 4\n21. 1\n22. 2\n23. 3\n24. 4\n25. 1\n26. 2\n27. 3\n28. 4\n29. 1\n30. 2\n31. 3\n32. 4\n33. 1\n34. 2\n35. 3\n36. 4\n37. 1\n38. 2\n39. 3\n40. 4\n41. 1\n42. 2\n43. 3\n44. 4\n45. 1\n46. 2\n47. 3\n48. 4\n49. 1\n50. 2\n51. 3\n52. 4\n53. 1\n54. 2\n55. 3\n56. 4\n57. 1\n58. 2\n59. 3\n60. 4\n61. 1\n62. 2\n63. 3\n64. 4\n65. 1\n66. 2\n67. 3\n68. 4\n69. 1\n70. 2\n71. 3\n72. 4\n73. 1\n74. 2\n75. 3\n76. 4\n77. 1\n78. 2\n79. 3\n80. 4\n81. 1\n82. 2\n83. 3\n84. 4\n85. 1\n86. 2\n87. 3\n88. 4\n89. 1\n90. 2\n91. 3\n92. 4\n93. 1\n94. 2\n95. 3\n96. 4\n97. 1\n98. 2\n99. 3\n100. 4\n101. 1\n102. 2\n103. 3\n104. 4\n105. 1\n\n\n",
            "text/html": [
              "<style>\n",
              ".list-inline {list-style: none; margin:0; padding: 0}\n",
              ".list-inline>li {display: inline-block}\n",
              ".list-inline>li:not(:last-child)::after {content: \"\\00b7\"; padding: 0 .5ex}\n",
              "</style>\n",
              "<ol class=list-inline><li>1</li><li>2</li><li>3</li><li>4</li><li>1</li><li>2</li><li>3</li><li>4</li><li>1</li><li>2</li><li>3</li><li>4</li><li>1</li><li>2</li><li>3</li><li>4</li><li>1</li><li>2</li><li>3</li><li>4</li><li>1</li><li>2</li><li>3</li><li>4</li><li>1</li><li>2</li><li>3</li><li>4</li><li>1</li><li>2</li><li>3</li><li>4</li><li>1</li><li>2</li><li>3</li><li>4</li><li>1</li><li>2</li><li>3</li><li>4</li><li>1</li><li>2</li><li>3</li><li>4</li><li>1</li><li>2</li><li>3</li><li>4</li><li>1</li><li>2</li><li>3</li><li>4</li><li>1</li><li>2</li><li>3</li><li>4</li><li>1</li><li>2</li><li>3</li><li>4</li><li>1</li><li>2</li><li>3</li><li>4</li><li>1</li><li>2</li><li>3</li><li>4</li><li>1</li><li>2</li><li>3</li><li>4</li><li>1</li><li>2</li><li>3</li><li>4</li><li>1</li><li>2</li><li>3</li><li>4</li><li>1</li><li>2</li><li>3</li><li>4</li><li>1</li><li>2</li><li>3</li><li>4</li><li>1</li><li>2</li><li>3</li><li>4</li><li>1</li><li>2</li><li>3</li><li>4</li><li>1</li><li>2</li><li>3</li><li>4</li><li>1</li><li>2</li><li>3</li><li>4</li><li>1</li></ol>\n"
            ]
          },
          "metadata": {
            "tags": []
          }
        }
      ]
    },
    {
      "cell_type": "code",
      "metadata": {
        "id": "tc853AQ8wYsr",
        "outputId": "6c285466-5a46-41c1-f106-79e6b8b0c1d3",
        "colab": {
          "base_uri": "https://localhost:8080/",
          "height": 34
        }
      },
      "source": [
        "length(replica)"
      ],
      "execution_count": null,
      "outputs": [
        {
          "output_type": "display_data",
          "data": {
            "text/plain": [
              "[1] 105"
            ],
            "text/latex": "105",
            "text/markdown": "105",
            "text/html": [
              "105"
            ]
          },
          "metadata": {
            "tags": []
          }
        }
      ]
    },
    {
      "cell_type": "code",
      "metadata": {
        "id": "gGkgGylnIgwK"
      },
      "source": [
        "# ejemplo de función seq (utilice argumento by, y otro ejemplo con argumento length.out)\n",
        "seq(from = 1, to = 10) # 1:10\n",
        "seq(1,10,by = 2)\n",
        "seq(1,10, by = 0.01)\n",
        "seq(1,10, length.out = 1000)"
      ],
      "execution_count": null,
      "outputs": []
    },
    {
      "cell_type": "code",
      "metadata": {
        "id": "psRswQHBIgwO"
      },
      "source": [
        "# ejemplo de vector aleatorio siguiendo una determinada distribución\n",
        "\n",
        "# distribución uniforme\n",
        "ru <- runif(1000, 2,5)\n",
        "\n",
        "# distribución normal\n",
        "rn <- rnorm(1000, mean = 5, sd = 1)\n",
        "\n",
        "\n",
        "\n",
        "\n"
      ],
      "execution_count": null,
      "outputs": []
    },
    {
      "cell_type": "code",
      "metadata": {
        "id": "BT59ZdoZxiXt",
        "outputId": "b90e2ef1-4720-498c-8ebe-a755db54ccdf",
        "colab": {
          "base_uri": "https://localhost:8080/",
          "height": 857
        }
      },
      "source": [
        "hist(ru)\n",
        "hist(rn)"
      ],
      "execution_count": null,
      "outputs": [
        {
          "output_type": "display_data",
          "data": {
            "image/png": "[encoded data removed]",
            "text/plain": [
              "Plot with title “Histogram of ru”"
            ]
          },
          "metadata": {
            "tags": [],
            "image/png": {
              "width": 420,
              "height": 420
            }
          }
        },
        {
          "output_type": "display_data",
          "data": {
            "image/png": "[encoded data removed]",
            "text/plain": [
              "Plot with title “Histogram of rn”"
            ]
          },
          "metadata": {
            "tags": [],
            "image/png": {
              "width": 420,
              "height": 420
            }
          }
        }
      ]
    },
    {
      "cell_type": "markdown",
      "metadata": {
        "id": "TlnEINwUIgwP"
      },
      "source": [
        "### 3.2 Funciones (primera parte) \n",
        "\n",
        "#### 3.2.1 Funciones vectorizadas y operaciones con vectores\n",
        "\n",
        "R es un lenguaje funcional, en el sentido de que prácticamente cada llamada a R corresponde a una función que puede (o no) recibir argumentos de entrada.\n",
        "Una de las ventajas es que existe una amplia, muy amplia,... verdaderamente amplia!, variedad de funciones disponibles, tanto en las librerías que vienen con la instalación por defecto como las librerías disponibles en CRAN o en toda la comunidad R.\n",
        "\n",
        "En R, una función $f$ se dice vectorizada si dado un vector $\\mathbf{x}=(x_1,x_2,\\dots,x_n)$, se tiene que $f(\\mathbf{x})=(f(x_1),f(x_2),\\dots,f(x_n))$.\n",
        "Esto hace que, por ejemplo, la aritmética de vectores se más sencilla de implentar y con un menor tiempo de cómputo . Gran parte de las funciones disponibles en la librerías (bibliotecas o *packages*) de R corresponden a funciones vectorizadas.\n",
        "A modo de ejemplo, a cotinuación se muestran algunas funciones (de las más básicas) aritméticas, y funciones para trabajar con texto:\n",
        "    \n",
        "    +,-,*,/\n",
        "    abs()\n",
        "    sqrt()\n",
        "    cos()\n",
        "    sin()\n",
        "    tan()\n",
        "    nchar()\n",
        "    susbtr()\n",
        "    grepl()\n",
        "    gsub()\n",
        "    \n",
        "   \n",
        "   \n",
        "   "
      ]
    },
    {
      "cell_type": "code",
      "metadata": {
        "id": "tO3oB1bnIgwP"
      },
      "source": [
        "# 3.2. Funciones (primera parte) ------------\n",
        "# 3.2.1 Funciones vectorizadas \n",
        "\n",
        "pal <- c(\"hola\", \"como están\", \"hoy\",\"día\")"
      ],
      "execution_count": 2,
      "outputs": []
    },
    {
      "cell_type": "code",
      "metadata": {
        "id": "Z8L-KeGnIgwS"
      },
      "source": [
        ""
      ],
      "execution_count": null,
      "outputs": []
    },
    {
      "cell_type": "code",
      "metadata": {
        "id": "NivskO3jIgwT",
        "outputId": "af322495-54af-4c19-a326-db7f98e7fcd9",
        "colab": {
          "base_uri": "https://localhost:8080/",
          "height": 35
        }
      },
      "source": [
        "# funciones para manipular texto\n",
        " #cantidad de caracteres\n",
        "\n",
        "nchar(pal)\n"
      ],
      "execution_count": 3,
      "outputs": [
        {
          "output_type": "display_data",
          "data": {
            "text/plain": [
              "[1]  4 10  3  3"
            ],
            "text/latex": "\\begin{enumerate*}\n\\item 4\n\\item 10\n\\item 3\n\\item 3\n\\end{enumerate*}\n",
            "text/markdown": "1. 4\n2. 10\n3. 3\n4. 3\n\n\n",
            "text/html": [
              "<style>\n",
              ".list-inline {list-style: none; margin:0; padding: 0}\n",
              ".list-inline>li {display: inline-block}\n",
              ".list-inline>li:not(:last-child)::after {content: \"\\00b7\"; padding: 0 .5ex}\n",
              "</style>\n",
              "<ol class=list-inline><li>4</li><li>10</li><li>3</li><li>3</li></ol>\n"
            ]
          },
          "metadata": {
            "tags": []
          }
        }
      ]
    },
    {
      "cell_type": "code",
      "metadata": {
        "id": "VXLYslqCKkFt"
      },
      "source": [
        "?substr"
      ],
      "execution_count": 5,
      "outputs": []
    },
    {
      "cell_type": "code",
      "metadata": {
        "id": "tA55foL1IgwX",
        "outputId": "611d5c78-a6e4-40fe-8d56-774409d7baf4",
        "colab": {
          "base_uri": "https://localhost:8080/",
          "height": 52
        }
      },
      "source": [
        "# substring substr()\n",
        "substr(\"mañana\",3,4)\n",
        "# En en R se pueden explicitar los parámetros de una función\n",
        "\n",
        "substr(x = \"mañana\",start = 3, stop = 4)\n",
        "\n",
        "\n"
      ],
      "execution_count": 6,
      "outputs": [
        {
          "output_type": "display_data",
          "data": {
            "text/plain": [
              "[1] \"ña\""
            ],
            "text/latex": "'ña'",
            "text/markdown": "'ña'",
            "text/html": [
              "'ña'"
            ]
          },
          "metadata": {
            "tags": []
          }
        },
        {
          "output_type": "display_data",
          "data": {
            "text/plain": [
              "[1] \"ña\""
            ],
            "text/latex": "'ña'",
            "text/markdown": "'ña'",
            "text/html": [
              "'ña'"
            ]
          },
          "metadata": {
            "tags": []
          }
        }
      ]
    },
    {
      "cell_type": "code",
      "metadata": {
        "id": "vjRwdUbiIgwY",
        "outputId": "aec0f69d-e819-46cd-c27e-92dc17ce9827",
        "colab": {
          "base_uri": "https://localhost:8080/",
          "height": 69
        }
      },
      "source": [
        "# grepl() evlaúa si un  caracter está contenido en otro. (LIKE)\n",
        "#?grepl()\n",
        "grepl(\"ala\", \"palabra\")\n",
        "grepl(\"alo\", \"palabra\")\n",
        "\n",
        "\n",
        "#gsub()\n",
        "#?gsub\n",
        "\n",
        "# si reemplazamos en un vector de palabras\n",
        "\n",
        "gsub(\"[^abc]\",\"y\",\"matraca\")"
      ],
      "execution_count": 9,
      "outputs": [
        {
          "output_type": "display_data",
          "data": {
            "text/plain": [
              "[1] TRUE"
            ],
            "text/latex": "TRUE",
            "text/markdown": "TRUE",
            "text/html": [
              "TRUE"
            ]
          },
          "metadata": {
            "tags": []
          }
        },
        {
          "output_type": "display_data",
          "data": {
            "text/plain": [
              "[1] FALSE"
            ],
            "text/latex": "FALSE",
            "text/markdown": "FALSE",
            "text/html": [
              "FALSE"
            ]
          },
          "metadata": {
            "tags": []
          }
        },
        {
          "output_type": "display_data",
          "data": {
            "text/plain": [
              "[1] \"yayyaca\""
            ],
            "text/latex": "'yayyaca'",
            "text/markdown": "'yayyaca'",
            "text/html": [
              "'yayyaca'"
            ]
          },
          "metadata": {
            "tags": []
          }
        }
      ]
    },
    {
      "cell_type": "code",
      "metadata": {
        "id": "0j9kKUbzIgwZ"
      },
      "source": [
        "#gsub() reemplaza caracteres dentro de un texto\n",
        "#https://www.tidytextmining.com/\n"
      ],
      "execution_count": null,
      "outputs": []
    }
  ]
}