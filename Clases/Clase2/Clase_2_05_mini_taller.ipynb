{
  "nbformat": 4,
  "nbformat_minor": 0,
  "metadata": {
    "colab": {
      "name": "Clase 2_05_mini_taller.ipynb",
      "provenance": [],
      "include_colab_link": true
    },
    "kernelspec": {
      "name": "ir",
      "display_name": "R"
    }
  },
  "cells": [
    {
      "cell_type": "markdown",
      "metadata": {
        "id": "view-in-github",
        "colab_type": "text"
      },
      "source": [
        "<a href=\"https://colab.research.google.com/github/majorquev/DBDC_202010_Programacion_en_R_para_ciencia_de_datos/blob/main/Clases/Clase2/Clase_2_05_mini_taller.ipynb\" target=\"_parent\"><img src=\"https://colab.research.google.com/assets/colab-badge.svg\" alt=\"Open In Colab\"/></a>"
      ]
    },
    {
      "cell_type": "markdown",
      "metadata": {
        "collapsed": true,
        "id": "EZ0yOlnfm5Zb"
      },
      "source": [
        "## Mini taller 1\n",
        "\n",
        "Los dataframes corresponden a uno de los objetos más utilizados en R para analizar datos tabulares,\n",
        "por lo que se hace necesario en muchos casos realizar consultas a los datos que contiene un dataframe,\n",
        "(filtros, cruces de tablas, creación de columnas, etc). Por ahora veremos una de las formas más \"primitivas\" para la manipulación de un data.frame.\n",
        "\n",
        "Para ello consideremos el siguiente ejercicio.\n",
        "\n",
        "**Paso 1**\n",
        "Mediante la función rnorm(), genere una muestra aleatoria de 100 datos , con media 21 y desviación estándar 8 (más adelante veremos esto con un poco más de detalle), y guárdela en una variable llamada temp.\n",
        "\n"
      ]
    },
    {
      "cell_type": "code",
      "metadata": {
        "trusted": true,
        "id": "9f6cXmN3m5Zc",
        "outputId": "01299088-d31a-40a5-f64e-5b7c581408e6",
        "colab": {
          "base_uri": "https://localhost:8080/",
          "height": 173
        }
      },
      "source": [
        "# 5.3 Mini taller --------\n",
        "# Paso 1\n",
        "temp <- rnorm(n = 100, mean = 21, sd = 8)\n",
        "temp\n"
      ],
      "execution_count": 1,
      "outputs": [
        {
          "output_type": "display_data",
          "data": {
            "text/plain": [
              "  [1] 10.61133795 29.87232384 13.09594465 13.71194603 34.79876798 26.85214700\n",
              "  [7]  5.60127320 12.37954442 24.65807825 29.11063746  0.58896420 20.90502854\n",
              " [13] 22.95921049 10.96520943 27.29713859 29.17727888 16.83472091 30.78891178\n",
              " [19] 19.01535092 13.12430693 19.56145779 31.73924034 18.00815352 10.71629295\n",
              " [25] 21.42704271  6.33291438 37.89967802 14.68402938 25.95097225 23.28356433\n",
              " [31] 19.86438220 18.52440340 22.68999518 20.54657052 26.27779190 12.66329921\n",
              " [37] 21.55629276 31.11445596 22.79275656 19.58609680 31.71903355 28.14422230\n",
              " [43] 48.68999622 29.10587174 25.47033958 20.04669536  8.51099136 13.51418165\n",
              " [49] 29.17612287 -0.07324878 26.27320912  9.80407439 20.14079440 17.15150525\n",
              " [55] 18.28360138 33.87173436 15.84231627 28.77233950  5.57277640 13.72960404\n",
              " [61] 25.58809852 23.86667523 19.30136162 15.99508056 24.71233380 14.31697244\n",
              " [67] 19.39880121 17.94401277 17.94095778 16.67579413 28.86762136 28.93770030\n",
              " [73] 15.79587792 20.37068627 35.92353896 24.52826137 14.51883825 32.11604442\n",
              " [79] 18.08907269 14.77802460 28.11579908 17.22266264 24.15104223 18.52659872\n",
              " [85] 21.73401880 21.90820655 20.50678776 14.96260327 34.57750848 19.58104495\n",
              " [91] 17.07755810 17.74087036 27.03464536  7.34995949 20.95050230 28.72320198\n",
              " [97] 23.73647293 13.08580444 20.73279920 27.69296130"
            ],
            "text/latex": "\\begin{enumerate*}\n\\item 10.6113379506784\n\\item 29.8723238361945\n\\item 13.0959446515984\n\\item 13.7119460291255\n\\item 34.7987679791075\n\\item 26.8521469986648\n\\item 5.6012731978589\n\\item 12.3795444174147\n\\item 24.6580782532626\n\\item 29.1106374584741\n\\item 0.588964201921232\n\\item 20.905028540771\n\\item 22.9592104908586\n\\item 10.9652094286246\n\\item 27.2971385875414\n\\item 29.1772788812979\n\\item 16.8347209101214\n\\item 30.7889117821\n\\item 19.0153509207421\n\\item 13.124306926615\n\\item 19.5614577881226\n\\item 31.7392403433372\n\\item 18.0081535189546\n\\item 10.7162929491205\n\\item 21.4270427070466\n\\item 6.33291438161859\n\\item 37.8996780157847\n\\item 14.6840293798617\n\\item 25.9509722465488\n\\item 23.2835643303352\n\\item 19.8643821994055\n\\item 18.5244034022945\n\\item 22.6899951798789\n\\item 20.5465705175971\n\\item 26.2777918989969\n\\item 12.6632992122971\n\\item 21.5562927556446\n\\item 31.1144559610637\n\\item 22.7927565604469\n\\item 19.5860968035827\n\\item 31.7190335503223\n\\item 28.1442222972598\n\\item 48.6899962211621\n\\item 29.1058717409307\n\\item 25.4703395777518\n\\item 20.046695356453\n\\item 8.51099135513618\n\\item 13.5141816494814\n\\item 29.1761228695756\n\\item -0.0732487799214958\n\\item 26.2732091206354\n\\item 9.80407439050282\n\\item 20.1407944009769\n\\item 17.1515052531058\n\\item 18.28360137694\n\\item 33.8717343582724\n\\item 15.8423162676689\n\\item 28.7723394983554\n\\item 5.57277639955765\n\\item 13.7296040431037\n\\item 25.5880985171831\n\\item 23.8666752266467\n\\item 19.3013616151525\n\\item 15.9950805577797\n\\item 24.7123338028342\n\\item 14.3169724442979\n\\item 19.3988012117022\n\\item 17.9440127693346\n\\item 17.9409577788781\n\\item 16.6757941304152\n\\item 28.8676213556607\n\\item 28.9377002984485\n\\item 15.7958779194261\n\\item 20.3706862681337\n\\item 35.9235389551934\n\\item 24.5282613655128\n\\item 14.5188382511408\n\\item 32.1160444214037\n\\item 18.0890726881512\n\\item 14.7780245990379\n\\item 28.1157990797846\n\\item 17.2226626358794\n\\item 24.151042227041\n\\item 18.5265987160287\n\\item 21.7340188011212\n\\item 21.9082065509572\n\\item 20.5067877599097\n\\item 14.9626032695029\n\\item 34.5775084750623\n\\item 19.5810449469202\n\\item 17.077558103327\n\\item 17.7408703612543\n\\item 27.034645364084\n\\item 7.34995948752812\n\\item 20.9505022994812\n\\item 28.7232019808978\n\\item 23.7364729320733\n\\item 13.0858044406922\n\\item 20.7327992048434\n\\item 27.6929612980219\n\\end{enumerate*}\n",
            "text/markdown": "1. 10.6113379506784\n2. 29.8723238361945\n3. 13.0959446515984\n4. 13.7119460291255\n5. 34.7987679791075\n6. 26.8521469986648\n7. 5.6012731978589\n8. 12.3795444174147\n9. 24.6580782532626\n10. 29.1106374584741\n11. 0.588964201921232\n12. 20.905028540771\n13. 22.9592104908586\n14. 10.9652094286246\n15. 27.2971385875414\n16. 29.1772788812979\n17. 16.8347209101214\n18. 30.7889117821\n19. 19.0153509207421\n20. 13.124306926615\n21. 19.5614577881226\n22. 31.7392403433372\n23. 18.0081535189546\n24. 10.7162929491205\n25. 21.4270427070466\n26. 6.33291438161859\n27. 37.8996780157847\n28. 14.6840293798617\n29. 25.9509722465488\n30. 23.2835643303352\n31. 19.8643821994055\n32. 18.5244034022945\n33. 22.6899951798789\n34. 20.5465705175971\n35. 26.2777918989969\n36. 12.6632992122971\n37. 21.5562927556446\n38. 31.1144559610637\n39. 22.7927565604469\n40. 19.5860968035827\n41. 31.7190335503223\n42. 28.1442222972598\n43. 48.6899962211621\n44. 29.1058717409307\n45. 25.4703395777518\n46. 20.046695356453\n47. 8.51099135513618\n48. 13.5141816494814\n49. 29.1761228695756\n50. -0.0732487799214958\n51. 26.2732091206354\n52. 9.80407439050282\n53. 20.1407944009769\n54. 17.1515052531058\n55. 18.28360137694\n56. 33.8717343582724\n57. 15.8423162676689\n58. 28.7723394983554\n59. 5.57277639955765\n60. 13.7296040431037\n61. 25.5880985171831\n62. 23.8666752266467\n63. 19.3013616151525\n64. 15.9950805577797\n65. 24.7123338028342\n66. 14.3169724442979\n67. 19.3988012117022\n68. 17.9440127693346\n69. 17.9409577788781\n70. 16.6757941304152\n71. 28.8676213556607\n72. 28.9377002984485\n73. 15.7958779194261\n74. 20.3706862681337\n75. 35.9235389551934\n76. 24.5282613655128\n77. 14.5188382511408\n78. 32.1160444214037\n79. 18.0890726881512\n80. 14.7780245990379\n81. 28.1157990797846\n82. 17.2226626358794\n83. 24.151042227041\n84. 18.5265987160287\n85. 21.7340188011212\n86. 21.9082065509572\n87. 20.5067877599097\n88. 14.9626032695029\n89. 34.5775084750623\n90. 19.5810449469202\n91. 17.077558103327\n92. 17.7408703612543\n93. 27.034645364084\n94. 7.34995948752812\n95. 20.9505022994812\n96. 28.7232019808978\n97. 23.7364729320733\n98. 13.0858044406922\n99. 20.7327992048434\n100. 27.6929612980219\n\n\n",
            "text/html": [
              "<style>\n",
              ".list-inline {list-style: none; margin:0; padding: 0}\n",
              ".list-inline>li {display: inline-block}\n",
              ".list-inline>li:not(:last-child)::after {content: \"\\00b7\"; padding: 0 .5ex}\n",
              "</style>\n",
              "<ol class=list-inline><li>10.6113379506784</li><li>29.8723238361945</li><li>13.0959446515984</li><li>13.7119460291255</li><li>34.7987679791075</li><li>26.8521469986648</li><li>5.6012731978589</li><li>12.3795444174147</li><li>24.6580782532626</li><li>29.1106374584741</li><li>0.588964201921232</li><li>20.905028540771</li><li>22.9592104908586</li><li>10.9652094286246</li><li>27.2971385875414</li><li>29.1772788812979</li><li>16.8347209101214</li><li>30.7889117821</li><li>19.0153509207421</li><li>13.124306926615</li><li>19.5614577881226</li><li>31.7392403433372</li><li>18.0081535189546</li><li>10.7162929491205</li><li>21.4270427070466</li><li>6.33291438161859</li><li>37.8996780157847</li><li>14.6840293798617</li><li>25.9509722465488</li><li>23.2835643303352</li><li>19.8643821994055</li><li>18.5244034022945</li><li>22.6899951798789</li><li>20.5465705175971</li><li>26.2777918989969</li><li>12.6632992122971</li><li>21.5562927556446</li><li>31.1144559610637</li><li>22.7927565604469</li><li>19.5860968035827</li><li>31.7190335503223</li><li>28.1442222972598</li><li>48.6899962211621</li><li>29.1058717409307</li><li>25.4703395777518</li><li>20.046695356453</li><li>8.51099135513618</li><li>13.5141816494814</li><li>29.1761228695756</li><li>-0.0732487799214958</li><li>26.2732091206354</li><li>9.80407439050282</li><li>20.1407944009769</li><li>17.1515052531058</li><li>18.28360137694</li><li>33.8717343582724</li><li>15.8423162676689</li><li>28.7723394983554</li><li>5.57277639955765</li><li>13.7296040431037</li><li>25.5880985171831</li><li>23.8666752266467</li><li>19.3013616151525</li><li>15.9950805577797</li><li>24.7123338028342</li><li>14.3169724442979</li><li>19.3988012117022</li><li>17.9440127693346</li><li>17.9409577788781</li><li>16.6757941304152</li><li>28.8676213556607</li><li>28.9377002984485</li><li>15.7958779194261</li><li>20.3706862681337</li><li>35.9235389551934</li><li>24.5282613655128</li><li>14.5188382511408</li><li>32.1160444214037</li><li>18.0890726881512</li><li>14.7780245990379</li><li>28.1157990797846</li><li>17.2226626358794</li><li>24.151042227041</li><li>18.5265987160287</li><li>21.7340188011212</li><li>21.9082065509572</li><li>20.5067877599097</li><li>14.9626032695029</li><li>34.5775084750623</li><li>19.5810449469202</li><li>17.077558103327</li><li>17.7408703612543</li><li>27.034645364084</li><li>7.34995948752812</li><li>20.9505022994812</li><li>28.7232019808978</li><li>23.7364729320733</li><li>13.0858044406922</li><li>20.7327992048434</li><li>27.6929612980219</li></ol>\n"
            ]
          },
          "metadata": {
            "tags": []
          }
        }
      ]
    },
    {
      "cell_type": "code",
      "metadata": {
        "trusted": true,
        "id": "Y6ILF-Szm5Zg",
        "outputId": "b0b2c966-746c-40aa-c562-02357526e517",
        "colab": {
          "base_uri": "https://localhost:8080/",
          "height": 35
        }
      },
      "source": [
        "# Dejar como parámetro el largo del vector temp\n",
        "largo <- length(temp)\n",
        "largo"
      ],
      "execution_count": 3,
      "outputs": [
        {
          "output_type": "display_data",
          "data": {
            "text/plain": [
              "[1] 100"
            ],
            "text/latex": "100",
            "text/markdown": "100",
            "text/html": [
              "100"
            ]
          },
          "metadata": {
            "tags": []
          }
        }
      ]
    },
    {
      "cell_type": "markdown",
      "metadata": {
        "id": "C4MEJWjBm5Zi"
      },
      "source": [
        "**Paso 2**\n",
        "\n",
        "Genere un vector llamado _dia_ del mismo largo que que *temp*, que contenga los días consecutivos de la semana, partiendo del lunes. (utilice la función _rep()_ )"
      ]
    },
    {
      "cell_type": "code",
      "metadata": {
        "trusted": true,
        "id": "1PWK1DPXm5Zj",
        "outputId": "d59a37f3-a125-4761-9cad-40e5348edb76",
        "colab": {
          "base_uri": "https://localhost:8080/",
          "height": 69
        }
      },
      "source": [
        "# Paso 2\n",
        "#dia <- rep(c(\"L\",\"M\",\"W\",\"J\",\"V\",\"S\",\"D\"), 100 ) repite el vector de largo7, 100 veces. Genera un vector resultante de largo 700\n",
        "dia <- rep(c(\"L\",\"M\",\"W\",\"J\",\"V\",\"S\",\"D\"), length.out = largo)\n",
        "length(dia)\n",
        "dia"
      ],
      "execution_count": 7,
      "outputs": [
        {
          "output_type": "display_data",
          "data": {
            "text/plain": [
              "[1] 100"
            ],
            "text/latex": "100",
            "text/markdown": "100",
            "text/html": [
              "100"
            ]
          },
          "metadata": {
            "tags": []
          }
        },
        {
          "output_type": "display_data",
          "data": {
            "text/plain": [
              "  [1] \"L\" \"M\" \"W\" \"J\" \"V\" \"S\" \"D\" \"L\" \"M\" \"W\" \"J\" \"V\" \"S\" \"D\" \"L\" \"M\" \"W\" \"J\"\n",
              " [19] \"V\" \"S\" \"D\" \"L\" \"M\" \"W\" \"J\" \"V\" \"S\" \"D\" \"L\" \"M\" \"W\" \"J\" \"V\" \"S\" \"D\" \"L\"\n",
              " [37] \"M\" \"W\" \"J\" \"V\" \"S\" \"D\" \"L\" \"M\" \"W\" \"J\" \"V\" \"S\" \"D\" \"L\" \"M\" \"W\" \"J\" \"V\"\n",
              " [55] \"S\" \"D\" \"L\" \"M\" \"W\" \"J\" \"V\" \"S\" \"D\" \"L\" \"M\" \"W\" \"J\" \"V\" \"S\" \"D\" \"L\" \"M\"\n",
              " [73] \"W\" \"J\" \"V\" \"S\" \"D\" \"L\" \"M\" \"W\" \"J\" \"V\" \"S\" \"D\" \"L\" \"M\" \"W\" \"J\" \"V\" \"S\"\n",
              " [91] \"D\" \"L\" \"M\" \"W\" \"J\" \"V\" \"S\" \"D\" \"L\" \"M\""
            ],
            "text/latex": "\\begin{enumerate*}\n\\item 'L'\n\\item 'M'\n\\item 'W'\n\\item 'J'\n\\item 'V'\n\\item 'S'\n\\item 'D'\n\\item 'L'\n\\item 'M'\n\\item 'W'\n\\item 'J'\n\\item 'V'\n\\item 'S'\n\\item 'D'\n\\item 'L'\n\\item 'M'\n\\item 'W'\n\\item 'J'\n\\item 'V'\n\\item 'S'\n\\item 'D'\n\\item 'L'\n\\item 'M'\n\\item 'W'\n\\item 'J'\n\\item 'V'\n\\item 'S'\n\\item 'D'\n\\item 'L'\n\\item 'M'\n\\item 'W'\n\\item 'J'\n\\item 'V'\n\\item 'S'\n\\item 'D'\n\\item 'L'\n\\item 'M'\n\\item 'W'\n\\item 'J'\n\\item 'V'\n\\item 'S'\n\\item 'D'\n\\item 'L'\n\\item 'M'\n\\item 'W'\n\\item 'J'\n\\item 'V'\n\\item 'S'\n\\item 'D'\n\\item 'L'\n\\item 'M'\n\\item 'W'\n\\item 'J'\n\\item 'V'\n\\item 'S'\n\\item 'D'\n\\item 'L'\n\\item 'M'\n\\item 'W'\n\\item 'J'\n\\item 'V'\n\\item 'S'\n\\item 'D'\n\\item 'L'\n\\item 'M'\n\\item 'W'\n\\item 'J'\n\\item 'V'\n\\item 'S'\n\\item 'D'\n\\item 'L'\n\\item 'M'\n\\item 'W'\n\\item 'J'\n\\item 'V'\n\\item 'S'\n\\item 'D'\n\\item 'L'\n\\item 'M'\n\\item 'W'\n\\item 'J'\n\\item 'V'\n\\item 'S'\n\\item 'D'\n\\item 'L'\n\\item 'M'\n\\item 'W'\n\\item 'J'\n\\item 'V'\n\\item 'S'\n\\item 'D'\n\\item 'L'\n\\item 'M'\n\\item 'W'\n\\item 'J'\n\\item 'V'\n\\item 'S'\n\\item 'D'\n\\item 'L'\n\\item 'M'\n\\end{enumerate*}\n",
            "text/markdown": "1. 'L'\n2. 'M'\n3. 'W'\n4. 'J'\n5. 'V'\n6. 'S'\n7. 'D'\n8. 'L'\n9. 'M'\n10. 'W'\n11. 'J'\n12. 'V'\n13. 'S'\n14. 'D'\n15. 'L'\n16. 'M'\n17. 'W'\n18. 'J'\n19. 'V'\n20. 'S'\n21. 'D'\n22. 'L'\n23. 'M'\n24. 'W'\n25. 'J'\n26. 'V'\n27. 'S'\n28. 'D'\n29. 'L'\n30. 'M'\n31. 'W'\n32. 'J'\n33. 'V'\n34. 'S'\n35. 'D'\n36. 'L'\n37. 'M'\n38. 'W'\n39. 'J'\n40. 'V'\n41. 'S'\n42. 'D'\n43. 'L'\n44. 'M'\n45. 'W'\n46. 'J'\n47. 'V'\n48. 'S'\n49. 'D'\n50. 'L'\n51. 'M'\n52. 'W'\n53. 'J'\n54. 'V'\n55. 'S'\n56. 'D'\n57. 'L'\n58. 'M'\n59. 'W'\n60. 'J'\n61. 'V'\n62. 'S'\n63. 'D'\n64. 'L'\n65. 'M'\n66. 'W'\n67. 'J'\n68. 'V'\n69. 'S'\n70. 'D'\n71. 'L'\n72. 'M'\n73. 'W'\n74. 'J'\n75. 'V'\n76. 'S'\n77. 'D'\n78. 'L'\n79. 'M'\n80. 'W'\n81. 'J'\n82. 'V'\n83. 'S'\n84. 'D'\n85. 'L'\n86. 'M'\n87. 'W'\n88. 'J'\n89. 'V'\n90. 'S'\n91. 'D'\n92. 'L'\n93. 'M'\n94. 'W'\n95. 'J'\n96. 'V'\n97. 'S'\n98. 'D'\n99. 'L'\n100. 'M'\n\n\n",
            "text/html": [
              "<style>\n",
              ".list-inline {list-style: none; margin:0; padding: 0}\n",
              ".list-inline>li {display: inline-block}\n",
              ".list-inline>li:not(:last-child)::after {content: \"\\00b7\"; padding: 0 .5ex}\n",
              "</style>\n",
              "<ol class=list-inline><li>'L'</li><li>'M'</li><li>'W'</li><li>'J'</li><li>'V'</li><li>'S'</li><li>'D'</li><li>'L'</li><li>'M'</li><li>'W'</li><li>'J'</li><li>'V'</li><li>'S'</li><li>'D'</li><li>'L'</li><li>'M'</li><li>'W'</li><li>'J'</li><li>'V'</li><li>'S'</li><li>'D'</li><li>'L'</li><li>'M'</li><li>'W'</li><li>'J'</li><li>'V'</li><li>'S'</li><li>'D'</li><li>'L'</li><li>'M'</li><li>'W'</li><li>'J'</li><li>'V'</li><li>'S'</li><li>'D'</li><li>'L'</li><li>'M'</li><li>'W'</li><li>'J'</li><li>'V'</li><li>'S'</li><li>'D'</li><li>'L'</li><li>'M'</li><li>'W'</li><li>'J'</li><li>'V'</li><li>'S'</li><li>'D'</li><li>'L'</li><li>'M'</li><li>'W'</li><li>'J'</li><li>'V'</li><li>'S'</li><li>'D'</li><li>'L'</li><li>'M'</li><li>'W'</li><li>'J'</li><li>'V'</li><li>'S'</li><li>'D'</li><li>'L'</li><li>'M'</li><li>'W'</li><li>'J'</li><li>'V'</li><li>'S'</li><li>'D'</li><li>'L'</li><li>'M'</li><li>'W'</li><li>'J'</li><li>'V'</li><li>'S'</li><li>'D'</li><li>'L'</li><li>'M'</li><li>'W'</li><li>'J'</li><li>'V'</li><li>'S'</li><li>'D'</li><li>'L'</li><li>'M'</li><li>'W'</li><li>'J'</li><li>'V'</li><li>'S'</li><li>'D'</li><li>'L'</li><li>'M'</li><li>'W'</li><li>'J'</li><li>'V'</li><li>'S'</li><li>'D'</li><li>'L'</li><li>'M'</li></ol>\n"
            ]
          },
          "metadata": {
            "tags": []
          }
        }
      ]
    },
    {
      "cell_type": "markdown",
      "metadata": {
        "id": "n1n3ptOIm5Zm"
      },
      "source": [
        "**Paso 3**\n",
        "\n",
        "Genere un vector llamado _est_, del mismo largo que _temp_, que en el primer tercio contenga el valor \"E1\", en el segundo tercio \"E2\", y en el tercer tercio \"E3\". Por ejemplo, si _temp_ tuviese 10 datos, el vector _est_ se vería como \n",
        "\n",
        "\n",
        "<center> _est_ = (E1,E1,E1,E2,E2,E2,E3,E3,E3,E3) </center>"
      ]
    },
    {
      "cell_type": "code",
      "metadata": {
        "trusted": true,
        "id": "eobMVmXxm5Zn",
        "outputId": "4008e129-1ae0-4cc0-b4f5-d94ffd8f69cc",
        "colab": {
          "base_uri": "https://localhost:8080/",
          "height": 121
        }
      },
      "source": [
        "# Paso 3\n",
        "aux1 <- rep(\"E1\",largo/3) # R redondea al menor enterio anterior\n",
        "aux2 <- rep(\"E2\",largo/3)\n",
        "aux3 <- rep(\"E3\",largo/3+1)\n",
        "\n",
        "#para validar los largos\n",
        "length(aux1)\n",
        "length(aux2)\n",
        "length(aux3)\n",
        "\n",
        "est <- c(aux1,aux2,aux3)\n",
        "est\n"
      ],
      "execution_count": 17,
      "outputs": [
        {
          "output_type": "display_data",
          "data": {
            "text/plain": [
              "[1] 33"
            ],
            "text/latex": "33",
            "text/markdown": "33",
            "text/html": [
              "33"
            ]
          },
          "metadata": {
            "tags": []
          }
        },
        {
          "output_type": "display_data",
          "data": {
            "text/plain": [
              "[1] 33"
            ],
            "text/latex": "33",
            "text/markdown": "33",
            "text/html": [
              "33"
            ]
          },
          "metadata": {
            "tags": []
          }
        },
        {
          "output_type": "display_data",
          "data": {
            "text/plain": [
              "[1] 34"
            ],
            "text/latex": "34",
            "text/markdown": "34",
            "text/html": [
              "34"
            ]
          },
          "metadata": {
            "tags": []
          }
        },
        {
          "output_type": "display_data",
          "data": {
            "text/plain": [
              "  [1] \"E1\" \"E1\" \"E1\" \"E1\" \"E1\" \"E1\" \"E1\" \"E1\" \"E1\" \"E1\" \"E1\" \"E1\" \"E1\" \"E1\" \"E1\"\n",
              " [16] \"E1\" \"E1\" \"E1\" \"E1\" \"E1\" \"E1\" \"E1\" \"E1\" \"E1\" \"E1\" \"E1\" \"E1\" \"E1\" \"E1\" \"E1\"\n",
              " [31] \"E1\" \"E1\" \"E1\" \"E2\" \"E2\" \"E2\" \"E2\" \"E2\" \"E2\" \"E2\" \"E2\" \"E2\" \"E2\" \"E2\" \"E2\"\n",
              " [46] \"E2\" \"E2\" \"E2\" \"E2\" \"E2\" \"E2\" \"E2\" \"E2\" \"E2\" \"E2\" \"E2\" \"E2\" \"E2\" \"E2\" \"E2\"\n",
              " [61] \"E2\" \"E2\" \"E2\" \"E2\" \"E2\" \"E2\" \"E3\" \"E3\" \"E3\" \"E3\" \"E3\" \"E3\" \"E3\" \"E3\" \"E3\"\n",
              " [76] \"E3\" \"E3\" \"E3\" \"E3\" \"E3\" \"E3\" \"E3\" \"E3\" \"E3\" \"E3\" \"E3\" \"E3\" \"E3\" \"E3\" \"E3\"\n",
              " [91] \"E3\" \"E3\" \"E3\" \"E3\" \"E3\" \"E3\" \"E3\" \"E3\" \"E3\" \"E3\""
            ],
            "text/latex": "\\begin{enumerate*}\n\\item 'E1'\n\\item 'E1'\n\\item 'E1'\n\\item 'E1'\n\\item 'E1'\n\\item 'E1'\n\\item 'E1'\n\\item 'E1'\n\\item 'E1'\n\\item 'E1'\n\\item 'E1'\n\\item 'E1'\n\\item 'E1'\n\\item 'E1'\n\\item 'E1'\n\\item 'E1'\n\\item 'E1'\n\\item 'E1'\n\\item 'E1'\n\\item 'E1'\n\\item 'E1'\n\\item 'E1'\n\\item 'E1'\n\\item 'E1'\n\\item 'E1'\n\\item 'E1'\n\\item 'E1'\n\\item 'E1'\n\\item 'E1'\n\\item 'E1'\n\\item 'E1'\n\\item 'E1'\n\\item 'E1'\n\\item 'E2'\n\\item 'E2'\n\\item 'E2'\n\\item 'E2'\n\\item 'E2'\n\\item 'E2'\n\\item 'E2'\n\\item 'E2'\n\\item 'E2'\n\\item 'E2'\n\\item 'E2'\n\\item 'E2'\n\\item 'E2'\n\\item 'E2'\n\\item 'E2'\n\\item 'E2'\n\\item 'E2'\n\\item 'E2'\n\\item 'E2'\n\\item 'E2'\n\\item 'E2'\n\\item 'E2'\n\\item 'E2'\n\\item 'E2'\n\\item 'E2'\n\\item 'E2'\n\\item 'E2'\n\\item 'E2'\n\\item 'E2'\n\\item 'E2'\n\\item 'E2'\n\\item 'E2'\n\\item 'E2'\n\\item 'E3'\n\\item 'E3'\n\\item 'E3'\n\\item 'E3'\n\\item 'E3'\n\\item 'E3'\n\\item 'E3'\n\\item 'E3'\n\\item 'E3'\n\\item 'E3'\n\\item 'E3'\n\\item 'E3'\n\\item 'E3'\n\\item 'E3'\n\\item 'E3'\n\\item 'E3'\n\\item 'E3'\n\\item 'E3'\n\\item 'E3'\n\\item 'E3'\n\\item 'E3'\n\\item 'E3'\n\\item 'E3'\n\\item 'E3'\n\\item 'E3'\n\\item 'E3'\n\\item 'E3'\n\\item 'E3'\n\\item 'E3'\n\\item 'E3'\n\\item 'E3'\n\\item 'E3'\n\\item 'E3'\n\\item 'E3'\n\\end{enumerate*}\n",
            "text/markdown": "1. 'E1'\n2. 'E1'\n3. 'E1'\n4. 'E1'\n5. 'E1'\n6. 'E1'\n7. 'E1'\n8. 'E1'\n9. 'E1'\n10. 'E1'\n11. 'E1'\n12. 'E1'\n13. 'E1'\n14. 'E1'\n15. 'E1'\n16. 'E1'\n17. 'E1'\n18. 'E1'\n19. 'E1'\n20. 'E1'\n21. 'E1'\n22. 'E1'\n23. 'E1'\n24. 'E1'\n25. 'E1'\n26. 'E1'\n27. 'E1'\n28. 'E1'\n29. 'E1'\n30. 'E1'\n31. 'E1'\n32. 'E1'\n33. 'E1'\n34. 'E2'\n35. 'E2'\n36. 'E2'\n37. 'E2'\n38. 'E2'\n39. 'E2'\n40. 'E2'\n41. 'E2'\n42. 'E2'\n43. 'E2'\n44. 'E2'\n45. 'E2'\n46. 'E2'\n47. 'E2'\n48. 'E2'\n49. 'E2'\n50. 'E2'\n51. 'E2'\n52. 'E2'\n53. 'E2'\n54. 'E2'\n55. 'E2'\n56. 'E2'\n57. 'E2'\n58. 'E2'\n59. 'E2'\n60. 'E2'\n61. 'E2'\n62. 'E2'\n63. 'E2'\n64. 'E2'\n65. 'E2'\n66. 'E2'\n67. 'E3'\n68. 'E3'\n69. 'E3'\n70. 'E3'\n71. 'E3'\n72. 'E3'\n73. 'E3'\n74. 'E3'\n75. 'E3'\n76. 'E3'\n77. 'E3'\n78. 'E3'\n79. 'E3'\n80. 'E3'\n81. 'E3'\n82. 'E3'\n83. 'E3'\n84. 'E3'\n85. 'E3'\n86. 'E3'\n87. 'E3'\n88. 'E3'\n89. 'E3'\n90. 'E3'\n91. 'E3'\n92. 'E3'\n93. 'E3'\n94. 'E3'\n95. 'E3'\n96. 'E3'\n97. 'E3'\n98. 'E3'\n99. 'E3'\n100. 'E3'\n\n\n",
            "text/html": [
              "<style>\n",
              ".list-inline {list-style: none; margin:0; padding: 0}\n",
              ".list-inline>li {display: inline-block}\n",
              ".list-inline>li:not(:last-child)::after {content: \"\\00b7\"; padding: 0 .5ex}\n",
              "</style>\n",
              "<ol class=list-inline><li>'E1'</li><li>'E1'</li><li>'E1'</li><li>'E1'</li><li>'E1'</li><li>'E1'</li><li>'E1'</li><li>'E1'</li><li>'E1'</li><li>'E1'</li><li>'E1'</li><li>'E1'</li><li>'E1'</li><li>'E1'</li><li>'E1'</li><li>'E1'</li><li>'E1'</li><li>'E1'</li><li>'E1'</li><li>'E1'</li><li>'E1'</li><li>'E1'</li><li>'E1'</li><li>'E1'</li><li>'E1'</li><li>'E1'</li><li>'E1'</li><li>'E1'</li><li>'E1'</li><li>'E1'</li><li>'E1'</li><li>'E1'</li><li>'E1'</li><li>'E2'</li><li>'E2'</li><li>'E2'</li><li>'E2'</li><li>'E2'</li><li>'E2'</li><li>'E2'</li><li>'E2'</li><li>'E2'</li><li>'E2'</li><li>'E2'</li><li>'E2'</li><li>'E2'</li><li>'E2'</li><li>'E2'</li><li>'E2'</li><li>'E2'</li><li>'E2'</li><li>'E2'</li><li>'E2'</li><li>'E2'</li><li>'E2'</li><li>'E2'</li><li>'E2'</li><li>'E2'</li><li>'E2'</li><li>'E2'</li><li>'E2'</li><li>'E2'</li><li>'E2'</li><li>'E2'</li><li>'E2'</li><li>'E2'</li><li>'E3'</li><li>'E3'</li><li>'E3'</li><li>'E3'</li><li>'E3'</li><li>'E3'</li><li>'E3'</li><li>'E3'</li><li>'E3'</li><li>'E3'</li><li>'E3'</li><li>'E3'</li><li>'E3'</li><li>'E3'</li><li>'E3'</li><li>'E3'</li><li>'E3'</li><li>'E3'</li><li>'E3'</li><li>'E3'</li><li>'E3'</li><li>'E3'</li><li>'E3'</li><li>'E3'</li><li>'E3'</li><li>'E3'</li><li>'E3'</li><li>'E3'</li><li>'E3'</li><li>'E3'</li><li>'E3'</li><li>'E3'</li><li>'E3'</li><li>'E3'</li></ol>\n"
            ]
          },
          "metadata": {
            "tags": []
          }
        }
      ]
    },
    {
      "cell_type": "markdown",
      "metadata": {
        "id": "bZZScNwUm5Zp"
      },
      "source": [
        "**Paso 4**\n",
        "\n",
        "Genere un vector llamado _lluvia_ del mismo largo que _temp_, que sea TRUE en las posiciones en que _temp_ sea menor que 20, y FALSE en caso contrario. "
      ]
    },
    {
      "cell_type": "code",
      "metadata": {
        "trusted": true,
        "id": "AbtOs123m5Zq"
      },
      "source": [
        "# Paso 4\n",
        "lluvia <- temp < 20 "
      ],
      "execution_count": 19,
      "outputs": []
    },
    {
      "cell_type": "code",
      "metadata": {
        "id": "PjByf2fHviw5",
        "outputId": "a435fe1f-d1cf-4bac-8117-bfae642c246e",
        "colab": {
          "base_uri": "https://localhost:8080/",
          "height": 86
        }
      },
      "source": [
        "lluvia"
      ],
      "execution_count": 20,
      "outputs": [
        {
          "output_type": "display_data",
          "data": {
            "text/plain": [
              "  [1]  TRUE FALSE  TRUE  TRUE FALSE FALSE  TRUE  TRUE FALSE FALSE  TRUE FALSE\n",
              " [13] FALSE  TRUE FALSE FALSE  TRUE FALSE  TRUE  TRUE  TRUE FALSE  TRUE  TRUE\n",
              " [25] FALSE  TRUE FALSE  TRUE FALSE FALSE  TRUE  TRUE FALSE FALSE FALSE  TRUE\n",
              " [37] FALSE FALSE FALSE  TRUE FALSE FALSE FALSE FALSE FALSE FALSE  TRUE  TRUE\n",
              " [49] FALSE  TRUE FALSE  TRUE FALSE  TRUE  TRUE FALSE  TRUE FALSE  TRUE  TRUE\n",
              " [61] FALSE FALSE  TRUE  TRUE FALSE  TRUE  TRUE  TRUE  TRUE  TRUE FALSE FALSE\n",
              " [73]  TRUE FALSE FALSE FALSE  TRUE FALSE  TRUE  TRUE FALSE  TRUE FALSE  TRUE\n",
              " [85] FALSE FALSE FALSE  TRUE FALSE  TRUE  TRUE  TRUE FALSE  TRUE FALSE FALSE\n",
              " [97] FALSE  TRUE FALSE FALSE"
            ],
            "text/latex": "\\begin{enumerate*}\n\\item TRUE\n\\item FALSE\n\\item TRUE\n\\item TRUE\n\\item FALSE\n\\item FALSE\n\\item TRUE\n\\item TRUE\n\\item FALSE\n\\item FALSE\n\\item TRUE\n\\item FALSE\n\\item FALSE\n\\item TRUE\n\\item FALSE\n\\item FALSE\n\\item TRUE\n\\item FALSE\n\\item TRUE\n\\item TRUE\n\\item TRUE\n\\item FALSE\n\\item TRUE\n\\item TRUE\n\\item FALSE\n\\item TRUE\n\\item FALSE\n\\item TRUE\n\\item FALSE\n\\item FALSE\n\\item TRUE\n\\item TRUE\n\\item FALSE\n\\item FALSE\n\\item FALSE\n\\item TRUE\n\\item FALSE\n\\item FALSE\n\\item FALSE\n\\item TRUE\n\\item FALSE\n\\item FALSE\n\\item FALSE\n\\item FALSE\n\\item FALSE\n\\item FALSE\n\\item TRUE\n\\item TRUE\n\\item FALSE\n\\item TRUE\n\\item FALSE\n\\item TRUE\n\\item FALSE\n\\item TRUE\n\\item TRUE\n\\item FALSE\n\\item TRUE\n\\item FALSE\n\\item TRUE\n\\item TRUE\n\\item FALSE\n\\item FALSE\n\\item TRUE\n\\item TRUE\n\\item FALSE\n\\item TRUE\n\\item TRUE\n\\item TRUE\n\\item TRUE\n\\item TRUE\n\\item FALSE\n\\item FALSE\n\\item TRUE\n\\item FALSE\n\\item FALSE\n\\item FALSE\n\\item TRUE\n\\item FALSE\n\\item TRUE\n\\item TRUE\n\\item FALSE\n\\item TRUE\n\\item FALSE\n\\item TRUE\n\\item FALSE\n\\item FALSE\n\\item FALSE\n\\item TRUE\n\\item FALSE\n\\item TRUE\n\\item TRUE\n\\item TRUE\n\\item FALSE\n\\item TRUE\n\\item FALSE\n\\item FALSE\n\\item FALSE\n\\item TRUE\n\\item FALSE\n\\item FALSE\n\\end{enumerate*}\n",
            "text/markdown": "1. TRUE\n2. FALSE\n3. TRUE\n4. TRUE\n5. FALSE\n6. FALSE\n7. TRUE\n8. TRUE\n9. FALSE\n10. FALSE\n11. TRUE\n12. FALSE\n13. FALSE\n14. TRUE\n15. FALSE\n16. FALSE\n17. TRUE\n18. FALSE\n19. TRUE\n20. TRUE\n21. TRUE\n22. FALSE\n23. TRUE\n24. TRUE\n25. FALSE\n26. TRUE\n27. FALSE\n28. TRUE\n29. FALSE\n30. FALSE\n31. TRUE\n32. TRUE\n33. FALSE\n34. FALSE\n35. FALSE\n36. TRUE\n37. FALSE\n38. FALSE\n39. FALSE\n40. TRUE\n41. FALSE\n42. FALSE\n43. FALSE\n44. FALSE\n45. FALSE\n46. FALSE\n47. TRUE\n48. TRUE\n49. FALSE\n50. TRUE\n51. FALSE\n52. TRUE\n53. FALSE\n54. TRUE\n55. TRUE\n56. FALSE\n57. TRUE\n58. FALSE\n59. TRUE\n60. TRUE\n61. FALSE\n62. FALSE\n63. TRUE\n64. TRUE\n65. FALSE\n66. TRUE\n67. TRUE\n68. TRUE\n69. TRUE\n70. TRUE\n71. FALSE\n72. FALSE\n73. TRUE\n74. FALSE\n75. FALSE\n76. FALSE\n77. TRUE\n78. FALSE\n79. TRUE\n80. TRUE\n81. FALSE\n82. TRUE\n83. FALSE\n84. TRUE\n85. FALSE\n86. FALSE\n87. FALSE\n88. TRUE\n89. FALSE\n90. TRUE\n91. TRUE\n92. TRUE\n93. FALSE\n94. TRUE\n95. FALSE\n96. FALSE\n97. FALSE\n98. TRUE\n99. FALSE\n100. FALSE\n\n\n",
            "text/html": [
              "<style>\n",
              ".list-inline {list-style: none; margin:0; padding: 0}\n",
              ".list-inline>li {display: inline-block}\n",
              ".list-inline>li:not(:last-child)::after {content: \"\\00b7\"; padding: 0 .5ex}\n",
              "</style>\n",
              "<ol class=list-inline><li>TRUE</li><li>FALSE</li><li>TRUE</li><li>TRUE</li><li>FALSE</li><li>FALSE</li><li>TRUE</li><li>TRUE</li><li>FALSE</li><li>FALSE</li><li>TRUE</li><li>FALSE</li><li>FALSE</li><li>TRUE</li><li>FALSE</li><li>FALSE</li><li>TRUE</li><li>FALSE</li><li>TRUE</li><li>TRUE</li><li>TRUE</li><li>FALSE</li><li>TRUE</li><li>TRUE</li><li>FALSE</li><li>TRUE</li><li>FALSE</li><li>TRUE</li><li>FALSE</li><li>FALSE</li><li>TRUE</li><li>TRUE</li><li>FALSE</li><li>FALSE</li><li>FALSE</li><li>TRUE</li><li>FALSE</li><li>FALSE</li><li>FALSE</li><li>TRUE</li><li>FALSE</li><li>FALSE</li><li>FALSE</li><li>FALSE</li><li>FALSE</li><li>FALSE</li><li>TRUE</li><li>TRUE</li><li>FALSE</li><li>TRUE</li><li>FALSE</li><li>TRUE</li><li>FALSE</li><li>TRUE</li><li>TRUE</li><li>FALSE</li><li>TRUE</li><li>FALSE</li><li>TRUE</li><li>TRUE</li><li>FALSE</li><li>FALSE</li><li>TRUE</li><li>TRUE</li><li>FALSE</li><li>TRUE</li><li>TRUE</li><li>TRUE</li><li>TRUE</li><li>TRUE</li><li>FALSE</li><li>FALSE</li><li>TRUE</li><li>FALSE</li><li>FALSE</li><li>FALSE</li><li>TRUE</li><li>FALSE</li><li>TRUE</li><li>TRUE</li><li>FALSE</li><li>TRUE</li><li>FALSE</li><li>TRUE</li><li>FALSE</li><li>FALSE</li><li>FALSE</li><li>TRUE</li><li>FALSE</li><li>TRUE</li><li>TRUE</li><li>TRUE</li><li>FALSE</li><li>TRUE</li><li>FALSE</li><li>FALSE</li><li>FALSE</li><li>TRUE</li><li>FALSE</li><li>FALSE</li></ol>\n"
            ]
          },
          "metadata": {
            "tags": []
          }
        }
      ]
    },
    {
      "cell_type": "markdown",
      "metadata": {
        "id": "i7p8FIdtm5Zs"
      },
      "source": [
        "**Paso 5**\n",
        "\n",
        "Finalmente cree un data frame llamado _precipitaciones_ con las siguientes columnas:<br>\n",
        "\n",
        "*Dia_semana* (con los valores del vector _dia_)<br>\n",
        "*Temperatura* (con los valores del vector _temp_)<br>\n",
        "*Llueve* (con los valores del vector _lluvia_)<br>\n",
        "*Estacion* (con los valores del vector _est_)<br>"
      ]
    },
    {
      "cell_type": "code",
      "metadata": {
        "trusted": true,
        "id": "o-TVm7uum5Zs"
      },
      "source": [
        "# Paso 5\n",
        "precipitaciones <- data.frame(Dia_semana = dia,\n",
        "                              Temperatura = temp,\n",
        "                              Llueve = lluvia,\n",
        "                              estacion = est)\n",
        "                              "
      ],
      "execution_count": 21,
      "outputs": []
    },
    {
      "cell_type": "code",
      "metadata": {
        "id": "1kY9ZrALv__g",
        "outputId": "9ddb9adf-be39-4702-e113-ef46e989851e",
        "colab": {
          "base_uri": "https://localhost:8080/",
          "height": 1000
        }
      },
      "source": [
        "precipitaciones"
      ],
      "execution_count": 22,
      "outputs": [
        {
          "output_type": "display_data",
          "data": {
            "text/plain": [
              "    Dia_semana Temperatura Llueve estacion\n",
              "1   L          10.6113380   TRUE  E1      \n",
              "2   M          29.8723238  FALSE  E1      \n",
              "3   W          13.0959447   TRUE  E1      \n",
              "4   J          13.7119460   TRUE  E1      \n",
              "5   V          34.7987680  FALSE  E1      \n",
              "6   S          26.8521470  FALSE  E1      \n",
              "7   D           5.6012732   TRUE  E1      \n",
              "8   L          12.3795444   TRUE  E1      \n",
              "9   M          24.6580783  FALSE  E1      \n",
              "10  W          29.1106375  FALSE  E1      \n",
              "11  J           0.5889642   TRUE  E1      \n",
              "12  V          20.9050285  FALSE  E1      \n",
              "13  S          22.9592105  FALSE  E1      \n",
              "14  D          10.9652094   TRUE  E1      \n",
              "15  L          27.2971386  FALSE  E1      \n",
              "16  M          29.1772789  FALSE  E1      \n",
              "17  W          16.8347209   TRUE  E1      \n",
              "18  J          30.7889118  FALSE  E1      \n",
              "19  V          19.0153509   TRUE  E1      \n",
              "20  S          13.1243069   TRUE  E1      \n",
              "21  D          19.5614578   TRUE  E1      \n",
              "22  L          31.7392403  FALSE  E1      \n",
              "23  M          18.0081535   TRUE  E1      \n",
              "24  W          10.7162929   TRUE  E1      \n",
              "25  J          21.4270427  FALSE  E1      \n",
              "26  V           6.3329144   TRUE  E1      \n",
              "27  S          37.8996780  FALSE  E1      \n",
              "28  D          14.6840294   TRUE  E1      \n",
              "29  L          25.9509722  FALSE  E1      \n",
              "30  M          23.2835643  FALSE  E1      \n",
              "⋮   ⋮          ⋮           ⋮      ⋮       \n",
              "71  L          28.867621   FALSE  E3      \n",
              "72  M          28.937700   FALSE  E3      \n",
              "73  W          15.795878    TRUE  E3      \n",
              "74  J          20.370686   FALSE  E3      \n",
              "75  V          35.923539   FALSE  E3      \n",
              "76  S          24.528261   FALSE  E3      \n",
              "77  D          14.518838    TRUE  E3      \n",
              "78  L          32.116044   FALSE  E3      \n",
              "79  M          18.089073    TRUE  E3      \n",
              "80  W          14.778025    TRUE  E3      \n",
              "81  J          28.115799   FALSE  E3      \n",
              "82  V          17.222663    TRUE  E3      \n",
              "83  S          24.151042   FALSE  E3      \n",
              "84  D          18.526599    TRUE  E3      \n",
              "85  L          21.734019   FALSE  E3      \n",
              "86  M          21.908207   FALSE  E3      \n",
              "87  W          20.506788   FALSE  E3      \n",
              "88  J          14.962603    TRUE  E3      \n",
              "89  V          34.577508   FALSE  E3      \n",
              "90  S          19.581045    TRUE  E3      \n",
              "91  D          17.077558    TRUE  E3      \n",
              "92  L          17.740870    TRUE  E3      \n",
              "93  M          27.034645   FALSE  E3      \n",
              "94  W           7.349959    TRUE  E3      \n",
              "95  J          20.950502   FALSE  E3      \n",
              "96  V          28.723202   FALSE  E3      \n",
              "97  S          23.736473   FALSE  E3      \n",
              "98  D          13.085804    TRUE  E3      \n",
              "99  L          20.732799   FALSE  E3      \n",
              "100 M          27.692961   FALSE  E3      "
            ],
            "text/latex": "A data.frame: 100 × 4\n\\begin{tabular}{llll}\n Dia\\_semana & Temperatura & Llueve & estacion\\\\\n <chr> & <dbl> & <lgl> & <chr>\\\\\n\\hline\n\t L & 10.6113380 &  TRUE & E1\\\\\n\t M & 29.8723238 & FALSE & E1\\\\\n\t W & 13.0959447 &  TRUE & E1\\\\\n\t J & 13.7119460 &  TRUE & E1\\\\\n\t V & 34.7987680 & FALSE & E1\\\\\n\t S & 26.8521470 & FALSE & E1\\\\\n\t D &  5.6012732 &  TRUE & E1\\\\\n\t L & 12.3795444 &  TRUE & E1\\\\\n\t M & 24.6580783 & FALSE & E1\\\\\n\t W & 29.1106375 & FALSE & E1\\\\\n\t J &  0.5889642 &  TRUE & E1\\\\\n\t V & 20.9050285 & FALSE & E1\\\\\n\t S & 22.9592105 & FALSE & E1\\\\\n\t D & 10.9652094 &  TRUE & E1\\\\\n\t L & 27.2971386 & FALSE & E1\\\\\n\t M & 29.1772789 & FALSE & E1\\\\\n\t W & 16.8347209 &  TRUE & E1\\\\\n\t J & 30.7889118 & FALSE & E1\\\\\n\t V & 19.0153509 &  TRUE & E1\\\\\n\t S & 13.1243069 &  TRUE & E1\\\\\n\t D & 19.5614578 &  TRUE & E1\\\\\n\t L & 31.7392403 & FALSE & E1\\\\\n\t M & 18.0081535 &  TRUE & E1\\\\\n\t W & 10.7162929 &  TRUE & E1\\\\\n\t J & 21.4270427 & FALSE & E1\\\\\n\t V &  6.3329144 &  TRUE & E1\\\\\n\t S & 37.8996780 & FALSE & E1\\\\\n\t D & 14.6840294 &  TRUE & E1\\\\\n\t L & 25.9509722 & FALSE & E1\\\\\n\t M & 23.2835643 & FALSE & E1\\\\\n\t ⋮ & ⋮ & ⋮ & ⋮\\\\\n\t L & 28.867621 & FALSE & E3\\\\\n\t M & 28.937700 & FALSE & E3\\\\\n\t W & 15.795878 &  TRUE & E3\\\\\n\t J & 20.370686 & FALSE & E3\\\\\n\t V & 35.923539 & FALSE & E3\\\\\n\t S & 24.528261 & FALSE & E3\\\\\n\t D & 14.518838 &  TRUE & E3\\\\\n\t L & 32.116044 & FALSE & E3\\\\\n\t M & 18.089073 &  TRUE & E3\\\\\n\t W & 14.778025 &  TRUE & E3\\\\\n\t J & 28.115799 & FALSE & E3\\\\\n\t V & 17.222663 &  TRUE & E3\\\\\n\t S & 24.151042 & FALSE & E3\\\\\n\t D & 18.526599 &  TRUE & E3\\\\\n\t L & 21.734019 & FALSE & E3\\\\\n\t M & 21.908207 & FALSE & E3\\\\\n\t W & 20.506788 & FALSE & E3\\\\\n\t J & 14.962603 &  TRUE & E3\\\\\n\t V & 34.577508 & FALSE & E3\\\\\n\t S & 19.581045 &  TRUE & E3\\\\\n\t D & 17.077558 &  TRUE & E3\\\\\n\t L & 17.740870 &  TRUE & E3\\\\\n\t M & 27.034645 & FALSE & E3\\\\\n\t W &  7.349959 &  TRUE & E3\\\\\n\t J & 20.950502 & FALSE & E3\\\\\n\t V & 28.723202 & FALSE & E3\\\\\n\t S & 23.736473 & FALSE & E3\\\\\n\t D & 13.085804 &  TRUE & E3\\\\\n\t L & 20.732799 & FALSE & E3\\\\\n\t M & 27.692961 & FALSE & E3\\\\\n\\end{tabular}\n",
            "text/markdown": "\nA data.frame: 100 × 4\n\n| Dia_semana &lt;chr&gt; | Temperatura &lt;dbl&gt; | Llueve &lt;lgl&gt; | estacion &lt;chr&gt; |\n|---|---|---|---|\n| L | 10.6113380 |  TRUE | E1 |\n| M | 29.8723238 | FALSE | E1 |\n| W | 13.0959447 |  TRUE | E1 |\n| J | 13.7119460 |  TRUE | E1 |\n| V | 34.7987680 | FALSE | E1 |\n| S | 26.8521470 | FALSE | E1 |\n| D |  5.6012732 |  TRUE | E1 |\n| L | 12.3795444 |  TRUE | E1 |\n| M | 24.6580783 | FALSE | E1 |\n| W | 29.1106375 | FALSE | E1 |\n| J |  0.5889642 |  TRUE | E1 |\n| V | 20.9050285 | FALSE | E1 |\n| S | 22.9592105 | FALSE | E1 |\n| D | 10.9652094 |  TRUE | E1 |\n| L | 27.2971386 | FALSE | E1 |\n| M | 29.1772789 | FALSE | E1 |\n| W | 16.8347209 |  TRUE | E1 |\n| J | 30.7889118 | FALSE | E1 |\n| V | 19.0153509 |  TRUE | E1 |\n| S | 13.1243069 |  TRUE | E1 |\n| D | 19.5614578 |  TRUE | E1 |\n| L | 31.7392403 | FALSE | E1 |\n| M | 18.0081535 |  TRUE | E1 |\n| W | 10.7162929 |  TRUE | E1 |\n| J | 21.4270427 | FALSE | E1 |\n| V |  6.3329144 |  TRUE | E1 |\n| S | 37.8996780 | FALSE | E1 |\n| D | 14.6840294 |  TRUE | E1 |\n| L | 25.9509722 | FALSE | E1 |\n| M | 23.2835643 | FALSE | E1 |\n| ⋮ | ⋮ | ⋮ | ⋮ |\n| L | 28.867621 | FALSE | E3 |\n| M | 28.937700 | FALSE | E3 |\n| W | 15.795878 |  TRUE | E3 |\n| J | 20.370686 | FALSE | E3 |\n| V | 35.923539 | FALSE | E3 |\n| S | 24.528261 | FALSE | E3 |\n| D | 14.518838 |  TRUE | E3 |\n| L | 32.116044 | FALSE | E3 |\n| M | 18.089073 |  TRUE | E3 |\n| W | 14.778025 |  TRUE | E3 |\n| J | 28.115799 | FALSE | E3 |\n| V | 17.222663 |  TRUE | E3 |\n| S | 24.151042 | FALSE | E3 |\n| D | 18.526599 |  TRUE | E3 |\n| L | 21.734019 | FALSE | E3 |\n| M | 21.908207 | FALSE | E3 |\n| W | 20.506788 | FALSE | E3 |\n| J | 14.962603 |  TRUE | E3 |\n| V | 34.577508 | FALSE | E3 |\n| S | 19.581045 |  TRUE | E3 |\n| D | 17.077558 |  TRUE | E3 |\n| L | 17.740870 |  TRUE | E3 |\n| M | 27.034645 | FALSE | E3 |\n| W |  7.349959 |  TRUE | E3 |\n| J | 20.950502 | FALSE | E3 |\n| V | 28.723202 | FALSE | E3 |\n| S | 23.736473 | FALSE | E3 |\n| D | 13.085804 |  TRUE | E3 |\n| L | 20.732799 | FALSE | E3 |\n| M | 27.692961 | FALSE | E3 |\n\n",
            "text/html": [
              "<table>\n",
              "<caption>A data.frame: 100 × 4</caption>\n",
              "<thead>\n",
              "\t<tr><th scope=col>Dia_semana</th><th scope=col>Temperatura</th><th scope=col>Llueve</th><th scope=col>estacion</th></tr>\n",
              "\t<tr><th scope=col>&lt;chr&gt;</th><th scope=col>&lt;dbl&gt;</th><th scope=col>&lt;lgl&gt;</th><th scope=col>&lt;chr&gt;</th></tr>\n",
              "</thead>\n",
              "<tbody>\n",
              "\t<tr><td>L</td><td>10.6113380</td><td> TRUE</td><td>E1</td></tr>\n",
              "\t<tr><td>M</td><td>29.8723238</td><td>FALSE</td><td>E1</td></tr>\n",
              "\t<tr><td>W</td><td>13.0959447</td><td> TRUE</td><td>E1</td></tr>\n",
              "\t<tr><td>J</td><td>13.7119460</td><td> TRUE</td><td>E1</td></tr>\n",
              "\t<tr><td>V</td><td>34.7987680</td><td>FALSE</td><td>E1</td></tr>\n",
              "\t<tr><td>S</td><td>26.8521470</td><td>FALSE</td><td>E1</td></tr>\n",
              "\t<tr><td>D</td><td> 5.6012732</td><td> TRUE</td><td>E1</td></tr>\n",
              "\t<tr><td>L</td><td>12.3795444</td><td> TRUE</td><td>E1</td></tr>\n",
              "\t<tr><td>M</td><td>24.6580783</td><td>FALSE</td><td>E1</td></tr>\n",
              "\t<tr><td>W</td><td>29.1106375</td><td>FALSE</td><td>E1</td></tr>\n",
              "\t<tr><td>J</td><td> 0.5889642</td><td> TRUE</td><td>E1</td></tr>\n",
              "\t<tr><td>V</td><td>20.9050285</td><td>FALSE</td><td>E1</td></tr>\n",
              "\t<tr><td>S</td><td>22.9592105</td><td>FALSE</td><td>E1</td></tr>\n",
              "\t<tr><td>D</td><td>10.9652094</td><td> TRUE</td><td>E1</td></tr>\n",
              "\t<tr><td>L</td><td>27.2971386</td><td>FALSE</td><td>E1</td></tr>\n",
              "\t<tr><td>M</td><td>29.1772789</td><td>FALSE</td><td>E1</td></tr>\n",
              "\t<tr><td>W</td><td>16.8347209</td><td> TRUE</td><td>E1</td></tr>\n",
              "\t<tr><td>J</td><td>30.7889118</td><td>FALSE</td><td>E1</td></tr>\n",
              "\t<tr><td>V</td><td>19.0153509</td><td> TRUE</td><td>E1</td></tr>\n",
              "\t<tr><td>S</td><td>13.1243069</td><td> TRUE</td><td>E1</td></tr>\n",
              "\t<tr><td>D</td><td>19.5614578</td><td> TRUE</td><td>E1</td></tr>\n",
              "\t<tr><td>L</td><td>31.7392403</td><td>FALSE</td><td>E1</td></tr>\n",
              "\t<tr><td>M</td><td>18.0081535</td><td> TRUE</td><td>E1</td></tr>\n",
              "\t<tr><td>W</td><td>10.7162929</td><td> TRUE</td><td>E1</td></tr>\n",
              "\t<tr><td>J</td><td>21.4270427</td><td>FALSE</td><td>E1</td></tr>\n",
              "\t<tr><td>V</td><td> 6.3329144</td><td> TRUE</td><td>E1</td></tr>\n",
              "\t<tr><td>S</td><td>37.8996780</td><td>FALSE</td><td>E1</td></tr>\n",
              "\t<tr><td>D</td><td>14.6840294</td><td> TRUE</td><td>E1</td></tr>\n",
              "\t<tr><td>L</td><td>25.9509722</td><td>FALSE</td><td>E1</td></tr>\n",
              "\t<tr><td>M</td><td>23.2835643</td><td>FALSE</td><td>E1</td></tr>\n",
              "\t<tr><td>⋮</td><td>⋮</td><td>⋮</td><td>⋮</td></tr>\n",
              "\t<tr><td>L</td><td>28.867621</td><td>FALSE</td><td>E3</td></tr>\n",
              "\t<tr><td>M</td><td>28.937700</td><td>FALSE</td><td>E3</td></tr>\n",
              "\t<tr><td>W</td><td>15.795878</td><td> TRUE</td><td>E3</td></tr>\n",
              "\t<tr><td>J</td><td>20.370686</td><td>FALSE</td><td>E3</td></tr>\n",
              "\t<tr><td>V</td><td>35.923539</td><td>FALSE</td><td>E3</td></tr>\n",
              "\t<tr><td>S</td><td>24.528261</td><td>FALSE</td><td>E3</td></tr>\n",
              "\t<tr><td>D</td><td>14.518838</td><td> TRUE</td><td>E3</td></tr>\n",
              "\t<tr><td>L</td><td>32.116044</td><td>FALSE</td><td>E3</td></tr>\n",
              "\t<tr><td>M</td><td>18.089073</td><td> TRUE</td><td>E3</td></tr>\n",
              "\t<tr><td>W</td><td>14.778025</td><td> TRUE</td><td>E3</td></tr>\n",
              "\t<tr><td>J</td><td>28.115799</td><td>FALSE</td><td>E3</td></tr>\n",
              "\t<tr><td>V</td><td>17.222663</td><td> TRUE</td><td>E3</td></tr>\n",
              "\t<tr><td>S</td><td>24.151042</td><td>FALSE</td><td>E3</td></tr>\n",
              "\t<tr><td>D</td><td>18.526599</td><td> TRUE</td><td>E3</td></tr>\n",
              "\t<tr><td>L</td><td>21.734019</td><td>FALSE</td><td>E3</td></tr>\n",
              "\t<tr><td>M</td><td>21.908207</td><td>FALSE</td><td>E3</td></tr>\n",
              "\t<tr><td>W</td><td>20.506788</td><td>FALSE</td><td>E3</td></tr>\n",
              "\t<tr><td>J</td><td>14.962603</td><td> TRUE</td><td>E3</td></tr>\n",
              "\t<tr><td>V</td><td>34.577508</td><td>FALSE</td><td>E3</td></tr>\n",
              "\t<tr><td>S</td><td>19.581045</td><td> TRUE</td><td>E3</td></tr>\n",
              "\t<tr><td>D</td><td>17.077558</td><td> TRUE</td><td>E3</td></tr>\n",
              "\t<tr><td>L</td><td>17.740870</td><td> TRUE</td><td>E3</td></tr>\n",
              "\t<tr><td>M</td><td>27.034645</td><td>FALSE</td><td>E3</td></tr>\n",
              "\t<tr><td>W</td><td> 7.349959</td><td> TRUE</td><td>E3</td></tr>\n",
              "\t<tr><td>J</td><td>20.950502</td><td>FALSE</td><td>E3</td></tr>\n",
              "\t<tr><td>V</td><td>28.723202</td><td>FALSE</td><td>E3</td></tr>\n",
              "\t<tr><td>S</td><td>23.736473</td><td>FALSE</td><td>E3</td></tr>\n",
              "\t<tr><td>D</td><td>13.085804</td><td> TRUE</td><td>E3</td></tr>\n",
              "\t<tr><td>L</td><td>20.732799</td><td>FALSE</td><td>E3</td></tr>\n",
              "\t<tr><td>M</td><td>27.692961</td><td>FALSE</td><td>E3</td></tr>\n",
              "</tbody>\n",
              "</table>\n"
            ]
          },
          "metadata": {
            "tags": []
          }
        }
      ]
    },
    {
      "cell_type": "code",
      "metadata": {
        "id": "5uiCAHd-wMea",
        "outputId": "33bf8276-6fb4-4cf5-adcd-0e2e06b09a8a",
        "colab": {
          "base_uri": "https://localhost:8080/",
          "height": 145
        }
      },
      "source": [
        "summary(precipitaciones)"
      ],
      "execution_count": 23,
      "outputs": [
        {
          "output_type": "display_data",
          "data": {
            "text/plain": [
              "  Dia_semana         Temperatura         Llueve          estacion        \n",
              " Length:100         Min.   :-0.07325   Mode :logical   Length:100        \n",
              " Class :character   1st Qu.:15.83071   FALSE:53        Class :character  \n",
              " Mode  :character   Median :20.43874   TRUE :47        Mode  :character  \n",
              "                    Mean   :20.96390                                     \n",
              "                    3rd Qu.:26.89777                                     \n",
              "                    Max.   :48.69000                                     "
            ]
          },
          "metadata": {
            "tags": []
          }
        }
      ]
    },
    {
      "cell_type": "markdown",
      "metadata": {
        "id": "kIjelA5sm5Zx"
      },
      "source": [
        "#### Strings como factores\n",
        "Cuando en R se declara una variable como factor, internamente se codifican sus categorías con valores 0 o 1. Por ejemplo, para las variables _Dia_ y _Estacion_ podemos generar sus matriz de diseño, indicando un 1 si el día (o estación) corresponde a la nueva columna generada, 0 si  no:\n",
        "\n",
        " |Dia |Temperatura    |Llueve| Estacion| | Dia.L|Dia.M|Dia.W|Dia.J|Dia.V|Dia.S|Dia.D|Est.1|Est.2|Est.3|\n",
        " |----|------------   |------|---------| |---   |---  |---  |---  |---  |---  |---  |---  |---  |---  |\n",
        " |L\t  |16.300201      |TRUE  |\tE1     | |1     |0    |0    |0    |0    |0    |0    |1    |0    |0    |\n",
        " |M   |21.042854      |FALSE |\tE1     | |0     |1    |0    |0    |0    |0    |0    |1    |0    |0    |\n",
        " |J\t  |31.256043      |FALSE |\tE3     | |0     |0    |0    |1    |0    |0    |0    |0    |0    |1    |\n",
        " |S\t  |40.083514      |FALSE |\tE3     | |0     |0    |0    |0    |0    |1    |0    |0    |0    |1    |\n",
        " \n",
        " Cuando se quiere generar un resumen de una variable categórica, o cuando se quiere incluir una variable de este tipo en el entrenamiento de un modelo será necesario declarar dicha variable como factor."
      ]
    },
    {
      "cell_type": "code",
      "metadata": {
        "trusted": true,
        "id": "1CRAXTdqm5Zx"
      },
      "source": [
        " precipitaciones$Dia_semana <- as.factor(precipitaciones$Dia_semana)"
      ],
      "execution_count": 24,
      "outputs": []
    },
    {
      "cell_type": "code",
      "metadata": {
        "trusted": true,
        "id": "Oxg6qkSim5Z0",
        "outputId": "32d5a31f-3db8-40be-c43d-551b9d9d17fc",
        "colab": {
          "base_uri": "https://localhost:8080/",
          "height": 204
        }
      },
      "source": [
        "head(precipitaciones)"
      ],
      "execution_count": 25,
      "outputs": [
        {
          "output_type": "display_data",
          "data": {
            "text/plain": [
              "  Dia_semana Temperatura Llueve estacion\n",
              "1 L          10.61134     TRUE  E1      \n",
              "2 M          29.87232    FALSE  E1      \n",
              "3 W          13.09594     TRUE  E1      \n",
              "4 J          13.71195     TRUE  E1      \n",
              "5 V          34.79877    FALSE  E1      \n",
              "6 S          26.85215    FALSE  E1      "
            ],
            "text/latex": "A data.frame: 6 × 4\n\\begin{tabular}{r|llll}\n  & Dia\\_semana & Temperatura & Llueve & estacion\\\\\n  & <fct> & <dbl> & <lgl> & <chr>\\\\\n\\hline\n\t1 & L & 10.61134 &  TRUE & E1\\\\\n\t2 & M & 29.87232 & FALSE & E1\\\\\n\t3 & W & 13.09594 &  TRUE & E1\\\\\n\t4 & J & 13.71195 &  TRUE & E1\\\\\n\t5 & V & 34.79877 & FALSE & E1\\\\\n\t6 & S & 26.85215 & FALSE & E1\\\\\n\\end{tabular}\n",
            "text/markdown": "\nA data.frame: 6 × 4\n\n| <!--/--> | Dia_semana &lt;fct&gt; | Temperatura &lt;dbl&gt; | Llueve &lt;lgl&gt; | estacion &lt;chr&gt; |\n|---|---|---|---|---|\n| 1 | L | 10.61134 |  TRUE | E1 |\n| 2 | M | 29.87232 | FALSE | E1 |\n| 3 | W | 13.09594 |  TRUE | E1 |\n| 4 | J | 13.71195 |  TRUE | E1 |\n| 5 | V | 34.79877 | FALSE | E1 |\n| 6 | S | 26.85215 | FALSE | E1 |\n\n",
            "text/html": [
              "<table>\n",
              "<caption>A data.frame: 6 × 4</caption>\n",
              "<thead>\n",
              "\t<tr><th></th><th scope=col>Dia_semana</th><th scope=col>Temperatura</th><th scope=col>Llueve</th><th scope=col>estacion</th></tr>\n",
              "\t<tr><th></th><th scope=col>&lt;fct&gt;</th><th scope=col>&lt;dbl&gt;</th><th scope=col>&lt;lgl&gt;</th><th scope=col>&lt;chr&gt;</th></tr>\n",
              "</thead>\n",
              "<tbody>\n",
              "\t<tr><th scope=row>1</th><td>L</td><td>10.61134</td><td> TRUE</td><td>E1</td></tr>\n",
              "\t<tr><th scope=row>2</th><td>M</td><td>29.87232</td><td>FALSE</td><td>E1</td></tr>\n",
              "\t<tr><th scope=row>3</th><td>W</td><td>13.09594</td><td> TRUE</td><td>E1</td></tr>\n",
              "\t<tr><th scope=row>4</th><td>J</td><td>13.71195</td><td> TRUE</td><td>E1</td></tr>\n",
              "\t<tr><th scope=row>5</th><td>V</td><td>34.79877</td><td>FALSE</td><td>E1</td></tr>\n",
              "\t<tr><th scope=row>6</th><td>S</td><td>26.85215</td><td>FALSE</td><td>E1</td></tr>\n",
              "</tbody>\n",
              "</table>\n"
            ]
          },
          "metadata": {
            "tags": []
          }
        }
      ]
    },
    {
      "cell_type": "code",
      "metadata": {
        "id": "kPpInJ-6yJ1g",
        "outputId": "609c869b-70c7-4529-c45f-af07310af20f",
        "colab": {
          "base_uri": "https://localhost:8080/",
          "height": 163
        }
      },
      "source": [
        "summary(precipitaciones)"
      ],
      "execution_count": 26,
      "outputs": [
        {
          "output_type": "display_data",
          "data": {
            "text/plain": [
              " Dia_semana  Temperatura         Llueve          estacion        \n",
              " D:14       Min.   :-0.07325   Mode :logical   Length:100        \n",
              " J:14       1st Qu.:15.83071   FALSE:53        Class :character  \n",
              " L:15       Median :20.43874   TRUE :47        Mode  :character  \n",
              " M:15       Mean   :20.96390                                     \n",
              " S:14       3rd Qu.:26.89777                                     \n",
              " V:14       Max.   :48.69000                                     \n",
              " W:14                                                            "
            ]
          },
          "metadata": {
            "tags": []
          }
        }
      ]
    },
    {
      "cell_type": "code",
      "metadata": {
        "id": "-46ParPTyctQ",
        "outputId": "25287920-1542-4cd2-903c-587b44965dbb",
        "colab": {
          "base_uri": "https://localhost:8080/"
        }
      },
      "source": [
        "str(precipitaciones)"
      ],
      "execution_count": 27,
      "outputs": [
        {
          "output_type": "stream",
          "text": [
            "'data.frame':\t100 obs. of  4 variables:\n",
            " $ Dia_semana : Factor w/ 7 levels \"D\",\"J\",\"L\",\"M\",..: 3 4 7 2 6 5 1 3 4 7 ...\n",
            " $ Temperatura: num  10.6 29.9 13.1 13.7 34.8 ...\n",
            " $ Llueve     : logi  TRUE FALSE TRUE TRUE FALSE FALSE ...\n",
            " $ estacion   : chr  \"E1\" \"E1\" \"E1\" \"E1\" ...\n"
          ],
          "name": "stdout"
        }
      ]
    },
    {
      "cell_type": "code",
      "metadata": {
        "trusted": true,
        "id": "UQN71LvGm5Z-",
        "outputId": "f3a4f799-69b0-4cef-b6b4-eef5176d3579",
        "colab": {
          "base_uri": "https://localhost:8080/"
        }
      },
      "source": [
        "#podemos volver a coercionar las columnas a clase character,  con la función as.character\n",
        " precipitaciones$Dia_semana <- as.character(precipitaciones$Dia_semana)\n",
        " str(precipitaciones)"
      ],
      "execution_count": 28,
      "outputs": [
        {
          "output_type": "stream",
          "text": [
            "'data.frame':\t100 obs. of  4 variables:\n",
            " $ Dia_semana : chr  \"L\" \"M\" \"W\" \"J\" ...\n",
            " $ Temperatura: num  10.6 29.9 13.1 13.7 34.8 ...\n",
            " $ Llueve     : logi  TRUE FALSE TRUE TRUE FALSE FALSE ...\n",
            " $ estacion   : chr  \"E1\" \"E1\" \"E1\" \"E1\" ...\n"
          ],
          "name": "stdout"
        }
      ]
    },
    {
      "cell_type": "code",
      "metadata": {
        "trusted": true,
        "id": "5kjmwaOUm5aA",
        "outputId": "21ccfaff-d2da-4b12-e5df-5b4dfa7a5297",
        "colab": {
          "base_uri": "https://localhost:8080/",
          "height": 121
        }
      },
      "source": [
        "# Un poco de exploración --------------------------------\n",
        "# ¿Cuál es la temperatura promedio cuando llovió?\n",
        "mean(precipitaciones$Temperatura[ precipitaciones$Llueve == T ])\n",
        "mean(precipitaciones$Temperatura[ precipitaciones$Llueve ])\n",
        "\n",
        "# ¿Cuál es la temperatura promedio cuando NO llovió?\n",
        "mean(precipitaciones$Temperatura[ !precipitaciones$Llueve == T ])\n",
        "mean(precipitaciones$Temperatura[ precipitaciones$Llueve != T ])\n",
        "mean(precipitaciones$Temperatura[ precipitaciones$Llueve == F ])\n",
        "mean(precipitaciones$Temperatura[ !precipitaciones$Llueve ])\n",
        "\n",
        "#Lo mismo pero sólo de los registros de E1\n",
        "\n"
      ],
      "execution_count": 36,
      "outputs": [
        {
          "output_type": "display_data",
          "data": {
            "text/plain": [
              "[1] 14.22356"
            ],
            "text/latex": "14.2235601308932",
            "text/markdown": "14.2235601308932",
            "text/html": [
              "14.2235601308932"
            ]
          },
          "metadata": {
            "tags": []
          }
        },
        {
          "output_type": "display_data",
          "data": {
            "text/plain": [
              "[1] 14.22356"
            ],
            "text/latex": "14.2235601308932",
            "text/markdown": "14.2235601308932",
            "text/html": [
              "14.2235601308932"
            ]
          },
          "metadata": {
            "tags": []
          }
        },
        {
          "output_type": "display_data",
          "data": {
            "text/plain": [
              "[1] 26.94119"
            ],
            "text/latex": "26.9411914811499",
            "text/markdown": "26.9411914811499",
            "text/html": [
              "26.9411914811499"
            ]
          },
          "metadata": {
            "tags": []
          }
        },
        {
          "output_type": "display_data",
          "data": {
            "text/plain": [
              "[1] 26.94119"
            ],
            "text/latex": "26.9411914811499",
            "text/markdown": "26.9411914811499",
            "text/html": [
              "26.9411914811499"
            ]
          },
          "metadata": {
            "tags": []
          }
        },
        {
          "output_type": "display_data",
          "data": {
            "text/plain": [
              "[1] 26.94119"
            ],
            "text/latex": "26.9411914811499",
            "text/markdown": "26.9411914811499",
            "text/html": [
              "26.9411914811499"
            ]
          },
          "metadata": {
            "tags": []
          }
        },
        {
          "output_type": "display_data",
          "data": {
            "text/plain": [
              "[1] 26.94119"
            ],
            "text/latex": "26.9411914811499",
            "text/markdown": "26.9411914811499",
            "text/html": [
              "26.9411914811499"
            ]
          },
          "metadata": {
            "tags": []
          }
        }
      ]
    },
    {
      "cell_type": "code",
      "metadata": {
        "trusted": true,
        "id": "TJuAlpPxm5aC"
      },
      "source": [
        "# ¿Qué día era cuando se alcanzó la mínima temperatura?¿y la ,máxima?\n",
        "#La función which.min #o .max . retorna la posición donde se alcanza el min/max de un vector.\n",
        "\n",
        "# opcion 1\n",
        "\n",
        "# opcion 2\n"
      ],
      "execution_count": null,
      "outputs": []
    },
    {
      "cell_type": "code",
      "metadata": {
        "trusted": true,
        "id": "WHf5YnPWm5aF"
      },
      "source": [
        "# Una forma de eliminar registros en vector\n",
        "\n",
        "\n"
      ],
      "execution_count": null,
      "outputs": []
    },
    {
      "cell_type": "code",
      "metadata": {
        "trusted": true,
        "id": "6Vx1ojnAm5aH"
      },
      "source": [
        "# POdemos eliminar los registros de posición 3 y 4\n"
      ],
      "execution_count": null,
      "outputs": []
    },
    {
      "cell_type": "code",
      "metadata": {
        "trusted": true,
        "id": "K9Qv9n_nm5aJ"
      },
      "source": [
        "# Si queremos ver esa misma fila de la tabla precipitaciones.\n",
        "\n",
        "\n",
        "# Se sabe que la Estación E3 falla todos los días domingo, por lo que se quiere eliminar tales registros de la tabla. Elimínelos!\n",
        "\n"
      ],
      "execution_count": null,
      "outputs": []
    },
    {
      "cell_type": "code",
      "metadata": {
        "trusted": true,
        "id": "nuW7ux65m5aL"
      },
      "source": [
        "dim(precipitaciones)"
      ],
      "execution_count": null,
      "outputs": []
    },
    {
      "cell_type": "markdown",
      "metadata": {
        "id": "5fmGF0Qam5aN"
      },
      "source": [
        "## 5.4 Cómo guardar ambiente de trabajo o variables definidas en el\n",
        "\n",
        "### Directorio de trabajo\n",
        "\n",
        "El directorio de trabajo corresponde a la ubicación en el sistema de archivos, desde donde la sesión de R podrá acceder directamente para guardar o cargar datos.\n"
      ]
    },
    {
      "cell_type": "code",
      "metadata": {
        "trusted": true,
        "id": "OfyO5MKOm5aO"
      },
      "source": [
        "# para saber en qué directorio se está trabajando\n"
      ],
      "execution_count": null,
      "outputs": []
    },
    {
      "cell_type": "code",
      "metadata": {
        "trusted": true,
        "id": "fHZIjYhRm5aQ"
      },
      "source": [
        "# para cambiar el directorio de trabajo\n",
        "\n"
      ],
      "execution_count": null,
      "outputs": []
    },
    {
      "cell_type": "code",
      "metadata": {
        "trusted": true,
        "id": "2Q-PMPrQm5aS"
      },
      "source": [
        ""
      ],
      "execution_count": null,
      "outputs": []
    },
    {
      "cell_type": "markdown",
      "metadata": {
        "id": "_M-D6sgRm5aU"
      },
      "source": [
        "### Formato rds \n",
        "\n",
        "Una manera de guardar variables creadas en el ambiente de la sessión de R, es mediante la utilización del formato *.rds. Este formato permite guardar los objetos declarados y leerlos rápidamente en cualquier otra sesión que se inicie posteriormente. Es últil por ejemplo para guardar en disco modelos entrenados para ser utilizados para predicciones futuras.\n"
      ]
    },
    {
      "cell_type": "code",
      "metadata": {
        "trusted": true,
        "id": "11jJ5B50m5aV"
      },
      "source": [
        "# Función saveRDS() # Guardar\n",
        "# guarde en el directorio actual el dataframe _precipitaciones_\n"
      ],
      "execution_count": null,
      "outputs": []
    },
    {
      "cell_type": "code",
      "metadata": {
        "trusted": true,
        "id": "DixES_Kjm5ah"
      },
      "source": [
        "# readRDS()  Leer, pero ojo que es necesario asignar  a una variable\n"
      ],
      "execution_count": null,
      "outputs": []
    },
    {
      "cell_type": "markdown",
      "metadata": {
        "id": "_4pmC4cBm5as"
      },
      "source": [
        "### Formato RData\n",
        "\n",
        "Cuando se quiere guardar el ambiente de trabajo completo, o bien un mayor número de objetos ya creados, se puede utilizar la función _save_\n"
      ]
    },
    {
      "cell_type": "code",
      "metadata": {
        "trusted": true,
        "id": "M5yFyJ27m5at"
      },
      "source": [
        "# Función save para guardar uno o más objetos del ambiente.\n",
        "\n"
      ],
      "execution_count": null,
      "outputs": []
    },
    {
      "cell_type": "code",
      "metadata": {
        "trusted": true,
        "id": "YDmd1Npmm5ay"
      },
      "source": [
        "# Eventualmente podemos \"cargar \" a sesión, con la función load()\n"
      ],
      "execution_count": null,
      "outputs": []
    },
    {
      "cell_type": "code",
      "metadata": {
        "trusted": true,
        "id": "23sp9RfHm5a1"
      },
      "source": [
        ""
      ],
      "execution_count": null,
      "outputs": []
    }
  ]
}