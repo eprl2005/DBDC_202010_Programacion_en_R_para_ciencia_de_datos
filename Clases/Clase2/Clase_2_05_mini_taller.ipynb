{
  "nbformat": 4,
  "nbformat_minor": 0,
  "metadata": {
    "colab": {
      "name": "Clase 2_05_mini_taller.ipynb",
      "provenance": [],
      "toc_visible": true,
      "include_colab_link": true
    },
    "kernelspec": {
      "name": "ir",
      "display_name": "R"
    }
  },
  "cells": [
    {
      "cell_type": "markdown",
      "metadata": {
        "id": "view-in-github",
        "colab_type": "text"
      },
      "source": [
        "<a href=\"https://colab.research.google.com/github/majorquev/DBDC_202010_Programacion_en_R_para_ciencia_de_datos/blob/main/Clases/Clase2/Clase_2_05_mini_taller.ipynb\" target=\"_parent\"><img src=\"https://colab.research.google.com/assets/colab-badge.svg\" alt=\"Open In Colab\"/></a>"
      ]
    },
    {
      "cell_type": "markdown",
      "metadata": {
        "collapsed": true,
        "id": "EZ0yOlnfm5Zb"
      },
      "source": [
        "## Mini taller 1\n",
        "\n",
        "Los dataframes corresponden a uno de los objetos más utilizados en R para analizar datos tabulares,\n",
        "por lo que se hace necesario en muchos casos realizar consultas a los datos que contiene un dataframe,\n",
        "(filtros, cruces de tablas, creación de columnas, etc). Por ahora veremos una de las formas más \"primitivas\" para la manipulación de un data.frame.\n",
        "\n",
        "Para ello consideremos el siguiente ejercicio.\n",
        "\n",
        "**Paso 1**\n",
        "Mediante la función rnorm(), genere una muestra aleatoria de 100 datos , con media 21 y desviación estándar 8 (más adelante veremos esto con un poco más de detalle), y guárdela en una variable llamada temp.\n",
        "\n"
      ]
    },
    {
      "cell_type": "code",
      "metadata": {
        "trusted": true,
        "id": "9f6cXmN3m5Zc",
        "outputId": "4c10d771-b881-4279-a2ea-fc5254994840",
        "colab": {
          "base_uri": "https://localhost:8080/",
          "height": 153
        }
      },
      "source": [
        "# 5.3 Mini taller --------\n",
        "# Paso 1\n",
        "temp <- rnorm(n = 100, mean = 21, sd = 8)\n",
        "temp\n"
      ],
      "execution_count": 1,
      "outputs": [
        {
          "output_type": "display_data",
          "data": {
            "text/plain": [
              "  [1] 27.637092 18.984552 11.537028 29.090220 13.245154 18.115057 24.475158\n",
              "  [8] 27.995877 22.331097 24.946983 32.374265 21.420404 22.791125 19.870387\n",
              " [15] 32.762603  9.910417 28.117430 17.978785 23.119776 22.970304 27.325724\n",
              " [22] 29.303089 24.131837 16.583755 17.990972 18.280570 25.364706 31.444450\n",
              " [29] 28.409994 31.072741 32.973572 22.606659 28.340704 14.660520 25.032643\n",
              " [36] 18.067279 18.030990 16.640761 19.642121 28.442534 18.634211 20.533237\n",
              " [43] 25.583469 25.266445 34.598602 15.513447 11.684217 12.657788 24.724874\n",
              " [50] 10.160176 24.951860 27.534475 15.219208 28.236527 18.709395 21.273687\n",
              " [57] 17.240056  5.348163 16.168885 23.695859 16.090793 32.324816 12.997050\n",
              " [64] 24.821383 23.495421 30.119748  9.417253 18.822571 24.326998 28.792908\n",
              " [71]  9.157766 14.585625 27.639348 19.943772 19.838251 17.428402 22.181550\n",
              " [78] 14.958325 30.462201 28.640289 13.189194 28.322945 32.529786 14.228456\n",
              " [85] 23.877090 25.284431  9.993866 28.337018 24.481617 12.877606 40.020939\n",
              " [92] 36.715297 14.282740 31.599450 11.558713 20.419558 14.590049 24.390088\n",
              " [99] 14.801112 17.109115"
            ],
            "text/latex": "\\begin{enumerate*}\n\\item 27.6370919419555\n\\item 18.9845518893215\n\\item 11.5370277009127\n\\item 29.0902197548402\n\\item 13.2451535877475\n\\item 18.1150565137636\n\\item 24.4751580376718\n\\item 27.9958767905229\n\\item 22.3310967339076\n\\item 24.9469826716246\n\\item 32.3742653871589\n\\item 21.4204038432961\n\\item 22.79112539359\n\\item 19.8703867990969\n\\item 32.7626026743228\n\\item 9.9104168978035\n\\item 28.1174304907211\n\\item 17.978785074183\n\\item 23.1197760806686\n\\item 22.9703042191702\n\\item 27.3257237128784\n\\item 29.303088657929\n\\item 24.1318367374588\n\\item 16.5837546718207\n\\item 17.9909719099974\n\\item 18.2805703246297\n\\item 25.3647058507487\n\\item 31.4444500367065\n\\item 28.4099937822216\n\\item 31.0727411157955\n\\item 32.9735718178654\n\\item 22.6066586503219\n\\item 28.3407037720393\n\\item 14.6605204309634\n\\item 25.0326434364539\n\\item 18.0672793738902\n\\item 18.0309902383369\n\\item 16.6407611220678\n\\item 19.6421205143902\n\\item 28.442533666939\n\\item 18.6342112593497\n\\item 20.5332370786058\n\\item 25.5834689938204\n\\item 25.2664453111634\n\\item 34.598601657239\n\\item 15.5134466879547\n\\item 11.6842168099502\n\\item 12.6577880079512\n\\item 24.7248736914965\n\\item 10.1601764001468\n\\item 24.951860125549\n\\item 27.534475315724\n\\item 15.2192076626373\n\\item 28.2365270879059\n\\item 18.7093950040751\n\\item 21.2736866307693\n\\item 17.2400558390183\n\\item 5.34816280387146\n\\item 16.1688850077793\n\\item 23.6958592135079\n\\item 16.0907932778886\n\\item 32.3248160207566\n\\item 12.997049762243\n\\item 24.8213831811793\n\\item 23.4954205692605\n\\item 30.1197476386383\n\\item 9.41725261913193\n\\item 18.8225712864395\n\\item 24.3269975489137\n\\item 28.79290799671\n\\item 9.15776596887092\n\\item 14.5856245581229\n\\item 27.6393482019567\n\\item 19.9437716605153\n\\item 19.8382512825486\n\\item 17.4284020339378\n\\item 22.1815499906544\n\\item 14.9583251714442\n\\item 30.462201483865\n\\item 28.6402886506299\n\\item 13.189193818327\n\\item 28.3229449728686\n\\item 32.5297860939581\n\\item 14.2284560984443\n\\item 23.8770904738507\n\\item 25.2844305967808\n\\item 9.99386593660535\n\\item 28.3370182974792\n\\item 24.4816174377304\n\\item 12.8776060329017\n\\item 40.0209388369825\n\\item 36.7152967214666\n\\item 14.2827402821519\n\\item 31.5994501199826\n\\item 11.5587125722533\n\\item 20.4195579731661\n\\item 14.5900489767535\n\\item 24.3900875478178\n\\item 14.801111980612\n\\item 17.1091145047401\n\\end{enumerate*}\n",
            "text/markdown": "1. 27.6370919419555\n2. 18.9845518893215\n3. 11.5370277009127\n4. 29.0902197548402\n5. 13.2451535877475\n6. 18.1150565137636\n7. 24.4751580376718\n8. 27.9958767905229\n9. 22.3310967339076\n10. 24.9469826716246\n11. 32.3742653871589\n12. 21.4204038432961\n13. 22.79112539359\n14. 19.8703867990969\n15. 32.7626026743228\n16. 9.9104168978035\n17. 28.1174304907211\n18. 17.978785074183\n19. 23.1197760806686\n20. 22.9703042191702\n21. 27.3257237128784\n22. 29.303088657929\n23. 24.1318367374588\n24. 16.5837546718207\n25. 17.9909719099974\n26. 18.2805703246297\n27. 25.3647058507487\n28. 31.4444500367065\n29. 28.4099937822216\n30. 31.0727411157955\n31. 32.9735718178654\n32. 22.6066586503219\n33. 28.3407037720393\n34. 14.6605204309634\n35. 25.0326434364539\n36. 18.0672793738902\n37. 18.0309902383369\n38. 16.6407611220678\n39. 19.6421205143902\n40. 28.442533666939\n41. 18.6342112593497\n42. 20.5332370786058\n43. 25.5834689938204\n44. 25.2664453111634\n45. 34.598601657239\n46. 15.5134466879547\n47. 11.6842168099502\n48. 12.6577880079512\n49. 24.7248736914965\n50. 10.1601764001468\n51. 24.951860125549\n52. 27.534475315724\n53. 15.2192076626373\n54. 28.2365270879059\n55. 18.7093950040751\n56. 21.2736866307693\n57. 17.2400558390183\n58. 5.34816280387146\n59. 16.1688850077793\n60. 23.6958592135079\n61. 16.0907932778886\n62. 32.3248160207566\n63. 12.997049762243\n64. 24.8213831811793\n65. 23.4954205692605\n66. 30.1197476386383\n67. 9.41725261913193\n68. 18.8225712864395\n69. 24.3269975489137\n70. 28.79290799671\n71. 9.15776596887092\n72. 14.5856245581229\n73. 27.6393482019567\n74. 19.9437716605153\n75. 19.8382512825486\n76. 17.4284020339378\n77. 22.1815499906544\n78. 14.9583251714442\n79. 30.462201483865\n80. 28.6402886506299\n81. 13.189193818327\n82. 28.3229449728686\n83. 32.5297860939581\n84. 14.2284560984443\n85. 23.8770904738507\n86. 25.2844305967808\n87. 9.99386593660535\n88. 28.3370182974792\n89. 24.4816174377304\n90. 12.8776060329017\n91. 40.0209388369825\n92. 36.7152967214666\n93. 14.2827402821519\n94. 31.5994501199826\n95. 11.5587125722533\n96. 20.4195579731661\n97. 14.5900489767535\n98. 24.3900875478178\n99. 14.801111980612\n100. 17.1091145047401\n\n\n",
            "text/html": [
              "<style>\n",
              ".list-inline {list-style: none; margin:0; padding: 0}\n",
              ".list-inline>li {display: inline-block}\n",
              ".list-inline>li:not(:last-child)::after {content: \"\\00b7\"; padding: 0 .5ex}\n",
              "</style>\n",
              "<ol class=list-inline><li>27.6370919419555</li><li>18.9845518893215</li><li>11.5370277009127</li><li>29.0902197548402</li><li>13.2451535877475</li><li>18.1150565137636</li><li>24.4751580376718</li><li>27.9958767905229</li><li>22.3310967339076</li><li>24.9469826716246</li><li>32.3742653871589</li><li>21.4204038432961</li><li>22.79112539359</li><li>19.8703867990969</li><li>32.7626026743228</li><li>9.9104168978035</li><li>28.1174304907211</li><li>17.978785074183</li><li>23.1197760806686</li><li>22.9703042191702</li><li>27.3257237128784</li><li>29.303088657929</li><li>24.1318367374588</li><li>16.5837546718207</li><li>17.9909719099974</li><li>18.2805703246297</li><li>25.3647058507487</li><li>31.4444500367065</li><li>28.4099937822216</li><li>31.0727411157955</li><li>32.9735718178654</li><li>22.6066586503219</li><li>28.3407037720393</li><li>14.6605204309634</li><li>25.0326434364539</li><li>18.0672793738902</li><li>18.0309902383369</li><li>16.6407611220678</li><li>19.6421205143902</li><li>28.442533666939</li><li>18.6342112593497</li><li>20.5332370786058</li><li>25.5834689938204</li><li>25.2664453111634</li><li>34.598601657239</li><li>15.5134466879547</li><li>11.6842168099502</li><li>12.6577880079512</li><li>24.7248736914965</li><li>10.1601764001468</li><li>24.951860125549</li><li>27.534475315724</li><li>15.2192076626373</li><li>28.2365270879059</li><li>18.7093950040751</li><li>21.2736866307693</li><li>17.2400558390183</li><li>5.34816280387146</li><li>16.1688850077793</li><li>23.6958592135079</li><li>16.0907932778886</li><li>32.3248160207566</li><li>12.997049762243</li><li>24.8213831811793</li><li>23.4954205692605</li><li>30.1197476386383</li><li>9.41725261913193</li><li>18.8225712864395</li><li>24.3269975489137</li><li>28.79290799671</li><li>9.15776596887092</li><li>14.5856245581229</li><li>27.6393482019567</li><li>19.9437716605153</li><li>19.8382512825486</li><li>17.4284020339378</li><li>22.1815499906544</li><li>14.9583251714442</li><li>30.462201483865</li><li>28.6402886506299</li><li>13.189193818327</li><li>28.3229449728686</li><li>32.5297860939581</li><li>14.2284560984443</li><li>23.8770904738507</li><li>25.2844305967808</li><li>9.99386593660535</li><li>28.3370182974792</li><li>24.4816174377304</li><li>12.8776060329017</li><li>40.0209388369825</li><li>36.7152967214666</li><li>14.2827402821519</li><li>31.5994501199826</li><li>11.5587125722533</li><li>20.4195579731661</li><li>14.5900489767535</li><li>24.3900875478178</li><li>14.801111980612</li><li>17.1091145047401</li></ol>\n"
            ]
          },
          "metadata": {
            "tags": []
          }
        }
      ]
    },
    {
      "cell_type": "code",
      "metadata": {
        "trusted": true,
        "id": "Y6ILF-Szm5Zg",
        "outputId": "8db17902-ab53-4407-ea78-0b0162b3aeb6",
        "colab": {
          "base_uri": "https://localhost:8080/",
          "height": 34
        }
      },
      "source": [
        "# Dejar como parámetro el largo del vector temp\n",
        "largo <- length(temp)\n",
        "largo"
      ],
      "execution_count": 2,
      "outputs": [
        {
          "output_type": "display_data",
          "data": {
            "text/plain": [
              "[1] 100"
            ],
            "text/latex": "100",
            "text/markdown": "100",
            "text/html": [
              "100"
            ]
          },
          "metadata": {
            "tags": []
          }
        }
      ]
    },
    {
      "cell_type": "markdown",
      "metadata": {
        "id": "C4MEJWjBm5Zi"
      },
      "source": [
        "**Paso 2**\n",
        "\n",
        "Genere un vector llamado _dia_ del mismo largo que que *temp*, que contenga los días consecutivos de la semana, partiendo del lunes. (utilice la función _rep()_ )"
      ]
    },
    {
      "cell_type": "code",
      "metadata": {
        "trusted": true,
        "id": "1PWK1DPXm5Zj",
        "outputId": "407c665a-cac8-41c4-b407-4aa086ea989d",
        "colab": {
          "base_uri": "https://localhost:8080/",
          "height": 68
        }
      },
      "source": [
        "\n",
        "# Paso 2\n",
        "#dia <- rep(c(\"L\",\"M\",\"W\",\"J\",\"V\",\"S\",\"D\"), 100 ) repite el vector de largo7, 100 veces. Genera un vector resultante de largo 700\n",
        "dia <- rep(c(\"L\",\"M\",\"W\",\"J\",\"V\",\"S\",\"D\"), length.out = largo)\n",
        "length(dia)\n",
        "dia"
      ],
      "execution_count": 3,
      "outputs": [
        {
          "output_type": "display_data",
          "data": {
            "text/plain": [
              "[1] 100"
            ],
            "text/latex": "100",
            "text/markdown": "100",
            "text/html": [
              "100"
            ]
          },
          "metadata": {
            "tags": []
          }
        },
        {
          "output_type": "display_data",
          "data": {
            "text/plain": [
              "  [1] \"L\" \"M\" \"W\" \"J\" \"V\" \"S\" \"D\" \"L\" \"M\" \"W\" \"J\" \"V\" \"S\" \"D\" \"L\" \"M\" \"W\" \"J\"\n",
              " [19] \"V\" \"S\" \"D\" \"L\" \"M\" \"W\" \"J\" \"V\" \"S\" \"D\" \"L\" \"M\" \"W\" \"J\" \"V\" \"S\" \"D\" \"L\"\n",
              " [37] \"M\" \"W\" \"J\" \"V\" \"S\" \"D\" \"L\" \"M\" \"W\" \"J\" \"V\" \"S\" \"D\" \"L\" \"M\" \"W\" \"J\" \"V\"\n",
              " [55] \"S\" \"D\" \"L\" \"M\" \"W\" \"J\" \"V\" \"S\" \"D\" \"L\" \"M\" \"W\" \"J\" \"V\" \"S\" \"D\" \"L\" \"M\"\n",
              " [73] \"W\" \"J\" \"V\" \"S\" \"D\" \"L\" \"M\" \"W\" \"J\" \"V\" \"S\" \"D\" \"L\" \"M\" \"W\" \"J\" \"V\" \"S\"\n",
              " [91] \"D\" \"L\" \"M\" \"W\" \"J\" \"V\" \"S\" \"D\" \"L\" \"M\""
            ],
            "text/latex": "\\begin{enumerate*}\n\\item 'L'\n\\item 'M'\n\\item 'W'\n\\item 'J'\n\\item 'V'\n\\item 'S'\n\\item 'D'\n\\item 'L'\n\\item 'M'\n\\item 'W'\n\\item 'J'\n\\item 'V'\n\\item 'S'\n\\item 'D'\n\\item 'L'\n\\item 'M'\n\\item 'W'\n\\item 'J'\n\\item 'V'\n\\item 'S'\n\\item 'D'\n\\item 'L'\n\\item 'M'\n\\item 'W'\n\\item 'J'\n\\item 'V'\n\\item 'S'\n\\item 'D'\n\\item 'L'\n\\item 'M'\n\\item 'W'\n\\item 'J'\n\\item 'V'\n\\item 'S'\n\\item 'D'\n\\item 'L'\n\\item 'M'\n\\item 'W'\n\\item 'J'\n\\item 'V'\n\\item 'S'\n\\item 'D'\n\\item 'L'\n\\item 'M'\n\\item 'W'\n\\item 'J'\n\\item 'V'\n\\item 'S'\n\\item 'D'\n\\item 'L'\n\\item 'M'\n\\item 'W'\n\\item 'J'\n\\item 'V'\n\\item 'S'\n\\item 'D'\n\\item 'L'\n\\item 'M'\n\\item 'W'\n\\item 'J'\n\\item 'V'\n\\item 'S'\n\\item 'D'\n\\item 'L'\n\\item 'M'\n\\item 'W'\n\\item 'J'\n\\item 'V'\n\\item 'S'\n\\item 'D'\n\\item 'L'\n\\item 'M'\n\\item 'W'\n\\item 'J'\n\\item 'V'\n\\item 'S'\n\\item 'D'\n\\item 'L'\n\\item 'M'\n\\item 'W'\n\\item 'J'\n\\item 'V'\n\\item 'S'\n\\item 'D'\n\\item 'L'\n\\item 'M'\n\\item 'W'\n\\item 'J'\n\\item 'V'\n\\item 'S'\n\\item 'D'\n\\item 'L'\n\\item 'M'\n\\item 'W'\n\\item 'J'\n\\item 'V'\n\\item 'S'\n\\item 'D'\n\\item 'L'\n\\item 'M'\n\\end{enumerate*}\n",
            "text/markdown": "1. 'L'\n2. 'M'\n3. 'W'\n4. 'J'\n5. 'V'\n6. 'S'\n7. 'D'\n8. 'L'\n9. 'M'\n10. 'W'\n11. 'J'\n12. 'V'\n13. 'S'\n14. 'D'\n15. 'L'\n16. 'M'\n17. 'W'\n18. 'J'\n19. 'V'\n20. 'S'\n21. 'D'\n22. 'L'\n23. 'M'\n24. 'W'\n25. 'J'\n26. 'V'\n27. 'S'\n28. 'D'\n29. 'L'\n30. 'M'\n31. 'W'\n32. 'J'\n33. 'V'\n34. 'S'\n35. 'D'\n36. 'L'\n37. 'M'\n38. 'W'\n39. 'J'\n40. 'V'\n41. 'S'\n42. 'D'\n43. 'L'\n44. 'M'\n45. 'W'\n46. 'J'\n47. 'V'\n48. 'S'\n49. 'D'\n50. 'L'\n51. 'M'\n52. 'W'\n53. 'J'\n54. 'V'\n55. 'S'\n56. 'D'\n57. 'L'\n58. 'M'\n59. 'W'\n60. 'J'\n61. 'V'\n62. 'S'\n63. 'D'\n64. 'L'\n65. 'M'\n66. 'W'\n67. 'J'\n68. 'V'\n69. 'S'\n70. 'D'\n71. 'L'\n72. 'M'\n73. 'W'\n74. 'J'\n75. 'V'\n76. 'S'\n77. 'D'\n78. 'L'\n79. 'M'\n80. 'W'\n81. 'J'\n82. 'V'\n83. 'S'\n84. 'D'\n85. 'L'\n86. 'M'\n87. 'W'\n88. 'J'\n89. 'V'\n90. 'S'\n91. 'D'\n92. 'L'\n93. 'M'\n94. 'W'\n95. 'J'\n96. 'V'\n97. 'S'\n98. 'D'\n99. 'L'\n100. 'M'\n\n\n",
            "text/html": [
              "<style>\n",
              ".list-inline {list-style: none; margin:0; padding: 0}\n",
              ".list-inline>li {display: inline-block}\n",
              ".list-inline>li:not(:last-child)::after {content: \"\\00b7\"; padding: 0 .5ex}\n",
              "</style>\n",
              "<ol class=list-inline><li>'L'</li><li>'M'</li><li>'W'</li><li>'J'</li><li>'V'</li><li>'S'</li><li>'D'</li><li>'L'</li><li>'M'</li><li>'W'</li><li>'J'</li><li>'V'</li><li>'S'</li><li>'D'</li><li>'L'</li><li>'M'</li><li>'W'</li><li>'J'</li><li>'V'</li><li>'S'</li><li>'D'</li><li>'L'</li><li>'M'</li><li>'W'</li><li>'J'</li><li>'V'</li><li>'S'</li><li>'D'</li><li>'L'</li><li>'M'</li><li>'W'</li><li>'J'</li><li>'V'</li><li>'S'</li><li>'D'</li><li>'L'</li><li>'M'</li><li>'W'</li><li>'J'</li><li>'V'</li><li>'S'</li><li>'D'</li><li>'L'</li><li>'M'</li><li>'W'</li><li>'J'</li><li>'V'</li><li>'S'</li><li>'D'</li><li>'L'</li><li>'M'</li><li>'W'</li><li>'J'</li><li>'V'</li><li>'S'</li><li>'D'</li><li>'L'</li><li>'M'</li><li>'W'</li><li>'J'</li><li>'V'</li><li>'S'</li><li>'D'</li><li>'L'</li><li>'M'</li><li>'W'</li><li>'J'</li><li>'V'</li><li>'S'</li><li>'D'</li><li>'L'</li><li>'M'</li><li>'W'</li><li>'J'</li><li>'V'</li><li>'S'</li><li>'D'</li><li>'L'</li><li>'M'</li><li>'W'</li><li>'J'</li><li>'V'</li><li>'S'</li><li>'D'</li><li>'L'</li><li>'M'</li><li>'W'</li><li>'J'</li><li>'V'</li><li>'S'</li><li>'D'</li><li>'L'</li><li>'M'</li><li>'W'</li><li>'J'</li><li>'V'</li><li>'S'</li><li>'D'</li><li>'L'</li><li>'M'</li></ol>\n"
            ]
          },
          "metadata": {
            "tags": []
          }
        }
      ]
    },
    {
      "cell_type": "markdown",
      "metadata": {
        "id": "n1n3ptOIm5Zm"
      },
      "source": [
        "**Paso 3**\n",
        "\n",
        "Genere un vector llamado _est_, del mismo largo que _temp_, que en el primer tercio contenga el valor \"E1\", en el segundo tercio \"E2\", y en el tercer tercio \"E3\". Por ejemplo, si _temp_ tuviese 10 datos, el vector _est_ se vería como \n",
        "\n",
        "\n",
        "<center> _est_ = (E1,E1,E1,E2,E2,E2,E3,E3,E3,E3) </center>"
      ]
    },
    {
      "cell_type": "code",
      "metadata": {
        "trusted": true,
        "id": "eobMVmXxm5Zn",
        "outputId": "93ef525b-4750-4324-ce6b-97c2b81a5ea5",
        "colab": {
          "base_uri": "https://localhost:8080/",
          "height": 102
        }
      },
      "source": [
        "# Paso 3\n",
        "aux1 <- rep(\"E1\",largo/3) # R redondea al menor enterio anterior\n",
        "aux2 <- rep(\"E2\",largo/3)\n",
        "aux3 <- rep(\"E3\",largo/3+1)\n",
        "\n",
        "#para validar los largos\n",
        "length(aux1)\n",
        "length(aux2)\n",
        "length(aux3)\n",
        "\n",
        "est <- c(aux1,aux2,aux3)\n",
        "est\n"
      ],
      "execution_count": 4,
      "outputs": [
        {
          "output_type": "display_data",
          "data": {
            "text/plain": [
              "[1] 33"
            ],
            "text/latex": "33",
            "text/markdown": "33",
            "text/html": [
              "33"
            ]
          },
          "metadata": {
            "tags": []
          }
        },
        {
          "output_type": "display_data",
          "data": {
            "text/plain": [
              "[1] 33"
            ],
            "text/latex": "33",
            "text/markdown": "33",
            "text/html": [
              "33"
            ]
          },
          "metadata": {
            "tags": []
          }
        },
        {
          "output_type": "display_data",
          "data": {
            "text/plain": [
              "[1] 34"
            ],
            "text/latex": "34",
            "text/markdown": "34",
            "text/html": [
              "34"
            ]
          },
          "metadata": {
            "tags": []
          }
        },
        {
          "output_type": "display_data",
          "data": {
            "text/plain": [
              "  [1] \"E1\" \"E1\" \"E1\" \"E1\" \"E1\" \"E1\" \"E1\" \"E1\" \"E1\" \"E1\" \"E1\" \"E1\" \"E1\" \"E1\" \"E1\"\n",
              " [16] \"E1\" \"E1\" \"E1\" \"E1\" \"E1\" \"E1\" \"E1\" \"E1\" \"E1\" \"E1\" \"E1\" \"E1\" \"E1\" \"E1\" \"E1\"\n",
              " [31] \"E1\" \"E1\" \"E1\" \"E2\" \"E2\" \"E2\" \"E2\" \"E2\" \"E2\" \"E2\" \"E2\" \"E2\" \"E2\" \"E2\" \"E2\"\n",
              " [46] \"E2\" \"E2\" \"E2\" \"E2\" \"E2\" \"E2\" \"E2\" \"E2\" \"E2\" \"E2\" \"E2\" \"E2\" \"E2\" \"E2\" \"E2\"\n",
              " [61] \"E2\" \"E2\" \"E2\" \"E2\" \"E2\" \"E2\" \"E3\" \"E3\" \"E3\" \"E3\" \"E3\" \"E3\" \"E3\" \"E3\" \"E3\"\n",
              " [76] \"E3\" \"E3\" \"E3\" \"E3\" \"E3\" \"E3\" \"E3\" \"E3\" \"E3\" \"E3\" \"E3\" \"E3\" \"E3\" \"E3\" \"E3\"\n",
              " [91] \"E3\" \"E3\" \"E3\" \"E3\" \"E3\" \"E3\" \"E3\" \"E3\" \"E3\" \"E3\""
            ],
            "text/latex": "\\begin{enumerate*}\n\\item 'E1'\n\\item 'E1'\n\\item 'E1'\n\\item 'E1'\n\\item 'E1'\n\\item 'E1'\n\\item 'E1'\n\\item 'E1'\n\\item 'E1'\n\\item 'E1'\n\\item 'E1'\n\\item 'E1'\n\\item 'E1'\n\\item 'E1'\n\\item 'E1'\n\\item 'E1'\n\\item 'E1'\n\\item 'E1'\n\\item 'E1'\n\\item 'E1'\n\\item 'E1'\n\\item 'E1'\n\\item 'E1'\n\\item 'E1'\n\\item 'E1'\n\\item 'E1'\n\\item 'E1'\n\\item 'E1'\n\\item 'E1'\n\\item 'E1'\n\\item 'E1'\n\\item 'E1'\n\\item 'E1'\n\\item 'E2'\n\\item 'E2'\n\\item 'E2'\n\\item 'E2'\n\\item 'E2'\n\\item 'E2'\n\\item 'E2'\n\\item 'E2'\n\\item 'E2'\n\\item 'E2'\n\\item 'E2'\n\\item 'E2'\n\\item 'E2'\n\\item 'E2'\n\\item 'E2'\n\\item 'E2'\n\\item 'E2'\n\\item 'E2'\n\\item 'E2'\n\\item 'E2'\n\\item 'E2'\n\\item 'E2'\n\\item 'E2'\n\\item 'E2'\n\\item 'E2'\n\\item 'E2'\n\\item 'E2'\n\\item 'E2'\n\\item 'E2'\n\\item 'E2'\n\\item 'E2'\n\\item 'E2'\n\\item 'E2'\n\\item 'E3'\n\\item 'E3'\n\\item 'E3'\n\\item 'E3'\n\\item 'E3'\n\\item 'E3'\n\\item 'E3'\n\\item 'E3'\n\\item 'E3'\n\\item 'E3'\n\\item 'E3'\n\\item 'E3'\n\\item 'E3'\n\\item 'E3'\n\\item 'E3'\n\\item 'E3'\n\\item 'E3'\n\\item 'E3'\n\\item 'E3'\n\\item 'E3'\n\\item 'E3'\n\\item 'E3'\n\\item 'E3'\n\\item 'E3'\n\\item 'E3'\n\\item 'E3'\n\\item 'E3'\n\\item 'E3'\n\\item 'E3'\n\\item 'E3'\n\\item 'E3'\n\\item 'E3'\n\\item 'E3'\n\\item 'E3'\n\\end{enumerate*}\n",
            "text/markdown": "1. 'E1'\n2. 'E1'\n3. 'E1'\n4. 'E1'\n5. 'E1'\n6. 'E1'\n7. 'E1'\n8. 'E1'\n9. 'E1'\n10. 'E1'\n11. 'E1'\n12. 'E1'\n13. 'E1'\n14. 'E1'\n15. 'E1'\n16. 'E1'\n17. 'E1'\n18. 'E1'\n19. 'E1'\n20. 'E1'\n21. 'E1'\n22. 'E1'\n23. 'E1'\n24. 'E1'\n25. 'E1'\n26. 'E1'\n27. 'E1'\n28. 'E1'\n29. 'E1'\n30. 'E1'\n31. 'E1'\n32. 'E1'\n33. 'E1'\n34. 'E2'\n35. 'E2'\n36. 'E2'\n37. 'E2'\n38. 'E2'\n39. 'E2'\n40. 'E2'\n41. 'E2'\n42. 'E2'\n43. 'E2'\n44. 'E2'\n45. 'E2'\n46. 'E2'\n47. 'E2'\n48. 'E2'\n49. 'E2'\n50. 'E2'\n51. 'E2'\n52. 'E2'\n53. 'E2'\n54. 'E2'\n55. 'E2'\n56. 'E2'\n57. 'E2'\n58. 'E2'\n59. 'E2'\n60. 'E2'\n61. 'E2'\n62. 'E2'\n63. 'E2'\n64. 'E2'\n65. 'E2'\n66. 'E2'\n67. 'E3'\n68. 'E3'\n69. 'E3'\n70. 'E3'\n71. 'E3'\n72. 'E3'\n73. 'E3'\n74. 'E3'\n75. 'E3'\n76. 'E3'\n77. 'E3'\n78. 'E3'\n79. 'E3'\n80. 'E3'\n81. 'E3'\n82. 'E3'\n83. 'E3'\n84. 'E3'\n85. 'E3'\n86. 'E3'\n87. 'E3'\n88. 'E3'\n89. 'E3'\n90. 'E3'\n91. 'E3'\n92. 'E3'\n93. 'E3'\n94. 'E3'\n95. 'E3'\n96. 'E3'\n97. 'E3'\n98. 'E3'\n99. 'E3'\n100. 'E3'\n\n\n",
            "text/html": [
              "<style>\n",
              ".list-inline {list-style: none; margin:0; padding: 0}\n",
              ".list-inline>li {display: inline-block}\n",
              ".list-inline>li:not(:last-child)::after {content: \"\\00b7\"; padding: 0 .5ex}\n",
              "</style>\n",
              "<ol class=list-inline><li>'E1'</li><li>'E1'</li><li>'E1'</li><li>'E1'</li><li>'E1'</li><li>'E1'</li><li>'E1'</li><li>'E1'</li><li>'E1'</li><li>'E1'</li><li>'E1'</li><li>'E1'</li><li>'E1'</li><li>'E1'</li><li>'E1'</li><li>'E1'</li><li>'E1'</li><li>'E1'</li><li>'E1'</li><li>'E1'</li><li>'E1'</li><li>'E1'</li><li>'E1'</li><li>'E1'</li><li>'E1'</li><li>'E1'</li><li>'E1'</li><li>'E1'</li><li>'E1'</li><li>'E1'</li><li>'E1'</li><li>'E1'</li><li>'E1'</li><li>'E2'</li><li>'E2'</li><li>'E2'</li><li>'E2'</li><li>'E2'</li><li>'E2'</li><li>'E2'</li><li>'E2'</li><li>'E2'</li><li>'E2'</li><li>'E2'</li><li>'E2'</li><li>'E2'</li><li>'E2'</li><li>'E2'</li><li>'E2'</li><li>'E2'</li><li>'E2'</li><li>'E2'</li><li>'E2'</li><li>'E2'</li><li>'E2'</li><li>'E2'</li><li>'E2'</li><li>'E2'</li><li>'E2'</li><li>'E2'</li><li>'E2'</li><li>'E2'</li><li>'E2'</li><li>'E2'</li><li>'E2'</li><li>'E2'</li><li>'E3'</li><li>'E3'</li><li>'E3'</li><li>'E3'</li><li>'E3'</li><li>'E3'</li><li>'E3'</li><li>'E3'</li><li>'E3'</li><li>'E3'</li><li>'E3'</li><li>'E3'</li><li>'E3'</li><li>'E3'</li><li>'E3'</li><li>'E3'</li><li>'E3'</li><li>'E3'</li><li>'E3'</li><li>'E3'</li><li>'E3'</li><li>'E3'</li><li>'E3'</li><li>'E3'</li><li>'E3'</li><li>'E3'</li><li>'E3'</li><li>'E3'</li><li>'E3'</li><li>'E3'</li><li>'E3'</li><li>'E3'</li><li>'E3'</li><li>'E3'</li></ol>\n"
            ]
          },
          "metadata": {
            "tags": []
          }
        }
      ]
    },
    {
      "cell_type": "markdown",
      "metadata": {
        "id": "bZZScNwUm5Zp"
      },
      "source": [
        "**Paso 4**\n",
        "\n",
        "Genere un vector llamado _lluvia_ del mismo largo que _temp_, que sea TRUE en las posiciones en que _temp_ sea menor que 20, y FALSE en caso contrario. "
      ]
    },
    {
      "cell_type": "code",
      "metadata": {
        "trusted": true,
        "id": "AbtOs123m5Zq"
      },
      "source": [
        "# Paso 4\n",
        "lluvia <- temp < 20 "
      ],
      "execution_count": 5,
      "outputs": []
    },
    {
      "cell_type": "code",
      "metadata": {
        "id": "PjByf2fHviw5",
        "outputId": "370b6388-10aa-43e1-e4c0-ef0a924cdccb",
        "colab": {
          "base_uri": "https://localhost:8080/",
          "height": 68
        }
      },
      "source": [
        "lluvia"
      ],
      "execution_count": 6,
      "outputs": [
        {
          "output_type": "display_data",
          "data": {
            "text/plain": [
              "  [1] FALSE  TRUE  TRUE FALSE  TRUE  TRUE FALSE FALSE FALSE FALSE FALSE FALSE\n",
              " [13] FALSE  TRUE FALSE  TRUE FALSE  TRUE FALSE FALSE FALSE FALSE FALSE  TRUE\n",
              " [25]  TRUE  TRUE FALSE FALSE FALSE FALSE FALSE FALSE FALSE  TRUE FALSE  TRUE\n",
              " [37]  TRUE  TRUE  TRUE FALSE  TRUE FALSE FALSE FALSE FALSE  TRUE  TRUE  TRUE\n",
              " [49] FALSE  TRUE FALSE FALSE  TRUE FALSE  TRUE FALSE  TRUE  TRUE  TRUE FALSE\n",
              " [61]  TRUE FALSE  TRUE FALSE FALSE FALSE  TRUE  TRUE FALSE FALSE  TRUE  TRUE\n",
              " [73] FALSE  TRUE  TRUE  TRUE FALSE  TRUE FALSE FALSE  TRUE FALSE FALSE  TRUE\n",
              " [85] FALSE FALSE  TRUE FALSE FALSE  TRUE FALSE FALSE  TRUE FALSE  TRUE FALSE\n",
              " [97]  TRUE FALSE  TRUE  TRUE"
            ],
            "text/latex": "\\begin{enumerate*}\n\\item FALSE\n\\item TRUE\n\\item TRUE\n\\item FALSE\n\\item TRUE\n\\item TRUE\n\\item FALSE\n\\item FALSE\n\\item FALSE\n\\item FALSE\n\\item FALSE\n\\item FALSE\n\\item FALSE\n\\item TRUE\n\\item FALSE\n\\item TRUE\n\\item FALSE\n\\item TRUE\n\\item FALSE\n\\item FALSE\n\\item FALSE\n\\item FALSE\n\\item FALSE\n\\item TRUE\n\\item TRUE\n\\item TRUE\n\\item FALSE\n\\item FALSE\n\\item FALSE\n\\item FALSE\n\\item FALSE\n\\item FALSE\n\\item FALSE\n\\item TRUE\n\\item FALSE\n\\item TRUE\n\\item TRUE\n\\item TRUE\n\\item TRUE\n\\item FALSE\n\\item TRUE\n\\item FALSE\n\\item FALSE\n\\item FALSE\n\\item FALSE\n\\item TRUE\n\\item TRUE\n\\item TRUE\n\\item FALSE\n\\item TRUE\n\\item FALSE\n\\item FALSE\n\\item TRUE\n\\item FALSE\n\\item TRUE\n\\item FALSE\n\\item TRUE\n\\item TRUE\n\\item TRUE\n\\item FALSE\n\\item TRUE\n\\item FALSE\n\\item TRUE\n\\item FALSE\n\\item FALSE\n\\item FALSE\n\\item TRUE\n\\item TRUE\n\\item FALSE\n\\item FALSE\n\\item TRUE\n\\item TRUE\n\\item FALSE\n\\item TRUE\n\\item TRUE\n\\item TRUE\n\\item FALSE\n\\item TRUE\n\\item FALSE\n\\item FALSE\n\\item TRUE\n\\item FALSE\n\\item FALSE\n\\item TRUE\n\\item FALSE\n\\item FALSE\n\\item TRUE\n\\item FALSE\n\\item FALSE\n\\item TRUE\n\\item FALSE\n\\item FALSE\n\\item TRUE\n\\item FALSE\n\\item TRUE\n\\item FALSE\n\\item TRUE\n\\item FALSE\n\\item TRUE\n\\item TRUE\n\\end{enumerate*}\n",
            "text/markdown": "1. FALSE\n2. TRUE\n3. TRUE\n4. FALSE\n5. TRUE\n6. TRUE\n7. FALSE\n8. FALSE\n9. FALSE\n10. FALSE\n11. FALSE\n12. FALSE\n13. FALSE\n14. TRUE\n15. FALSE\n16. TRUE\n17. FALSE\n18. TRUE\n19. FALSE\n20. FALSE\n21. FALSE\n22. FALSE\n23. FALSE\n24. TRUE\n25. TRUE\n26. TRUE\n27. FALSE\n28. FALSE\n29. FALSE\n30. FALSE\n31. FALSE\n32. FALSE\n33. FALSE\n34. TRUE\n35. FALSE\n36. TRUE\n37. TRUE\n38. TRUE\n39. TRUE\n40. FALSE\n41. TRUE\n42. FALSE\n43. FALSE\n44. FALSE\n45. FALSE\n46. TRUE\n47. TRUE\n48. TRUE\n49. FALSE\n50. TRUE\n51. FALSE\n52. FALSE\n53. TRUE\n54. FALSE\n55. TRUE\n56. FALSE\n57. TRUE\n58. TRUE\n59. TRUE\n60. FALSE\n61. TRUE\n62. FALSE\n63. TRUE\n64. FALSE\n65. FALSE\n66. FALSE\n67. TRUE\n68. TRUE\n69. FALSE\n70. FALSE\n71. TRUE\n72. TRUE\n73. FALSE\n74. TRUE\n75. TRUE\n76. TRUE\n77. FALSE\n78. TRUE\n79. FALSE\n80. FALSE\n81. TRUE\n82. FALSE\n83. FALSE\n84. TRUE\n85. FALSE\n86. FALSE\n87. TRUE\n88. FALSE\n89. FALSE\n90. TRUE\n91. FALSE\n92. FALSE\n93. TRUE\n94. FALSE\n95. TRUE\n96. FALSE\n97. TRUE\n98. FALSE\n99. TRUE\n100. TRUE\n\n\n",
            "text/html": [
              "<style>\n",
              ".list-inline {list-style: none; margin:0; padding: 0}\n",
              ".list-inline>li {display: inline-block}\n",
              ".list-inline>li:not(:last-child)::after {content: \"\\00b7\"; padding: 0 .5ex}\n",
              "</style>\n",
              "<ol class=list-inline><li>FALSE</li><li>TRUE</li><li>TRUE</li><li>FALSE</li><li>TRUE</li><li>TRUE</li><li>FALSE</li><li>FALSE</li><li>FALSE</li><li>FALSE</li><li>FALSE</li><li>FALSE</li><li>FALSE</li><li>TRUE</li><li>FALSE</li><li>TRUE</li><li>FALSE</li><li>TRUE</li><li>FALSE</li><li>FALSE</li><li>FALSE</li><li>FALSE</li><li>FALSE</li><li>TRUE</li><li>TRUE</li><li>TRUE</li><li>FALSE</li><li>FALSE</li><li>FALSE</li><li>FALSE</li><li>FALSE</li><li>FALSE</li><li>FALSE</li><li>TRUE</li><li>FALSE</li><li>TRUE</li><li>TRUE</li><li>TRUE</li><li>TRUE</li><li>FALSE</li><li>TRUE</li><li>FALSE</li><li>FALSE</li><li>FALSE</li><li>FALSE</li><li>TRUE</li><li>TRUE</li><li>TRUE</li><li>FALSE</li><li>TRUE</li><li>FALSE</li><li>FALSE</li><li>TRUE</li><li>FALSE</li><li>TRUE</li><li>FALSE</li><li>TRUE</li><li>TRUE</li><li>TRUE</li><li>FALSE</li><li>TRUE</li><li>FALSE</li><li>TRUE</li><li>FALSE</li><li>FALSE</li><li>FALSE</li><li>TRUE</li><li>TRUE</li><li>FALSE</li><li>FALSE</li><li>TRUE</li><li>TRUE</li><li>FALSE</li><li>TRUE</li><li>TRUE</li><li>TRUE</li><li>FALSE</li><li>TRUE</li><li>FALSE</li><li>FALSE</li><li>TRUE</li><li>FALSE</li><li>FALSE</li><li>TRUE</li><li>FALSE</li><li>FALSE</li><li>TRUE</li><li>FALSE</li><li>FALSE</li><li>TRUE</li><li>FALSE</li><li>FALSE</li><li>TRUE</li><li>FALSE</li><li>TRUE</li><li>FALSE</li><li>TRUE</li><li>FALSE</li><li>TRUE</li><li>TRUE</li></ol>\n"
            ]
          },
          "metadata": {
            "tags": []
          }
        }
      ]
    },
    {
      "cell_type": "markdown",
      "metadata": {
        "id": "i7p8FIdtm5Zs"
      },
      "source": [
        "**Paso 5**\n",
        "\n",
        "Finalmente cree un data frame llamado _precipitaciones_ con las siguientes columnas:<br>\n",
        "\n",
        "*Dia_semana* (con los valores del vector _dia_)<br>\n",
        "*Temperatura* (con los valores del vector _temp_)<br>\n",
        "*Llueve* (con los valores del vector _lluvia_)<br>\n",
        "*Estacion* (con los valores del vector _est_)<br>"
      ]
    },
    {
      "cell_type": "code",
      "metadata": {
        "trusted": true,
        "id": "o-TVm7uum5Zs"
      },
      "source": [
        "# Paso 5\n",
        "precipitaciones <- data.frame(Dia_semana = dia,\n",
        "                              Temperatura = temp,\n",
        "                              Llueve = lluvia,\n",
        "                              estacion = est)\n",
        "                              "
      ],
      "execution_count": 7,
      "outputs": []
    },
    {
      "cell_type": "code",
      "metadata": {
        "id": "1kY9ZrALv__g",
        "outputId": "41077bac-72a6-4f38-d207-8b6c5f207284",
        "colab": {
          "base_uri": "https://localhost:8080/",
          "height": 1000
        }
      },
      "source": [
        "precipitaciones"
      ],
      "execution_count": 8,
      "outputs": [
        {
          "output_type": "display_data",
          "data": {
            "text/plain": [
              "    Dia_semana Temperatura Llueve estacion\n",
              "1   L          27.637092   FALSE  E1      \n",
              "2   M          18.984552    TRUE  E1      \n",
              "3   W          11.537028    TRUE  E1      \n",
              "4   J          29.090220   FALSE  E1      \n",
              "5   V          13.245154    TRUE  E1      \n",
              "6   S          18.115057    TRUE  E1      \n",
              "7   D          24.475158   FALSE  E1      \n",
              "8   L          27.995877   FALSE  E1      \n",
              "9   M          22.331097   FALSE  E1      \n",
              "10  W          24.946983   FALSE  E1      \n",
              "11  J          32.374265   FALSE  E1      \n",
              "12  V          21.420404   FALSE  E1      \n",
              "13  S          22.791125   FALSE  E1      \n",
              "14  D          19.870387    TRUE  E1      \n",
              "15  L          32.762603   FALSE  E1      \n",
              "16  M           9.910417    TRUE  E1      \n",
              "17  W          28.117430   FALSE  E1      \n",
              "18  J          17.978785    TRUE  E1      \n",
              "19  V          23.119776   FALSE  E1      \n",
              "20  S          22.970304   FALSE  E1      \n",
              "21  D          27.325724   FALSE  E1      \n",
              "22  L          29.303089   FALSE  E1      \n",
              "23  M          24.131837   FALSE  E1      \n",
              "24  W          16.583755    TRUE  E1      \n",
              "25  J          17.990972    TRUE  E1      \n",
              "26  V          18.280570    TRUE  E1      \n",
              "27  S          25.364706   FALSE  E1      \n",
              "28  D          31.444450   FALSE  E1      \n",
              "29  L          28.409994   FALSE  E1      \n",
              "30  M          31.072741   FALSE  E1      \n",
              "⋮   ⋮          ⋮           ⋮      ⋮       \n",
              "71  L           9.157766    TRUE  E3      \n",
              "72  M          14.585625    TRUE  E3      \n",
              "73  W          27.639348   FALSE  E3      \n",
              "74  J          19.943772    TRUE  E3      \n",
              "75  V          19.838251    TRUE  E3      \n",
              "76  S          17.428402    TRUE  E3      \n",
              "77  D          22.181550   FALSE  E3      \n",
              "78  L          14.958325    TRUE  E3      \n",
              "79  M          30.462201   FALSE  E3      \n",
              "80  W          28.640289   FALSE  E3      \n",
              "81  J          13.189194    TRUE  E3      \n",
              "82  V          28.322945   FALSE  E3      \n",
              "83  S          32.529786   FALSE  E3      \n",
              "84  D          14.228456    TRUE  E3      \n",
              "85  L          23.877090   FALSE  E3      \n",
              "86  M          25.284431   FALSE  E3      \n",
              "87  W           9.993866    TRUE  E3      \n",
              "88  J          28.337018   FALSE  E3      \n",
              "89  V          24.481617   FALSE  E3      \n",
              "90  S          12.877606    TRUE  E3      \n",
              "91  D          40.020939   FALSE  E3      \n",
              "92  L          36.715297   FALSE  E3      \n",
              "93  M          14.282740    TRUE  E3      \n",
              "94  W          31.599450   FALSE  E3      \n",
              "95  J          11.558713    TRUE  E3      \n",
              "96  V          20.419558   FALSE  E3      \n",
              "97  S          14.590049    TRUE  E3      \n",
              "98  D          24.390088   FALSE  E3      \n",
              "99  L          14.801112    TRUE  E3      \n",
              "100 M          17.109115    TRUE  E3      "
            ],
            "text/latex": "A data.frame: 100 × 4\n\\begin{tabular}{llll}\n Dia\\_semana & Temperatura & Llueve & estacion\\\\\n <chr> & <dbl> & <lgl> & <chr>\\\\\n\\hline\n\t L & 27.637092 & FALSE & E1\\\\\n\t M & 18.984552 &  TRUE & E1\\\\\n\t W & 11.537028 &  TRUE & E1\\\\\n\t J & 29.090220 & FALSE & E1\\\\\n\t V & 13.245154 &  TRUE & E1\\\\\n\t S & 18.115057 &  TRUE & E1\\\\\n\t D & 24.475158 & FALSE & E1\\\\\n\t L & 27.995877 & FALSE & E1\\\\\n\t M & 22.331097 & FALSE & E1\\\\\n\t W & 24.946983 & FALSE & E1\\\\\n\t J & 32.374265 & FALSE & E1\\\\\n\t V & 21.420404 & FALSE & E1\\\\\n\t S & 22.791125 & FALSE & E1\\\\\n\t D & 19.870387 &  TRUE & E1\\\\\n\t L & 32.762603 & FALSE & E1\\\\\n\t M &  9.910417 &  TRUE & E1\\\\\n\t W & 28.117430 & FALSE & E1\\\\\n\t J & 17.978785 &  TRUE & E1\\\\\n\t V & 23.119776 & FALSE & E1\\\\\n\t S & 22.970304 & FALSE & E1\\\\\n\t D & 27.325724 & FALSE & E1\\\\\n\t L & 29.303089 & FALSE & E1\\\\\n\t M & 24.131837 & FALSE & E1\\\\\n\t W & 16.583755 &  TRUE & E1\\\\\n\t J & 17.990972 &  TRUE & E1\\\\\n\t V & 18.280570 &  TRUE & E1\\\\\n\t S & 25.364706 & FALSE & E1\\\\\n\t D & 31.444450 & FALSE & E1\\\\\n\t L & 28.409994 & FALSE & E1\\\\\n\t M & 31.072741 & FALSE & E1\\\\\n\t ⋮ & ⋮ & ⋮ & ⋮\\\\\n\t L &  9.157766 &  TRUE & E3\\\\\n\t M & 14.585625 &  TRUE & E3\\\\\n\t W & 27.639348 & FALSE & E3\\\\\n\t J & 19.943772 &  TRUE & E3\\\\\n\t V & 19.838251 &  TRUE & E3\\\\\n\t S & 17.428402 &  TRUE & E3\\\\\n\t D & 22.181550 & FALSE & E3\\\\\n\t L & 14.958325 &  TRUE & E3\\\\\n\t M & 30.462201 & FALSE & E3\\\\\n\t W & 28.640289 & FALSE & E3\\\\\n\t J & 13.189194 &  TRUE & E3\\\\\n\t V & 28.322945 & FALSE & E3\\\\\n\t S & 32.529786 & FALSE & E3\\\\\n\t D & 14.228456 &  TRUE & E3\\\\\n\t L & 23.877090 & FALSE & E3\\\\\n\t M & 25.284431 & FALSE & E3\\\\\n\t W &  9.993866 &  TRUE & E3\\\\\n\t J & 28.337018 & FALSE & E3\\\\\n\t V & 24.481617 & FALSE & E3\\\\\n\t S & 12.877606 &  TRUE & E3\\\\\n\t D & 40.020939 & FALSE & E3\\\\\n\t L & 36.715297 & FALSE & E3\\\\\n\t M & 14.282740 &  TRUE & E3\\\\\n\t W & 31.599450 & FALSE & E3\\\\\n\t J & 11.558713 &  TRUE & E3\\\\\n\t V & 20.419558 & FALSE & E3\\\\\n\t S & 14.590049 &  TRUE & E3\\\\\n\t D & 24.390088 & FALSE & E3\\\\\n\t L & 14.801112 &  TRUE & E3\\\\\n\t M & 17.109115 &  TRUE & E3\\\\\n\\end{tabular}\n",
            "text/markdown": "\nA data.frame: 100 × 4\n\n| Dia_semana &lt;chr&gt; | Temperatura &lt;dbl&gt; | Llueve &lt;lgl&gt; | estacion &lt;chr&gt; |\n|---|---|---|---|\n| L | 27.637092 | FALSE | E1 |\n| M | 18.984552 |  TRUE | E1 |\n| W | 11.537028 |  TRUE | E1 |\n| J | 29.090220 | FALSE | E1 |\n| V | 13.245154 |  TRUE | E1 |\n| S | 18.115057 |  TRUE | E1 |\n| D | 24.475158 | FALSE | E1 |\n| L | 27.995877 | FALSE | E1 |\n| M | 22.331097 | FALSE | E1 |\n| W | 24.946983 | FALSE | E1 |\n| J | 32.374265 | FALSE | E1 |\n| V | 21.420404 | FALSE | E1 |\n| S | 22.791125 | FALSE | E1 |\n| D | 19.870387 |  TRUE | E1 |\n| L | 32.762603 | FALSE | E1 |\n| M |  9.910417 |  TRUE | E1 |\n| W | 28.117430 | FALSE | E1 |\n| J | 17.978785 |  TRUE | E1 |\n| V | 23.119776 | FALSE | E1 |\n| S | 22.970304 | FALSE | E1 |\n| D | 27.325724 | FALSE | E1 |\n| L | 29.303089 | FALSE | E1 |\n| M | 24.131837 | FALSE | E1 |\n| W | 16.583755 |  TRUE | E1 |\n| J | 17.990972 |  TRUE | E1 |\n| V | 18.280570 |  TRUE | E1 |\n| S | 25.364706 | FALSE | E1 |\n| D | 31.444450 | FALSE | E1 |\n| L | 28.409994 | FALSE | E1 |\n| M | 31.072741 | FALSE | E1 |\n| ⋮ | ⋮ | ⋮ | ⋮ |\n| L |  9.157766 |  TRUE | E3 |\n| M | 14.585625 |  TRUE | E3 |\n| W | 27.639348 | FALSE | E3 |\n| J | 19.943772 |  TRUE | E3 |\n| V | 19.838251 |  TRUE | E3 |\n| S | 17.428402 |  TRUE | E3 |\n| D | 22.181550 | FALSE | E3 |\n| L | 14.958325 |  TRUE | E3 |\n| M | 30.462201 | FALSE | E3 |\n| W | 28.640289 | FALSE | E3 |\n| J | 13.189194 |  TRUE | E3 |\n| V | 28.322945 | FALSE | E3 |\n| S | 32.529786 | FALSE | E3 |\n| D | 14.228456 |  TRUE | E3 |\n| L | 23.877090 | FALSE | E3 |\n| M | 25.284431 | FALSE | E3 |\n| W |  9.993866 |  TRUE | E3 |\n| J | 28.337018 | FALSE | E3 |\n| V | 24.481617 | FALSE | E3 |\n| S | 12.877606 |  TRUE | E3 |\n| D | 40.020939 | FALSE | E3 |\n| L | 36.715297 | FALSE | E3 |\n| M | 14.282740 |  TRUE | E3 |\n| W | 31.599450 | FALSE | E3 |\n| J | 11.558713 |  TRUE | E3 |\n| V | 20.419558 | FALSE | E3 |\n| S | 14.590049 |  TRUE | E3 |\n| D | 24.390088 | FALSE | E3 |\n| L | 14.801112 |  TRUE | E3 |\n| M | 17.109115 |  TRUE | E3 |\n\n",
            "text/html": [
              "<table>\n",
              "<caption>A data.frame: 100 × 4</caption>\n",
              "<thead>\n",
              "\t<tr><th scope=col>Dia_semana</th><th scope=col>Temperatura</th><th scope=col>Llueve</th><th scope=col>estacion</th></tr>\n",
              "\t<tr><th scope=col>&lt;chr&gt;</th><th scope=col>&lt;dbl&gt;</th><th scope=col>&lt;lgl&gt;</th><th scope=col>&lt;chr&gt;</th></tr>\n",
              "</thead>\n",
              "<tbody>\n",
              "\t<tr><td>L</td><td>27.637092</td><td>FALSE</td><td>E1</td></tr>\n",
              "\t<tr><td>M</td><td>18.984552</td><td> TRUE</td><td>E1</td></tr>\n",
              "\t<tr><td>W</td><td>11.537028</td><td> TRUE</td><td>E1</td></tr>\n",
              "\t<tr><td>J</td><td>29.090220</td><td>FALSE</td><td>E1</td></tr>\n",
              "\t<tr><td>V</td><td>13.245154</td><td> TRUE</td><td>E1</td></tr>\n",
              "\t<tr><td>S</td><td>18.115057</td><td> TRUE</td><td>E1</td></tr>\n",
              "\t<tr><td>D</td><td>24.475158</td><td>FALSE</td><td>E1</td></tr>\n",
              "\t<tr><td>L</td><td>27.995877</td><td>FALSE</td><td>E1</td></tr>\n",
              "\t<tr><td>M</td><td>22.331097</td><td>FALSE</td><td>E1</td></tr>\n",
              "\t<tr><td>W</td><td>24.946983</td><td>FALSE</td><td>E1</td></tr>\n",
              "\t<tr><td>J</td><td>32.374265</td><td>FALSE</td><td>E1</td></tr>\n",
              "\t<tr><td>V</td><td>21.420404</td><td>FALSE</td><td>E1</td></tr>\n",
              "\t<tr><td>S</td><td>22.791125</td><td>FALSE</td><td>E1</td></tr>\n",
              "\t<tr><td>D</td><td>19.870387</td><td> TRUE</td><td>E1</td></tr>\n",
              "\t<tr><td>L</td><td>32.762603</td><td>FALSE</td><td>E1</td></tr>\n",
              "\t<tr><td>M</td><td> 9.910417</td><td> TRUE</td><td>E1</td></tr>\n",
              "\t<tr><td>W</td><td>28.117430</td><td>FALSE</td><td>E1</td></tr>\n",
              "\t<tr><td>J</td><td>17.978785</td><td> TRUE</td><td>E1</td></tr>\n",
              "\t<tr><td>V</td><td>23.119776</td><td>FALSE</td><td>E1</td></tr>\n",
              "\t<tr><td>S</td><td>22.970304</td><td>FALSE</td><td>E1</td></tr>\n",
              "\t<tr><td>D</td><td>27.325724</td><td>FALSE</td><td>E1</td></tr>\n",
              "\t<tr><td>L</td><td>29.303089</td><td>FALSE</td><td>E1</td></tr>\n",
              "\t<tr><td>M</td><td>24.131837</td><td>FALSE</td><td>E1</td></tr>\n",
              "\t<tr><td>W</td><td>16.583755</td><td> TRUE</td><td>E1</td></tr>\n",
              "\t<tr><td>J</td><td>17.990972</td><td> TRUE</td><td>E1</td></tr>\n",
              "\t<tr><td>V</td><td>18.280570</td><td> TRUE</td><td>E1</td></tr>\n",
              "\t<tr><td>S</td><td>25.364706</td><td>FALSE</td><td>E1</td></tr>\n",
              "\t<tr><td>D</td><td>31.444450</td><td>FALSE</td><td>E1</td></tr>\n",
              "\t<tr><td>L</td><td>28.409994</td><td>FALSE</td><td>E1</td></tr>\n",
              "\t<tr><td>M</td><td>31.072741</td><td>FALSE</td><td>E1</td></tr>\n",
              "\t<tr><td>⋮</td><td>⋮</td><td>⋮</td><td>⋮</td></tr>\n",
              "\t<tr><td>L</td><td> 9.157766</td><td> TRUE</td><td>E3</td></tr>\n",
              "\t<tr><td>M</td><td>14.585625</td><td> TRUE</td><td>E3</td></tr>\n",
              "\t<tr><td>W</td><td>27.639348</td><td>FALSE</td><td>E3</td></tr>\n",
              "\t<tr><td>J</td><td>19.943772</td><td> TRUE</td><td>E3</td></tr>\n",
              "\t<tr><td>V</td><td>19.838251</td><td> TRUE</td><td>E3</td></tr>\n",
              "\t<tr><td>S</td><td>17.428402</td><td> TRUE</td><td>E3</td></tr>\n",
              "\t<tr><td>D</td><td>22.181550</td><td>FALSE</td><td>E3</td></tr>\n",
              "\t<tr><td>L</td><td>14.958325</td><td> TRUE</td><td>E3</td></tr>\n",
              "\t<tr><td>M</td><td>30.462201</td><td>FALSE</td><td>E3</td></tr>\n",
              "\t<tr><td>W</td><td>28.640289</td><td>FALSE</td><td>E3</td></tr>\n",
              "\t<tr><td>J</td><td>13.189194</td><td> TRUE</td><td>E3</td></tr>\n",
              "\t<tr><td>V</td><td>28.322945</td><td>FALSE</td><td>E3</td></tr>\n",
              "\t<tr><td>S</td><td>32.529786</td><td>FALSE</td><td>E3</td></tr>\n",
              "\t<tr><td>D</td><td>14.228456</td><td> TRUE</td><td>E3</td></tr>\n",
              "\t<tr><td>L</td><td>23.877090</td><td>FALSE</td><td>E3</td></tr>\n",
              "\t<tr><td>M</td><td>25.284431</td><td>FALSE</td><td>E3</td></tr>\n",
              "\t<tr><td>W</td><td> 9.993866</td><td> TRUE</td><td>E3</td></tr>\n",
              "\t<tr><td>J</td><td>28.337018</td><td>FALSE</td><td>E3</td></tr>\n",
              "\t<tr><td>V</td><td>24.481617</td><td>FALSE</td><td>E3</td></tr>\n",
              "\t<tr><td>S</td><td>12.877606</td><td> TRUE</td><td>E3</td></tr>\n",
              "\t<tr><td>D</td><td>40.020939</td><td>FALSE</td><td>E3</td></tr>\n",
              "\t<tr><td>L</td><td>36.715297</td><td>FALSE</td><td>E3</td></tr>\n",
              "\t<tr><td>M</td><td>14.282740</td><td> TRUE</td><td>E3</td></tr>\n",
              "\t<tr><td>W</td><td>31.599450</td><td>FALSE</td><td>E3</td></tr>\n",
              "\t<tr><td>J</td><td>11.558713</td><td> TRUE</td><td>E3</td></tr>\n",
              "\t<tr><td>V</td><td>20.419558</td><td>FALSE</td><td>E3</td></tr>\n",
              "\t<tr><td>S</td><td>14.590049</td><td> TRUE</td><td>E3</td></tr>\n",
              "\t<tr><td>D</td><td>24.390088</td><td>FALSE</td><td>E3</td></tr>\n",
              "\t<tr><td>L</td><td>14.801112</td><td> TRUE</td><td>E3</td></tr>\n",
              "\t<tr><td>M</td><td>17.109115</td><td> TRUE</td><td>E3</td></tr>\n",
              "</tbody>\n",
              "</table>\n"
            ]
          },
          "metadata": {
            "tags": []
          }
        }
      ]
    },
    {
      "cell_type": "code",
      "metadata": {
        "id": "5uiCAHd-wMea",
        "outputId": "ccca3b49-194e-462b-9924-746519bdd813",
        "colab": {
          "base_uri": "https://localhost:8080/",
          "height": 136
        }
      },
      "source": [
        "summary(precipitaciones)"
      ],
      "execution_count": 9,
      "outputs": [
        {
          "output_type": "display_data",
          "data": {
            "text/plain": [
              "  Dia_semana         Temperatura       Llueve          estacion        \n",
              " Length:100         Min.   : 5.348   Mode :logical   Length:100        \n",
              " Class :character   1st Qu.:16.480   FALSE:56        Class :character  \n",
              " Mode  :character   Median :22.469   TRUE :44        Mode  :character  \n",
              "                    Mean   :21.864                                     \n",
              "                    3rd Qu.:27.728                                     \n",
              "                    Max.   :40.021                                     "
            ]
          },
          "metadata": {
            "tags": []
          }
        }
      ]
    },
    {
      "cell_type": "markdown",
      "metadata": {
        "id": "kIjelA5sm5Zx"
      },
      "source": [
        "#### Strings como factores\n",
        "Cuando en R se declara una variable como factor, internamente se codifican sus categorías con valores 0 o 1. Por ejemplo, para las variables _Dia_ y _Estacion_ podemos generar sus matriz de diseño, indicando un 1 si el día (o estación) corresponde a la nueva columna generada, 0 si  no:\n",
        "\n",
        " |Dia |Temperatura    |Llueve| Estacion| | Dia.L|Dia.M|Dia.W|Dia.J|Dia.V|Dia.S|Dia.D|Est.1|Est.2|Est.3|\n",
        " |----|------------   |------|---------| |---   |---  |---  |---  |---  |---  |---  |---  |---  |---  |\n",
        " |L\t  |16.300201      |TRUE  |\tE1     | |1     |0    |0    |0    |0    |0    |0    |1    |0    |0    |\n",
        " |M   |21.042854      |FALSE |\tE1     | |0     |1    |0    |0    |0    |0    |0    |1    |0    |0    |\n",
        " |J\t  |31.256043      |FALSE |\tE3     | |0     |0    |0    |1    |0    |0    |0    |0    |0    |1    |\n",
        " |S\t  |40.083514      |FALSE |\tE3     | |0     |0    |0    |0    |0    |1    |0    |0    |0    |1    |\n",
        " \n",
        " Cuando se quiere generar un resumen de una variable categórica, o cuando se quiere incluir una variable de este tipo en el entrenamiento de un modelo será necesario declarar dicha variable como factor."
      ]
    },
    {
      "cell_type": "code",
      "metadata": {
        "trusted": true,
        "id": "1CRAXTdqm5Zx"
      },
      "source": [
        " precipitaciones$Dia_semana <- as.factor(precipitaciones$Dia_semana)"
      ],
      "execution_count": 10,
      "outputs": []
    },
    {
      "cell_type": "code",
      "metadata": {
        "trusted": true,
        "id": "Oxg6qkSim5Z0",
        "outputId": "b150b36a-8fa3-480a-fc60-66ea0dea6a27",
        "colab": {
          "base_uri": "https://localhost:8080/",
          "height": 204
        }
      },
      "source": [
        "head(precipitaciones)"
      ],
      "execution_count": 11,
      "outputs": [
        {
          "output_type": "display_data",
          "data": {
            "text/plain": [
              "  Dia_semana Temperatura Llueve estacion\n",
              "1 L          27.63709    FALSE  E1      \n",
              "2 M          18.98455     TRUE  E1      \n",
              "3 W          11.53703     TRUE  E1      \n",
              "4 J          29.09022    FALSE  E1      \n",
              "5 V          13.24515     TRUE  E1      \n",
              "6 S          18.11506     TRUE  E1      "
            ],
            "text/latex": "A data.frame: 6 × 4\n\\begin{tabular}{r|llll}\n  & Dia\\_semana & Temperatura & Llueve & estacion\\\\\n  & <fct> & <dbl> & <lgl> & <chr>\\\\\n\\hline\n\t1 & L & 27.63709 & FALSE & E1\\\\\n\t2 & M & 18.98455 &  TRUE & E1\\\\\n\t3 & W & 11.53703 &  TRUE & E1\\\\\n\t4 & J & 29.09022 & FALSE & E1\\\\\n\t5 & V & 13.24515 &  TRUE & E1\\\\\n\t6 & S & 18.11506 &  TRUE & E1\\\\\n\\end{tabular}\n",
            "text/markdown": "\nA data.frame: 6 × 4\n\n| <!--/--> | Dia_semana &lt;fct&gt; | Temperatura &lt;dbl&gt; | Llueve &lt;lgl&gt; | estacion &lt;chr&gt; |\n|---|---|---|---|---|\n| 1 | L | 27.63709 | FALSE | E1 |\n| 2 | M | 18.98455 |  TRUE | E1 |\n| 3 | W | 11.53703 |  TRUE | E1 |\n| 4 | J | 29.09022 | FALSE | E1 |\n| 5 | V | 13.24515 |  TRUE | E1 |\n| 6 | S | 18.11506 |  TRUE | E1 |\n\n",
            "text/html": [
              "<table>\n",
              "<caption>A data.frame: 6 × 4</caption>\n",
              "<thead>\n",
              "\t<tr><th></th><th scope=col>Dia_semana</th><th scope=col>Temperatura</th><th scope=col>Llueve</th><th scope=col>estacion</th></tr>\n",
              "\t<tr><th></th><th scope=col>&lt;fct&gt;</th><th scope=col>&lt;dbl&gt;</th><th scope=col>&lt;lgl&gt;</th><th scope=col>&lt;chr&gt;</th></tr>\n",
              "</thead>\n",
              "<tbody>\n",
              "\t<tr><th scope=row>1</th><td>L</td><td>27.63709</td><td>FALSE</td><td>E1</td></tr>\n",
              "\t<tr><th scope=row>2</th><td>M</td><td>18.98455</td><td> TRUE</td><td>E1</td></tr>\n",
              "\t<tr><th scope=row>3</th><td>W</td><td>11.53703</td><td> TRUE</td><td>E1</td></tr>\n",
              "\t<tr><th scope=row>4</th><td>J</td><td>29.09022</td><td>FALSE</td><td>E1</td></tr>\n",
              "\t<tr><th scope=row>5</th><td>V</td><td>13.24515</td><td> TRUE</td><td>E1</td></tr>\n",
              "\t<tr><th scope=row>6</th><td>S</td><td>18.11506</td><td> TRUE</td><td>E1</td></tr>\n",
              "</tbody>\n",
              "</table>\n"
            ]
          },
          "metadata": {
            "tags": []
          }
        }
      ]
    },
    {
      "cell_type": "code",
      "metadata": {
        "id": "kPpInJ-6yJ1g",
        "outputId": "56f0f117-da21-486f-9fae-010c318e6641",
        "colab": {
          "base_uri": "https://localhost:8080/",
          "height": 153
        }
      },
      "source": [
        "summary(precipitaciones)"
      ],
      "execution_count": 12,
      "outputs": [
        {
          "output_type": "display_data",
          "data": {
            "text/plain": [
              " Dia_semana  Temperatura       Llueve          estacion        \n",
              " D:14       Min.   : 5.348   Mode :logical   Length:100        \n",
              " J:14       1st Qu.:16.480   FALSE:56        Class :character  \n",
              " L:15       Median :22.469   TRUE :44        Mode  :character  \n",
              " M:15       Mean   :21.864                                     \n",
              " S:14       3rd Qu.:27.728                                     \n",
              " V:14       Max.   :40.021                                     \n",
              " W:14                                                          "
            ]
          },
          "metadata": {
            "tags": []
          }
        }
      ]
    },
    {
      "cell_type": "code",
      "metadata": {
        "id": "-46ParPTyctQ",
        "outputId": "95d21968-ca88-4211-f6a7-650074929fc9",
        "colab": {
          "base_uri": "https://localhost:8080/"
        }
      },
      "source": [
        "str(precipitaciones)"
      ],
      "execution_count": 13,
      "outputs": [
        {
          "output_type": "stream",
          "text": [
            "'data.frame':\t100 obs. of  4 variables:\n",
            " $ Dia_semana : Factor w/ 7 levels \"D\",\"J\",\"L\",\"M\",..: 3 4 7 2 6 5 1 3 4 7 ...\n",
            " $ Temperatura: num  27.6 19 11.5 29.1 13.2 ...\n",
            " $ Llueve     : logi  FALSE TRUE TRUE FALSE TRUE TRUE ...\n",
            " $ estacion   : chr  \"E1\" \"E1\" \"E1\" \"E1\" ...\n"
          ],
          "name": "stdout"
        }
      ]
    },
    {
      "cell_type": "code",
      "metadata": {
        "trusted": true,
        "id": "UQN71LvGm5Z-",
        "outputId": "ae9aa7f3-e038-42a3-b8fb-3f40a0e467df",
        "colab": {
          "base_uri": "https://localhost:8080/"
        }
      },
      "source": [
        "#podemos volver a coercionar las columnas a clase character,  con la función as.character\n",
        " precipitaciones$Dia_semana <- as.character(precipitaciones$Dia_semana)\n",
        " str(precipitaciones)"
      ],
      "execution_count": 14,
      "outputs": [
        {
          "output_type": "stream",
          "text": [
            "'data.frame':\t100 obs. of  4 variables:\n",
            " $ Dia_semana : chr  \"L\" \"M\" \"W\" \"J\" ...\n",
            " $ Temperatura: num  27.6 19 11.5 29.1 13.2 ...\n",
            " $ Llueve     : logi  FALSE TRUE TRUE FALSE TRUE TRUE ...\n",
            " $ estacion   : chr  \"E1\" \"E1\" \"E1\" \"E1\" ...\n"
          ],
          "name": "stdout"
        }
      ]
    },
    {
      "cell_type": "code",
      "metadata": {
        "trusted": true,
        "id": "5kjmwaOUm5aA",
        "outputId": "c4ce9147-f1bd-45e7-8c8f-e38de04d7c9a",
        "colab": {
          "base_uri": "https://localhost:8080/",
          "height": 119
        }
      },
      "source": [
        "# Un poco de exploración --------------------------------\n",
        "# ¿Cuál es la temperatura promedio cuando llovió?\n",
        "mean(precipitaciones$Temperatura[ precipitaciones$Llueve == T ])\n",
        "mean(precipitaciones$Temperatura[ precipitaciones$Llueve ])\n",
        "\n",
        "# ¿Cuál es la temperatura promedio cuando NO llovió?\n",
        "mean(precipitaciones$Temperatura[ !precipitaciones$Llueve == T ])\n",
        "mean(precipitaciones$Temperatura[ precipitaciones$Llueve != T ])\n",
        "mean(precipitaciones$Temperatura[ precipitaciones$Llueve == F ])\n",
        "mean(precipitaciones$Temperatura[ !precipitaciones$Llueve ])\n",
        "\n",
        "#Lo mismo pero sólo de los registros de E1\n",
        "\n"
      ],
      "execution_count": 15,
      "outputs": [
        {
          "output_type": "display_data",
          "data": {
            "text/plain": [
              "[1] 15.15329"
            ],
            "text/latex": "15.1532852353543",
            "text/markdown": "15.1532852353543",
            "text/html": [
              "15.1532852353543"
            ]
          },
          "metadata": {
            "tags": []
          }
        },
        {
          "output_type": "display_data",
          "data": {
            "text/plain": [
              "[1] 15.15329"
            ],
            "text/latex": "15.1532852353543",
            "text/markdown": "15.1532852353543",
            "text/html": [
              "15.1532852353543"
            ]
          },
          "metadata": {
            "tags": []
          }
        },
        {
          "output_type": "display_data",
          "data": {
            "text/plain": [
              "[1] 27.13684"
            ],
            "text/latex": "27.1368375128078",
            "text/markdown": "27.1368375128078",
            "text/html": [
              "27.1368375128078"
            ]
          },
          "metadata": {
            "tags": []
          }
        },
        {
          "output_type": "display_data",
          "data": {
            "text/plain": [
              "[1] 27.13684"
            ],
            "text/latex": "27.1368375128078",
            "text/markdown": "27.1368375128078",
            "text/html": [
              "27.1368375128078"
            ]
          },
          "metadata": {
            "tags": []
          }
        },
        {
          "output_type": "display_data",
          "data": {
            "text/plain": [
              "[1] 27.13684"
            ],
            "text/latex": "27.1368375128078",
            "text/markdown": "27.1368375128078",
            "text/html": [
              "27.1368375128078"
            ]
          },
          "metadata": {
            "tags": []
          }
        },
        {
          "output_type": "display_data",
          "data": {
            "text/plain": [
              "[1] 27.13684"
            ],
            "text/latex": "27.1368375128078",
            "text/markdown": "27.1368375128078",
            "text/html": [
              "27.1368375128078"
            ]
          },
          "metadata": {
            "tags": []
          }
        }
      ]
    },
    {
      "cell_type": "code",
      "metadata": {
        "id": "L6gW5_S-3ZFx",
        "outputId": "9d31778a-ed66-49c7-a2c7-015ff758c76d",
        "colab": {
          "base_uri": "https://localhost:8080/"
        }
      },
      "source": [
        "library(dplyr)"
      ],
      "execution_count": 24,
      "outputs": [
        {
          "output_type": "stream",
          "text": [
            "\n",
            "Attaching package: ‘dplyr’\n",
            "\n",
            "\n",
            "The following objects are masked from ‘package:stats’:\n",
            "\n",
            "    filter, lag\n",
            "\n",
            "\n",
            "The following objects are masked from ‘package:base’:\n",
            "\n",
            "    intersect, setdiff, setequal, union\n",
            "\n",
            "\n"
          ],
          "name": "stderr"
        }
      ]
    },
    {
      "cell_type": "code",
      "metadata": {
        "trusted": true,
        "id": "TJuAlpPxm5aC",
        "outputId": "4d575b8b-436a-44dc-9a64-0ab5d880656c",
        "colab": {
          "base_uri": "https://localhost:8080/",
          "height": 133
        }
      },
      "source": [
        "# ¿Qué día era cuando se alcanzó la mínima temperatura?¿y la ,máxima?\n",
        "#La función which.min #o .max . retorna la posición donde se alcanza el min/max de un vector.\n",
        "\n",
        "# opcion 1\n",
        "precipitaciones %>% \n",
        "  filter(Temperatura == max(Temperatura))\n",
        "\n",
        "# Fue un día domingo.\n",
        "\n",
        "# opcion 2\n",
        "precipitaciones$Dia_semana[precipitaciones$Temperatura == max(precipitaciones$Temperatura)]\n",
        "precipitaciones$Dia_semana[which.max(precipitaciones$Temperatura)]"
      ],
      "execution_count": 27,
      "outputs": [
        {
          "output_type": "display_data",
          "data": {
            "text/plain": [
              "  Dia_semana Temperatura Llueve estacion\n",
              "1 D          40.02094    FALSE  E3      "
            ],
            "text/latex": "A data.frame: 1 × 4\n\\begin{tabular}{llll}\n Dia\\_semana & Temperatura & Llueve & estacion\\\\\n <chr> & <dbl> & <lgl> & <chr>\\\\\n\\hline\n\t D & 40.02094 & FALSE & E3\\\\\n\\end{tabular}\n",
            "text/markdown": "\nA data.frame: 1 × 4\n\n| Dia_semana &lt;chr&gt; | Temperatura &lt;dbl&gt; | Llueve &lt;lgl&gt; | estacion &lt;chr&gt; |\n|---|---|---|---|\n| D | 40.02094 | FALSE | E3 |\n\n",
            "text/html": [
              "<table>\n",
              "<caption>A data.frame: 1 × 4</caption>\n",
              "<thead>\n",
              "\t<tr><th scope=col>Dia_semana</th><th scope=col>Temperatura</th><th scope=col>Llueve</th><th scope=col>estacion</th></tr>\n",
              "\t<tr><th scope=col>&lt;chr&gt;</th><th scope=col>&lt;dbl&gt;</th><th scope=col>&lt;lgl&gt;</th><th scope=col>&lt;chr&gt;</th></tr>\n",
              "</thead>\n",
              "<tbody>\n",
              "\t<tr><td>D</td><td>40.02094</td><td>FALSE</td><td>E3</td></tr>\n",
              "</tbody>\n",
              "</table>\n"
            ]
          },
          "metadata": {
            "tags": []
          }
        },
        {
          "output_type": "display_data",
          "data": {
            "text/plain": [
              "[1] \"D\""
            ],
            "text/latex": "'D'",
            "text/markdown": "'D'",
            "text/html": [
              "'D'"
            ]
          },
          "metadata": {
            "tags": []
          }
        },
        {
          "output_type": "display_data",
          "data": {
            "text/plain": [
              "[1] \"D\""
            ],
            "text/latex": "'D'",
            "text/markdown": "'D'",
            "text/html": [
              "'D'"
            ]
          },
          "metadata": {
            "tags": []
          }
        }
      ]
    },
    {
      "cell_type": "code",
      "metadata": {
        "trusted": true,
        "id": "WHf5YnPWm5aF"
      },
      "source": [
        "# Una forma de eliminar registros en vector\n",
        "\n",
        "\n"
      ],
      "execution_count": 17,
      "outputs": []
    },
    {
      "cell_type": "code",
      "metadata": {
        "trusted": true,
        "id": "6Vx1ojnAm5aH",
        "outputId": "5b324f03-3752-4d59-abfa-a71df582833e",
        "colab": {
          "base_uri": "https://localhost:8080/",
          "height": 34
        }
      },
      "source": [
        "# POdemos eliminar los registros de posición 3 y 4\n",
        "v <- c(1,4,7,8)\n",
        "v"
      ],
      "execution_count": 29,
      "outputs": [
        {
          "output_type": "display_data",
          "data": {
            "text/plain": [
              "[1] 1 4 7 8"
            ],
            "text/latex": "\\begin{enumerate*}\n\\item 1\n\\item 4\n\\item 7\n\\item 8\n\\end{enumerate*}\n",
            "text/markdown": "1. 1\n2. 4\n3. 7\n4. 8\n\n\n",
            "text/html": [
              "<style>\n",
              ".list-inline {list-style: none; margin:0; padding: 0}\n",
              ".list-inline>li {display: inline-block}\n",
              ".list-inline>li:not(:last-child)::after {content: \"\\00b7\"; padding: 0 .5ex}\n",
              "</style>\n",
              "<ol class=list-inline><li>1</li><li>4</li><li>7</li><li>8</li></ol>\n"
            ]
          },
          "metadata": {
            "tags": []
          }
        }
      ]
    },
    {
      "cell_type": "code",
      "metadata": {
        "id": "uOm4YlNY4CB-"
      },
      "source": [
        "v<- v[-c(3,4)]\n"
      ],
      "execution_count": 31,
      "outputs": []
    },
    {
      "cell_type": "code",
      "metadata": {
        "id": "gaeDvfxs4IwB",
        "outputId": "e9117f1d-b3e2-48d4-decc-ec7475bf9179",
        "colab": {
          "base_uri": "https://localhost:8080/",
          "height": 34
        }
      },
      "source": [
        "v"
      ],
      "execution_count": 32,
      "outputs": [
        {
          "output_type": "display_data",
          "data": {
            "text/plain": [
              "[1] 1 4"
            ],
            "text/latex": "\\begin{enumerate*}\n\\item 1\n\\item 4\n\\end{enumerate*}\n",
            "text/markdown": "1. 1\n2. 4\n\n\n",
            "text/html": [
              "<style>\n",
              ".list-inline {list-style: none; margin:0; padding: 0}\n",
              ".list-inline>li {display: inline-block}\n",
              ".list-inline>li:not(:last-child)::after {content: \"\\00b7\"; padding: 0 .5ex}\n",
              "</style>\n",
              "<ol class=list-inline><li>1</li><li>4</li></ol>\n"
            ]
          },
          "metadata": {
            "tags": []
          }
        }
      ]
    },
    {
      "cell_type": "code",
      "metadata": {
        "trusted": true,
        "id": "K9Qv9n_nm5aJ",
        "outputId": "454c504b-fe42-4b97-c274-1aaeb0bd7ee0",
        "colab": {
          "base_uri": "https://localhost:8080/",
          "height": 1000
        }
      },
      "source": [
        "# Se sabe que la Estación E3 falla todos los días domingo, por lo que se quiere eliminar tales registros de la tabla. Elimínelos!\n",
        "\n",
        "precipitaciones %>% \n",
        "  filter(Dia_semana != \"D\")\n",
        "\n",
        "precipitaciones[precipitaciones$Dia_semana!= \"D\",]"
      ],
      "execution_count": 34,
      "outputs": [
        {
          "output_type": "display_data",
          "data": {
            "text/plain": [
              "   Dia_semana Temperatura Llueve estacion\n",
              "1  L          27.637092   FALSE  E1      \n",
              "2  M          18.984552    TRUE  E1      \n",
              "3  W          11.537028    TRUE  E1      \n",
              "4  J          29.090220   FALSE  E1      \n",
              "5  V          13.245154    TRUE  E1      \n",
              "6  S          18.115057    TRUE  E1      \n",
              "7  L          27.995877   FALSE  E1      \n",
              "8  M          22.331097   FALSE  E1      \n",
              "9  W          24.946983   FALSE  E1      \n",
              "10 J          32.374265   FALSE  E1      \n",
              "11 V          21.420404   FALSE  E1      \n",
              "12 S          22.791125   FALSE  E1      \n",
              "13 L          32.762603   FALSE  E1      \n",
              "14 M           9.910417    TRUE  E1      \n",
              "15 W          28.117430   FALSE  E1      \n",
              "16 J          17.978785    TRUE  E1      \n",
              "17 V          23.119776   FALSE  E1      \n",
              "18 S          22.970304   FALSE  E1      \n",
              "19 L          29.303089   FALSE  E1      \n",
              "20 M          24.131837   FALSE  E1      \n",
              "21 W          16.583755    TRUE  E1      \n",
              "22 J          17.990972    TRUE  E1      \n",
              "23 V          18.280570    TRUE  E1      \n",
              "24 S          25.364706   FALSE  E1      \n",
              "25 L          28.409994   FALSE  E1      \n",
              "26 M          31.072741   FALSE  E1      \n",
              "27 W          32.973572   FALSE  E1      \n",
              "28 J          22.606659   FALSE  E1      \n",
              "29 V          28.340704   FALSE  E1      \n",
              "30 S          14.660520    TRUE  E2      \n",
              "⋮  ⋮          ⋮           ⋮      ⋮       \n",
              "57 W          30.119748   FALSE  E2      \n",
              "58 J           9.417253    TRUE  E3      \n",
              "59 V          18.822571    TRUE  E3      \n",
              "60 S          24.326998   FALSE  E3      \n",
              "61 L           9.157766    TRUE  E3      \n",
              "62 M          14.585625    TRUE  E3      \n",
              "63 W          27.639348   FALSE  E3      \n",
              "64 J          19.943772    TRUE  E3      \n",
              "65 V          19.838251    TRUE  E3      \n",
              "66 S          17.428402    TRUE  E3      \n",
              "67 L          14.958325    TRUE  E3      \n",
              "68 M          30.462201   FALSE  E3      \n",
              "69 W          28.640289   FALSE  E3      \n",
              "70 J          13.189194    TRUE  E3      \n",
              "71 V          28.322945   FALSE  E3      \n",
              "72 S          32.529786   FALSE  E3      \n",
              "73 L          23.877090   FALSE  E3      \n",
              "74 M          25.284431   FALSE  E3      \n",
              "75 W           9.993866    TRUE  E3      \n",
              "76 J          28.337018   FALSE  E3      \n",
              "77 V          24.481617   FALSE  E3      \n",
              "78 S          12.877606    TRUE  E3      \n",
              "79 L          36.715297   FALSE  E3      \n",
              "80 M          14.282740    TRUE  E3      \n",
              "81 W          31.599450   FALSE  E3      \n",
              "82 J          11.558713    TRUE  E3      \n",
              "83 V          20.419558   FALSE  E3      \n",
              "84 S          14.590049    TRUE  E3      \n",
              "85 L          14.801112    TRUE  E3      \n",
              "86 M          17.109115    TRUE  E3      "
            ],
            "text/latex": "A data.frame: 86 × 4\n\\begin{tabular}{llll}\n Dia\\_semana & Temperatura & Llueve & estacion\\\\\n <chr> & <dbl> & <lgl> & <chr>\\\\\n\\hline\n\t L & 27.637092 & FALSE & E1\\\\\n\t M & 18.984552 &  TRUE & E1\\\\\n\t W & 11.537028 &  TRUE & E1\\\\\n\t J & 29.090220 & FALSE & E1\\\\\n\t V & 13.245154 &  TRUE & E1\\\\\n\t S & 18.115057 &  TRUE & E1\\\\\n\t L & 27.995877 & FALSE & E1\\\\\n\t M & 22.331097 & FALSE & E1\\\\\n\t W & 24.946983 & FALSE & E1\\\\\n\t J & 32.374265 & FALSE & E1\\\\\n\t V & 21.420404 & FALSE & E1\\\\\n\t S & 22.791125 & FALSE & E1\\\\\n\t L & 32.762603 & FALSE & E1\\\\\n\t M &  9.910417 &  TRUE & E1\\\\\n\t W & 28.117430 & FALSE & E1\\\\\n\t J & 17.978785 &  TRUE & E1\\\\\n\t V & 23.119776 & FALSE & E1\\\\\n\t S & 22.970304 & FALSE & E1\\\\\n\t L & 29.303089 & FALSE & E1\\\\\n\t M & 24.131837 & FALSE & E1\\\\\n\t W & 16.583755 &  TRUE & E1\\\\\n\t J & 17.990972 &  TRUE & E1\\\\\n\t V & 18.280570 &  TRUE & E1\\\\\n\t S & 25.364706 & FALSE & E1\\\\\n\t L & 28.409994 & FALSE & E1\\\\\n\t M & 31.072741 & FALSE & E1\\\\\n\t W & 32.973572 & FALSE & E1\\\\\n\t J & 22.606659 & FALSE & E1\\\\\n\t V & 28.340704 & FALSE & E1\\\\\n\t S & 14.660520 &  TRUE & E2\\\\\n\t ⋮ & ⋮ & ⋮ & ⋮\\\\\n\t W & 30.119748 & FALSE & E2\\\\\n\t J &  9.417253 &  TRUE & E3\\\\\n\t V & 18.822571 &  TRUE & E3\\\\\n\t S & 24.326998 & FALSE & E3\\\\\n\t L &  9.157766 &  TRUE & E3\\\\\n\t M & 14.585625 &  TRUE & E3\\\\\n\t W & 27.639348 & FALSE & E3\\\\\n\t J & 19.943772 &  TRUE & E3\\\\\n\t V & 19.838251 &  TRUE & E3\\\\\n\t S & 17.428402 &  TRUE & E3\\\\\n\t L & 14.958325 &  TRUE & E3\\\\\n\t M & 30.462201 & FALSE & E3\\\\\n\t W & 28.640289 & FALSE & E3\\\\\n\t J & 13.189194 &  TRUE & E3\\\\\n\t V & 28.322945 & FALSE & E3\\\\\n\t S & 32.529786 & FALSE & E3\\\\\n\t L & 23.877090 & FALSE & E3\\\\\n\t M & 25.284431 & FALSE & E3\\\\\n\t W &  9.993866 &  TRUE & E3\\\\\n\t J & 28.337018 & FALSE & E3\\\\\n\t V & 24.481617 & FALSE & E3\\\\\n\t S & 12.877606 &  TRUE & E3\\\\\n\t L & 36.715297 & FALSE & E3\\\\\n\t M & 14.282740 &  TRUE & E3\\\\\n\t W & 31.599450 & FALSE & E3\\\\\n\t J & 11.558713 &  TRUE & E3\\\\\n\t V & 20.419558 & FALSE & E3\\\\\n\t S & 14.590049 &  TRUE & E3\\\\\n\t L & 14.801112 &  TRUE & E3\\\\\n\t M & 17.109115 &  TRUE & E3\\\\\n\\end{tabular}\n",
            "text/markdown": "\nA data.frame: 86 × 4\n\n| Dia_semana &lt;chr&gt; | Temperatura &lt;dbl&gt; | Llueve &lt;lgl&gt; | estacion &lt;chr&gt; |\n|---|---|---|---|\n| L | 27.637092 | FALSE | E1 |\n| M | 18.984552 |  TRUE | E1 |\n| W | 11.537028 |  TRUE | E1 |\n| J | 29.090220 | FALSE | E1 |\n| V | 13.245154 |  TRUE | E1 |\n| S | 18.115057 |  TRUE | E1 |\n| L | 27.995877 | FALSE | E1 |\n| M | 22.331097 | FALSE | E1 |\n| W | 24.946983 | FALSE | E1 |\n| J | 32.374265 | FALSE | E1 |\n| V | 21.420404 | FALSE | E1 |\n| S | 22.791125 | FALSE | E1 |\n| L | 32.762603 | FALSE | E1 |\n| M |  9.910417 |  TRUE | E1 |\n| W | 28.117430 | FALSE | E1 |\n| J | 17.978785 |  TRUE | E1 |\n| V | 23.119776 | FALSE | E1 |\n| S | 22.970304 | FALSE | E1 |\n| L | 29.303089 | FALSE | E1 |\n| M | 24.131837 | FALSE | E1 |\n| W | 16.583755 |  TRUE | E1 |\n| J | 17.990972 |  TRUE | E1 |\n| V | 18.280570 |  TRUE | E1 |\n| S | 25.364706 | FALSE | E1 |\n| L | 28.409994 | FALSE | E1 |\n| M | 31.072741 | FALSE | E1 |\n| W | 32.973572 | FALSE | E1 |\n| J | 22.606659 | FALSE | E1 |\n| V | 28.340704 | FALSE | E1 |\n| S | 14.660520 |  TRUE | E2 |\n| ⋮ | ⋮ | ⋮ | ⋮ |\n| W | 30.119748 | FALSE | E2 |\n| J |  9.417253 |  TRUE | E3 |\n| V | 18.822571 |  TRUE | E3 |\n| S | 24.326998 | FALSE | E3 |\n| L |  9.157766 |  TRUE | E3 |\n| M | 14.585625 |  TRUE | E3 |\n| W | 27.639348 | FALSE | E3 |\n| J | 19.943772 |  TRUE | E3 |\n| V | 19.838251 |  TRUE | E3 |\n| S | 17.428402 |  TRUE | E3 |\n| L | 14.958325 |  TRUE | E3 |\n| M | 30.462201 | FALSE | E3 |\n| W | 28.640289 | FALSE | E3 |\n| J | 13.189194 |  TRUE | E3 |\n| V | 28.322945 | FALSE | E3 |\n| S | 32.529786 | FALSE | E3 |\n| L | 23.877090 | FALSE | E3 |\n| M | 25.284431 | FALSE | E3 |\n| W |  9.993866 |  TRUE | E3 |\n| J | 28.337018 | FALSE | E3 |\n| V | 24.481617 | FALSE | E3 |\n| S | 12.877606 |  TRUE | E3 |\n| L | 36.715297 | FALSE | E3 |\n| M | 14.282740 |  TRUE | E3 |\n| W | 31.599450 | FALSE | E3 |\n| J | 11.558713 |  TRUE | E3 |\n| V | 20.419558 | FALSE | E3 |\n| S | 14.590049 |  TRUE | E3 |\n| L | 14.801112 |  TRUE | E3 |\n| M | 17.109115 |  TRUE | E3 |\n\n",
            "text/html": [
              "<table>\n",
              "<caption>A data.frame: 86 × 4</caption>\n",
              "<thead>\n",
              "\t<tr><th scope=col>Dia_semana</th><th scope=col>Temperatura</th><th scope=col>Llueve</th><th scope=col>estacion</th></tr>\n",
              "\t<tr><th scope=col>&lt;chr&gt;</th><th scope=col>&lt;dbl&gt;</th><th scope=col>&lt;lgl&gt;</th><th scope=col>&lt;chr&gt;</th></tr>\n",
              "</thead>\n",
              "<tbody>\n",
              "\t<tr><td>L</td><td>27.637092</td><td>FALSE</td><td>E1</td></tr>\n",
              "\t<tr><td>M</td><td>18.984552</td><td> TRUE</td><td>E1</td></tr>\n",
              "\t<tr><td>W</td><td>11.537028</td><td> TRUE</td><td>E1</td></tr>\n",
              "\t<tr><td>J</td><td>29.090220</td><td>FALSE</td><td>E1</td></tr>\n",
              "\t<tr><td>V</td><td>13.245154</td><td> TRUE</td><td>E1</td></tr>\n",
              "\t<tr><td>S</td><td>18.115057</td><td> TRUE</td><td>E1</td></tr>\n",
              "\t<tr><td>L</td><td>27.995877</td><td>FALSE</td><td>E1</td></tr>\n",
              "\t<tr><td>M</td><td>22.331097</td><td>FALSE</td><td>E1</td></tr>\n",
              "\t<tr><td>W</td><td>24.946983</td><td>FALSE</td><td>E1</td></tr>\n",
              "\t<tr><td>J</td><td>32.374265</td><td>FALSE</td><td>E1</td></tr>\n",
              "\t<tr><td>V</td><td>21.420404</td><td>FALSE</td><td>E1</td></tr>\n",
              "\t<tr><td>S</td><td>22.791125</td><td>FALSE</td><td>E1</td></tr>\n",
              "\t<tr><td>L</td><td>32.762603</td><td>FALSE</td><td>E1</td></tr>\n",
              "\t<tr><td>M</td><td> 9.910417</td><td> TRUE</td><td>E1</td></tr>\n",
              "\t<tr><td>W</td><td>28.117430</td><td>FALSE</td><td>E1</td></tr>\n",
              "\t<tr><td>J</td><td>17.978785</td><td> TRUE</td><td>E1</td></tr>\n",
              "\t<tr><td>V</td><td>23.119776</td><td>FALSE</td><td>E1</td></tr>\n",
              "\t<tr><td>S</td><td>22.970304</td><td>FALSE</td><td>E1</td></tr>\n",
              "\t<tr><td>L</td><td>29.303089</td><td>FALSE</td><td>E1</td></tr>\n",
              "\t<tr><td>M</td><td>24.131837</td><td>FALSE</td><td>E1</td></tr>\n",
              "\t<tr><td>W</td><td>16.583755</td><td> TRUE</td><td>E1</td></tr>\n",
              "\t<tr><td>J</td><td>17.990972</td><td> TRUE</td><td>E1</td></tr>\n",
              "\t<tr><td>V</td><td>18.280570</td><td> TRUE</td><td>E1</td></tr>\n",
              "\t<tr><td>S</td><td>25.364706</td><td>FALSE</td><td>E1</td></tr>\n",
              "\t<tr><td>L</td><td>28.409994</td><td>FALSE</td><td>E1</td></tr>\n",
              "\t<tr><td>M</td><td>31.072741</td><td>FALSE</td><td>E1</td></tr>\n",
              "\t<tr><td>W</td><td>32.973572</td><td>FALSE</td><td>E1</td></tr>\n",
              "\t<tr><td>J</td><td>22.606659</td><td>FALSE</td><td>E1</td></tr>\n",
              "\t<tr><td>V</td><td>28.340704</td><td>FALSE</td><td>E1</td></tr>\n",
              "\t<tr><td>S</td><td>14.660520</td><td> TRUE</td><td>E2</td></tr>\n",
              "\t<tr><td>⋮</td><td>⋮</td><td>⋮</td><td>⋮</td></tr>\n",
              "\t<tr><td>W</td><td>30.119748</td><td>FALSE</td><td>E2</td></tr>\n",
              "\t<tr><td>J</td><td> 9.417253</td><td> TRUE</td><td>E3</td></tr>\n",
              "\t<tr><td>V</td><td>18.822571</td><td> TRUE</td><td>E3</td></tr>\n",
              "\t<tr><td>S</td><td>24.326998</td><td>FALSE</td><td>E3</td></tr>\n",
              "\t<tr><td>L</td><td> 9.157766</td><td> TRUE</td><td>E3</td></tr>\n",
              "\t<tr><td>M</td><td>14.585625</td><td> TRUE</td><td>E3</td></tr>\n",
              "\t<tr><td>W</td><td>27.639348</td><td>FALSE</td><td>E3</td></tr>\n",
              "\t<tr><td>J</td><td>19.943772</td><td> TRUE</td><td>E3</td></tr>\n",
              "\t<tr><td>V</td><td>19.838251</td><td> TRUE</td><td>E3</td></tr>\n",
              "\t<tr><td>S</td><td>17.428402</td><td> TRUE</td><td>E3</td></tr>\n",
              "\t<tr><td>L</td><td>14.958325</td><td> TRUE</td><td>E3</td></tr>\n",
              "\t<tr><td>M</td><td>30.462201</td><td>FALSE</td><td>E3</td></tr>\n",
              "\t<tr><td>W</td><td>28.640289</td><td>FALSE</td><td>E3</td></tr>\n",
              "\t<tr><td>J</td><td>13.189194</td><td> TRUE</td><td>E3</td></tr>\n",
              "\t<tr><td>V</td><td>28.322945</td><td>FALSE</td><td>E3</td></tr>\n",
              "\t<tr><td>S</td><td>32.529786</td><td>FALSE</td><td>E3</td></tr>\n",
              "\t<tr><td>L</td><td>23.877090</td><td>FALSE</td><td>E3</td></tr>\n",
              "\t<tr><td>M</td><td>25.284431</td><td>FALSE</td><td>E3</td></tr>\n",
              "\t<tr><td>W</td><td> 9.993866</td><td> TRUE</td><td>E3</td></tr>\n",
              "\t<tr><td>J</td><td>28.337018</td><td>FALSE</td><td>E3</td></tr>\n",
              "\t<tr><td>V</td><td>24.481617</td><td>FALSE</td><td>E3</td></tr>\n",
              "\t<tr><td>S</td><td>12.877606</td><td> TRUE</td><td>E3</td></tr>\n",
              "\t<tr><td>L</td><td>36.715297</td><td>FALSE</td><td>E3</td></tr>\n",
              "\t<tr><td>M</td><td>14.282740</td><td> TRUE</td><td>E3</td></tr>\n",
              "\t<tr><td>W</td><td>31.599450</td><td>FALSE</td><td>E3</td></tr>\n",
              "\t<tr><td>J</td><td>11.558713</td><td> TRUE</td><td>E3</td></tr>\n",
              "\t<tr><td>V</td><td>20.419558</td><td>FALSE</td><td>E3</td></tr>\n",
              "\t<tr><td>S</td><td>14.590049</td><td> TRUE</td><td>E3</td></tr>\n",
              "\t<tr><td>L</td><td>14.801112</td><td> TRUE</td><td>E3</td></tr>\n",
              "\t<tr><td>M</td><td>17.109115</td><td> TRUE</td><td>E3</td></tr>\n",
              "</tbody>\n",
              "</table>\n"
            ]
          },
          "metadata": {
            "tags": []
          }
        },
        {
          "output_type": "display_data",
          "data": {
            "text/plain": [
              "    Dia_semana Temperatura Llueve estacion\n",
              "1   L          27.637092   FALSE  E1      \n",
              "2   M          18.984552    TRUE  E1      \n",
              "3   W          11.537028    TRUE  E1      \n",
              "4   J          29.090220   FALSE  E1      \n",
              "5   V          13.245154    TRUE  E1      \n",
              "6   S          18.115057    TRUE  E1      \n",
              "8   L          27.995877   FALSE  E1      \n",
              "9   M          22.331097   FALSE  E1      \n",
              "10  W          24.946983   FALSE  E1      \n",
              "11  J          32.374265   FALSE  E1      \n",
              "12  V          21.420404   FALSE  E1      \n",
              "13  S          22.791125   FALSE  E1      \n",
              "15  L          32.762603   FALSE  E1      \n",
              "16  M           9.910417    TRUE  E1      \n",
              "17  W          28.117430   FALSE  E1      \n",
              "18  J          17.978785    TRUE  E1      \n",
              "19  V          23.119776   FALSE  E1      \n",
              "20  S          22.970304   FALSE  E1      \n",
              "22  L          29.303089   FALSE  E1      \n",
              "23  M          24.131837   FALSE  E1      \n",
              "24  W          16.583755    TRUE  E1      \n",
              "25  J          17.990972    TRUE  E1      \n",
              "26  V          18.280570    TRUE  E1      \n",
              "27  S          25.364706   FALSE  E1      \n",
              "29  L          28.409994   FALSE  E1      \n",
              "30  M          31.072741   FALSE  E1      \n",
              "31  W          32.973572   FALSE  E1      \n",
              "32  J          22.606659   FALSE  E1      \n",
              "33  V          28.340704   FALSE  E1      \n",
              "34  S          14.660520    TRUE  E2      \n",
              "⋮   ⋮          ⋮           ⋮      ⋮       \n",
              "66  W          30.119748   FALSE  E2      \n",
              "67  J           9.417253    TRUE  E3      \n",
              "68  V          18.822571    TRUE  E3      \n",
              "69  S          24.326998   FALSE  E3      \n",
              "71  L           9.157766    TRUE  E3      \n",
              "72  M          14.585625    TRUE  E3      \n",
              "73  W          27.639348   FALSE  E3      \n",
              "74  J          19.943772    TRUE  E3      \n",
              "75  V          19.838251    TRUE  E3      \n",
              "76  S          17.428402    TRUE  E3      \n",
              "78  L          14.958325    TRUE  E3      \n",
              "79  M          30.462201   FALSE  E3      \n",
              "80  W          28.640289   FALSE  E3      \n",
              "81  J          13.189194    TRUE  E3      \n",
              "82  V          28.322945   FALSE  E3      \n",
              "83  S          32.529786   FALSE  E3      \n",
              "85  L          23.877090   FALSE  E3      \n",
              "86  M          25.284431   FALSE  E3      \n",
              "87  W           9.993866    TRUE  E3      \n",
              "88  J          28.337018   FALSE  E3      \n",
              "89  V          24.481617   FALSE  E3      \n",
              "90  S          12.877606    TRUE  E3      \n",
              "92  L          36.715297   FALSE  E3      \n",
              "93  M          14.282740    TRUE  E3      \n",
              "94  W          31.599450   FALSE  E3      \n",
              "95  J          11.558713    TRUE  E3      \n",
              "96  V          20.419558   FALSE  E3      \n",
              "97  S          14.590049    TRUE  E3      \n",
              "99  L          14.801112    TRUE  E3      \n",
              "100 M          17.109115    TRUE  E3      "
            ],
            "text/latex": "A data.frame: 86 × 4\n\\begin{tabular}{r|llll}\n  & Dia\\_semana & Temperatura & Llueve & estacion\\\\\n  & <chr> & <dbl> & <lgl> & <chr>\\\\\n\\hline\n\t1 & L & 27.637092 & FALSE & E1\\\\\n\t2 & M & 18.984552 &  TRUE & E1\\\\\n\t3 & W & 11.537028 &  TRUE & E1\\\\\n\t4 & J & 29.090220 & FALSE & E1\\\\\n\t5 & V & 13.245154 &  TRUE & E1\\\\\n\t6 & S & 18.115057 &  TRUE & E1\\\\\n\t8 & L & 27.995877 & FALSE & E1\\\\\n\t9 & M & 22.331097 & FALSE & E1\\\\\n\t10 & W & 24.946983 & FALSE & E1\\\\\n\t11 & J & 32.374265 & FALSE & E1\\\\\n\t12 & V & 21.420404 & FALSE & E1\\\\\n\t13 & S & 22.791125 & FALSE & E1\\\\\n\t15 & L & 32.762603 & FALSE & E1\\\\\n\t16 & M &  9.910417 &  TRUE & E1\\\\\n\t17 & W & 28.117430 & FALSE & E1\\\\\n\t18 & J & 17.978785 &  TRUE & E1\\\\\n\t19 & V & 23.119776 & FALSE & E1\\\\\n\t20 & S & 22.970304 & FALSE & E1\\\\\n\t22 & L & 29.303089 & FALSE & E1\\\\\n\t23 & M & 24.131837 & FALSE & E1\\\\\n\t24 & W & 16.583755 &  TRUE & E1\\\\\n\t25 & J & 17.990972 &  TRUE & E1\\\\\n\t26 & V & 18.280570 &  TRUE & E1\\\\\n\t27 & S & 25.364706 & FALSE & E1\\\\\n\t29 & L & 28.409994 & FALSE & E1\\\\\n\t30 & M & 31.072741 & FALSE & E1\\\\\n\t31 & W & 32.973572 & FALSE & E1\\\\\n\t32 & J & 22.606659 & FALSE & E1\\\\\n\t33 & V & 28.340704 & FALSE & E1\\\\\n\t34 & S & 14.660520 &  TRUE & E2\\\\\n\t⋮ & ⋮ & ⋮ & ⋮ & ⋮\\\\\n\t66 & W & 30.119748 & FALSE & E2\\\\\n\t67 & J &  9.417253 &  TRUE & E3\\\\\n\t68 & V & 18.822571 &  TRUE & E3\\\\\n\t69 & S & 24.326998 & FALSE & E3\\\\\n\t71 & L &  9.157766 &  TRUE & E3\\\\\n\t72 & M & 14.585625 &  TRUE & E3\\\\\n\t73 & W & 27.639348 & FALSE & E3\\\\\n\t74 & J & 19.943772 &  TRUE & E3\\\\\n\t75 & V & 19.838251 &  TRUE & E3\\\\\n\t76 & S & 17.428402 &  TRUE & E3\\\\\n\t78 & L & 14.958325 &  TRUE & E3\\\\\n\t79 & M & 30.462201 & FALSE & E3\\\\\n\t80 & W & 28.640289 & FALSE & E3\\\\\n\t81 & J & 13.189194 &  TRUE & E3\\\\\n\t82 & V & 28.322945 & FALSE & E3\\\\\n\t83 & S & 32.529786 & FALSE & E3\\\\\n\t85 & L & 23.877090 & FALSE & E3\\\\\n\t86 & M & 25.284431 & FALSE & E3\\\\\n\t87 & W &  9.993866 &  TRUE & E3\\\\\n\t88 & J & 28.337018 & FALSE & E3\\\\\n\t89 & V & 24.481617 & FALSE & E3\\\\\n\t90 & S & 12.877606 &  TRUE & E3\\\\\n\t92 & L & 36.715297 & FALSE & E3\\\\\n\t93 & M & 14.282740 &  TRUE & E3\\\\\n\t94 & W & 31.599450 & FALSE & E3\\\\\n\t95 & J & 11.558713 &  TRUE & E3\\\\\n\t96 & V & 20.419558 & FALSE & E3\\\\\n\t97 & S & 14.590049 &  TRUE & E3\\\\\n\t99 & L & 14.801112 &  TRUE & E3\\\\\n\t100 & M & 17.109115 &  TRUE & E3\\\\\n\\end{tabular}\n",
            "text/markdown": "\nA data.frame: 86 × 4\n\n| <!--/--> | Dia_semana &lt;chr&gt; | Temperatura &lt;dbl&gt; | Llueve &lt;lgl&gt; | estacion &lt;chr&gt; |\n|---|---|---|---|---|\n| 1 | L | 27.637092 | FALSE | E1 |\n| 2 | M | 18.984552 |  TRUE | E1 |\n| 3 | W | 11.537028 |  TRUE | E1 |\n| 4 | J | 29.090220 | FALSE | E1 |\n| 5 | V | 13.245154 |  TRUE | E1 |\n| 6 | S | 18.115057 |  TRUE | E1 |\n| 8 | L | 27.995877 | FALSE | E1 |\n| 9 | M | 22.331097 | FALSE | E1 |\n| 10 | W | 24.946983 | FALSE | E1 |\n| 11 | J | 32.374265 | FALSE | E1 |\n| 12 | V | 21.420404 | FALSE | E1 |\n| 13 | S | 22.791125 | FALSE | E1 |\n| 15 | L | 32.762603 | FALSE | E1 |\n| 16 | M |  9.910417 |  TRUE | E1 |\n| 17 | W | 28.117430 | FALSE | E1 |\n| 18 | J | 17.978785 |  TRUE | E1 |\n| 19 | V | 23.119776 | FALSE | E1 |\n| 20 | S | 22.970304 | FALSE | E1 |\n| 22 | L | 29.303089 | FALSE | E1 |\n| 23 | M | 24.131837 | FALSE | E1 |\n| 24 | W | 16.583755 |  TRUE | E1 |\n| 25 | J | 17.990972 |  TRUE | E1 |\n| 26 | V | 18.280570 |  TRUE | E1 |\n| 27 | S | 25.364706 | FALSE | E1 |\n| 29 | L | 28.409994 | FALSE | E1 |\n| 30 | M | 31.072741 | FALSE | E1 |\n| 31 | W | 32.973572 | FALSE | E1 |\n| 32 | J | 22.606659 | FALSE | E1 |\n| 33 | V | 28.340704 | FALSE | E1 |\n| 34 | S | 14.660520 |  TRUE | E2 |\n| ⋮ | ⋮ | ⋮ | ⋮ | ⋮ |\n| 66 | W | 30.119748 | FALSE | E2 |\n| 67 | J |  9.417253 |  TRUE | E3 |\n| 68 | V | 18.822571 |  TRUE | E3 |\n| 69 | S | 24.326998 | FALSE | E3 |\n| 71 | L |  9.157766 |  TRUE | E3 |\n| 72 | M | 14.585625 |  TRUE | E3 |\n| 73 | W | 27.639348 | FALSE | E3 |\n| 74 | J | 19.943772 |  TRUE | E3 |\n| 75 | V | 19.838251 |  TRUE | E3 |\n| 76 | S | 17.428402 |  TRUE | E3 |\n| 78 | L | 14.958325 |  TRUE | E3 |\n| 79 | M | 30.462201 | FALSE | E3 |\n| 80 | W | 28.640289 | FALSE | E3 |\n| 81 | J | 13.189194 |  TRUE | E3 |\n| 82 | V | 28.322945 | FALSE | E3 |\n| 83 | S | 32.529786 | FALSE | E3 |\n| 85 | L | 23.877090 | FALSE | E3 |\n| 86 | M | 25.284431 | FALSE | E3 |\n| 87 | W |  9.993866 |  TRUE | E3 |\n| 88 | J | 28.337018 | FALSE | E3 |\n| 89 | V | 24.481617 | FALSE | E3 |\n| 90 | S | 12.877606 |  TRUE | E3 |\n| 92 | L | 36.715297 | FALSE | E3 |\n| 93 | M | 14.282740 |  TRUE | E3 |\n| 94 | W | 31.599450 | FALSE | E3 |\n| 95 | J | 11.558713 |  TRUE | E3 |\n| 96 | V | 20.419558 | FALSE | E3 |\n| 97 | S | 14.590049 |  TRUE | E3 |\n| 99 | L | 14.801112 |  TRUE | E3 |\n| 100 | M | 17.109115 |  TRUE | E3 |\n\n",
            "text/html": [
              "<table>\n",
              "<caption>A data.frame: 86 × 4</caption>\n",
              "<thead>\n",
              "\t<tr><th></th><th scope=col>Dia_semana</th><th scope=col>Temperatura</th><th scope=col>Llueve</th><th scope=col>estacion</th></tr>\n",
              "\t<tr><th></th><th scope=col>&lt;chr&gt;</th><th scope=col>&lt;dbl&gt;</th><th scope=col>&lt;lgl&gt;</th><th scope=col>&lt;chr&gt;</th></tr>\n",
              "</thead>\n",
              "<tbody>\n",
              "\t<tr><th scope=row>1</th><td>L</td><td>27.637092</td><td>FALSE</td><td>E1</td></tr>\n",
              "\t<tr><th scope=row>2</th><td>M</td><td>18.984552</td><td> TRUE</td><td>E1</td></tr>\n",
              "\t<tr><th scope=row>3</th><td>W</td><td>11.537028</td><td> TRUE</td><td>E1</td></tr>\n",
              "\t<tr><th scope=row>4</th><td>J</td><td>29.090220</td><td>FALSE</td><td>E1</td></tr>\n",
              "\t<tr><th scope=row>5</th><td>V</td><td>13.245154</td><td> TRUE</td><td>E1</td></tr>\n",
              "\t<tr><th scope=row>6</th><td>S</td><td>18.115057</td><td> TRUE</td><td>E1</td></tr>\n",
              "\t<tr><th scope=row>8</th><td>L</td><td>27.995877</td><td>FALSE</td><td>E1</td></tr>\n",
              "\t<tr><th scope=row>9</th><td>M</td><td>22.331097</td><td>FALSE</td><td>E1</td></tr>\n",
              "\t<tr><th scope=row>10</th><td>W</td><td>24.946983</td><td>FALSE</td><td>E1</td></tr>\n",
              "\t<tr><th scope=row>11</th><td>J</td><td>32.374265</td><td>FALSE</td><td>E1</td></tr>\n",
              "\t<tr><th scope=row>12</th><td>V</td><td>21.420404</td><td>FALSE</td><td>E1</td></tr>\n",
              "\t<tr><th scope=row>13</th><td>S</td><td>22.791125</td><td>FALSE</td><td>E1</td></tr>\n",
              "\t<tr><th scope=row>15</th><td>L</td><td>32.762603</td><td>FALSE</td><td>E1</td></tr>\n",
              "\t<tr><th scope=row>16</th><td>M</td><td> 9.910417</td><td> TRUE</td><td>E1</td></tr>\n",
              "\t<tr><th scope=row>17</th><td>W</td><td>28.117430</td><td>FALSE</td><td>E1</td></tr>\n",
              "\t<tr><th scope=row>18</th><td>J</td><td>17.978785</td><td> TRUE</td><td>E1</td></tr>\n",
              "\t<tr><th scope=row>19</th><td>V</td><td>23.119776</td><td>FALSE</td><td>E1</td></tr>\n",
              "\t<tr><th scope=row>20</th><td>S</td><td>22.970304</td><td>FALSE</td><td>E1</td></tr>\n",
              "\t<tr><th scope=row>22</th><td>L</td><td>29.303089</td><td>FALSE</td><td>E1</td></tr>\n",
              "\t<tr><th scope=row>23</th><td>M</td><td>24.131837</td><td>FALSE</td><td>E1</td></tr>\n",
              "\t<tr><th scope=row>24</th><td>W</td><td>16.583755</td><td> TRUE</td><td>E1</td></tr>\n",
              "\t<tr><th scope=row>25</th><td>J</td><td>17.990972</td><td> TRUE</td><td>E1</td></tr>\n",
              "\t<tr><th scope=row>26</th><td>V</td><td>18.280570</td><td> TRUE</td><td>E1</td></tr>\n",
              "\t<tr><th scope=row>27</th><td>S</td><td>25.364706</td><td>FALSE</td><td>E1</td></tr>\n",
              "\t<tr><th scope=row>29</th><td>L</td><td>28.409994</td><td>FALSE</td><td>E1</td></tr>\n",
              "\t<tr><th scope=row>30</th><td>M</td><td>31.072741</td><td>FALSE</td><td>E1</td></tr>\n",
              "\t<tr><th scope=row>31</th><td>W</td><td>32.973572</td><td>FALSE</td><td>E1</td></tr>\n",
              "\t<tr><th scope=row>32</th><td>J</td><td>22.606659</td><td>FALSE</td><td>E1</td></tr>\n",
              "\t<tr><th scope=row>33</th><td>V</td><td>28.340704</td><td>FALSE</td><td>E1</td></tr>\n",
              "\t<tr><th scope=row>34</th><td>S</td><td>14.660520</td><td> TRUE</td><td>E2</td></tr>\n",
              "\t<tr><th scope=row>⋮</th><td>⋮</td><td>⋮</td><td>⋮</td><td>⋮</td></tr>\n",
              "\t<tr><th scope=row>66</th><td>W</td><td>30.119748</td><td>FALSE</td><td>E2</td></tr>\n",
              "\t<tr><th scope=row>67</th><td>J</td><td> 9.417253</td><td> TRUE</td><td>E3</td></tr>\n",
              "\t<tr><th scope=row>68</th><td>V</td><td>18.822571</td><td> TRUE</td><td>E3</td></tr>\n",
              "\t<tr><th scope=row>69</th><td>S</td><td>24.326998</td><td>FALSE</td><td>E3</td></tr>\n",
              "\t<tr><th scope=row>71</th><td>L</td><td> 9.157766</td><td> TRUE</td><td>E3</td></tr>\n",
              "\t<tr><th scope=row>72</th><td>M</td><td>14.585625</td><td> TRUE</td><td>E3</td></tr>\n",
              "\t<tr><th scope=row>73</th><td>W</td><td>27.639348</td><td>FALSE</td><td>E3</td></tr>\n",
              "\t<tr><th scope=row>74</th><td>J</td><td>19.943772</td><td> TRUE</td><td>E3</td></tr>\n",
              "\t<tr><th scope=row>75</th><td>V</td><td>19.838251</td><td> TRUE</td><td>E3</td></tr>\n",
              "\t<tr><th scope=row>76</th><td>S</td><td>17.428402</td><td> TRUE</td><td>E3</td></tr>\n",
              "\t<tr><th scope=row>78</th><td>L</td><td>14.958325</td><td> TRUE</td><td>E3</td></tr>\n",
              "\t<tr><th scope=row>79</th><td>M</td><td>30.462201</td><td>FALSE</td><td>E3</td></tr>\n",
              "\t<tr><th scope=row>80</th><td>W</td><td>28.640289</td><td>FALSE</td><td>E3</td></tr>\n",
              "\t<tr><th scope=row>81</th><td>J</td><td>13.189194</td><td> TRUE</td><td>E3</td></tr>\n",
              "\t<tr><th scope=row>82</th><td>V</td><td>28.322945</td><td>FALSE</td><td>E3</td></tr>\n",
              "\t<tr><th scope=row>83</th><td>S</td><td>32.529786</td><td>FALSE</td><td>E3</td></tr>\n",
              "\t<tr><th scope=row>85</th><td>L</td><td>23.877090</td><td>FALSE</td><td>E3</td></tr>\n",
              "\t<tr><th scope=row>86</th><td>M</td><td>25.284431</td><td>FALSE</td><td>E3</td></tr>\n",
              "\t<tr><th scope=row>87</th><td>W</td><td> 9.993866</td><td> TRUE</td><td>E3</td></tr>\n",
              "\t<tr><th scope=row>88</th><td>J</td><td>28.337018</td><td>FALSE</td><td>E3</td></tr>\n",
              "\t<tr><th scope=row>89</th><td>V</td><td>24.481617</td><td>FALSE</td><td>E3</td></tr>\n",
              "\t<tr><th scope=row>90</th><td>S</td><td>12.877606</td><td> TRUE</td><td>E3</td></tr>\n",
              "\t<tr><th scope=row>92</th><td>L</td><td>36.715297</td><td>FALSE</td><td>E3</td></tr>\n",
              "\t<tr><th scope=row>93</th><td>M</td><td>14.282740</td><td> TRUE</td><td>E3</td></tr>\n",
              "\t<tr><th scope=row>94</th><td>W</td><td>31.599450</td><td>FALSE</td><td>E3</td></tr>\n",
              "\t<tr><th scope=row>95</th><td>J</td><td>11.558713</td><td> TRUE</td><td>E3</td></tr>\n",
              "\t<tr><th scope=row>96</th><td>V</td><td>20.419558</td><td>FALSE</td><td>E3</td></tr>\n",
              "\t<tr><th scope=row>97</th><td>S</td><td>14.590049</td><td> TRUE</td><td>E3</td></tr>\n",
              "\t<tr><th scope=row>99</th><td>L</td><td>14.801112</td><td> TRUE</td><td>E3</td></tr>\n",
              "\t<tr><th scope=row>100</th><td>M</td><td>17.109115</td><td> TRUE</td><td>E3</td></tr>\n",
              "</tbody>\n",
              "</table>\n"
            ]
          },
          "metadata": {
            "tags": []
          }
        }
      ]
    },
    {
      "cell_type": "code",
      "metadata": {
        "trusted": true,
        "id": "nuW7ux65m5aL"
      },
      "source": [
        "dim(precipitaciones)"
      ],
      "execution_count": null,
      "outputs": []
    },
    {
      "cell_type": "markdown",
      "metadata": {
        "id": "5fmGF0Qam5aN"
      },
      "source": [
        "## 5.4 Cómo guardar ambiente de trabajo o variables definidas en el\n",
        "\n",
        "### Directorio de trabajo\n",
        "\n",
        "El directorio de trabajo corresponde a la ubicación en el sistema de archivos, desde donde la sesión de R podrá acceder directamente para guardar o cargar datos.\n"
      ]
    },
    {
      "cell_type": "code",
      "metadata": {
        "trusted": true,
        "id": "OfyO5MKOm5aO",
        "outputId": "be4b7cec-97f6-45b8-da11-d17bf049f1f3",
        "colab": {
          "base_uri": "https://localhost:8080/",
          "height": 34
        }
      },
      "source": [
        "# para saber en qué directorio se está trabajando\n",
        "getwd()"
      ],
      "execution_count": 18,
      "outputs": [
        {
          "output_type": "display_data",
          "data": {
            "text/plain": [
              "[1] \"/content\""
            ],
            "text/latex": "'/content'",
            "text/markdown": "'/content'",
            "text/html": [
              "'/content'"
            ]
          },
          "metadata": {
            "tags": []
          }
        }
      ]
    },
    {
      "cell_type": "code",
      "metadata": {
        "trusted": true,
        "id": "fHZIjYhRm5aQ"
      },
      "source": [
        "# para cambiar el directorio de trabajo\n",
        "setwd(\"./sample_data\")\n"
      ],
      "execution_count": 19,
      "outputs": []
    },
    {
      "cell_type": "code",
      "metadata": {
        "trusted": true,
        "id": "2Q-PMPrQm5aS",
        "outputId": "f9c86e98-0cc9-4592-fc86-e41e1b043a00",
        "colab": {
          "base_uri": "https://localhost:8080/",
          "height": 34
        }
      },
      "source": [
        "getwd()"
      ],
      "execution_count": 20,
      "outputs": [
        {
          "output_type": "display_data",
          "data": {
            "text/plain": [
              "[1] \"/content/sample_data\""
            ],
            "text/latex": "'/content/sample\\_data'",
            "text/markdown": "'/content/sample_data'",
            "text/html": [
              "'/content/sample_data'"
            ]
          },
          "metadata": {
            "tags": []
          }
        }
      ]
    },
    {
      "cell_type": "code",
      "metadata": {
        "id": "UVms8BLk3Awt",
        "outputId": "2103fc99-cdc9-4d8d-aabf-37d2b8bf5184",
        "colab": {
          "base_uri": "https://localhost:8080/",
          "height": 1000
        }
      },
      "source": [
        "precipitaciones"
      ],
      "execution_count": 21,
      "outputs": [
        {
          "output_type": "display_data",
          "data": {
            "text/plain": [
              "    Dia_semana Temperatura Llueve estacion\n",
              "1   L          27.637092   FALSE  E1      \n",
              "2   M          18.984552    TRUE  E1      \n",
              "3   W          11.537028    TRUE  E1      \n",
              "4   J          29.090220   FALSE  E1      \n",
              "5   V          13.245154    TRUE  E1      \n",
              "6   S          18.115057    TRUE  E1      \n",
              "7   D          24.475158   FALSE  E1      \n",
              "8   L          27.995877   FALSE  E1      \n",
              "9   M          22.331097   FALSE  E1      \n",
              "10  W          24.946983   FALSE  E1      \n",
              "11  J          32.374265   FALSE  E1      \n",
              "12  V          21.420404   FALSE  E1      \n",
              "13  S          22.791125   FALSE  E1      \n",
              "14  D          19.870387    TRUE  E1      \n",
              "15  L          32.762603   FALSE  E1      \n",
              "16  M           9.910417    TRUE  E1      \n",
              "17  W          28.117430   FALSE  E1      \n",
              "18  J          17.978785    TRUE  E1      \n",
              "19  V          23.119776   FALSE  E1      \n",
              "20  S          22.970304   FALSE  E1      \n",
              "21  D          27.325724   FALSE  E1      \n",
              "22  L          29.303089   FALSE  E1      \n",
              "23  M          24.131837   FALSE  E1      \n",
              "24  W          16.583755    TRUE  E1      \n",
              "25  J          17.990972    TRUE  E1      \n",
              "26  V          18.280570    TRUE  E1      \n",
              "27  S          25.364706   FALSE  E1      \n",
              "28  D          31.444450   FALSE  E1      \n",
              "29  L          28.409994   FALSE  E1      \n",
              "30  M          31.072741   FALSE  E1      \n",
              "⋮   ⋮          ⋮           ⋮      ⋮       \n",
              "71  L           9.157766    TRUE  E3      \n",
              "72  M          14.585625    TRUE  E3      \n",
              "73  W          27.639348   FALSE  E3      \n",
              "74  J          19.943772    TRUE  E3      \n",
              "75  V          19.838251    TRUE  E3      \n",
              "76  S          17.428402    TRUE  E3      \n",
              "77  D          22.181550   FALSE  E3      \n",
              "78  L          14.958325    TRUE  E3      \n",
              "79  M          30.462201   FALSE  E3      \n",
              "80  W          28.640289   FALSE  E3      \n",
              "81  J          13.189194    TRUE  E3      \n",
              "82  V          28.322945   FALSE  E3      \n",
              "83  S          32.529786   FALSE  E3      \n",
              "84  D          14.228456    TRUE  E3      \n",
              "85  L          23.877090   FALSE  E3      \n",
              "86  M          25.284431   FALSE  E3      \n",
              "87  W           9.993866    TRUE  E3      \n",
              "88  J          28.337018   FALSE  E3      \n",
              "89  V          24.481617   FALSE  E3      \n",
              "90  S          12.877606    TRUE  E3      \n",
              "91  D          40.020939   FALSE  E3      \n",
              "92  L          36.715297   FALSE  E3      \n",
              "93  M          14.282740    TRUE  E3      \n",
              "94  W          31.599450   FALSE  E3      \n",
              "95  J          11.558713    TRUE  E3      \n",
              "96  V          20.419558   FALSE  E3      \n",
              "97  S          14.590049    TRUE  E3      \n",
              "98  D          24.390088   FALSE  E3      \n",
              "99  L          14.801112    TRUE  E3      \n",
              "100 M          17.109115    TRUE  E3      "
            ],
            "text/latex": "A data.frame: 100 × 4\n\\begin{tabular}{llll}\n Dia\\_semana & Temperatura & Llueve & estacion\\\\\n <chr> & <dbl> & <lgl> & <chr>\\\\\n\\hline\n\t L & 27.637092 & FALSE & E1\\\\\n\t M & 18.984552 &  TRUE & E1\\\\\n\t W & 11.537028 &  TRUE & E1\\\\\n\t J & 29.090220 & FALSE & E1\\\\\n\t V & 13.245154 &  TRUE & E1\\\\\n\t S & 18.115057 &  TRUE & E1\\\\\n\t D & 24.475158 & FALSE & E1\\\\\n\t L & 27.995877 & FALSE & E1\\\\\n\t M & 22.331097 & FALSE & E1\\\\\n\t W & 24.946983 & FALSE & E1\\\\\n\t J & 32.374265 & FALSE & E1\\\\\n\t V & 21.420404 & FALSE & E1\\\\\n\t S & 22.791125 & FALSE & E1\\\\\n\t D & 19.870387 &  TRUE & E1\\\\\n\t L & 32.762603 & FALSE & E1\\\\\n\t M &  9.910417 &  TRUE & E1\\\\\n\t W & 28.117430 & FALSE & E1\\\\\n\t J & 17.978785 &  TRUE & E1\\\\\n\t V & 23.119776 & FALSE & E1\\\\\n\t S & 22.970304 & FALSE & E1\\\\\n\t D & 27.325724 & FALSE & E1\\\\\n\t L & 29.303089 & FALSE & E1\\\\\n\t M & 24.131837 & FALSE & E1\\\\\n\t W & 16.583755 &  TRUE & E1\\\\\n\t J & 17.990972 &  TRUE & E1\\\\\n\t V & 18.280570 &  TRUE & E1\\\\\n\t S & 25.364706 & FALSE & E1\\\\\n\t D & 31.444450 & FALSE & E1\\\\\n\t L & 28.409994 & FALSE & E1\\\\\n\t M & 31.072741 & FALSE & E1\\\\\n\t ⋮ & ⋮ & ⋮ & ⋮\\\\\n\t L &  9.157766 &  TRUE & E3\\\\\n\t M & 14.585625 &  TRUE & E3\\\\\n\t W & 27.639348 & FALSE & E3\\\\\n\t J & 19.943772 &  TRUE & E3\\\\\n\t V & 19.838251 &  TRUE & E3\\\\\n\t S & 17.428402 &  TRUE & E3\\\\\n\t D & 22.181550 & FALSE & E3\\\\\n\t L & 14.958325 &  TRUE & E3\\\\\n\t M & 30.462201 & FALSE & E3\\\\\n\t W & 28.640289 & FALSE & E3\\\\\n\t J & 13.189194 &  TRUE & E3\\\\\n\t V & 28.322945 & FALSE & E3\\\\\n\t S & 32.529786 & FALSE & E3\\\\\n\t D & 14.228456 &  TRUE & E3\\\\\n\t L & 23.877090 & FALSE & E3\\\\\n\t M & 25.284431 & FALSE & E3\\\\\n\t W &  9.993866 &  TRUE & E3\\\\\n\t J & 28.337018 & FALSE & E3\\\\\n\t V & 24.481617 & FALSE & E3\\\\\n\t S & 12.877606 &  TRUE & E3\\\\\n\t D & 40.020939 & FALSE & E3\\\\\n\t L & 36.715297 & FALSE & E3\\\\\n\t M & 14.282740 &  TRUE & E3\\\\\n\t W & 31.599450 & FALSE & E3\\\\\n\t J & 11.558713 &  TRUE & E3\\\\\n\t V & 20.419558 & FALSE & E3\\\\\n\t S & 14.590049 &  TRUE & E3\\\\\n\t D & 24.390088 & FALSE & E3\\\\\n\t L & 14.801112 &  TRUE & E3\\\\\n\t M & 17.109115 &  TRUE & E3\\\\\n\\end{tabular}\n",
            "text/markdown": "\nA data.frame: 100 × 4\n\n| Dia_semana &lt;chr&gt; | Temperatura &lt;dbl&gt; | Llueve &lt;lgl&gt; | estacion &lt;chr&gt; |\n|---|---|---|---|\n| L | 27.637092 | FALSE | E1 |\n| M | 18.984552 |  TRUE | E1 |\n| W | 11.537028 |  TRUE | E1 |\n| J | 29.090220 | FALSE | E1 |\n| V | 13.245154 |  TRUE | E1 |\n| S | 18.115057 |  TRUE | E1 |\n| D | 24.475158 | FALSE | E1 |\n| L | 27.995877 | FALSE | E1 |\n| M | 22.331097 | FALSE | E1 |\n| W | 24.946983 | FALSE | E1 |\n| J | 32.374265 | FALSE | E1 |\n| V | 21.420404 | FALSE | E1 |\n| S | 22.791125 | FALSE | E1 |\n| D | 19.870387 |  TRUE | E1 |\n| L | 32.762603 | FALSE | E1 |\n| M |  9.910417 |  TRUE | E1 |\n| W | 28.117430 | FALSE | E1 |\n| J | 17.978785 |  TRUE | E1 |\n| V | 23.119776 | FALSE | E1 |\n| S | 22.970304 | FALSE | E1 |\n| D | 27.325724 | FALSE | E1 |\n| L | 29.303089 | FALSE | E1 |\n| M | 24.131837 | FALSE | E1 |\n| W | 16.583755 |  TRUE | E1 |\n| J | 17.990972 |  TRUE | E1 |\n| V | 18.280570 |  TRUE | E1 |\n| S | 25.364706 | FALSE | E1 |\n| D | 31.444450 | FALSE | E1 |\n| L | 28.409994 | FALSE | E1 |\n| M | 31.072741 | FALSE | E1 |\n| ⋮ | ⋮ | ⋮ | ⋮ |\n| L |  9.157766 |  TRUE | E3 |\n| M | 14.585625 |  TRUE | E3 |\n| W | 27.639348 | FALSE | E3 |\n| J | 19.943772 |  TRUE | E3 |\n| V | 19.838251 |  TRUE | E3 |\n| S | 17.428402 |  TRUE | E3 |\n| D | 22.181550 | FALSE | E3 |\n| L | 14.958325 |  TRUE | E3 |\n| M | 30.462201 | FALSE | E3 |\n| W | 28.640289 | FALSE | E3 |\n| J | 13.189194 |  TRUE | E3 |\n| V | 28.322945 | FALSE | E3 |\n| S | 32.529786 | FALSE | E3 |\n| D | 14.228456 |  TRUE | E3 |\n| L | 23.877090 | FALSE | E3 |\n| M | 25.284431 | FALSE | E3 |\n| W |  9.993866 |  TRUE | E3 |\n| J | 28.337018 | FALSE | E3 |\n| V | 24.481617 | FALSE | E3 |\n| S | 12.877606 |  TRUE | E3 |\n| D | 40.020939 | FALSE | E3 |\n| L | 36.715297 | FALSE | E3 |\n| M | 14.282740 |  TRUE | E3 |\n| W | 31.599450 | FALSE | E3 |\n| J | 11.558713 |  TRUE | E3 |\n| V | 20.419558 | FALSE | E3 |\n| S | 14.590049 |  TRUE | E3 |\n| D | 24.390088 | FALSE | E3 |\n| L | 14.801112 |  TRUE | E3 |\n| M | 17.109115 |  TRUE | E3 |\n\n",
            "text/html": [
              "<table>\n",
              "<caption>A data.frame: 100 × 4</caption>\n",
              "<thead>\n",
              "\t<tr><th scope=col>Dia_semana</th><th scope=col>Temperatura</th><th scope=col>Llueve</th><th scope=col>estacion</th></tr>\n",
              "\t<tr><th scope=col>&lt;chr&gt;</th><th scope=col>&lt;dbl&gt;</th><th scope=col>&lt;lgl&gt;</th><th scope=col>&lt;chr&gt;</th></tr>\n",
              "</thead>\n",
              "<tbody>\n",
              "\t<tr><td>L</td><td>27.637092</td><td>FALSE</td><td>E1</td></tr>\n",
              "\t<tr><td>M</td><td>18.984552</td><td> TRUE</td><td>E1</td></tr>\n",
              "\t<tr><td>W</td><td>11.537028</td><td> TRUE</td><td>E1</td></tr>\n",
              "\t<tr><td>J</td><td>29.090220</td><td>FALSE</td><td>E1</td></tr>\n",
              "\t<tr><td>V</td><td>13.245154</td><td> TRUE</td><td>E1</td></tr>\n",
              "\t<tr><td>S</td><td>18.115057</td><td> TRUE</td><td>E1</td></tr>\n",
              "\t<tr><td>D</td><td>24.475158</td><td>FALSE</td><td>E1</td></tr>\n",
              "\t<tr><td>L</td><td>27.995877</td><td>FALSE</td><td>E1</td></tr>\n",
              "\t<tr><td>M</td><td>22.331097</td><td>FALSE</td><td>E1</td></tr>\n",
              "\t<tr><td>W</td><td>24.946983</td><td>FALSE</td><td>E1</td></tr>\n",
              "\t<tr><td>J</td><td>32.374265</td><td>FALSE</td><td>E1</td></tr>\n",
              "\t<tr><td>V</td><td>21.420404</td><td>FALSE</td><td>E1</td></tr>\n",
              "\t<tr><td>S</td><td>22.791125</td><td>FALSE</td><td>E1</td></tr>\n",
              "\t<tr><td>D</td><td>19.870387</td><td> TRUE</td><td>E1</td></tr>\n",
              "\t<tr><td>L</td><td>32.762603</td><td>FALSE</td><td>E1</td></tr>\n",
              "\t<tr><td>M</td><td> 9.910417</td><td> TRUE</td><td>E1</td></tr>\n",
              "\t<tr><td>W</td><td>28.117430</td><td>FALSE</td><td>E1</td></tr>\n",
              "\t<tr><td>J</td><td>17.978785</td><td> TRUE</td><td>E1</td></tr>\n",
              "\t<tr><td>V</td><td>23.119776</td><td>FALSE</td><td>E1</td></tr>\n",
              "\t<tr><td>S</td><td>22.970304</td><td>FALSE</td><td>E1</td></tr>\n",
              "\t<tr><td>D</td><td>27.325724</td><td>FALSE</td><td>E1</td></tr>\n",
              "\t<tr><td>L</td><td>29.303089</td><td>FALSE</td><td>E1</td></tr>\n",
              "\t<tr><td>M</td><td>24.131837</td><td>FALSE</td><td>E1</td></tr>\n",
              "\t<tr><td>W</td><td>16.583755</td><td> TRUE</td><td>E1</td></tr>\n",
              "\t<tr><td>J</td><td>17.990972</td><td> TRUE</td><td>E1</td></tr>\n",
              "\t<tr><td>V</td><td>18.280570</td><td> TRUE</td><td>E1</td></tr>\n",
              "\t<tr><td>S</td><td>25.364706</td><td>FALSE</td><td>E1</td></tr>\n",
              "\t<tr><td>D</td><td>31.444450</td><td>FALSE</td><td>E1</td></tr>\n",
              "\t<tr><td>L</td><td>28.409994</td><td>FALSE</td><td>E1</td></tr>\n",
              "\t<tr><td>M</td><td>31.072741</td><td>FALSE</td><td>E1</td></tr>\n",
              "\t<tr><td>⋮</td><td>⋮</td><td>⋮</td><td>⋮</td></tr>\n",
              "\t<tr><td>L</td><td> 9.157766</td><td> TRUE</td><td>E3</td></tr>\n",
              "\t<tr><td>M</td><td>14.585625</td><td> TRUE</td><td>E3</td></tr>\n",
              "\t<tr><td>W</td><td>27.639348</td><td>FALSE</td><td>E3</td></tr>\n",
              "\t<tr><td>J</td><td>19.943772</td><td> TRUE</td><td>E3</td></tr>\n",
              "\t<tr><td>V</td><td>19.838251</td><td> TRUE</td><td>E3</td></tr>\n",
              "\t<tr><td>S</td><td>17.428402</td><td> TRUE</td><td>E3</td></tr>\n",
              "\t<tr><td>D</td><td>22.181550</td><td>FALSE</td><td>E3</td></tr>\n",
              "\t<tr><td>L</td><td>14.958325</td><td> TRUE</td><td>E3</td></tr>\n",
              "\t<tr><td>M</td><td>30.462201</td><td>FALSE</td><td>E3</td></tr>\n",
              "\t<tr><td>W</td><td>28.640289</td><td>FALSE</td><td>E3</td></tr>\n",
              "\t<tr><td>J</td><td>13.189194</td><td> TRUE</td><td>E3</td></tr>\n",
              "\t<tr><td>V</td><td>28.322945</td><td>FALSE</td><td>E3</td></tr>\n",
              "\t<tr><td>S</td><td>32.529786</td><td>FALSE</td><td>E3</td></tr>\n",
              "\t<tr><td>D</td><td>14.228456</td><td> TRUE</td><td>E3</td></tr>\n",
              "\t<tr><td>L</td><td>23.877090</td><td>FALSE</td><td>E3</td></tr>\n",
              "\t<tr><td>M</td><td>25.284431</td><td>FALSE</td><td>E3</td></tr>\n",
              "\t<tr><td>W</td><td> 9.993866</td><td> TRUE</td><td>E3</td></tr>\n",
              "\t<tr><td>J</td><td>28.337018</td><td>FALSE</td><td>E3</td></tr>\n",
              "\t<tr><td>V</td><td>24.481617</td><td>FALSE</td><td>E3</td></tr>\n",
              "\t<tr><td>S</td><td>12.877606</td><td> TRUE</td><td>E3</td></tr>\n",
              "\t<tr><td>D</td><td>40.020939</td><td>FALSE</td><td>E3</td></tr>\n",
              "\t<tr><td>L</td><td>36.715297</td><td>FALSE</td><td>E3</td></tr>\n",
              "\t<tr><td>M</td><td>14.282740</td><td> TRUE</td><td>E3</td></tr>\n",
              "\t<tr><td>W</td><td>31.599450</td><td>FALSE</td><td>E3</td></tr>\n",
              "\t<tr><td>J</td><td>11.558713</td><td> TRUE</td><td>E3</td></tr>\n",
              "\t<tr><td>V</td><td>20.419558</td><td>FALSE</td><td>E3</td></tr>\n",
              "\t<tr><td>S</td><td>14.590049</td><td> TRUE</td><td>E3</td></tr>\n",
              "\t<tr><td>D</td><td>24.390088</td><td>FALSE</td><td>E3</td></tr>\n",
              "\t<tr><td>L</td><td>14.801112</td><td> TRUE</td><td>E3</td></tr>\n",
              "\t<tr><td>M</td><td>17.109115</td><td> TRUE</td><td>E3</td></tr>\n",
              "</tbody>\n",
              "</table>\n"
            ]
          },
          "metadata": {
            "tags": []
          }
        }
      ]
    },
    {
      "cell_type": "markdown",
      "metadata": {
        "id": "_M-D6sgRm5aU"
      },
      "source": [
        "### Formato rds \n",
        "\n",
        "Una manera de guardar variables creadas en el ambiente de la sessión de R, es mediante la utilización del formato *.rds. Este formato permite guardar los objetos declarados y leerlos rápidamente en cualquier otra sesión que se inicie posteriormente. Es últil por ejemplo para guardar en disco modelos entrenados para ser utilizados para predicciones futuras.\n"
      ]
    },
    {
      "cell_type": "code",
      "metadata": {
        "trusted": true,
        "id": "11jJ5B50m5aV"
      },
      "source": [
        "# Función saveRDS() # Guardar\n",
        "# guarde en el directorio actual el dataframe _precipitaciones_\n",
        "\n",
        "saveRDS(precipitaciones, \"prec.rds\")\n"
      ],
      "execution_count": 22,
      "outputs": []
    },
    {
      "cell_type": "code",
      "metadata": {
        "trusted": true,
        "id": "DixES_Kjm5ah",
        "outputId": "90a9826c-9978-4d6a-9cfc-b0f66827a270",
        "colab": {
          "base_uri": "https://localhost:8080/",
          "height": 204
        }
      },
      "source": [
        "# readRDS()  Leer, pero ojo que es necesario asignar  a una variable\n",
        "prec2 <- readRDS(\"prec.rds\")\n",
        "head(prec2)"
      ],
      "execution_count": 23,
      "outputs": [
        {
          "output_type": "display_data",
          "data": {
            "text/plain": [
              "  Dia_semana Temperatura Llueve estacion\n",
              "1 L          27.63709    FALSE  E1      \n",
              "2 M          18.98455     TRUE  E1      \n",
              "3 W          11.53703     TRUE  E1      \n",
              "4 J          29.09022    FALSE  E1      \n",
              "5 V          13.24515     TRUE  E1      \n",
              "6 S          18.11506     TRUE  E1      "
            ],
            "text/latex": "A data.frame: 6 × 4\n\\begin{tabular}{r|llll}\n  & Dia\\_semana & Temperatura & Llueve & estacion\\\\\n  & <chr> & <dbl> & <lgl> & <chr>\\\\\n\\hline\n\t1 & L & 27.63709 & FALSE & E1\\\\\n\t2 & M & 18.98455 &  TRUE & E1\\\\\n\t3 & W & 11.53703 &  TRUE & E1\\\\\n\t4 & J & 29.09022 & FALSE & E1\\\\\n\t5 & V & 13.24515 &  TRUE & E1\\\\\n\t6 & S & 18.11506 &  TRUE & E1\\\\\n\\end{tabular}\n",
            "text/markdown": "\nA data.frame: 6 × 4\n\n| <!--/--> | Dia_semana &lt;chr&gt; | Temperatura &lt;dbl&gt; | Llueve &lt;lgl&gt; | estacion &lt;chr&gt; |\n|---|---|---|---|---|\n| 1 | L | 27.63709 | FALSE | E1 |\n| 2 | M | 18.98455 |  TRUE | E1 |\n| 3 | W | 11.53703 |  TRUE | E1 |\n| 4 | J | 29.09022 | FALSE | E1 |\n| 5 | V | 13.24515 |  TRUE | E1 |\n| 6 | S | 18.11506 |  TRUE | E1 |\n\n",
            "text/html": [
              "<table>\n",
              "<caption>A data.frame: 6 × 4</caption>\n",
              "<thead>\n",
              "\t<tr><th></th><th scope=col>Dia_semana</th><th scope=col>Temperatura</th><th scope=col>Llueve</th><th scope=col>estacion</th></tr>\n",
              "\t<tr><th></th><th scope=col>&lt;chr&gt;</th><th scope=col>&lt;dbl&gt;</th><th scope=col>&lt;lgl&gt;</th><th scope=col>&lt;chr&gt;</th></tr>\n",
              "</thead>\n",
              "<tbody>\n",
              "\t<tr><th scope=row>1</th><td>L</td><td>27.63709</td><td>FALSE</td><td>E1</td></tr>\n",
              "\t<tr><th scope=row>2</th><td>M</td><td>18.98455</td><td> TRUE</td><td>E1</td></tr>\n",
              "\t<tr><th scope=row>3</th><td>W</td><td>11.53703</td><td> TRUE</td><td>E1</td></tr>\n",
              "\t<tr><th scope=row>4</th><td>J</td><td>29.09022</td><td>FALSE</td><td>E1</td></tr>\n",
              "\t<tr><th scope=row>5</th><td>V</td><td>13.24515</td><td> TRUE</td><td>E1</td></tr>\n",
              "\t<tr><th scope=row>6</th><td>S</td><td>18.11506</td><td> TRUE</td><td>E1</td></tr>\n",
              "</tbody>\n",
              "</table>\n"
            ]
          },
          "metadata": {
            "tags": []
          }
        }
      ]
    },
    {
      "cell_type": "markdown",
      "metadata": {
        "id": "_4pmC4cBm5as"
      },
      "source": [
        "### Formato RData\n",
        "\n",
        "Cuando se quiere guardar el ambiente de trabajo completo, o bien un mayor número de objetos ya creados, se puede utilizar la función _save_\n"
      ]
    },
    {
      "cell_type": "code",
      "metadata": {
        "trusted": true,
        "id": "M5yFyJ27m5at"
      },
      "source": [
        "# Función save para guardar uno o más objetos del ambiente.\n",
        "\n"
      ],
      "execution_count": null,
      "outputs": []
    },
    {
      "cell_type": "code",
      "metadata": {
        "trusted": true,
        "id": "YDmd1Npmm5ay"
      },
      "source": [
        "# Eventualmente podemos \"cargar \" a sesión, con la función load()\n"
      ],
      "execution_count": null,
      "outputs": []
    },
    {
      "cell_type": "code",
      "metadata": {
        "trusted": true,
        "id": "23sp9RfHm5a1"
      },
      "source": [
        ""
      ],
      "execution_count": null,
      "outputs": []
    }
  ]
}