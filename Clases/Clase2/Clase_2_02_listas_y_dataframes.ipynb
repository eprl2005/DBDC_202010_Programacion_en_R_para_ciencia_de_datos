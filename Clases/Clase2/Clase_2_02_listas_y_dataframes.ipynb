{
  "nbformat": 4,
  "nbformat_minor": 0,
  "metadata": {
    "colab": {
      "name": "Clase_2_02_listas_y_dataframes.ipynb",
      "provenance": [],
      "collapsed_sections": [],
      "include_colab_link": true
    },
    "kernelspec": {
      "name": "ir",
      "display_name": "R"
    }
  },
  "cells": [
    {
      "cell_type": "markdown",
      "metadata": {
        "id": "view-in-github",
        "colab_type": "text"
      },
      "source": [
        "<a href=\"https://colab.research.google.com/github/majorquev/DBDC_202010_Programacion_en_R_para_ciencia_de_datos/blob/main/Clases/Clase2/Clase_2_02_listas_y_dataframes.ipynb\" target=\"_parent\"><img src=\"https://colab.research.google.com/assets/colab-badge.svg\" alt=\"Open In Colab\"/></a>"
      ]
    },
    {
      "cell_type": "markdown",
      "metadata": {
        "collapsed": true,
        "id": "fgQ2azLwTpRn"
      },
      "source": [
        "# Parte 1: Introducción a R (continuación)\n",
        "\n",
        "**Autor:** Miguel Jorquera Viguera<br>\n",
        "**E-mail:** majorquev@gmail.com<br>\n",
        "**Ayudante:** Jorge Arévalo Labarca <br>\n",
        "**E-mail ayudante:** jorge.arevalol@usach.cl\n",
        "\n",
        "\n",
        "## 5. Listas y Dataframes\n",
        "\n",
        "### 5.1 Listas\n",
        "\n",
        "Hasta aquí contamos con dos tipos de objetos para almacenar datos; vectores y matrices. Sin embargo, en ambos casos se tiene la limitante de que no es posible combinar distintos tipos de datos en diferentes entradas. Un objeto que permite una mayor flexibilidad son las listas. En R, una lista es básicamente un arreglo unidimensional, donde en cada entrada es posible almacenar distintos **objetos** (los cuales a su vez pueden almacenar distintos tipos de datos (u otros objetos).\n",
        "En resumen,\n",
        "\n",
        "   * ¿Qué son?<br>\n",
        "    Arreglos unidimensionales que guardan distintos tipos de datos u objetos.<br>\n",
        "\n",
        "   * ¿Cómo se declaran?<br>\n",
        "    Se pueden declarar mediante el comando list() o combinando listas existentes. <br>\n",
        "    \n",
        "   * ¿Cómo se accede a sus elementos?<br>\n",
        "    Usando [ ] (retorna lista), o bien usando [ [ ] ] (retorna el objeto). \n",
        "    En cada caso se puede indicar la posición o nombre del objeto que se quiere rescatar.<br>\n",
        "    Otra manera es mediante el símbolo $ seguido del nombre del objeto.\n",
        "\n"
      ]
    },
    {
      "cell_type": "code",
      "metadata": {
        "id": "XeZRCefVaMxV",
        "outputId": "3ff70aa4-153a-48e5-93c0-e6c2928e24e6",
        "colab": {
          "base_uri": "https://localhost:8080/",
          "height": 121
        }
      },
      "source": [
        "# Repaso función which()\n",
        "\n",
        "which(c(F,F,T,F))\n",
        "v <- rnorm(100)\n",
        "\n",
        "which(v > 0.1) # retorna las posiciones de v donde v es mayor a 0.1\n",
        "\n",
        "v[which(v > 0.1)]\n",
        "\n",
        "v[v > 0.1]\n"
      ],
      "execution_count": 3,
      "outputs": [
        {
          "output_type": "display_data",
          "data": {
            "text/plain": [
              "[1] 3"
            ],
            "text/latex": "3",
            "text/markdown": "3",
            "text/html": [
              "3"
            ]
          },
          "metadata": {
            "tags": []
          }
        },
        {
          "output_type": "display_data",
          "data": {
            "text/plain": [
              " [1] 0.2970163 0.6392382 0.5381139 0.6194439 0.1134003 0.1235304 0.7457115\n",
              " [8] 0.3496269 1.0344947 2.2022896 1.8944138 1.2190831 0.9764756 0.9531976\n",
              "[15] 0.9312195 1.7427445 0.2788196 0.1605138 0.9543487 0.6250705 0.4321299\n",
              "[22] 0.2101885 2.0077108 0.1068121 1.5464153 0.2427646 0.3654316 0.5679697\n",
              "[29] 1.2961613 0.7999268 1.4236771 1.8383800 1.1892952 0.4830657 0.6075630\n",
              "[36] 1.0628063 1.0694422 1.9612892 2.5912703 0.3508436 0.2917567 0.1940793\n",
              "[43] 0.6728718 0.4951811 1.4829666 0.1164049 0.6228803"
            ],
            "text/latex": "\\begin{enumerate*}\n\\item 0.297016300359815\n\\item 0.639238200376966\n\\item 0.538113878333599\n\\item 0.619443906451013\n\\item 0.113400288320291\n\\item 0.123530415620685\n\\item 0.745711474528841\n\\item 0.349626888474309\n\\item 1.03449467120763\n\\item 2.2022895978979\n\\item 1.89441376312251\n\\item 1.21908310738136\n\\item 0.976475554917893\n\\item 0.95319762558616\n\\item 0.931219506408536\n\\item 1.74274449226731\n\\item 0.278819642079393\n\\item 0.160513792784189\n\\item 0.95434871741274\n\\item 0.62507047757572\n\\item 0.43212993653764\n\\item 0.210188493315768\n\\item 2.00771083184429\n\\item 0.106812067347243\n\\item 1.54641532080366\n\\item 0.242764586939029\n\\item 0.365431590841124\n\\item 0.567969747100309\n\\item 1.29616127432398\n\\item 0.799926757335395\n\\item 1.42367707267473\n\\item 1.83837997253037\n\\item 1.1892952008576\n\\item 0.483065691650894\n\\item 0.607563036189559\n\\item 1.06280628080955\n\\item 1.06944217397052\n\\item 1.96128922992988\n\\item 2.59127029026315\n\\item 0.35084355803391\n\\item 0.291756707185971\n\\item 0.194079339075297\n\\item 0.672871750870988\n\\item 0.495181092927667\n\\item 1.48296663838954\n\\item 0.116404859445745\n\\item 0.622880260259121\n\\end{enumerate*}\n",
            "text/markdown": "1. 0.297016300359815\n2. 0.639238200376966\n3. 0.538113878333599\n4. 0.619443906451013\n5. 0.113400288320291\n6. 0.123530415620685\n7. 0.745711474528841\n8. 0.349626888474309\n9. 1.03449467120763\n10. 2.2022895978979\n11. 1.89441376312251\n12. 1.21908310738136\n13. 0.976475554917893\n14. 0.95319762558616\n15. 0.931219506408536\n16. 1.74274449226731\n17. 0.278819642079393\n18. 0.160513792784189\n19. 0.95434871741274\n20. 0.62507047757572\n21. 0.43212993653764\n22. 0.210188493315768\n23. 2.00771083184429\n24. 0.106812067347243\n25. 1.54641532080366\n26. 0.242764586939029\n27. 0.365431590841124\n28. 0.567969747100309\n29. 1.29616127432398\n30. 0.799926757335395\n31. 1.42367707267473\n32. 1.83837997253037\n33. 1.1892952008576\n34. 0.483065691650894\n35. 0.607563036189559\n36. 1.06280628080955\n37. 1.06944217397052\n38. 1.96128922992988\n39. 2.59127029026315\n40. 0.35084355803391\n41. 0.291756707185971\n42. 0.194079339075297\n43. 0.672871750870988\n44. 0.495181092927667\n45. 1.48296663838954\n46. 0.116404859445745\n47. 0.622880260259121\n\n\n",
            "text/html": [
              "<style>\n",
              ".list-inline {list-style: none; margin:0; padding: 0}\n",
              ".list-inline>li {display: inline-block}\n",
              ".list-inline>li:not(:last-child)::after {content: \"\\00b7\"; padding: 0 .5ex}\n",
              "</style>\n",
              "<ol class=list-inline><li>0.297016300359815</li><li>0.639238200376966</li><li>0.538113878333599</li><li>0.619443906451013</li><li>0.113400288320291</li><li>0.123530415620685</li><li>0.745711474528841</li><li>0.349626888474309</li><li>1.03449467120763</li><li>2.2022895978979</li><li>1.89441376312251</li><li>1.21908310738136</li><li>0.976475554917893</li><li>0.95319762558616</li><li>0.931219506408536</li><li>1.74274449226731</li><li>0.278819642079393</li><li>0.160513792784189</li><li>0.95434871741274</li><li>0.62507047757572</li><li>0.43212993653764</li><li>0.210188493315768</li><li>2.00771083184429</li><li>0.106812067347243</li><li>1.54641532080366</li><li>0.242764586939029</li><li>0.365431590841124</li><li>0.567969747100309</li><li>1.29616127432398</li><li>0.799926757335395</li><li>1.42367707267473</li><li>1.83837997253037</li><li>1.1892952008576</li><li>0.483065691650894</li><li>0.607563036189559</li><li>1.06280628080955</li><li>1.06944217397052</li><li>1.96128922992988</li><li>2.59127029026315</li><li>0.35084355803391</li><li>0.291756707185971</li><li>0.194079339075297</li><li>0.672871750870988</li><li>0.495181092927667</li><li>1.48296663838954</li><li>0.116404859445745</li><li>0.622880260259121</li></ol>\n"
            ]
          },
          "metadata": {
            "tags": []
          }
        }
      ]
    },
    {
      "cell_type": "code",
      "metadata": {
        "id": "SoBf_quDbuyI",
        "outputId": "43476d1f-a057-4ae1-9b46-7328b0ff5003",
        "colab": {
          "base_uri": "https://localhost:8080/",
          "height": 52
        }
      },
      "source": [
        "letters\n",
        "LETTERS"
      ],
      "execution_count": 6,
      "outputs": [
        {
          "output_type": "display_data",
          "data": {
            "text/plain": [
              " [1] \"a\" \"b\" \"c\" \"d\" \"e\" \"f\" \"g\" \"h\" \"i\" \"j\" \"k\" \"l\" \"m\" \"n\" \"o\" \"p\" \"q\" \"r\" \"s\"\n",
              "[20] \"t\" \"u\" \"v\" \"w\" \"x\" \"y\" \"z\""
            ],
            "text/latex": "\\begin{enumerate*}\n\\item 'a'\n\\item 'b'\n\\item 'c'\n\\item 'd'\n\\item 'e'\n\\item 'f'\n\\item 'g'\n\\item 'h'\n\\item 'i'\n\\item 'j'\n\\item 'k'\n\\item 'l'\n\\item 'm'\n\\item 'n'\n\\item 'o'\n\\item 'p'\n\\item 'q'\n\\item 'r'\n\\item 's'\n\\item 't'\n\\item 'u'\n\\item 'v'\n\\item 'w'\n\\item 'x'\n\\item 'y'\n\\item 'z'\n\\end{enumerate*}\n",
            "text/markdown": "1. 'a'\n2. 'b'\n3. 'c'\n4. 'd'\n5. 'e'\n6. 'f'\n7. 'g'\n8. 'h'\n9. 'i'\n10. 'j'\n11. 'k'\n12. 'l'\n13. 'm'\n14. 'n'\n15. 'o'\n16. 'p'\n17. 'q'\n18. 'r'\n19. 's'\n20. 't'\n21. 'u'\n22. 'v'\n23. 'w'\n24. 'x'\n25. 'y'\n26. 'z'\n\n\n",
            "text/html": [
              "<style>\n",
              ".list-inline {list-style: none; margin:0; padding: 0}\n",
              ".list-inline>li {display: inline-block}\n",
              ".list-inline>li:not(:last-child)::after {content: \"\\00b7\"; padding: 0 .5ex}\n",
              "</style>\n",
              "<ol class=list-inline><li>'a'</li><li>'b'</li><li>'c'</li><li>'d'</li><li>'e'</li><li>'f'</li><li>'g'</li><li>'h'</li><li>'i'</li><li>'j'</li><li>'k'</li><li>'l'</li><li>'m'</li><li>'n'</li><li>'o'</li><li>'p'</li><li>'q'</li><li>'r'</li><li>'s'</li><li>'t'</li><li>'u'</li><li>'v'</li><li>'w'</li><li>'x'</li><li>'y'</li><li>'z'</li></ol>\n"
            ]
          },
          "metadata": {
            "tags": []
          }
        },
        {
          "output_type": "display_data",
          "data": {
            "text/plain": [
              " [1] \"A\" \"B\" \"C\" \"D\" \"E\" \"F\" \"G\" \"H\" \"I\" \"J\" \"K\" \"L\" \"M\" \"N\" \"O\" \"P\" \"Q\" \"R\" \"S\"\n",
              "[20] \"T\" \"U\" \"V\" \"W\" \"X\" \"Y\" \"Z\""
            ],
            "text/latex": "\\begin{enumerate*}\n\\item 'A'\n\\item 'B'\n\\item 'C'\n\\item 'D'\n\\item 'E'\n\\item 'F'\n\\item 'G'\n\\item 'H'\n\\item 'I'\n\\item 'J'\n\\item 'K'\n\\item 'L'\n\\item 'M'\n\\item 'N'\n\\item 'O'\n\\item 'P'\n\\item 'Q'\n\\item 'R'\n\\item 'S'\n\\item 'T'\n\\item 'U'\n\\item 'V'\n\\item 'W'\n\\item 'X'\n\\item 'Y'\n\\item 'Z'\n\\end{enumerate*}\n",
            "text/markdown": "1. 'A'\n2. 'B'\n3. 'C'\n4. 'D'\n5. 'E'\n6. 'F'\n7. 'G'\n8. 'H'\n9. 'I'\n10. 'J'\n11. 'K'\n12. 'L'\n13. 'M'\n14. 'N'\n15. 'O'\n16. 'P'\n17. 'Q'\n18. 'R'\n19. 'S'\n20. 'T'\n21. 'U'\n22. 'V'\n23. 'W'\n24. 'X'\n25. 'Y'\n26. 'Z'\n\n\n",
            "text/html": [
              "<style>\n",
              ".list-inline {list-style: none; margin:0; padding: 0}\n",
              ".list-inline>li {display: inline-block}\n",
              ".list-inline>li:not(:last-child)::after {content: \"\\00b7\"; padding: 0 .5ex}\n",
              "</style>\n",
              "<ol class=list-inline><li>'A'</li><li>'B'</li><li>'C'</li><li>'D'</li><li>'E'</li><li>'F'</li><li>'G'</li><li>'H'</li><li>'I'</li><li>'J'</li><li>'K'</li><li>'L'</li><li>'M'</li><li>'N'</li><li>'O'</li><li>'P'</li><li>'Q'</li><li>'R'</li><li>'S'</li><li>'T'</li><li>'U'</li><li>'V'</li><li>'W'</li><li>'X'</li><li>'Y'</li><li>'Z'</li></ol>\n"
            ]
          },
          "metadata": {
            "tags": []
          }
        }
      ]
    },
    {
      "cell_type": "code",
      "metadata": {
        "trusted": true,
        "id": "zZHpLzzRTpRp",
        "outputId": "6049457e-1b82-44b6-bce4-da55e6e29dce",
        "colab": {
          "base_uri": "https://localhost:8080/",
          "height": 379
        }
      },
      "source": [
        "# 5. Listas y dataframes ------------\n",
        "# 5.1 Listas  ------------\n",
        "# Cómo declarar una lista (comando list() )\n",
        "#num,letra, pl, mat, lista\n",
        "\n",
        "# Podemos guardar los objetos en slots con nombres\n",
        "lista1 <- list(num = c(1:10),pal = letters,mat = matrix(c(1,2,3,4), ncol = 2),sublist = list(n=1,l=\"A\"))\n",
        "\n",
        "lista1\n",
        "\n"
      ],
      "execution_count": 8,
      "outputs": [
        {
          "output_type": "display_data",
          "data": {
            "text/plain": [
              "$num\n",
              " [1]  1  2  3  4  5  6  7  8  9 10\n",
              "\n",
              "$pal\n",
              " [1] \"a\" \"b\" \"c\" \"d\" \"e\" \"f\" \"g\" \"h\" \"i\" \"j\" \"k\" \"l\" \"m\" \"n\" \"o\" \"p\" \"q\" \"r\" \"s\"\n",
              "[20] \"t\" \"u\" \"v\" \"w\" \"x\" \"y\" \"z\"\n",
              "\n",
              "$mat\n",
              "     [,1] [,2]\n",
              "[1,]    1    3\n",
              "[2,]    2    4\n",
              "\n",
              "$sublist\n",
              "$sublist$n\n",
              "[1] 1\n",
              "\n",
              "$sublist$l\n",
              "[1] \"A\"\n",
              "\n"
            ],
            "text/latex": "\\begin{description}\n\\item[\\$num] \\begin{enumerate*}\n\\item 1\n\\item 2\n\\item 3\n\\item 4\n\\item 5\n\\item 6\n\\item 7\n\\item 8\n\\item 9\n\\item 10\n\\end{enumerate*}\n\n\\item[\\$pal] \\begin{enumerate*}\n\\item 'a'\n\\item 'b'\n\\item 'c'\n\\item 'd'\n\\item 'e'\n\\item 'f'\n\\item 'g'\n\\item 'h'\n\\item 'i'\n\\item 'j'\n\\item 'k'\n\\item 'l'\n\\item 'm'\n\\item 'n'\n\\item 'o'\n\\item 'p'\n\\item 'q'\n\\item 'r'\n\\item 's'\n\\item 't'\n\\item 'u'\n\\item 'v'\n\\item 'w'\n\\item 'x'\n\\item 'y'\n\\item 'z'\n\\end{enumerate*}\n\n\\item[\\$mat] A matrix: 2 × 2 of type dbl\n\\begin{tabular}{ll}\n\t 1 & 3\\\\\n\t 2 & 4\\\\\n\\end{tabular}\n\n\\item[\\$sublist] \\begin{description}\n\\item[\\$n] 1\n\\item[\\$l] 'A'\n\\end{description}\n\n\\end{description}\n",
            "text/markdown": "$num\n:   1. 1\n2. 2\n3. 3\n4. 4\n5. 5\n6. 6\n7. 7\n8. 8\n9. 9\n10. 10\n\n\n\n$pal\n:   1. 'a'\n2. 'b'\n3. 'c'\n4. 'd'\n5. 'e'\n6. 'f'\n7. 'g'\n8. 'h'\n9. 'i'\n10. 'j'\n11. 'k'\n12. 'l'\n13. 'm'\n14. 'n'\n15. 'o'\n16. 'p'\n17. 'q'\n18. 'r'\n19. 's'\n20. 't'\n21. 'u'\n22. 'v'\n23. 'w'\n24. 'x'\n25. 'y'\n26. 'z'\n\n\n\n$mat\n:   \nA matrix: 2 × 2 of type dbl\n\n| 1 | 3 |\n| 2 | 4 |\n\n\n$sublist\n:   $n\n:   1\n$l\n:   'A'\n\n\n\n\n\n",
            "text/html": [
              "<dl>\n",
              "\t<dt>$num</dt>\n",
              "\t\t<dd><style>\n",
              ".list-inline {list-style: none; margin:0; padding: 0}\n",
              ".list-inline>li {display: inline-block}\n",
              ".list-inline>li:not(:last-child)::after {content: \"\\00b7\"; padding: 0 .5ex}\n",
              "</style>\n",
              "<ol class=list-inline><li>1</li><li>2</li><li>3</li><li>4</li><li>5</li><li>6</li><li>7</li><li>8</li><li>9</li><li>10</li></ol>\n",
              "</dd>\n",
              "\t<dt>$pal</dt>\n",
              "\t\t<dd><style>\n",
              ".list-inline {list-style: none; margin:0; padding: 0}\n",
              ".list-inline>li {display: inline-block}\n",
              ".list-inline>li:not(:last-child)::after {content: \"\\00b7\"; padding: 0 .5ex}\n",
              "</style>\n",
              "<ol class=list-inline><li>'a'</li><li>'b'</li><li>'c'</li><li>'d'</li><li>'e'</li><li>'f'</li><li>'g'</li><li>'h'</li><li>'i'</li><li>'j'</li><li>'k'</li><li>'l'</li><li>'m'</li><li>'n'</li><li>'o'</li><li>'p'</li><li>'q'</li><li>'r'</li><li>'s'</li><li>'t'</li><li>'u'</li><li>'v'</li><li>'w'</li><li>'x'</li><li>'y'</li><li>'z'</li></ol>\n",
              "</dd>\n",
              "\t<dt>$mat</dt>\n",
              "\t\t<dd><table>\n",
              "<caption>A matrix: 2 × 2 of type dbl</caption>\n",
              "<tbody>\n",
              "\t<tr><td>1</td><td>3</td></tr>\n",
              "\t<tr><td>2</td><td>4</td></tr>\n",
              "</tbody>\n",
              "</table>\n",
              "</dd>\n",
              "\t<dt>$sublist</dt>\n",
              "\t\t<dd><dl>\n",
              "\t<dt>$n</dt>\n",
              "\t\t<dd>1</dd>\n",
              "\t<dt>$l</dt>\n",
              "\t\t<dd>'A'</dd>\n",
              "</dl>\n",
              "</dd>\n",
              "</dl>\n"
            ]
          },
          "metadata": {
            "tags": []
          }
        }
      ]
    },
    {
      "cell_type": "code",
      "metadata": {
        "id": "_iwOQA-xTzww"
      },
      "source": [
        "# estructura\n",
        "str(lista1)"
      ],
      "execution_count": null,
      "outputs": []
    },
    {
      "cell_type": "code",
      "metadata": {
        "trusted": true,
        "id": "Ao1wFCByTpRx"
      },
      "source": [
        ""
      ],
      "execution_count": null,
      "outputs": []
    },
    {
      "cell_type": "code",
      "metadata": {
        "trusted": true,
        "id": "GBuxGL4cTpR0",
        "outputId": "bb2b2354-b85d-41d5-dd6a-7de97eefeffd",
        "colab": {
          "base_uri": "https://localhost:8080/"
        }
      },
      "source": [
        "# Podemos combinar listas\n",
        "lista2 <- list(otro_n = 5:11, otra_pal = c(\"lala\", \"po\", \"tinki winki\"))\n",
        "str(lista2)"
      ],
      "execution_count": 12,
      "outputs": [
        {
          "output_type": "stream",
          "text": [
            "List of 2\n",
            " $ otro_n  : int [1:7] 5 6 7 8 9 10 11\n",
            " $ otra_pal: chr [1:3] \"lala\" \"po\" \"tinki winki\"\n"
          ],
          "name": "stdout"
        }
      ]
    },
    {
      "cell_type": "code",
      "metadata": {
        "id": "v6pB6vw-dDMy",
        "outputId": "7253ab08-e6d3-44b9-91b3-dbea469183e2",
        "colab": {
          "base_uri": "https://localhost:8080/",
          "height": 462
        }
      },
      "source": [
        "lista3 <- c(lista1,lista2)\n",
        "lista3"
      ],
      "execution_count": 14,
      "outputs": [
        {
          "output_type": "display_data",
          "data": {
            "text/plain": [
              "$num\n",
              " [1]  1  2  3  4  5  6  7  8  9 10\n",
              "\n",
              "$pal\n",
              " [1] \"a\" \"b\" \"c\" \"d\" \"e\" \"f\" \"g\" \"h\" \"i\" \"j\" \"k\" \"l\" \"m\" \"n\" \"o\" \"p\" \"q\" \"r\" \"s\"\n",
              "[20] \"t\" \"u\" \"v\" \"w\" \"x\" \"y\" \"z\"\n",
              "\n",
              "$mat\n",
              "     [,1] [,2]\n",
              "[1,]    1    3\n",
              "[2,]    2    4\n",
              "\n",
              "$sublist\n",
              "$sublist$n\n",
              "[1] 1\n",
              "\n",
              "$sublist$l\n",
              "[1] \"A\"\n",
              "\n",
              "\n",
              "$otro_n\n",
              "[1]  5  6  7  8  9 10 11\n",
              "\n",
              "$otra_pal\n",
              "[1] \"lala\"        \"po\"          \"tinki winki\"\n"
            ],
            "text/latex": "\\begin{description}\n\\item[\\$num] \\begin{enumerate*}\n\\item 1\n\\item 2\n\\item 3\n\\item 4\n\\item 5\n\\item 6\n\\item 7\n\\item 8\n\\item 9\n\\item 10\n\\end{enumerate*}\n\n\\item[\\$pal] \\begin{enumerate*}\n\\item 'a'\n\\item 'b'\n\\item 'c'\n\\item 'd'\n\\item 'e'\n\\item 'f'\n\\item 'g'\n\\item 'h'\n\\item 'i'\n\\item 'j'\n\\item 'k'\n\\item 'l'\n\\item 'm'\n\\item 'n'\n\\item 'o'\n\\item 'p'\n\\item 'q'\n\\item 'r'\n\\item 's'\n\\item 't'\n\\item 'u'\n\\item 'v'\n\\item 'w'\n\\item 'x'\n\\item 'y'\n\\item 'z'\n\\end{enumerate*}\n\n\\item[\\$mat] A matrix: 2 × 2 of type dbl\n\\begin{tabular}{ll}\n\t 1 & 3\\\\\n\t 2 & 4\\\\\n\\end{tabular}\n\n\\item[\\$sublist] \\begin{description}\n\\item[\\$n] 1\n\\item[\\$l] 'A'\n\\end{description}\n\n\\item[\\$otro\\_n] \\begin{enumerate*}\n\\item 5\n\\item 6\n\\item 7\n\\item 8\n\\item 9\n\\item 10\n\\item 11\n\\end{enumerate*}\n\n\\item[\\$otra\\_pal] \\begin{enumerate*}\n\\item 'lala'\n\\item 'po'\n\\item 'tinki winki'\n\\end{enumerate*}\n\n\\end{description}\n",
            "text/markdown": "$num\n:   1. 1\n2. 2\n3. 3\n4. 4\n5. 5\n6. 6\n7. 7\n8. 8\n9. 9\n10. 10\n\n\n\n$pal\n:   1. 'a'\n2. 'b'\n3. 'c'\n4. 'd'\n5. 'e'\n6. 'f'\n7. 'g'\n8. 'h'\n9. 'i'\n10. 'j'\n11. 'k'\n12. 'l'\n13. 'm'\n14. 'n'\n15. 'o'\n16. 'p'\n17. 'q'\n18. 'r'\n19. 's'\n20. 't'\n21. 'u'\n22. 'v'\n23. 'w'\n24. 'x'\n25. 'y'\n26. 'z'\n\n\n\n$mat\n:   \nA matrix: 2 × 2 of type dbl\n\n| 1 | 3 |\n| 2 | 4 |\n\n\n$sublist\n:   $n\n:   1\n$l\n:   'A'\n\n\n\n$otro_n\n:   1. 5\n2. 6\n3. 7\n4. 8\n5. 9\n6. 10\n7. 11\n\n\n\n$otra_pal\n:   1. 'lala'\n2. 'po'\n3. 'tinki winki'\n\n\n\n\n\n",
            "text/html": [
              "<dl>\n",
              "\t<dt>$num</dt>\n",
              "\t\t<dd><style>\n",
              ".list-inline {list-style: none; margin:0; padding: 0}\n",
              ".list-inline>li {display: inline-block}\n",
              ".list-inline>li:not(:last-child)::after {content: \"\\00b7\"; padding: 0 .5ex}\n",
              "</style>\n",
              "<ol class=list-inline><li>1</li><li>2</li><li>3</li><li>4</li><li>5</li><li>6</li><li>7</li><li>8</li><li>9</li><li>10</li></ol>\n",
              "</dd>\n",
              "\t<dt>$pal</dt>\n",
              "\t\t<dd><style>\n",
              ".list-inline {list-style: none; margin:0; padding: 0}\n",
              ".list-inline>li {display: inline-block}\n",
              ".list-inline>li:not(:last-child)::after {content: \"\\00b7\"; padding: 0 .5ex}\n",
              "</style>\n",
              "<ol class=list-inline><li>'a'</li><li>'b'</li><li>'c'</li><li>'d'</li><li>'e'</li><li>'f'</li><li>'g'</li><li>'h'</li><li>'i'</li><li>'j'</li><li>'k'</li><li>'l'</li><li>'m'</li><li>'n'</li><li>'o'</li><li>'p'</li><li>'q'</li><li>'r'</li><li>'s'</li><li>'t'</li><li>'u'</li><li>'v'</li><li>'w'</li><li>'x'</li><li>'y'</li><li>'z'</li></ol>\n",
              "</dd>\n",
              "\t<dt>$mat</dt>\n",
              "\t\t<dd><table>\n",
              "<caption>A matrix: 2 × 2 of type dbl</caption>\n",
              "<tbody>\n",
              "\t<tr><td>1</td><td>3</td></tr>\n",
              "\t<tr><td>2</td><td>4</td></tr>\n",
              "</tbody>\n",
              "</table>\n",
              "</dd>\n",
              "\t<dt>$sublist</dt>\n",
              "\t\t<dd><dl>\n",
              "\t<dt>$n</dt>\n",
              "\t\t<dd>1</dd>\n",
              "\t<dt>$l</dt>\n",
              "\t\t<dd>'A'</dd>\n",
              "</dl>\n",
              "</dd>\n",
              "\t<dt>$otro_n</dt>\n",
              "\t\t<dd><style>\n",
              ".list-inline {list-style: none; margin:0; padding: 0}\n",
              ".list-inline>li {display: inline-block}\n",
              ".list-inline>li:not(:last-child)::after {content: \"\\00b7\"; padding: 0 .5ex}\n",
              "</style>\n",
              "<ol class=list-inline><li>5</li><li>6</li><li>7</li><li>8</li><li>9</li><li>10</li><li>11</li></ol>\n",
              "</dd>\n",
              "\t<dt>$otra_pal</dt>\n",
              "\t\t<dd><style>\n",
              ".list-inline {list-style: none; margin:0; padding: 0}\n",
              ".list-inline>li {display: inline-block}\n",
              ".list-inline>li:not(:last-child)::after {content: \"\\00b7\"; padding: 0 .5ex}\n",
              "</style>\n",
              "<ol class=list-inline><li>'lala'</li><li>'po'</li><li>'tinki winki'</li></ol>\n",
              "</dd>\n",
              "</dl>\n"
            ]
          },
          "metadata": {
            "tags": []
          }
        }
      ]
    },
    {
      "cell_type": "code",
      "metadata": {
        "id": "EBSmWuKLdOKL"
      },
      "source": [
        "x <- rnorm(100)\n",
        "e <- rnorm(100)\n",
        "\n",
        "y <- 2*x + 1 + e "
      ],
      "execution_count": 16,
      "outputs": []
    },
    {
      "cell_type": "code",
      "metadata": {
        "id": "ww0Vt_jxdjKQ",
        "outputId": "69ff7cc6-5a93-4f38-d45f-778660c839e9",
        "colab": {
          "base_uri": "https://localhost:8080/",
          "height": 437
        }
      },
      "source": [
        "plot(x,y)"
      ],
      "execution_count": 17,
      "outputs": [
        {
          "output_type": "display_data",
          "data": {
            "image/png": "[encoded data removed]",
            "text/plain": [
              "plot without title"
            ]
          },
          "metadata": {
            "tags": [],
            "image/png": {
              "width": 420,
              "height": 420
            }
          }
        }
      ]
    },
    {
      "cell_type": "code",
      "metadata": {
        "id": "ZzXkS_wZdpu5",
        "outputId": "6a25327d-1cee-43c1-d03b-f0b9e15db104",
        "colab": {
          "base_uri": "https://localhost:8080/"
        }
      },
      "source": [
        "modelo <- lm(y~x)\n",
        "str(modelo)"
      ],
      "execution_count": 20,
      "outputs": [
        {
          "output_type": "stream",
          "text": [
            "List of 12\n",
            " $ coefficients : Named num [1:2] 1.08 1.93\n",
            "  ..- attr(*, \"names\")= chr [1:2] \"(Intercept)\" \"x\"\n",
            " $ residuals    : Named num [1:100] -0.561 -0.3676 -1.2249 0.0581 -0.7813 ...\n",
            "  ..- attr(*, \"names\")= chr [1:100] \"1\" \"2\" \"3\" \"4\" ...\n",
            " $ effects      : Named num [1:100] -10.08 18.734 -1.226 0.152 -0.71 ...\n",
            "  ..- attr(*, \"names\")= chr [1:100] \"(Intercept)\" \"x\" \"\" \"\" ...\n",
            " $ rank         : int 2\n",
            " $ fitted.values: Named num [1:100] 0.766 0.89 4.109 -1.578 -0.221 ...\n",
            "  ..- attr(*, \"names\")= chr [1:100] \"1\" \"2\" \"3\" \"4\" ...\n",
            " $ assign       : int [1:2] 0 1\n",
            " $ qr           :List of 5\n",
            "  ..$ qr   : num [1:100, 1:2] -10 0.1 0.1 0.1 0.1 0.1 0.1 0.1 0.1 0.1 ...\n",
            "  .. ..- attr(*, \"dimnames\")=List of 2\n",
            "  .. .. ..$ : chr [1:100] \"1\" \"2\" \"3\" \"4\" ...\n",
            "  .. .. ..$ : chr [1:2] \"(Intercept)\" \"x\"\n",
            "  .. ..- attr(*, \"assign\")= int [1:2] 0 1\n",
            "  ..$ qraux: num [1:2] 1.1 1.01\n",
            "  ..$ pivot: int [1:2] 1 2\n",
            "  ..$ tol  : num 1e-07\n",
            "  ..$ rank : int 2\n",
            "  ..- attr(*, \"class\")= chr \"qr\"\n",
            " $ df.residual  : int 98\n",
            " $ xlevels      : Named list()\n",
            " $ call         : language lm(formula = y ~ x)\n",
            " $ terms        :Classes 'terms', 'formula'  language y ~ x\n",
            "  .. ..- attr(*, \"variables\")= language list(y, x)\n",
            "  .. ..- attr(*, \"factors\")= int [1:2, 1] 0 1\n",
            "  .. .. ..- attr(*, \"dimnames\")=List of 2\n",
            "  .. .. .. ..$ : chr [1:2] \"y\" \"x\"\n",
            "  .. .. .. ..$ : chr \"x\"\n",
            "  .. ..- attr(*, \"term.labels\")= chr \"x\"\n",
            "  .. ..- attr(*, \"order\")= int 1\n",
            "  .. ..- attr(*, \"intercept\")= int 1\n",
            "  .. ..- attr(*, \"response\")= int 1\n",
            "  .. ..- attr(*, \".Environment\")=<environment: R_GlobalEnv> \n",
            "  .. ..- attr(*, \"predvars\")= language list(y, x)\n",
            "  .. ..- attr(*, \"dataClasses\")= Named chr [1:2] \"numeric\" \"numeric\"\n",
            "  .. .. ..- attr(*, \"names\")= chr [1:2] \"y\" \"x\"\n",
            " $ model        :'data.frame':\t100 obs. of  2 variables:\n",
            "  ..$ y: num [1:100] 0.205 0.522 2.884 -1.52 -1.003 ...\n",
            "  ..$ x: num [1:100] -0.1617 -0.0978 1.5676 -1.3742 -0.6725 ...\n",
            "  ..- attr(*, \"terms\")=Classes 'terms', 'formula'  language y ~ x\n",
            "  .. .. ..- attr(*, \"variables\")= language list(y, x)\n",
            "  .. .. ..- attr(*, \"factors\")= int [1:2, 1] 0 1\n",
            "  .. .. .. ..- attr(*, \"dimnames\")=List of 2\n",
            "  .. .. .. .. ..$ : chr [1:2] \"y\" \"x\"\n",
            "  .. .. .. .. ..$ : chr \"x\"\n",
            "  .. .. ..- attr(*, \"term.labels\")= chr \"x\"\n",
            "  .. .. ..- attr(*, \"order\")= int 1\n",
            "  .. .. ..- attr(*, \"intercept\")= int 1\n",
            "  .. .. ..- attr(*, \"response\")= int 1\n",
            "  .. .. ..- attr(*, \".Environment\")=<environment: R_GlobalEnv> \n",
            "  .. .. ..- attr(*, \"predvars\")= language list(y, x)\n",
            "  .. .. ..- attr(*, \"dataClasses\")= Named chr [1:2] \"numeric\" \"numeric\"\n",
            "  .. .. .. ..- attr(*, \"names\")= chr [1:2] \"y\" \"x\"\n",
            " - attr(*, \"class\")= chr \"lm\"\n"
          ],
          "name": "stdout"
        }
      ]
    },
    {
      "cell_type": "code",
      "metadata": {
        "id": "ZnhrSwPVdwgZ",
        "outputId": "db05118b-12b5-43c7-b900-be81d05c1a34",
        "colab": {
          "base_uri": "https://localhost:8080/",
          "height": 1000
        }
      },
      "source": [
        "plot(modelo)"
      ],
      "execution_count": 19,
      "outputs": [
        {
          "output_type": "display_data",
          "data": {
            "image/png": "[encoded data removed]",
            "text/plain": [
              "Plot with title “”"
            ]
          },
          "metadata": {
            "tags": [],
            "image/png": {
              "width": 420,
              "height": 420
            }
          }
        },
        {
          "output_type": "display_data",
          "data": {
            "image/png": "[encoded data removed]",
            "text/plain": [
              "Plot with title “”"
            ]
          },
          "metadata": {
            "tags": [],
            "image/png": {
              "width": 420,
              "height": 420
            }
          }
        },
        {
          "output_type": "display_data",
          "data": {
            "image/png": "[encoded data removed]",
            "text/plain": [
              "Plot with title “”"
            ]
          },
          "metadata": {
            "tags": [],
            "image/png": {
              "width": 420,
              "height": 420
            }
          }
        },
        {
          "output_type": "display_data",
          "data": {
            "image/png": "[encoded data removed]",
            "text/plain": [
              "Plot with title “”"
            ]
          },
          "metadata": {
            "tags": [],
            "image/png": {
              "width": 420,
              "height": 420
            }
          }
        }
      ]
    },
    {
      "cell_type": "code",
      "metadata": {
        "trusted": true,
        "id": "uUv7BQfnTpR3",
        "outputId": "618bfaa3-95f6-4ce8-cc4e-e968a168e881",
        "colab": {
          "base_uri": "https://localhost:8080/",
          "height": 52
        }
      },
      "source": [
        "# Acceso mediante posición\n",
        "\n",
        "lista3[2]"
      ],
      "execution_count": 23,
      "outputs": [
        {
          "output_type": "display_data",
          "data": {
            "text/plain": [
              "$pal\n",
              " [1] \"a\" \"b\" \"c\" \"d\" \"e\" \"f\" \"g\" \"h\" \"i\" \"j\" \"k\" \"l\" \"m\" \"n\" \"o\" \"p\" \"q\" \"r\" \"s\"\n",
              "[20] \"t\" \"u\" \"v\" \"w\" \"x\" \"y\" \"z\"\n"
            ],
            "text/latex": "\\textbf{\\$pal} = \\begin{enumerate*}\n\\item 'a'\n\\item 'b'\n\\item 'c'\n\\item 'd'\n\\item 'e'\n\\item 'f'\n\\item 'g'\n\\item 'h'\n\\item 'i'\n\\item 'j'\n\\item 'k'\n\\item 'l'\n\\item 'm'\n\\item 'n'\n\\item 'o'\n\\item 'p'\n\\item 'q'\n\\item 'r'\n\\item 's'\n\\item 't'\n\\item 'u'\n\\item 'v'\n\\item 'w'\n\\item 'x'\n\\item 'y'\n\\item 'z'\n\\end{enumerate*}\n",
            "text/markdown": "**$pal** = 1. 'a'\n2. 'b'\n3. 'c'\n4. 'd'\n5. 'e'\n6. 'f'\n7. 'g'\n8. 'h'\n9. 'i'\n10. 'j'\n11. 'k'\n12. 'l'\n13. 'm'\n14. 'n'\n15. 'o'\n16. 'p'\n17. 'q'\n18. 'r'\n19. 's'\n20. 't'\n21. 'u'\n22. 'v'\n23. 'w'\n24. 'x'\n25. 'y'\n26. 'z'\n\n\n",
            "text/html": [
              "<strong>$pal</strong> = <style>\n",
              ".list-inline {list-style: none; margin:0; padding: 0}\n",
              ".list-inline>li {display: inline-block}\n",
              ".list-inline>li:not(:last-child)::after {content: \"\\00b7\"; padding: 0 .5ex}\n",
              "</style>\n",
              "<ol class=list-inline><li>'a'</li><li>'b'</li><li>'c'</li><li>'d'</li><li>'e'</li><li>'f'</li><li>'g'</li><li>'h'</li><li>'i'</li><li>'j'</li><li>'k'</li><li>'l'</li><li>'m'</li><li>'n'</li><li>'o'</li><li>'p'</li><li>'q'</li><li>'r'</li><li>'s'</li><li>'t'</li><li>'u'</li><li>'v'</li><li>'w'</li><li>'x'</li><li>'y'</li><li>'z'</li></ol>\n"
            ]
          },
          "metadata": {
            "tags": []
          }
        }
      ]
    },
    {
      "cell_type": "code",
      "metadata": {
        "id": "zFld-K_HegVh",
        "outputId": "5db50f81-1390-435e-f48c-2d8e7b1d5395",
        "colab": {
          "base_uri": "https://localhost:8080/",
          "height": 35
        }
      },
      "source": [
        "class(lista3[2])"
      ],
      "execution_count": 24,
      "outputs": [
        {
          "output_type": "display_data",
          "data": {
            "text/plain": [
              "[1] \"list\""
            ],
            "text/latex": "'list'",
            "text/markdown": "'list'",
            "text/html": [
              "'list'"
            ]
          },
          "metadata": {
            "tags": []
          }
        }
      ]
    },
    {
      "cell_type": "code",
      "metadata": {
        "trusted": true,
        "id": "QbQ8QHARTpR7",
        "outputId": "6c6290d6-f3ed-4879-b7a8-e63e8518cb33",
        "colab": {
          "base_uri": "https://localhost:8080/",
          "height": 52
        }
      },
      "source": [
        "# NOTA lista[.] retorna un lista con un elemento,\n",
        "# lista[[.]] retorna el elmento de la lista lista[.]\n",
        "\n",
        "lista3[[2]]\n",
        "class(lista3[[2]])"
      ],
      "execution_count": 26,
      "outputs": [
        {
          "output_type": "display_data",
          "data": {
            "text/plain": [
              " [1] \"a\" \"b\" \"c\" \"d\" \"e\" \"f\" \"g\" \"h\" \"i\" \"j\" \"k\" \"l\" \"m\" \"n\" \"o\" \"p\" \"q\" \"r\" \"s\"\n",
              "[20] \"t\" \"u\" \"v\" \"w\" \"x\" \"y\" \"z\""
            ],
            "text/latex": "\\begin{enumerate*}\n\\item 'a'\n\\item 'b'\n\\item 'c'\n\\item 'd'\n\\item 'e'\n\\item 'f'\n\\item 'g'\n\\item 'h'\n\\item 'i'\n\\item 'j'\n\\item 'k'\n\\item 'l'\n\\item 'm'\n\\item 'n'\n\\item 'o'\n\\item 'p'\n\\item 'q'\n\\item 'r'\n\\item 's'\n\\item 't'\n\\item 'u'\n\\item 'v'\n\\item 'w'\n\\item 'x'\n\\item 'y'\n\\item 'z'\n\\end{enumerate*}\n",
            "text/markdown": "1. 'a'\n2. 'b'\n3. 'c'\n4. 'd'\n5. 'e'\n6. 'f'\n7. 'g'\n8. 'h'\n9. 'i'\n10. 'j'\n11. 'k'\n12. 'l'\n13. 'm'\n14. 'n'\n15. 'o'\n16. 'p'\n17. 'q'\n18. 'r'\n19. 's'\n20. 't'\n21. 'u'\n22. 'v'\n23. 'w'\n24. 'x'\n25. 'y'\n26. 'z'\n\n\n",
            "text/html": [
              "<style>\n",
              ".list-inline {list-style: none; margin:0; padding: 0}\n",
              ".list-inline>li {display: inline-block}\n",
              ".list-inline>li:not(:last-child)::after {content: \"\\00b7\"; padding: 0 .5ex}\n",
              "</style>\n",
              "<ol class=list-inline><li>'a'</li><li>'b'</li><li>'c'</li><li>'d'</li><li>'e'</li><li>'f'</li><li>'g'</li><li>'h'</li><li>'i'</li><li>'j'</li><li>'k'</li><li>'l'</li><li>'m'</li><li>'n'</li><li>'o'</li><li>'p'</li><li>'q'</li><li>'r'</li><li>'s'</li><li>'t'</li><li>'u'</li><li>'v'</li><li>'w'</li><li>'x'</li><li>'y'</li><li>'z'</li></ol>\n"
            ]
          },
          "metadata": {
            "tags": []
          }
        },
        {
          "output_type": "display_data",
          "data": {
            "text/plain": [
              "[1] \"character\""
            ],
            "text/latex": "'character'",
            "text/markdown": "'character'",
            "text/html": [
              "'character'"
            ]
          },
          "metadata": {
            "tags": []
          }
        }
      ]
    },
    {
      "cell_type": "code",
      "metadata": {
        "trusted": true,
        "id": "kaOJqYJETpSC",
        "outputId": "6715a915-da70-4281-c485-bbf47f608fa1",
        "colab": {
          "base_uri": "https://localhost:8080/",
          "height": 35
        }
      },
      "source": [
        "# De lista3[[2]] podemos acceder al elemtno 15\n",
        "\n",
        "lista3[[2]][15]\n"
      ],
      "execution_count": 27,
      "outputs": [
        {
          "output_type": "display_data",
          "data": {
            "text/plain": [
              "[1] \"o\""
            ],
            "text/latex": "'o'",
            "text/markdown": "'o'",
            "text/html": [
              "'o'"
            ]
          },
          "metadata": {
            "tags": []
          }
        }
      ]
    },
    {
      "cell_type": "code",
      "metadata": {
        "id": "3BaiL3xnfKco",
        "outputId": "3503dfc6-e7c0-40fc-e36d-64dc71c6396e",
        "colab": {
          "base_uri": "https://localhost:8080/",
          "height": 35
        }
      },
      "source": [
        "names(lista3)"
      ],
      "execution_count": 28,
      "outputs": [
        {
          "output_type": "display_data",
          "data": {
            "text/plain": [
              "[1] \"num\"      \"pal\"      \"mat\"      \"sublist\"  \"otro_n\"   \"otra_pal\""
            ],
            "text/latex": "\\begin{enumerate*}\n\\item 'num'\n\\item 'pal'\n\\item 'mat'\n\\item 'sublist'\n\\item 'otro\\_n'\n\\item 'otra\\_pal'\n\\end{enumerate*}\n",
            "text/markdown": "1. 'num'\n2. 'pal'\n3. 'mat'\n4. 'sublist'\n5. 'otro_n'\n6. 'otra_pal'\n\n\n",
            "text/html": [
              "<style>\n",
              ".list-inline {list-style: none; margin:0; padding: 0}\n",
              ".list-inline>li {display: inline-block}\n",
              ".list-inline>li:not(:last-child)::after {content: \"\\00b7\"; padding: 0 .5ex}\n",
              "</style>\n",
              "<ol class=list-inline><li>'num'</li><li>'pal'</li><li>'mat'</li><li>'sublist'</li><li>'otro_n'</li><li>'otra_pal'</li></ol>\n"
            ]
          },
          "metadata": {
            "tags": []
          }
        }
      ]
    },
    {
      "cell_type": "code",
      "metadata": {
        "trusted": true,
        "id": "jYFKb27-TpSG",
        "outputId": "7dcf1a7d-51a0-4e08-e86a-438249d4d501",
        "colab": {
          "base_uri": "https://localhost:8080/",
          "height": 329
        }
      },
      "source": [
        "# Acceso mediante nombre\n",
        "\n",
        "lista3[\"mat\"] # retorna una lista con la matriz\n",
        "lista3[[\"mat\"]] # retorna la matriz\n"
      ],
      "execution_count": 30,
      "outputs": [
        {
          "output_type": "display_data",
          "data": {
            "text/plain": [
              "$mat\n",
              "     [,1] [,2]\n",
              "[1,]    1    3\n",
              "[2,]    2    4\n"
            ],
            "text/latex": "\\textbf{\\$mat} = A matrix: 2 × 2 of type dbl\n\\begin{tabular}{ll}\n\t 1 & 3\\\\\n\t 2 & 4\\\\\n\\end{tabular}\n",
            "text/markdown": "**$mat** = \nA matrix: 2 × 2 of type dbl\n\n| 1 | 3 |\n| 2 | 4 |\n\n",
            "text/html": [
              "<strong>$mat</strong> = <table>\n",
              "<caption>A matrix: 2 × 2 of type dbl</caption>\n",
              "<tbody>\n",
              "\t<tr><td>1</td><td>3</td></tr>\n",
              "\t<tr><td>2</td><td>4</td></tr>\n",
              "</tbody>\n",
              "</table>\n"
            ]
          },
          "metadata": {
            "tags": []
          }
        },
        {
          "output_type": "display_data",
          "data": {
            "text/plain": [
              "     [,1] [,2]\n",
              "[1,] 1    3   \n",
              "[2,] 2    4   "
            ],
            "text/latex": "A matrix: 2 × 2 of type dbl\n\\begin{tabular}{ll}\n\t 1 & 3\\\\\n\t 2 & 4\\\\\n\\end{tabular}\n",
            "text/markdown": "\nA matrix: 2 × 2 of type dbl\n\n| 1 | 3 |\n| 2 | 4 |\n\n",
            "text/html": [
              "<table>\n",
              "<caption>A matrix: 2 × 2 of type dbl</caption>\n",
              "<tbody>\n",
              "\t<tr><td>1</td><td>3</td></tr>\n",
              "\t<tr><td>2</td><td>4</td></tr>\n",
              "</tbody>\n",
              "</table>\n"
            ]
          },
          "metadata": {
            "tags": []
          }
        }
      ]
    },
    {
      "cell_type": "code",
      "metadata": {
        "trusted": true,
        "id": "a9UBaNOuTpSI",
        "outputId": "7ef005c1-07c9-4a50-f535-290a567ec810",
        "colab": {
          "base_uri": "https://localhost:8080/",
          "height": 52
        }
      },
      "source": [
        "# acceso vía \"$\"\n",
        "\n",
        "lista3$num # nos retorna directamente el elemento buscado. Es lo mismo que  lista3[[\"num\"]]\n",
        "\n",
        "lista3$sublist$n # es lo mismo que  lista3[[\"sublist\"]][[\"n\"]]\n",
        "\n"
      ],
      "execution_count": 32,
      "outputs": [
        {
          "output_type": "display_data",
          "data": {
            "text/plain": [
              " [1]  1  2  3  4  5  6  7  8  9 10"
            ],
            "text/latex": "\\begin{enumerate*}\n\\item 1\n\\item 2\n\\item 3\n\\item 4\n\\item 5\n\\item 6\n\\item 7\n\\item 8\n\\item 9\n\\item 10\n\\end{enumerate*}\n",
            "text/markdown": "1. 1\n2. 2\n3. 3\n4. 4\n5. 5\n6. 6\n7. 7\n8. 8\n9. 9\n10. 10\n\n\n",
            "text/html": [
              "<style>\n",
              ".list-inline {list-style: none; margin:0; padding: 0}\n",
              ".list-inline>li {display: inline-block}\n",
              ".list-inline>li:not(:last-child)::after {content: \"\\00b7\"; padding: 0 .5ex}\n",
              "</style>\n",
              "<ol class=list-inline><li>1</li><li>2</li><li>3</li><li>4</li><li>5</li><li>6</li><li>7</li><li>8</li><li>9</li><li>10</li></ol>\n"
            ]
          },
          "metadata": {
            "tags": []
          }
        },
        {
          "output_type": "display_data",
          "data": {
            "text/plain": [
              "[1] 1"
            ],
            "text/latex": "1",
            "text/markdown": "1",
            "text/html": [
              "1"
            ]
          },
          "metadata": {
            "tags": []
          }
        }
      ]
    },
    {
      "cell_type": "code",
      "metadata": {
        "trusted": true,
        "id": "Dumeo0-NTpSM",
        "outputId": "7026732a-bb1d-4af5-dd61-cc586c695436",
        "colab": {
          "base_uri": "https://localhost:8080/",
          "height": 69
        }
      },
      "source": [
        "# para saber el largo de la lista/vector\n",
        "length(lista3)\n",
        "# Para obtener los nombres de la lista\n",
        "names(lista3)\n",
        "# si quisiéramos renombrar los slots:\n",
        "names(lista3)[6] <- \"palabra\"\n",
        "names(lista3)"
      ],
      "execution_count": 35,
      "outputs": [
        {
          "output_type": "display_data",
          "data": {
            "text/plain": [
              "[1] 6"
            ],
            "text/latex": "6",
            "text/markdown": "6",
            "text/html": [
              "6"
            ]
          },
          "metadata": {
            "tags": []
          }
        },
        {
          "output_type": "display_data",
          "data": {
            "text/plain": [
              "[1] \"num\"      \"pal\"      \"mat\"      \"sublist\"  \"otro_n\"   \"otra_pal\""
            ],
            "text/latex": "\\begin{enumerate*}\n\\item 'num'\n\\item 'pal'\n\\item 'mat'\n\\item 'sublist'\n\\item 'otro\\_n'\n\\item 'otra\\_pal'\n\\end{enumerate*}\n",
            "text/markdown": "1. 'num'\n2. 'pal'\n3. 'mat'\n4. 'sublist'\n5. 'otro_n'\n6. 'otra_pal'\n\n\n",
            "text/html": [
              "<style>\n",
              ".list-inline {list-style: none; margin:0; padding: 0}\n",
              ".list-inline>li {display: inline-block}\n",
              ".list-inline>li:not(:last-child)::after {content: \"\\00b7\"; padding: 0 .5ex}\n",
              "</style>\n",
              "<ol class=list-inline><li>'num'</li><li>'pal'</li><li>'mat'</li><li>'sublist'</li><li>'otro_n'</li><li>'otra_pal'</li></ol>\n"
            ]
          },
          "metadata": {
            "tags": []
          }
        },
        {
          "output_type": "display_data",
          "data": {
            "text/plain": [
              "[1] \"num\"     \"pal\"     \"mat\"     \"sublist\" \"otro_n\"  \"palabra\""
            ],
            "text/latex": "\\begin{enumerate*}\n\\item 'num'\n\\item 'pal'\n\\item 'mat'\n\\item 'sublist'\n\\item 'otro\\_n'\n\\item 'palabra'\n\\end{enumerate*}\n",
            "text/markdown": "1. 'num'\n2. 'pal'\n3. 'mat'\n4. 'sublist'\n5. 'otro_n'\n6. 'palabra'\n\n\n",
            "text/html": [
              "<style>\n",
              ".list-inline {list-style: none; margin:0; padding: 0}\n",
              ".list-inline>li {display: inline-block}\n",
              ".list-inline>li:not(:last-child)::after {content: \"\\00b7\"; padding: 0 .5ex}\n",
              "</style>\n",
              "<ol class=list-inline><li>'num'</li><li>'pal'</li><li>'mat'</li><li>'sublist'</li><li>'otro_n'</li><li>'palabra'</li></ol>\n"
            ]
          },
          "metadata": {
            "tags": []
          }
        }
      ]
    },
    {
      "cell_type": "code",
      "metadata": {
        "trusted": true,
        "id": "Uij1PdVrTpSO",
        "outputId": "a49e630b-e885-401b-bffd-0edebffdc0f8",
        "colab": {
          "base_uri": "https://localhost:8080/"
        }
      },
      "source": [
        "# También podemos crear nuevos \"slots\"\n",
        "## Indicando nombre en [[]] y luego asignando\n",
        "\n",
        "lista3$nuevo <- 100:200\n",
        "str(lista3)"
      ],
      "execution_count": 37,
      "outputs": [
        {
          "output_type": "stream",
          "text": [
            "List of 7\n",
            " $ num    : int [1:10] 1 2 3 4 5 6 7 8 9 10\n",
            " $ pal    : chr [1:26] \"a\" \"b\" \"c\" \"d\" ...\n",
            " $ mat    : num [1:2, 1:2] 1 2 3 4\n",
            " $ sublist:List of 2\n",
            "  ..$ n: num 1\n",
            "  ..$ l: chr \"A\"\n",
            " $ otro_n : int [1:7] 5 6 7 8 9 10 11\n",
            " $ palabra: chr [1:3] \"lala\" \"po\" \"tinki winki\"\n",
            " $ nuevo  : int [1:101] 100 101 102 103 104 105 106 107 108 109 ...\n"
          ],
          "name": "stdout"
        }
      ]
    },
    {
      "cell_type": "code",
      "metadata": {
        "id": "F1zsNBgIiBvP",
        "outputId": "0ab7e156-8878-4513-d73d-59b0c6b033c5",
        "colab": {
          "base_uri": "https://localhost:8080/"
        }
      },
      "source": [
        "lista3[[\"nuevo2\"]] <- \"Esto es otra entrada\"\n",
        "str(lista3)"
      ],
      "execution_count": 38,
      "outputs": [
        {
          "output_type": "stream",
          "text": [
            "List of 8\n",
            " $ num    : int [1:10] 1 2 3 4 5 6 7 8 9 10\n",
            " $ pal    : chr [1:26] \"a\" \"b\" \"c\" \"d\" ...\n",
            " $ mat    : num [1:2, 1:2] 1 2 3 4\n",
            " $ sublist:List of 2\n",
            "  ..$ n: num 1\n",
            "  ..$ l: chr \"A\"\n",
            " $ otro_n : int [1:7] 5 6 7 8 9 10 11\n",
            " $ palabra: chr [1:3] \"lala\" \"po\" \"tinki winki\"\n",
            " $ nuevo  : int [1:101] 100 101 102 103 104 105 106 107 108 109 ...\n",
            " $ nuevo2 : chr \"Esto es otra entrada\"\n"
          ],
          "name": "stdout"
        }
      ]
    },
    {
      "cell_type": "code",
      "metadata": {
        "trusted": true,
        "id": "rBB4hT9RTpSQ"
      },
      "source": [
        "# podemos modificar elementos dentro de un slot\n",
        "\n"
      ],
      "execution_count": null,
      "outputs": []
    },
    {
      "cell_type": "markdown",
      "metadata": {
        "id": "128wI4ZoTpSS"
      },
      "source": [
        "### 5.2 Dataframes\n",
        "\n",
        "Un dataframe es un caso particular de una lista, donde los objetos de cada entrada corresponden a vectores de datos del mismo largo. E este caso cada vector corresponde a una columna del data.frame, mientras que la cantidad de filas corresponde al largo común de los vectores de cada entrada. El objeto resultante es una *tabla*, de ahora en adelante *data.frame*, cuyas columnas poseen distintos tipos de datos entre sí. \n",
        "\n",
        " * ¿Cómo se declara un dataframe?<br>\n",
        "     Mediante la función data.frame(), indicando los vectores que conformarán las columnas.\n",
        " \n",
        " * ¿Cómo se accede a los datos de un data.frame?<br>\n",
        "    Al ser una lista, se puede acceder de la misma manera. Sin embargo también es posible acceder del modo en que se accede a los elementos de una matriz."
      ]
    },
    {
      "cell_type": "code",
      "metadata": {
        "trusted": true,
        "id": "qJ-2zVWVTpST",
        "outputId": "49a98222-4884-4836-9b5f-9c0cc0a3cb17",
        "colab": {
          "base_uri": "https://localhost:8080/",
          "height": 214
        }
      },
      "source": [
        "# 5.2 Dataframes ----------\n",
        "# Ejemplo sencillo de definición de un data.frame\n",
        "# recordar que 1:3 es lo mismo que c(1,2,3)\n",
        "\n",
        "df <- data.frame( id = 11:13,\n",
        "                  nombre =  c(\"pedro\", \"jorge\", \"juan\"),\n",
        "                  edad = c(21,30,15)  \n",
        "          )\n",
        "\n",
        "df\n",
        "\n",
        "str(df)"
      ],
      "execution_count": 45,
      "outputs": [
        {
          "output_type": "display_data",
          "data": {
            "text/plain": [
              "  id nombre edad\n",
              "1 11 pedro  21  \n",
              "2 12 jorge  30  \n",
              "3 13 juan   15  "
            ],
            "text/latex": "A data.frame: 3 × 3\n\\begin{tabular}{lll}\n id & nombre & edad\\\\\n <int> & <chr> & <dbl>\\\\\n\\hline\n\t 11 & pedro & 21\\\\\n\t 12 & jorge & 30\\\\\n\t 13 & juan  & 15\\\\\n\\end{tabular}\n",
            "text/markdown": "\nA data.frame: 3 × 3\n\n| id &lt;int&gt; | nombre &lt;chr&gt; | edad &lt;dbl&gt; |\n|---|---|---|\n| 11 | pedro | 21 |\n| 12 | jorge | 30 |\n| 13 | juan  | 15 |\n\n",
            "text/html": [
              "<table>\n",
              "<caption>A data.frame: 3 × 3</caption>\n",
              "<thead>\n",
              "\t<tr><th scope=col>id</th><th scope=col>nombre</th><th scope=col>edad</th></tr>\n",
              "\t<tr><th scope=col>&lt;int&gt;</th><th scope=col>&lt;chr&gt;</th><th scope=col>&lt;dbl&gt;</th></tr>\n",
              "</thead>\n",
              "<tbody>\n",
              "\t<tr><td>11</td><td>pedro</td><td>21</td></tr>\n",
              "\t<tr><td>12</td><td>jorge</td><td>30</td></tr>\n",
              "\t<tr><td>13</td><td>juan </td><td>15</td></tr>\n",
              "</tbody>\n",
              "</table>\n"
            ]
          },
          "metadata": {
            "tags": []
          }
        },
        {
          "output_type": "stream",
          "text": [
            "'data.frame':\t3 obs. of  3 variables:\n",
            " $ id    : int  11 12 13\n",
            " $ nombre: chr  \"pedro\" \"jorge\" \"juan\"\n",
            " $ edad  : num  21 30 15\n"
          ],
          "name": "stdout"
        }
      ]
    },
    {
      "cell_type": "code",
      "metadata": {
        "id": "S4zzyQP0ofM9",
        "outputId": "3c9ec25d-9b8b-45eb-f211-f8181cfe97c6",
        "colab": {
          "base_uri": "https://localhost:8080/",
          "height": 69
        }
      },
      "source": [
        "dim(df)\n",
        "colnames(df)\n",
        "rownames(df)"
      ],
      "execution_count": 46,
      "outputs": [
        {
          "output_type": "display_data",
          "data": {
            "text/plain": [
              "[1] 3 3"
            ],
            "text/latex": "\\begin{enumerate*}\n\\item 3\n\\item 3\n\\end{enumerate*}\n",
            "text/markdown": "1. 3\n2. 3\n\n\n",
            "text/html": [
              "<style>\n",
              ".list-inline {list-style: none; margin:0; padding: 0}\n",
              ".list-inline>li {display: inline-block}\n",
              ".list-inline>li:not(:last-child)::after {content: \"\\00b7\"; padding: 0 .5ex}\n",
              "</style>\n",
              "<ol class=list-inline><li>3</li><li>3</li></ol>\n"
            ]
          },
          "metadata": {
            "tags": []
          }
        },
        {
          "output_type": "display_data",
          "data": {
            "text/plain": [
              "[1] \"id\"     \"nombre\" \"edad\"  "
            ],
            "text/latex": "\\begin{enumerate*}\n\\item 'id'\n\\item 'nombre'\n\\item 'edad'\n\\end{enumerate*}\n",
            "text/markdown": "1. 'id'\n2. 'nombre'\n3. 'edad'\n\n\n",
            "text/html": [
              "<style>\n",
              ".list-inline {list-style: none; margin:0; padding: 0}\n",
              ".list-inline>li {display: inline-block}\n",
              ".list-inline>li:not(:last-child)::after {content: \"\\00b7\"; padding: 0 .5ex}\n",
              "</style>\n",
              "<ol class=list-inline><li>'id'</li><li>'nombre'</li><li>'edad'</li></ol>\n"
            ]
          },
          "metadata": {
            "tags": []
          }
        },
        {
          "output_type": "display_data",
          "data": {
            "text/plain": [
              "[1] \"1\" \"2\" \"3\""
            ],
            "text/latex": "\\begin{enumerate*}\n\\item '1'\n\\item '2'\n\\item '3'\n\\end{enumerate*}\n",
            "text/markdown": "1. '1'\n2. '2'\n3. '3'\n\n\n",
            "text/html": [
              "<style>\n",
              ".list-inline {list-style: none; margin:0; padding: 0}\n",
              ".list-inline>li {display: inline-block}\n",
              ".list-inline>li:not(:last-child)::after {content: \"\\00b7\"; padding: 0 .5ex}\n",
              "</style>\n",
              "<ol class=list-inline><li>'1'</li><li>'2'</li><li>'3'</li></ol>\n"
            ]
          },
          "metadata": {
            "tags": []
          }
        }
      ]
    },
    {
      "cell_type": "code",
      "metadata": {
        "trusted": true,
        "id": "nv7stC8ITpSY",
        "outputId": "0cfde944-21a7-4a6c-cb42-5240998bbcf0",
        "colab": {
          "base_uri": "https://localhost:8080/",
          "height": 35
        }
      },
      "source": [
        "# Acceso a columnas de un data.frame\n",
        "## Igual que en una lista\n",
        "\n",
        "df$edad\n"
      ],
      "execution_count": 47,
      "outputs": [
        {
          "output_type": "display_data",
          "data": {
            "text/plain": [
              "[1] 21 30 15"
            ],
            "text/latex": "\\begin{enumerate*}\n\\item 21\n\\item 30\n\\item 15\n\\end{enumerate*}\n",
            "text/markdown": "1. 21\n2. 30\n3. 15\n\n\n",
            "text/html": [
              "<style>\n",
              ".list-inline {list-style: none; margin:0; padding: 0}\n",
              ".list-inline>li {display: inline-block}\n",
              ".list-inline>li:not(:last-child)::after {content: \"\\00b7\"; padding: 0 .5ex}\n",
              "</style>\n",
              "<ol class=list-inline><li>21</li><li>30</li><li>15</li></ol>\n"
            ]
          },
          "metadata": {
            "tags": []
          }
        }
      ]
    },
    {
      "cell_type": "code",
      "metadata": {
        "trusted": true,
        "id": "3t6_J3BHTpSb"
      },
      "source": [
        ""
      ],
      "execution_count": null,
      "outputs": []
    },
    {
      "cell_type": "code",
      "metadata": {
        "trusted": true,
        "id": "CojdmEs9TpSd",
        "outputId": "fa30e1eb-dfda-448a-bbf1-65b8b54df217",
        "colab": {
          "base_uri": "https://localhost:8080/",
          "height": 52
        }
      },
      "source": [
        "##  Ganamos acceso como matriz\n",
        "# segundafila de df\n",
        "df[,\"nombre\"]\n",
        "\n",
        "# segunda columna y segunda fila\n",
        "df[2,3]\n",
        "\n"
      ],
      "execution_count": 49,
      "outputs": [
        {
          "output_type": "display_data",
          "data": {
            "text/plain": [
              "[1] \"pedro\" \"jorge\" \"juan\" "
            ],
            "text/latex": "\\begin{enumerate*}\n\\item 'pedro'\n\\item 'jorge'\n\\item 'juan'\n\\end{enumerate*}\n",
            "text/markdown": "1. 'pedro'\n2. 'jorge'\n3. 'juan'\n\n\n",
            "text/html": [
              "<style>\n",
              ".list-inline {list-style: none; margin:0; padding: 0}\n",
              ".list-inline>li {display: inline-block}\n",
              ".list-inline>li:not(:last-child)::after {content: \"\\00b7\"; padding: 0 .5ex}\n",
              "</style>\n",
              "<ol class=list-inline><li>'pedro'</li><li>'jorge'</li><li>'juan'</li></ol>\n"
            ]
          },
          "metadata": {
            "tags": []
          }
        },
        {
          "output_type": "display_data",
          "data": {
            "text/plain": [
              "[1] 30"
            ],
            "text/latex": "30",
            "text/markdown": "30",
            "text/html": [
              "30"
            ]
          },
          "metadata": {
            "tags": []
          }
        }
      ]
    },
    {
      "cell_type": "code",
      "metadata": {
        "trusted": true,
        "id": "FgD5Q8hFTpSf",
        "outputId": "14b6aeae-dca2-4216-e4a7-c0d6f0d7a66f",
        "colab": {
          "base_uri": "https://localhost:8080/",
          "height": 141
        }
      },
      "source": [
        "#Podemos crear nuevas columnas , del mismmo modo que creamos \"slots\" en una lista\n",
        "df[[\"prevision\"]] <- c(\"fonasa\",\"banmedica\",\"fonasa\")\n",
        "df$total_hijos <- c(0,1,10)\n",
        "df"
      ],
      "execution_count": 55,
      "outputs": [
        {
          "output_type": "display_data",
          "data": {
            "text/plain": [
              "  id nombre edad total_hijos prevision\n",
              "1 11 pedro  21    0          fonasa   \n",
              "2 12 jorge  30    1          banmedica\n",
              "3 13 juan   15   10          fonasa   "
            ],
            "text/latex": "A data.frame: 3 × 5\n\\begin{tabular}{lllll}\n id & nombre & edad & total\\_hijos & prevision\\\\\n <int> & <chr> & <dbl> & <dbl> & <chr>\\\\\n\\hline\n\t 11 & pedro & 21 &  0 & fonasa   \\\\\n\t 12 & jorge & 30 &  1 & banmedica\\\\\n\t 13 & juan  & 15 & 10 & fonasa   \\\\\n\\end{tabular}\n",
            "text/markdown": "\nA data.frame: 3 × 5\n\n| id &lt;int&gt; | nombre &lt;chr&gt; | edad &lt;dbl&gt; | total_hijos &lt;dbl&gt; | prevision &lt;chr&gt; |\n|---|---|---|---|---|\n| 11 | pedro | 21 |  0 | fonasa    |\n| 12 | jorge | 30 |  1 | banmedica |\n| 13 | juan  | 15 | 10 | fonasa    |\n\n",
            "text/html": [
              "<table>\n",
              "<caption>A data.frame: 3 × 5</caption>\n",
              "<thead>\n",
              "\t<tr><th scope=col>id</th><th scope=col>nombre</th><th scope=col>edad</th><th scope=col>total_hijos</th><th scope=col>prevision</th></tr>\n",
              "\t<tr><th scope=col>&lt;int&gt;</th><th scope=col>&lt;chr&gt;</th><th scope=col>&lt;dbl&gt;</th><th scope=col>&lt;dbl&gt;</th><th scope=col>&lt;chr&gt;</th></tr>\n",
              "</thead>\n",
              "<tbody>\n",
              "\t<tr><td>11</td><td>pedro</td><td>21</td><td> 0</td><td>fonasa   </td></tr>\n",
              "\t<tr><td>12</td><td>jorge</td><td>30</td><td> 1</td><td>banmedica</td></tr>\n",
              "\t<tr><td>13</td><td>juan </td><td>15</td><td>10</td><td>fonasa   </td></tr>\n",
              "</tbody>\n",
              "</table>\n"
            ]
          },
          "metadata": {
            "tags": []
          }
        }
      ]
    },
    {
      "cell_type": "code",
      "metadata": {
        "trusted": true,
        "id": "LcNQ5JHVTpSh",
        "outputId": "783de8c2-2e27-49f3-b8bc-aab54d72c86b",
        "colab": {
          "base_uri": "https://localhost:8080/",
          "height": 405
        }
      },
      "source": [
        "# podemos seleccionar más de una columna a la vez. Ej: seleccionar col1y col3\n",
        "df[,c(1,5)]# Referenciando las posiciones de las columnas\n",
        "# Referenciando el nombre de las columnas\n",
        "df[c(\"nombre\",\"total_hijos\")] # como si fuese una lista\n",
        "df[,c(\"nombre\",\"total_hijos\")] # como si fuese una matriz"
      ],
      "execution_count": 56,
      "outputs": [
        {
          "output_type": "display_data",
          "data": {
            "text/plain": [
              "  id prevision\n",
              "1 11 fonasa   \n",
              "2 12 banmedica\n",
              "3 13 fonasa   "
            ],
            "text/latex": "A data.frame: 3 × 2\n\\begin{tabular}{ll}\n id & prevision\\\\\n <int> & <chr>\\\\\n\\hline\n\t 11 & fonasa   \\\\\n\t 12 & banmedica\\\\\n\t 13 & fonasa   \\\\\n\\end{tabular}\n",
            "text/markdown": "\nA data.frame: 3 × 2\n\n| id &lt;int&gt; | prevision &lt;chr&gt; |\n|---|---|\n| 11 | fonasa    |\n| 12 | banmedica |\n| 13 | fonasa    |\n\n",
            "text/html": [
              "<table>\n",
              "<caption>A data.frame: 3 × 2</caption>\n",
              "<thead>\n",
              "\t<tr><th scope=col>id</th><th scope=col>prevision</th></tr>\n",
              "\t<tr><th scope=col>&lt;int&gt;</th><th scope=col>&lt;chr&gt;</th></tr>\n",
              "</thead>\n",
              "<tbody>\n",
              "\t<tr><td>11</td><td>fonasa   </td></tr>\n",
              "\t<tr><td>12</td><td>banmedica</td></tr>\n",
              "\t<tr><td>13</td><td>fonasa   </td></tr>\n",
              "</tbody>\n",
              "</table>\n"
            ]
          },
          "metadata": {
            "tags": []
          }
        },
        {
          "output_type": "display_data",
          "data": {
            "text/plain": [
              "  nombre total_hijos\n",
              "1 pedro   0         \n",
              "2 jorge   1         \n",
              "3 juan   10         "
            ],
            "text/latex": "A data.frame: 3 × 2\n\\begin{tabular}{ll}\n nombre & total\\_hijos\\\\\n <chr> & <dbl>\\\\\n\\hline\n\t pedro &  0\\\\\n\t jorge &  1\\\\\n\t juan  & 10\\\\\n\\end{tabular}\n",
            "text/markdown": "\nA data.frame: 3 × 2\n\n| nombre &lt;chr&gt; | total_hijos &lt;dbl&gt; |\n|---|---|\n| pedro |  0 |\n| jorge |  1 |\n| juan  | 10 |\n\n",
            "text/html": [
              "<table>\n",
              "<caption>A data.frame: 3 × 2</caption>\n",
              "<thead>\n",
              "\t<tr><th scope=col>nombre</th><th scope=col>total_hijos</th></tr>\n",
              "\t<tr><th scope=col>&lt;chr&gt;</th><th scope=col>&lt;dbl&gt;</th></tr>\n",
              "</thead>\n",
              "<tbody>\n",
              "\t<tr><td>pedro</td><td> 0</td></tr>\n",
              "\t<tr><td>jorge</td><td> 1</td></tr>\n",
              "\t<tr><td>juan </td><td>10</td></tr>\n",
              "</tbody>\n",
              "</table>\n"
            ]
          },
          "metadata": {
            "tags": []
          }
        },
        {
          "output_type": "display_data",
          "data": {
            "text/plain": [
              "  nombre total_hijos\n",
              "1 pedro   0         \n",
              "2 jorge   1         \n",
              "3 juan   10         "
            ],
            "text/latex": "A data.frame: 3 × 2\n\\begin{tabular}{ll}\n nombre & total\\_hijos\\\\\n <chr> & <dbl>\\\\\n\\hline\n\t pedro &  0\\\\\n\t jorge &  1\\\\\n\t juan  & 10\\\\\n\\end{tabular}\n",
            "text/markdown": "\nA data.frame: 3 × 2\n\n| nombre &lt;chr&gt; | total_hijos &lt;dbl&gt; |\n|---|---|\n| pedro |  0 |\n| jorge |  1 |\n| juan  | 10 |\n\n",
            "text/html": [
              "<table>\n",
              "<caption>A data.frame: 3 × 2</caption>\n",
              "<thead>\n",
              "\t<tr><th scope=col>nombre</th><th scope=col>total_hijos</th></tr>\n",
              "\t<tr><th scope=col>&lt;chr&gt;</th><th scope=col>&lt;dbl&gt;</th></tr>\n",
              "</thead>\n",
              "<tbody>\n",
              "\t<tr><td>pedro</td><td> 0</td></tr>\n",
              "\t<tr><td>jorge</td><td> 1</td></tr>\n",
              "\t<tr><td>juan </td><td>10</td></tr>\n",
              "</tbody>\n",
              "</table>\n"
            ]
          },
          "metadata": {
            "tags": []
          }
        }
      ]
    },
    {
      "cell_type": "code",
      "metadata": {
        "trusted": true,
        "id": "NHtO3MHwTpSj",
        "outputId": "1074345b-7b08-4e6c-8d12-dd8ae0766686",
        "colab": {
          "base_uri": "https://localhost:8080/",
          "height": 120
        }
      },
      "source": [
        "df[df$prevision == \"fonasa\" ,]\n",
        "\n"
      ],
      "execution_count": 57,
      "outputs": [
        {
          "output_type": "display_data",
          "data": {
            "text/plain": [
              "  id nombre edad total_hijos prevision\n",
              "1 11 pedro  21    0          fonasa   \n",
              "3 13 juan   15   10          fonasa   "
            ],
            "text/latex": "A data.frame: 2 × 5\n\\begin{tabular}{r|lllll}\n  & id & nombre & edad & total\\_hijos & prevision\\\\\n  & <int> & <chr> & <dbl> & <dbl> & <chr>\\\\\n\\hline\n\t1 & 11 & pedro & 21 &  0 & fonasa\\\\\n\t3 & 13 & juan  & 15 & 10 & fonasa\\\\\n\\end{tabular}\n",
            "text/markdown": "\nA data.frame: 2 × 5\n\n| <!--/--> | id &lt;int&gt; | nombre &lt;chr&gt; | edad &lt;dbl&gt; | total_hijos &lt;dbl&gt; | prevision &lt;chr&gt; |\n|---|---|---|---|---|---|\n| 1 | 11 | pedro | 21 |  0 | fonasa |\n| 3 | 13 | juan  | 15 | 10 | fonasa |\n\n",
            "text/html": [
              "<table>\n",
              "<caption>A data.frame: 2 × 5</caption>\n",
              "<thead>\n",
              "\t<tr><th></th><th scope=col>id</th><th scope=col>nombre</th><th scope=col>edad</th><th scope=col>total_hijos</th><th scope=col>prevision</th></tr>\n",
              "\t<tr><th></th><th scope=col>&lt;int&gt;</th><th scope=col>&lt;chr&gt;</th><th scope=col>&lt;dbl&gt;</th><th scope=col>&lt;dbl&gt;</th><th scope=col>&lt;chr&gt;</th></tr>\n",
              "</thead>\n",
              "<tbody>\n",
              "\t<tr><th scope=row>1</th><td>11</td><td>pedro</td><td>21</td><td> 0</td><td>fonasa</td></tr>\n",
              "\t<tr><th scope=row>3</th><td>13</td><td>juan </td><td>15</td><td>10</td><td>fonasa</td></tr>\n",
              "</tbody>\n",
              "</table>\n"
            ]
          },
          "metadata": {
            "tags": []
          }
        }
      ]
    },
    {
      "cell_type": "code",
      "metadata": {
        "trusted": true,
        "id": "RmsAhhsWTpSm",
        "outputId": "cd79ce4e-b8cb-4215-e2ae-a0c4a47ee099",
        "colab": {
          "base_uri": "https://localhost:8080/",
          "height": 99
        }
      },
      "source": [
        "df[df$prevision == \"fonasa\" & df$total_hijos >0 ,]\n"
      ],
      "execution_count": 58,
      "outputs": [
        {
          "output_type": "display_data",
          "data": {
            "text/plain": [
              "  id nombre edad total_hijos prevision\n",
              "3 13 juan   15   10          fonasa   "
            ],
            "text/latex": "A data.frame: 1 × 5\n\\begin{tabular}{r|lllll}\n  & id & nombre & edad & total\\_hijos & prevision\\\\\n  & <int> & <chr> & <dbl> & <dbl> & <chr>\\\\\n\\hline\n\t3 & 13 & juan & 15 & 10 & fonasa\\\\\n\\end{tabular}\n",
            "text/markdown": "\nA data.frame: 1 × 5\n\n| <!--/--> | id &lt;int&gt; | nombre &lt;chr&gt; | edad &lt;dbl&gt; | total_hijos &lt;dbl&gt; | prevision &lt;chr&gt; |\n|---|---|---|---|---|---|\n| 3 | 13 | juan | 15 | 10 | fonasa |\n\n",
            "text/html": [
              "<table>\n",
              "<caption>A data.frame: 1 × 5</caption>\n",
              "<thead>\n",
              "\t<tr><th></th><th scope=col>id</th><th scope=col>nombre</th><th scope=col>edad</th><th scope=col>total_hijos</th><th scope=col>prevision</th></tr>\n",
              "\t<tr><th></th><th scope=col>&lt;int&gt;</th><th scope=col>&lt;chr&gt;</th><th scope=col>&lt;dbl&gt;</th><th scope=col>&lt;dbl&gt;</th><th scope=col>&lt;chr&gt;</th></tr>\n",
              "</thead>\n",
              "<tbody>\n",
              "\t<tr><th scope=row>3</th><td>13</td><td>juan</td><td>15</td><td>10</td><td>fonasa</td></tr>\n",
              "</tbody>\n",
              "</table>\n"
            ]
          },
          "metadata": {
            "tags": []
          }
        }
      ]
    },
    {
      "cell_type": "code",
      "metadata": {
        "id": "US3FCJEiqshe",
        "outputId": "1c526f49-809c-4b4a-9df3-d21558b1faa6",
        "colab": {
          "base_uri": "https://localhost:8080/",
          "height": 99
        }
      },
      "source": [
        "library(dplyr)\n",
        "\n",
        "\n",
        "nuevo <- data.frame(id = 12,nombre = NA,edad = NA, total_hijos = NA, prevision = \"cruz blanca\")\n",
        "nuevo"
      ],
      "execution_count": 63,
      "outputs": [
        {
          "output_type": "display_data",
          "data": {
            "text/plain": [
              "  id nombre edad total_hijos prevision  \n",
              "1 12 NA     NA   NA          cruz blanca"
            ],
            "text/latex": "A data.frame: 1 × 5\n\\begin{tabular}{lllll}\n id & nombre & edad & total\\_hijos & prevision\\\\\n <dbl> & <lgl> & <lgl> & <lgl> & <chr>\\\\\n\\hline\n\t 12 & NA & NA & NA & cruz blanca\\\\\n\\end{tabular}\n",
            "text/markdown": "\nA data.frame: 1 × 5\n\n| id &lt;dbl&gt; | nombre &lt;lgl&gt; | edad &lt;lgl&gt; | total_hijos &lt;lgl&gt; | prevision &lt;chr&gt; |\n|---|---|---|---|---|\n| 12 | NA | NA | NA | cruz blanca |\n\n",
            "text/html": [
              "<table>\n",
              "<caption>A data.frame: 1 × 5</caption>\n",
              "<thead>\n",
              "\t<tr><th scope=col>id</th><th scope=col>nombre</th><th scope=col>edad</th><th scope=col>total_hijos</th><th scope=col>prevision</th></tr>\n",
              "\t<tr><th scope=col>&lt;dbl&gt;</th><th scope=col>&lt;lgl&gt;</th><th scope=col>&lt;lgl&gt;</th><th scope=col>&lt;lgl&gt;</th><th scope=col>&lt;chr&gt;</th></tr>\n",
              "</thead>\n",
              "<tbody>\n",
              "\t<tr><td>12</td><td>NA</td><td>NA</td><td>NA</td><td>cruz blanca</td></tr>\n",
              "</tbody>\n",
              "</table>\n"
            ]
          },
          "metadata": {
            "tags": []
          }
        }
      ]
    },
    {
      "cell_type": "code",
      "metadata": {
        "id": "3pX0yxbxq5rD",
        "outputId": "a8b95de6-36d1-4148-f0d1-7ab86032d674",
        "colab": {
          "base_uri": "https://localhost:8080/",
          "height": 162
        }
      },
      "source": [
        "union(df,nuevo)"
      ],
      "execution_count": 64,
      "outputs": [
        {
          "output_type": "display_data",
          "data": {
            "text/plain": [
              "  id nombre edad total_hijos prevision  \n",
              "1 11 pedro  21    0          fonasa     \n",
              "2 12 jorge  30    1          banmedica  \n",
              "3 13 juan   15   10          fonasa     \n",
              "4 12 NA     NA   NA          cruz blanca"
            ],
            "text/latex": "A data.frame: 4 × 5\n\\begin{tabular}{lllll}\n id & nombre & edad & total\\_hijos & prevision\\\\\n <dbl> & <chr> & <dbl> & <dbl> & <chr>\\\\\n\\hline\n\t 11 & pedro & 21 &  0 & fonasa     \\\\\n\t 12 & jorge & 30 &  1 & banmedica  \\\\\n\t 13 & juan  & 15 & 10 & fonasa     \\\\\n\t 12 & NA    & NA & NA & cruz blanca\\\\\n\\end{tabular}\n",
            "text/markdown": "\nA data.frame: 4 × 5\n\n| id &lt;dbl&gt; | nombre &lt;chr&gt; | edad &lt;dbl&gt; | total_hijos &lt;dbl&gt; | prevision &lt;chr&gt; |\n|---|---|---|---|---|\n| 11 | pedro | 21 |  0 | fonasa      |\n| 12 | jorge | 30 |  1 | banmedica   |\n| 13 | juan  | 15 | 10 | fonasa      |\n| 12 | NA    | NA | NA | cruz blanca |\n\n",
            "text/html": [
              "<table>\n",
              "<caption>A data.frame: 4 × 5</caption>\n",
              "<thead>\n",
              "\t<tr><th scope=col>id</th><th scope=col>nombre</th><th scope=col>edad</th><th scope=col>total_hijos</th><th scope=col>prevision</th></tr>\n",
              "\t<tr><th scope=col>&lt;dbl&gt;</th><th scope=col>&lt;chr&gt;</th><th scope=col>&lt;dbl&gt;</th><th scope=col>&lt;dbl&gt;</th><th scope=col>&lt;chr&gt;</th></tr>\n",
              "</thead>\n",
              "<tbody>\n",
              "\t<tr><td>11</td><td>pedro</td><td>21</td><td> 0</td><td>fonasa     </td></tr>\n",
              "\t<tr><td>12</td><td>jorge</td><td>30</td><td> 1</td><td>banmedica  </td></tr>\n",
              "\t<tr><td>13</td><td>juan </td><td>15</td><td>10</td><td>fonasa     </td></tr>\n",
              "\t<tr><td>12</td><td>NA   </td><td>NA</td><td>NA</td><td>cruz blanca</td></tr>\n",
              "</tbody>\n",
              "</table>\n"
            ]
          },
          "metadata": {
            "tags": []
          }
        }
      ]
    }
  ]
}